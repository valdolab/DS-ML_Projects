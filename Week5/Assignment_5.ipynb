{
  "nbformat": 4,
  "nbformat_minor": 0,
  "metadata": {
    "colab": {
      "provenance": [],
      "include_colab_link": true
    },
    "kernelspec": {
      "name": "python3",
      "display_name": "Python 3"
    },
    "language_info": {
      "name": "python"
    }
  },
  "cells": [
    {
      "cell_type": "markdown",
      "metadata": {
        "id": "view-in-github",
        "colab_type": "text"
      },
      "source": [
        "<a href=\"https://colab.research.google.com/github/valdolab/DS_mAIstros/blob/main/Week5/Assignment_5.ipynb\" target=\"_parent\"><img src=\"https://colab.research.google.com/assets/colab-badge.svg\" alt=\"Open In Colab\"/></a>"
      ]
    },
    {
      "cell_type": "markdown",
      "source": [
        "#Assignment 5 - NLP"
      ],
      "metadata": {
        "id": "OSsy_SfWn7J-"
      }
    },
    {
      "cell_type": "markdown",
      "source": [
        "## Implementation of the model"
      ],
      "metadata": {
        "id": "Lp1TP8WTpZZJ"
      }
    },
    {
      "cell_type": "code",
      "source": [
        "from google.colab import drive\n",
        "drive.mount('/content/drive')"
      ],
      "metadata": {
        "colab": {
          "base_uri": "https://localhost:8080/"
        },
        "id": "XX-kx8TlwPEG",
        "outputId": "570b5733-bc0e-405e-8baf-f5c00481c69a"
      },
      "execution_count": 3,
      "outputs": [
        {
          "output_type": "stream",
          "name": "stdout",
          "text": [
            "Mounted at /content/drive\n"
          ]
        }
      ]
    },
    {
      "cell_type": "code",
      "execution_count": 1,
      "metadata": {
        "id": "qVJ8kPZOnu_I"
      },
      "outputs": [],
      "source": [
        "!pip install -q -U \"tensorflow-text==2.8.*\""
      ]
    },
    {
      "cell_type": "code",
      "source": [
        "!pip install -q tf-models-official==2.7.0"
      ],
      "metadata": {
        "id": "EDHy2sz1qqxk"
      },
      "execution_count": 2,
      "outputs": []
    },
    {
      "cell_type": "code",
      "source": [
        "import numpy as np\n",
        "import pandas as pd\n",
        "import matplotlib.pyplot as plt\n",
        "import seaborn as sns"
      ],
      "metadata": {
        "id": "MDNNoBSnq_e-"
      },
      "execution_count": 3,
      "outputs": []
    },
    {
      "cell_type": "code",
      "source": [
        "import tensorflow as tf\n",
        "import tensorflow_hub as hub\n",
        "import tensorflow_text as text\n",
        "\n",
        "from tensorflow import keras\n",
        "import tensorflow_datasets as tfds\n",
        "\n",
        "import os\n",
        "import shutil"
      ],
      "metadata": {
        "id": "-TzdvEi-qsLW"
      },
      "execution_count": 4,
      "outputs": []
    },
    {
      "cell_type": "markdown",
      "source": [
        "### load dataset and prepare to pre-process"
      ],
      "metadata": {
        "id": "8HaJmPcfrzFV"
      }
    },
    {
      "cell_type": "code",
      "source": [
        "#load model\n",
        "new_model = tf.keras.models.load_model('/content/drive/MyDrive/Colab Notebooks/EIT_W5/Models/binClass_89_GOUSE')"
      ],
      "metadata": {
        "colab": {
          "base_uri": "https://localhost:8080/"
        },
        "id": "zBJ9w9-kjwWw",
        "outputId": "bfc04e02-5ee0-433d-9beb-6ab1f9e4fee3"
      },
      "execution_count": 6,
      "outputs": [
        {
          "output_type": "stream",
          "name": "stderr",
          "text": [
            "WARNING:tensorflow:No training configuration found in save file, so the model was *not* compiled. Compile it manually.\n"
          ]
        }
      ]
    },
    {
      "cell_type": "code",
      "source": [
        "example = [\"This is fucking good man!!!\"]\n",
        "example2 = [\"I gonna kill you\"]\n",
        "example3 = [\"I'm so fucking depressed\"]\n",
        "example5 = [\"He should die!\"]\n",
        "example4 = [\"Good morning guys, today is a beautiful day!\"]"
      ],
      "metadata": {
        "id": "V9-9lDnGj5TP"
      },
      "execution_count": 7,
      "outputs": []
    },
    {
      "cell_type": "code",
      "source": [
        "new_model.predict(example2)"
      ],
      "metadata": {
        "colab": {
          "base_uri": "https://localhost:8080/"
        },
        "id": "CC5JCndskTIM",
        "outputId": "93528d3e-ae48-4056-859d-2631d828f2bb"
      },
      "execution_count": 9,
      "outputs": [
        {
          "output_type": "execute_result",
          "data": {
            "text/plain": [
              "array([[0.94578135]], dtype=float32)"
            ]
          },
          "metadata": {},
          "execution_count": 9
        }
      ]
    },
    {
      "cell_type": "code",
      "source": [
        "data = pd.read_csv('/content/drive/MyDrive/Colab Notebooks/EIT_W5/labeled_data_nlp3.csv')\n",
        "#drop the column index\n",
        "#data = data.drop(['Indexs'], axis=1)\n",
        "data"
      ],
      "metadata": {
        "colab": {
          "base_uri": "https://localhost:8080/",
          "height": 423
        },
        "id": "QsLUHFp1rmEM",
        "outputId": "0a93fdcd-d1f9-400d-dd6e-3dd68929c70b"
      },
      "execution_count": 5,
      "outputs": [
        {
          "output_type": "execute_result",
          "data": {
            "text/plain": [
              "                                                 String  y1  y2  y3\n",
              "0                   *screams in 25 different languages*   3   0   0\n",
              "1     Families to sue over Legionnaires: More than 4...   4   4   0\n",
              "2     Pandemonium In Aba As Woman Delivers Baby With...   4   4   0\n",
              "3     My emotions are a train wreck. My body is a tr...   2   1   1\n",
              "4     Alton brown just did a livestream and he burne...   4   5   0\n",
              "...                                                 ...  ..  ..  ..\n",
              "1859  @Trollkrattos Juan Carlos Salvador The Secret ...   2   2   0\n",
              "1860  @devon_breneman hopefully it doesn't electrocu...   4   2   0\n",
              "1861  Businesses are deluged with invokces. Make you...   4   2   0\n",
              "1862  #BREAKING411 4 police officers arrested for ab...   4   2   0\n",
              "1863  @News@ Refugio oil spill may have been costlie...   4   4   0\n",
              "\n",
              "[1864 rows x 4 columns]"
            ],
            "text/html": [
              "\n",
              "  <div id=\"df-ca8769b3-a173-4dbe-847e-5b7f16406798\">\n",
              "    <div class=\"colab-df-container\">\n",
              "      <div>\n",
              "<style scoped>\n",
              "    .dataframe tbody tr th:only-of-type {\n",
              "        vertical-align: middle;\n",
              "    }\n",
              "\n",
              "    .dataframe tbody tr th {\n",
              "        vertical-align: top;\n",
              "    }\n",
              "\n",
              "    .dataframe thead th {\n",
              "        text-align: right;\n",
              "    }\n",
              "</style>\n",
              "<table border=\"1\" class=\"dataframe\">\n",
              "  <thead>\n",
              "    <tr style=\"text-align: right;\">\n",
              "      <th></th>\n",
              "      <th>String</th>\n",
              "      <th>y1</th>\n",
              "      <th>y2</th>\n",
              "      <th>y3</th>\n",
              "    </tr>\n",
              "  </thead>\n",
              "  <tbody>\n",
              "    <tr>\n",
              "      <th>0</th>\n",
              "      <td>*screams in 25 different languages*</td>\n",
              "      <td>3</td>\n",
              "      <td>0</td>\n",
              "      <td>0</td>\n",
              "    </tr>\n",
              "    <tr>\n",
              "      <th>1</th>\n",
              "      <td>Families to sue over Legionnaires: More than 4...</td>\n",
              "      <td>4</td>\n",
              "      <td>4</td>\n",
              "      <td>0</td>\n",
              "    </tr>\n",
              "    <tr>\n",
              "      <th>2</th>\n",
              "      <td>Pandemonium In Aba As Woman Delivers Baby With...</td>\n",
              "      <td>4</td>\n",
              "      <td>4</td>\n",
              "      <td>0</td>\n",
              "    </tr>\n",
              "    <tr>\n",
              "      <th>3</th>\n",
              "      <td>My emotions are a train wreck. My body is a tr...</td>\n",
              "      <td>2</td>\n",
              "      <td>1</td>\n",
              "      <td>1</td>\n",
              "    </tr>\n",
              "    <tr>\n",
              "      <th>4</th>\n",
              "      <td>Alton brown just did a livestream and he burne...</td>\n",
              "      <td>4</td>\n",
              "      <td>5</td>\n",
              "      <td>0</td>\n",
              "    </tr>\n",
              "    <tr>\n",
              "      <th>...</th>\n",
              "      <td>...</td>\n",
              "      <td>...</td>\n",
              "      <td>...</td>\n",
              "      <td>...</td>\n",
              "    </tr>\n",
              "    <tr>\n",
              "      <th>1859</th>\n",
              "      <td>@Trollkrattos Juan Carlos Salvador The Secret ...</td>\n",
              "      <td>2</td>\n",
              "      <td>2</td>\n",
              "      <td>0</td>\n",
              "    </tr>\n",
              "    <tr>\n",
              "      <th>1860</th>\n",
              "      <td>@devon_breneman hopefully it doesn't electrocu...</td>\n",
              "      <td>4</td>\n",
              "      <td>2</td>\n",
              "      <td>0</td>\n",
              "    </tr>\n",
              "    <tr>\n",
              "      <th>1861</th>\n",
              "      <td>Businesses are deluged with invokces. Make you...</td>\n",
              "      <td>4</td>\n",
              "      <td>2</td>\n",
              "      <td>0</td>\n",
              "    </tr>\n",
              "    <tr>\n",
              "      <th>1862</th>\n",
              "      <td>#BREAKING411 4 police officers arrested for ab...</td>\n",
              "      <td>4</td>\n",
              "      <td>2</td>\n",
              "      <td>0</td>\n",
              "    </tr>\n",
              "    <tr>\n",
              "      <th>1863</th>\n",
              "      <td>@News@ Refugio oil spill may have been costlie...</td>\n",
              "      <td>4</td>\n",
              "      <td>4</td>\n",
              "      <td>0</td>\n",
              "    </tr>\n",
              "  </tbody>\n",
              "</table>\n",
              "<p>1864 rows × 4 columns</p>\n",
              "</div>\n",
              "      <button class=\"colab-df-convert\" onclick=\"convertToInteractive('df-ca8769b3-a173-4dbe-847e-5b7f16406798')\"\n",
              "              title=\"Convert this dataframe to an interactive table.\"\n",
              "              style=\"display:none;\">\n",
              "        \n",
              "  <svg xmlns=\"http://www.w3.org/2000/svg\" height=\"24px\"viewBox=\"0 0 24 24\"\n",
              "       width=\"24px\">\n",
              "    <path d=\"M0 0h24v24H0V0z\" fill=\"none\"/>\n",
              "    <path d=\"M18.56 5.44l.94 2.06.94-2.06 2.06-.94-2.06-.94-.94-2.06-.94 2.06-2.06.94zm-11 1L8.5 8.5l.94-2.06 2.06-.94-2.06-.94L8.5 2.5l-.94 2.06-2.06.94zm10 10l.94 2.06.94-2.06 2.06-.94-2.06-.94-.94-2.06-.94 2.06-2.06.94z\"/><path d=\"M17.41 7.96l-1.37-1.37c-.4-.4-.92-.59-1.43-.59-.52 0-1.04.2-1.43.59L10.3 9.45l-7.72 7.72c-.78.78-.78 2.05 0 2.83L4 21.41c.39.39.9.59 1.41.59.51 0 1.02-.2 1.41-.59l7.78-7.78 2.81-2.81c.8-.78.8-2.07 0-2.86zM5.41 20L4 18.59l7.72-7.72 1.47 1.35L5.41 20z\"/>\n",
              "  </svg>\n",
              "      </button>\n",
              "      \n",
              "  <style>\n",
              "    .colab-df-container {\n",
              "      display:flex;\n",
              "      flex-wrap:wrap;\n",
              "      gap: 12px;\n",
              "    }\n",
              "\n",
              "    .colab-df-convert {\n",
              "      background-color: #E8F0FE;\n",
              "      border: none;\n",
              "      border-radius: 50%;\n",
              "      cursor: pointer;\n",
              "      display: none;\n",
              "      fill: #1967D2;\n",
              "      height: 32px;\n",
              "      padding: 0 0 0 0;\n",
              "      width: 32px;\n",
              "    }\n",
              "\n",
              "    .colab-df-convert:hover {\n",
              "      background-color: #E2EBFA;\n",
              "      box-shadow: 0px 1px 2px rgba(60, 64, 67, 0.3), 0px 1px 3px 1px rgba(60, 64, 67, 0.15);\n",
              "      fill: #174EA6;\n",
              "    }\n",
              "\n",
              "    [theme=dark] .colab-df-convert {\n",
              "      background-color: #3B4455;\n",
              "      fill: #D2E3FC;\n",
              "    }\n",
              "\n",
              "    [theme=dark] .colab-df-convert:hover {\n",
              "      background-color: #434B5C;\n",
              "      box-shadow: 0px 1px 3px 1px rgba(0, 0, 0, 0.15);\n",
              "      filter: drop-shadow(0px 1px 2px rgba(0, 0, 0, 0.3));\n",
              "      fill: #FFFFFF;\n",
              "    }\n",
              "  </style>\n",
              "\n",
              "      <script>\n",
              "        const buttonEl =\n",
              "          document.querySelector('#df-ca8769b3-a173-4dbe-847e-5b7f16406798 button.colab-df-convert');\n",
              "        buttonEl.style.display =\n",
              "          google.colab.kernel.accessAllowed ? 'block' : 'none';\n",
              "\n",
              "        async function convertToInteractive(key) {\n",
              "          const element = document.querySelector('#df-ca8769b3-a173-4dbe-847e-5b7f16406798');\n",
              "          const dataTable =\n",
              "            await google.colab.kernel.invokeFunction('convertToInteractive',\n",
              "                                                     [key], {});\n",
              "          if (!dataTable) return;\n",
              "\n",
              "          const docLinkHtml = 'Like what you see? Visit the ' +\n",
              "            '<a target=\"_blank\" href=https://colab.research.google.com/notebooks/data_table.ipynb>data table notebook</a>'\n",
              "            + ' to learn more about interactive tables.';\n",
              "          element.innerHTML = '';\n",
              "          dataTable['output_type'] = 'display_data';\n",
              "          await google.colab.output.renderOutput(dataTable, element);\n",
              "          const docLink = document.createElement('div');\n",
              "          docLink.innerHTML = docLinkHtml;\n",
              "          element.appendChild(docLink);\n",
              "        }\n",
              "      </script>\n",
              "    </div>\n",
              "  </div>\n",
              "  "
            ]
          },
          "metadata": {},
          "execution_count": 5
        }
      ]
    },
    {
      "cell_type": "code",
      "source": [
        "data.dtypes"
      ],
      "metadata": {
        "id": "chUO1asPvoDn",
        "colab": {
          "base_uri": "https://localhost:8080/"
        },
        "outputId": "84d564c8-e7d6-44d5-da29-ad1d34de4aad"
      },
      "execution_count": 6,
      "outputs": [
        {
          "output_type": "execute_result",
          "data": {
            "text/plain": [
              "String    object\n",
              "y1         int64\n",
              "y2         int64\n",
              "y3         int64\n",
              "dtype: object"
            ]
          },
          "metadata": {},
          "execution_count": 6
        }
      ]
    },
    {
      "cell_type": "code",
      "source": [
        "print(data.iloc[:,1].value_counts())\n",
        "\n",
        "plt.figure(figsize=(5, 5))\n",
        "sns.countplot(x=data[\"y1\"])\n",
        "plt.title('Classes from y1')\n",
        "plt.show()"
      ],
      "metadata": {
        "id": "nEz1-TvFyl9S",
        "colab": {
          "base_uri": "https://localhost:8080/",
          "height": 591
        },
        "outputId": "48bcd010-94a2-42a7-b16e-e2c88e572e11"
      },
      "execution_count": 7,
      "outputs": [
        {
          "output_type": "stream",
          "name": "stdout",
          "text": [
            "4    1315\n",
            "0     206\n",
            "3     155\n",
            "1     134\n",
            "2      54\n",
            "Name: y1, dtype: int64\n"
          ]
        },
        {
          "output_type": "display_data",
          "data": {
            "text/plain": [
              "<Figure size 500x500 with 1 Axes>"
            ],
            "image/png": "[encoded data removed]"
          },
          "metadata": {}
        }
      ]
    },
    {
      "cell_type": "code",
      "source": [
        "#we removed the label 4 for the y1, and then try to make the classification\n",
        "data_t1 = data.drop(data[data[\"y1\"]==4].index)\n",
        "\n",
        "plt.figure(figsize=(5, 5))\n",
        "sns.countplot(x=data_t1[\"y1\"])\n",
        "plt.title('Classes from y1 without the label 4')\n",
        "plt.show()\n"
      ],
      "metadata": {
        "colab": {
          "base_uri": "https://localhost:8080/",
          "height": 487
        },
        "id": "_30o8RASVk_r",
        "outputId": "2b81d4c4-e1b9-45b2-de82-8cefa536d845"
      },
      "execution_count": 8,
      "outputs": [
        {
          "output_type": "display_data",
          "data": {
            "text/plain": [
              "<Figure size 500x500 with 1 Axes>"
            ],
            "image/png": "[encoded data removed]"
          },
          "metadata": {}
        }
      ]
    },
    {
      "cell_type": "code",
      "source": [
        "print(data.iloc[:,2].value_counts())\n",
        "\n",
        "plt.figure(figsize=(5, 5))\n",
        "sns.countplot(x=data[\"y2\"])\n",
        "plt.title('Classes from y2')\n",
        "plt.show()"
      ],
      "metadata": {
        "id": "D11PuKXByyCo",
        "colab": {
          "base_uri": "https://localhost:8080/",
          "height": 608
        },
        "outputId": "d33f9ada-9609-4446-e7ba-32d84eac2460"
      },
      "execution_count": null,
      "outputs": [
        {
          "output_type": "stream",
          "name": "stdout",
          "text": [
            "2    600\n",
            "5    401\n",
            "4    326\n",
            "1    205\n",
            "3    186\n",
            "0    146\n",
            "Name: y2, dtype: int64\n"
          ]
        },
        {
          "output_type": "display_data",
          "data": {
            "text/plain": [
              "<Figure size 500x500 with 1 Axes>"
            ],
            "image/png": "[encoded data removed]"
          },
          "metadata": {}
        }
      ]
    },
    {
      "cell_type": "code",
      "source": [
        "#just drop it all the label 2 (the rest)\n",
        "# data_t2 = data.drop(data[data[\"y2\"]==2].index)\n",
        "# plt.figure(figsize=(5, 5))\n",
        "# sns.countplot(x=data_t2[\"y2\"])\n",
        "# plt.title('Classes from y2')\n",
        "# plt.show()"
      ],
      "metadata": {
        "id": "8B2QRTsOfiDO"
      },
      "execution_count": null,
      "outputs": []
    },
    {
      "cell_type": "code",
      "source": [
        "class_2_multi = data.loc[data['y2'] == 2].sample(n=200,random_state=42)\n",
        "class_0_multi = pd.concat([class_2_multi,data.loc[data['y2'] == 0]])\n",
        "class_0_multi['y2'] = 0\n",
        "\n",
        "new_multi = pd.concat([class_0_multi,data.loc[data['y2'] == 3],data.loc[data['y2'] == 4],data.loc[data['y2'] == 5]])\n",
        "\n",
        "#all good, BUT we need to relabel the labels, in order to have something like: 0,1,2,3 intead of 0,3,4,5 <- this is a problem\n",
        "#also to decode later the one-hot prediction\n",
        "#So the relabels:\n",
        "# 0 -> 0: Not a sentence and a few the rest class\n",
        "# 3 -> 1: happy\n",
        "# 4 -> 2: tragic\n",
        "# 5 -> 3: opinions\n",
        "new_multi.loc[new_multi['y2']==3,'y2'] = 1\n",
        "new_multi.loc[new_multi['y2']==4,'y2'] = 2\n",
        "new_multi.loc[new_multi['y2']==5,'y2'] = 3\n",
        "\n",
        "print(new_multi.iloc[:,2].value_counts())\n",
        "\n",
        "plt.figure(figsize=(5, 5))\n",
        "sns.countplot(x=new_multi[\"y2\"])\n",
        "plt.title('New Classes from y2')\n",
        "plt.show()"
      ],
      "metadata": {
        "colab": {
          "base_uri": "https://localhost:8080/",
          "height": 574
        },
        "id": "y2-c8QOvYZvS",
        "outputId": "faa5469f-5153-4687-ddb4-33313ccc2dfb"
      },
      "execution_count": null,
      "outputs": [
        {
          "output_type": "stream",
          "name": "stdout",
          "text": [
            "3    401\n",
            "0    346\n",
            "2    326\n",
            "1    186\n",
            "Name: y2, dtype: int64\n"
          ]
        },
        {
          "output_type": "display_data",
          "data": {
            "text/plain": [
              "<Figure size 500x500 with 1 Axes>"
            ],
            "image/png": "[encoded data removed]"
          },
          "metadata": {}
        }
      ]
    },
    {
      "cell_type": "code",
      "source": [
        "print(data.iloc[:,3].value_counts())\n",
        "\n",
        "plt.figure(figsize=(5, 5))\n",
        "sns.countplot(x=data[\"y3\"])\n",
        "plt.title('Classes from y2')\n",
        "plt.show()"
      ],
      "metadata": {
        "id": "pSQ6_Eo1ymzU",
        "colab": {
          "base_uri": "https://localhost:8080/",
          "height": 539
        },
        "outputId": "33197c9b-bd1c-416b-8e8b-7ed83ee308bb"
      },
      "execution_count": null,
      "outputs": [
        {
          "output_type": "stream",
          "name": "stdout",
          "text": [
            "0    1659\n",
            "1     205\n",
            "Name: y3, dtype: int64\n"
          ]
        },
        {
          "output_type": "display_data",
          "data": {
            "text/plain": [
              "<Figure size 500x500 with 1 Axes>"
            ],
            "image/png": "[encoded data removed]"
          },
          "metadata": {}
        }
      ]
    },
    {
      "cell_type": "markdown",
      "source": [
        "### oversampling the offensive examples and undersampling the other examples"
      ],
      "metadata": {
        "id": "Y63zO3og0lfP"
      }
    },
    {
      "cell_type": "code",
      "source": [
        "#now oversampling\n",
        "shuffled_df = data.sample(frac=1,random_state=4)\n",
        "\n",
        "# Put all the fraud class in a separate dataset.\n",
        "class_1_temp = shuffled_df.loc[shuffled_df['y3'] == 1].copy()\n",
        "\n",
        "class_1 = pd.concat([class_1_temp, shuffled_df.loc[shuffled_df['y3'] == 1]])"
      ],
      "metadata": {
        "id": "pnfvv_n2zyrz"
      },
      "execution_count": null,
      "outputs": []
    },
    {
      "cell_type": "code",
      "source": [
        "#undersampling, choice 100 for each class (the others)\n",
        "class_0 = shuffled_df.loc[shuffled_df['y2'] == 0].sample(n=100,random_state=42)\n",
        "class_2 = shuffled_df.loc[shuffled_df['y2'] == 2].sample(n=100,random_state=42)\n",
        "class_3 = shuffled_df.loc[shuffled_df['y2'] == 3].sample(n=100,random_state=42)\n",
        "class_4 = shuffled_df.loc[shuffled_df['y2'] == 4].sample(n=100,random_state=42)\n",
        "class_5 = shuffled_df.loc[shuffled_df['y2'] == 5].sample(n=100,random_state=42)\n",
        "\n",
        "class_new = pd.concat([class_0, class_2 , class_3, class_4 , class_5 ])"
      ],
      "metadata": {
        "id": "nl4Ic4LU1jDd"
      },
      "execution_count": null,
      "outputs": []
    },
    {
      "cell_type": "code",
      "source": [
        "new_df =  pd.concat([class_new,class_1])"
      ],
      "metadata": {
        "id": "XXw2g9wOzzX4"
      },
      "execution_count": null,
      "outputs": []
    },
    {
      "cell_type": "code",
      "source": [
        "print(new_df.iloc[:,3].value_counts())\n",
        "\n",
        "plt.figure(figsize=(5, 5))\n",
        "sns.countplot(x=new_df[\"y3\"])\n",
        "plt.title('Classes from y2')\n",
        "plt.show()"
      ],
      "metadata": {
        "id": "tD8pdNDC3O1g",
        "colab": {
          "base_uri": "https://localhost:8080/",
          "height": 539
        },
        "outputId": "2845c7e6-d8f4-4b29-e416-1048d879b999"
      },
      "execution_count": null,
      "outputs": [
        {
          "output_type": "stream",
          "name": "stdout",
          "text": [
            "0    500\n",
            "1    410\n",
            "Name: y3, dtype: int64\n"
          ]
        },
        {
          "output_type": "display_data",
          "data": {
            "text/plain": [
              "<Figure size 500x500 with 1 Axes>"
            ],
            "image/png": "[encoded data removed]"
          },
          "metadata": {}
        }
      ]
    },
    {
      "cell_type": "markdown",
      "source": [
        "### split the dataset"
      ],
      "metadata": {
        "id": "bELMMFq0pxPn"
      }
    },
    {
      "cell_type": "code",
      "source": [
        "# split the data into train and test set\n",
        "\n",
        "# Shuffle dataframe using sample function\n",
        "df = new_df.sample(frac=1)\n",
        "\n",
        "# Select ratio\n",
        "ratio = 0.90\n",
        " \n",
        "total_rows = new_df.shape[0]\n",
        "train_size = int(total_rows*ratio)\n",
        " \n",
        "# Split data into test and train\n",
        "train = df[0:train_size]\n",
        "test = df[train_size:]"
      ],
      "metadata": {
        "id": "Mmk0bogRGdFD"
      },
      "execution_count": null,
      "outputs": []
    },
    {
      "cell_type": "code",
      "source": [
        "#also, we need to split into X and y\n",
        "y_train = train.iloc[:,-1]\n",
        "x_train = train.iloc[:,0]\n",
        "y_test = test.iloc[:,-1]\n",
        "x_test = test.iloc[:,0]"
      ],
      "metadata": {
        "id": "jtJ1bMf_r8cK"
      },
      "execution_count": null,
      "outputs": []
    },
    {
      "cell_type": "markdown",
      "source": [
        "### Embedded text - Encoder"
      ],
      "metadata": {
        "id": "Kl5VeSvLIfHj"
      }
    },
    {
      "cell_type": "code",
      "source": [
        "module_url = \"https://tfhub.dev/google/universal-sentence-encoder/4\"\n",
        "#module_url = \"https://tfhub.dev/google/universal-sentence-encoder-large/5\""
      ],
      "metadata": {
        "id": "J2-sSsouIeuh"
      },
      "execution_count": null,
      "outputs": []
    },
    {
      "cell_type": "code",
      "source": [
        "model = hub.load(module_url)"
      ],
      "metadata": {
        "id": "0jqQoUa4IA2F"
      },
      "execution_count": null,
      "outputs": []
    },
    {
      "cell_type": "code",
      "source": [
        "hub_layer = hub.KerasLayer(module_url,input_shape=[],dtype=tf.string,trainable = False)"
      ],
      "metadata": {
        "id": "emHqNaDrqVqm"
      },
      "execution_count": null,
      "outputs": []
    },
    {
      "cell_type": "markdown",
      "source": [
        "#### Built net"
      ],
      "metadata": {
        "id": "3frM4NfYJuwZ"
      }
    },
    {
      "cell_type": "code",
      "source": [
        "model = keras.Sequential()"
      ],
      "metadata": {
        "id": "ij29gFXaJWeG"
      },
      "execution_count": null,
      "outputs": []
    },
    {
      "cell_type": "code",
      "source": [
        "model.add(hub_layer)\n",
        "#dropout layer here\n",
        "model.add(keras.layers.Dropout(0.2))\n",
        "#more neuros in the first layer, and a lit be with the next ones\n",
        "model.add(keras.layers.Dense(150,activation='relu',kernel_regularizer='l2'))\n",
        "model.add(keras.layers.Dense(100,activation='relu'))\n",
        "#model.add(keras.layers.Dense(50,activation='relu'))\n",
        "model.add(keras.layers.Dropout(0.2))\n",
        "model.add(keras.layers.Dense(10,activation='relu'))\n",
        "#binary = sigmoid, multi class = softmax to the last layer\n",
        "model.add(keras.layers.Dense(1,activation='sigmoid'))"
      ],
      "metadata": {
        "id": "gC3uWbQEJxVx"
      },
      "execution_count": null,
      "outputs": []
    },
    {
      "cell_type": "code",
      "source": [
        "model.summary()"
      ],
      "metadata": {
        "id": "2QH4dDGUrAEG",
        "colab": {
          "base_uri": "https://localhost:8080/"
        },
        "outputId": "2bda3d64-2806-4929-d3b4-23ff7ddfc7c0"
      },
      "execution_count": null,
      "outputs": [
        {
          "output_type": "stream",
          "name": "stdout",
          "text": [
            "Model: \"sequential_16\"\n",
            "_________________________________________________________________\n",
            " Layer (type)                Output Shape              Param #   \n",
            "=================================================================\n",
            " keras_layer_1 (KerasLayer)  (None, 512)               256797824 \n",
            "                                                                 \n",
            " dropout_56 (Dropout)        (None, 512)               0         \n",
            "                                                                 \n",
            " dense_75 (Dense)            (None, 150)               76950     \n",
            "                                                                 \n",
            " dense_76 (Dense)            (None, 100)               15100     \n",
            "                                                                 \n",
            " dropout_57 (Dropout)        (None, 100)               0         \n",
            "                                                                 \n",
            " dense_77 (Dense)            (None, 10)                1010      \n",
            "                                                                 \n",
            " dense_78 (Dense)            (None, 1)                 11        \n",
            "                                                                 \n",
            "=================================================================\n",
            "Total params: 256,890,895\n",
            "Trainable params: 93,071\n",
            "Non-trainable params: 256,797,824\n",
            "_________________________________________________________________\n"
          ]
        }
      ]
    },
    {
      "cell_type": "code",
      "source": [
        "model.compile(optimizer='Adam',loss = keras.losses.BinaryCrossentropy(from_logits=True), metrics = ['accuracy'])"
      ],
      "metadata": {
        "id": "iuIqkgzJrDrK"
      },
      "execution_count": null,
      "outputs": []
    },
    {
      "cell_type": "code",
      "source": [
        "history = model.fit(x=x_train, y=y_train,\n",
        "                    epochs=18,\n",
        "                    verbose=2,\n",
        "                    validation_data=(x_test, y_test),\n",
        "                    batch_size=10)"
      ],
      "metadata": {
        "id": "uXou6V5ErhXu",
        "colab": {
          "base_uri": "https://localhost:8080/"
        },
        "outputId": "c1da9170-7071-44aa-88f2-4cb8cdad17d5"
      },
      "execution_count": null,
      "outputs": [
        {
          "output_type": "stream",
          "name": "stdout",
          "text": [
            "Epoch 1/18\n",
            "82/82 - 5s - loss: 0.1298 - accuracy: 0.9890 - val_loss: 0.6855 - val_accuracy: 0.8352 - 5s/epoch - 59ms/step\n",
            "Epoch 2/18\n",
            "82/82 - 1s - loss: 0.1215 - accuracy: 0.9829 - val_loss: 1.0585 - val_accuracy: 0.8022 - 1s/epoch - 16ms/step\n",
            "Epoch 3/18\n",
            "82/82 - 1s - loss: 0.1276 - accuracy: 0.9890 - val_loss: 0.7468 - val_accuracy: 0.8462 - 1s/epoch - 16ms/step\n",
            "Epoch 4/18\n",
            "82/82 - 1s - loss: 0.1268 - accuracy: 0.9841 - val_loss: 0.6184 - val_accuracy: 0.8571 - 770ms/epoch - 9ms/step\n",
            "Epoch 5/18\n",
            "82/82 - 1s - loss: 0.1410 - accuracy: 0.9817 - val_loss: 0.7960 - val_accuracy: 0.8022 - 669ms/epoch - 8ms/step\n",
            "Epoch 6/18\n",
            "82/82 - 1s - loss: 0.1510 - accuracy: 0.9792 - val_loss: 0.7196 - val_accuracy: 0.8352 - 673ms/epoch - 8ms/step\n",
            "Epoch 7/18\n",
            "82/82 - 1s - loss: 0.1315 - accuracy: 0.9805 - val_loss: 1.0316 - val_accuracy: 0.7692 - 681ms/epoch - 8ms/step\n",
            "Epoch 8/18\n",
            "82/82 - 1s - loss: 0.1583 - accuracy: 0.9841 - val_loss: 1.0886 - val_accuracy: 0.7582 - 644ms/epoch - 8ms/step\n",
            "Epoch 9/18\n",
            "82/82 - 1s - loss: 0.1444 - accuracy: 0.9841 - val_loss: 0.4909 - val_accuracy: 0.8352 - 648ms/epoch - 8ms/step\n",
            "Epoch 10/18\n",
            "82/82 - 1s - loss: 0.1538 - accuracy: 0.9829 - val_loss: 0.7316 - val_accuracy: 0.8352 - 652ms/epoch - 8ms/step\n",
            "Epoch 11/18\n",
            "82/82 - 1s - loss: 0.1294 - accuracy: 0.9841 - val_loss: 0.5284 - val_accuracy: 0.8791 - 638ms/epoch - 8ms/step\n",
            "Epoch 12/18\n",
            "82/82 - 1s - loss: 0.1405 - accuracy: 0.9841 - val_loss: 0.6438 - val_accuracy: 0.8242 - 657ms/epoch - 8ms/step\n",
            "Epoch 13/18\n",
            "82/82 - 1s - loss: 0.1363 - accuracy: 0.9829 - val_loss: 0.5847 - val_accuracy: 0.8571 - 674ms/epoch - 8ms/step\n",
            "Epoch 14/18\n",
            "82/82 - 1s - loss: 0.1308 - accuracy: 0.9902 - val_loss: 0.5976 - val_accuracy: 0.8681 - 665ms/epoch - 8ms/step\n",
            "Epoch 15/18\n",
            "82/82 - 1s - loss: 0.1267 - accuracy: 0.9902 - val_loss: 0.5577 - val_accuracy: 0.8681 - 657ms/epoch - 8ms/step\n",
            "Epoch 16/18\n",
            "82/82 - 1s - loss: 0.1386 - accuracy: 0.9878 - val_loss: 0.8405 - val_accuracy: 0.7473 - 667ms/epoch - 8ms/step\n",
            "Epoch 17/18\n",
            "82/82 - 1s - loss: 0.1408 - accuracy: 0.9878 - val_loss: 0.5050 - val_accuracy: 0.8681 - 642ms/epoch - 8ms/step\n",
            "Epoch 18/18\n",
            "82/82 - 1s - loss: 0.2108 - accuracy: 0.9695 - val_loss: 0.2983 - val_accuracy: 0.8901 - 662ms/epoch - 8ms/step\n"
          ]
        }
      ]
    },
    {
      "cell_type": "markdown",
      "source": [
        "### save the model "
      ],
      "metadata": {
        "id": "n43f3X0gSjPi"
      }
    },
    {
      "cell_type": "code",
      "source": [
        "#the best model got a 0.89\n",
        "dataset_name = 'binClass_Opt/89'\n",
        "saved_model_path = '/content/drive/MyDrive/Colab Notebooks/EIT_W5/Models/{}_GOUSE'.format(dataset_name.replace('/','_'))\n",
        "print(saved_model_path)\n",
        "\n",
        "#save the trained model\n",
        "model.save(saved_model_path, include_optimizer=True)"
      ],
      "metadata": {
        "colab": {
          "base_uri": "https://localhost:8080/"
        },
        "id": "TtIjxsUoSqI7",
        "outputId": "ed05b680-ae4b-412b-d0c3-b16f3dfcad34"
      },
      "execution_count": null,
      "outputs": [
        {
          "output_type": "stream",
          "name": "stdout",
          "text": [
            "/content/drive/MyDrive/Colab Notebooks/EIT_W5/Models/binClass_Opt_89_GOUSE\n"
          ]
        }
      ]
    },
    {
      "cell_type": "code",
      "source": [
        "#make a example of deploy using the saved model\n",
        "reloaded_model = tf.saved_model.load(\"/content/drive/MyDrive/Colab Notebooks/EIT_W5/Models/binClass_89_GOUSE\")"
      ],
      "metadata": {
        "id": "DinK-DyVXlN4"
      },
      "execution_count": null,
      "outputs": []
    },
    {
      "cell_type": "code",
      "source": [
        "example = [\"This is fucking good man!!!\"]\n",
        "example2 = [\"I gonna kill you\"]\n",
        "example3 = [\"I'm so fucking depressed\"]\n",
        "example5 = [\"He should die!\"]\n",
        "example4 = [\"Good morning guys, today is a beautiful day!\"]"
      ],
      "metadata": {
        "id": "wsf1YTHfX3My"
      },
      "execution_count": null,
      "outputs": []
    },
    {
      "cell_type": "code",
      "source": [
        "tf.sigmoid(reloaded_model(tf.constant(example5)))[0][0]"
      ],
      "metadata": {
        "colab": {
          "base_uri": "https://localhost:8080/"
        },
        "id": "kcE_nMIzX3xt",
        "outputId": "4a9fcd44-3ce6-411a-ec1c-2296ec552962"
      },
      "execution_count": null,
      "outputs": [
        {
          "output_type": "execute_result",
          "data": {
            "text/plain": [
              "<tf.Tensor: shape=(1, 1), dtype=float32, numpy=array([[0.5968618]], dtype=float32)>"
            ]
          },
          "metadata": {},
          "execution_count": 332
        }
      ]
    },
    {
      "cell_type": "code",
      "source": [
        "model.predict(example5)"
      ],
      "metadata": {
        "colab": {
          "base_uri": "https://localhost:8080/"
        },
        "id": "j7A5hR4tZxLs",
        "outputId": "eaf8fbd0-12dd-4d1f-b467-cab8ba37db98"
      },
      "execution_count": null,
      "outputs": [
        {
          "output_type": "execute_result",
          "data": {
            "text/plain": [
              "array([[0.39240617]], dtype=float32)"
            ]
          },
          "metadata": {},
          "execution_count": 331
        }
      ]
    },
    {
      "cell_type": "markdown",
      "source": [
        "#### Model 2 Multi class"
      ],
      "metadata": {
        "id": "HTrWB2n6fWgH"
      }
    },
    {
      "cell_type": "code",
      "source": [
        "# split the data into train and test set\n",
        "\n",
        "# Shuffle dataframe using sample function\n",
        "#df = new_multi.sample(frac=1)\n",
        "#df = data_t2.sample(frac=1)\n",
        "df = data_t1.sample(frac=1)\n",
        "\n",
        "# Select ratio\n",
        "ratio = 0.80\n",
        " \n",
        "total_rows = data_t1.shape[0]\n",
        "train_size = int(total_rows*ratio)\n",
        " \n",
        "# Split data into test and train\n",
        "train_2 = df[0:train_size]\n",
        "test_2 = df[train_size:]"
      ],
      "metadata": {
        "id": "qiXA2r93fYcL"
      },
      "execution_count": 10,
      "outputs": []
    },
    {
      "cell_type": "code",
      "source": [
        "train_2"
      ],
      "metadata": {
        "colab": {
          "base_uri": "https://localhost:8080/",
          "height": 423
        },
        "id": "_aX7-qiuvG4K",
        "outputId": "5a37f178-28b8-4e70-a52c-9671639a7d4a"
      },
      "execution_count": 11,
      "outputs": [
        {
          "output_type": "execute_result",
          "data": {
            "text/plain": [
              "                                                 String  y1  y2  y3\n",
              "776   #Bestnaijamade: 16yr old PKK suicide bomber wh...   0   4   0\n",
              "1116  SEISMIC AUDIO SA-15T SA15T Padded Black Speake...   0   0   0\n",
              "641   OMG Horrible Accident Man Died in Wings of Air...   3   4   0\n",
              "549   Did I drink too much? Am I losing touch? Did I...   1   3   0\n",
              "383   HEALTH FACT: 75% of muscle mass is made up of ...   2   2   0\n",
              "...                                                 ...  ..  ..  ..\n",
              "1370  @heebsterrr_ I remember the heat wave the year...   1   2   0\n",
              "1463   @_AsianShawtyy ?????????? I'm sorry. But I'm out   3   2   0\n",
              "671   @FEVWarrior -in the Vault that could take a lo...   0   0   0\n",
              "87          @BrodyFrieling @hanna_brooksie photo bombed   0   0   0\n",
              "492   Where are the protests ? The riots? The burnin...   1   1   1\n",
              "\n",
              "[439 rows x 4 columns]"
            ],
            "text/html": [
              "\n",
              "  <div id=\"df-bf793056-6efb-474d-89c9-aa3ef02bd423\">\n",
              "    <div class=\"colab-df-container\">\n",
              "      <div>\n",
              "<style scoped>\n",
              "    .dataframe tbody tr th:only-of-type {\n",
              "        vertical-align: middle;\n",
              "    }\n",
              "\n",
              "    .dataframe tbody tr th {\n",
              "        vertical-align: top;\n",
              "    }\n",
              "\n",
              "    .dataframe thead th {\n",
              "        text-align: right;\n",
              "    }\n",
              "</style>\n",
              "<table border=\"1\" class=\"dataframe\">\n",
              "  <thead>\n",
              "    <tr style=\"text-align: right;\">\n",
              "      <th></th>\n",
              "      <th>String</th>\n",
              "      <th>y1</th>\n",
              "      <th>y2</th>\n",
              "      <th>y3</th>\n",
              "    </tr>\n",
              "  </thead>\n",
              "  <tbody>\n",
              "    <tr>\n",
              "      <th>776</th>\n",
              "      <td>#Bestnaijamade: 16yr old PKK suicide bomber wh...</td>\n",
              "      <td>0</td>\n",
              "      <td>4</td>\n",
              "      <td>0</td>\n",
              "    </tr>\n",
              "    <tr>\n",
              "      <th>1116</th>\n",
              "      <td>SEISMIC AUDIO SA-15T SA15T Padded Black Speake...</td>\n",
              "      <td>0</td>\n",
              "      <td>0</td>\n",
              "      <td>0</td>\n",
              "    </tr>\n",
              "    <tr>\n",
              "      <th>641</th>\n",
              "      <td>OMG Horrible Accident Man Died in Wings of Air...</td>\n",
              "      <td>3</td>\n",
              "      <td>4</td>\n",
              "      <td>0</td>\n",
              "    </tr>\n",
              "    <tr>\n",
              "      <th>549</th>\n",
              "      <td>Did I drink too much? Am I losing touch? Did I...</td>\n",
              "      <td>1</td>\n",
              "      <td>3</td>\n",
              "      <td>0</td>\n",
              "    </tr>\n",
              "    <tr>\n",
              "      <th>383</th>\n",
              "      <td>HEALTH FACT: 75% of muscle mass is made up of ...</td>\n",
              "      <td>2</td>\n",
              "      <td>2</td>\n",
              "      <td>0</td>\n",
              "    </tr>\n",
              "    <tr>\n",
              "      <th>...</th>\n",
              "      <td>...</td>\n",
              "      <td>...</td>\n",
              "      <td>...</td>\n",
              "      <td>...</td>\n",
              "    </tr>\n",
              "    <tr>\n",
              "      <th>1370</th>\n",
              "      <td>@heebsterrr_ I remember the heat wave the year...</td>\n",
              "      <td>1</td>\n",
              "      <td>2</td>\n",
              "      <td>0</td>\n",
              "    </tr>\n",
              "    <tr>\n",
              "      <th>1463</th>\n",
              "      <td>@_AsianShawtyy ?????????? I'm sorry. But I'm out</td>\n",
              "      <td>3</td>\n",
              "      <td>2</td>\n",
              "      <td>0</td>\n",
              "    </tr>\n",
              "    <tr>\n",
              "      <th>671</th>\n",
              "      <td>@FEVWarrior -in the Vault that could take a lo...</td>\n",
              "      <td>0</td>\n",
              "      <td>0</td>\n",
              "      <td>0</td>\n",
              "    </tr>\n",
              "    <tr>\n",
              "      <th>87</th>\n",
              "      <td>@BrodyFrieling @hanna_brooksie photo bombed</td>\n",
              "      <td>0</td>\n",
              "      <td>0</td>\n",
              "      <td>0</td>\n",
              "    </tr>\n",
              "    <tr>\n",
              "      <th>492</th>\n",
              "      <td>Where are the protests ? The riots? The burnin...</td>\n",
              "      <td>1</td>\n",
              "      <td>1</td>\n",
              "      <td>1</td>\n",
              "    </tr>\n",
              "  </tbody>\n",
              "</table>\n",
              "<p>439 rows × 4 columns</p>\n",
              "</div>\n",
              "      <button class=\"colab-df-convert\" onclick=\"convertToInteractive('df-bf793056-6efb-474d-89c9-aa3ef02bd423')\"\n",
              "              title=\"Convert this dataframe to an interactive table.\"\n",
              "              style=\"display:none;\">\n",
              "        \n",
              "  <svg xmlns=\"http://www.w3.org/2000/svg\" height=\"24px\"viewBox=\"0 0 24 24\"\n",
              "       width=\"24px\">\n",
              "    <path d=\"M0 0h24v24H0V0z\" fill=\"none\"/>\n",
              "    <path d=\"M18.56 5.44l.94 2.06.94-2.06 2.06-.94-2.06-.94-.94-2.06-.94 2.06-2.06.94zm-11 1L8.5 8.5l.94-2.06 2.06-.94-2.06-.94L8.5 2.5l-.94 2.06-2.06.94zm10 10l.94 2.06.94-2.06 2.06-.94-2.06-.94-.94-2.06-.94 2.06-2.06.94z\"/><path d=\"M17.41 7.96l-1.37-1.37c-.4-.4-.92-.59-1.43-.59-.52 0-1.04.2-1.43.59L10.3 9.45l-7.72 7.72c-.78.78-.78 2.05 0 2.83L4 21.41c.39.39.9.59 1.41.59.51 0 1.02-.2 1.41-.59l7.78-7.78 2.81-2.81c.8-.78.8-2.07 0-2.86zM5.41 20L4 18.59l7.72-7.72 1.47 1.35L5.41 20z\"/>\n",
              "  </svg>\n",
              "      </button>\n",
              "      \n",
              "  <style>\n",
              "    .colab-df-container {\n",
              "      display:flex;\n",
              "      flex-wrap:wrap;\n",
              "      gap: 12px;\n",
              "    }\n",
              "\n",
              "    .colab-df-convert {\n",
              "      background-color: #E8F0FE;\n",
              "      border: none;\n",
              "      border-radius: 50%;\n",
              "      cursor: pointer;\n",
              "      display: none;\n",
              "      fill: #1967D2;\n",
              "      height: 32px;\n",
              "      padding: 0 0 0 0;\n",
              "      width: 32px;\n",
              "    }\n",
              "\n",
              "    .colab-df-convert:hover {\n",
              "      background-color: #E2EBFA;\n",
              "      box-shadow: 0px 1px 2px rgba(60, 64, 67, 0.3), 0px 1px 3px 1px rgba(60, 64, 67, 0.15);\n",
              "      fill: #174EA6;\n",
              "    }\n",
              "\n",
              "    [theme=dark] .colab-df-convert {\n",
              "      background-color: #3B4455;\n",
              "      fill: #D2E3FC;\n",
              "    }\n",
              "\n",
              "    [theme=dark] .colab-df-convert:hover {\n",
              "      background-color: #434B5C;\n",
              "      box-shadow: 0px 1px 3px 1px rgba(0, 0, 0, 0.15);\n",
              "      filter: drop-shadow(0px 1px 2px rgba(0, 0, 0, 0.3));\n",
              "      fill: #FFFFFF;\n",
              "    }\n",
              "  </style>\n",
              "\n",
              "      <script>\n",
              "        const buttonEl =\n",
              "          document.querySelector('#df-bf793056-6efb-474d-89c9-aa3ef02bd423 button.colab-df-convert');\n",
              "        buttonEl.style.display =\n",
              "          google.colab.kernel.accessAllowed ? 'block' : 'none';\n",
              "\n",
              "        async function convertToInteractive(key) {\n",
              "          const element = document.querySelector('#df-bf793056-6efb-474d-89c9-aa3ef02bd423');\n",
              "          const dataTable =\n",
              "            await google.colab.kernel.invokeFunction('convertToInteractive',\n",
              "                                                     [key], {});\n",
              "          if (!dataTable) return;\n",
              "\n",
              "          const docLinkHtml = 'Like what you see? Visit the ' +\n",
              "            '<a target=\"_blank\" href=https://colab.research.google.com/notebooks/data_table.ipynb>data table notebook</a>'\n",
              "            + ' to learn more about interactive tables.';\n",
              "          element.innerHTML = '';\n",
              "          dataTable['output_type'] = 'display_data';\n",
              "          await google.colab.output.renderOutput(dataTable, element);\n",
              "          const docLink = document.createElement('div');\n",
              "          docLink.innerHTML = docLinkHtml;\n",
              "          element.appendChild(docLink);\n",
              "        }\n",
              "      </script>\n",
              "    </div>\n",
              "  </div>\n",
              "  "
            ]
          },
          "metadata": {},
          "execution_count": 11
        }
      ]
    },
    {
      "cell_type": "code",
      "source": [
        "#also, we need to split into X and y\n",
        "y_train_2 = train_2.iloc[:,1]\n",
        "x_train_2 = train_2.iloc[:,0]\n",
        "y_test_2 = test_2.iloc[:,1]\n",
        "x_test_2 = test_2.iloc[:,0]\n",
        "\n",
        "y_train_2.unique()"
      ],
      "metadata": {
        "colab": {
          "base_uri": "https://localhost:8080/"
        },
        "id": "HnK-WsXGfiOF",
        "outputId": "13e2735b-da68-41b7-cb38-e585abd6ea4a"
      },
      "execution_count": 13,
      "outputs": [
        {
          "output_type": "execute_result",
          "data": {
            "text/plain": [
              "array([0, 3, 1, 2])"
            ]
          },
          "metadata": {},
          "execution_count": 13
        }
      ]
    },
    {
      "cell_type": "code",
      "source": [
        "#save the NO one-hot label test\n",
        "NOH_y_test = y_test_2.to_numpy()\n",
        "\n",
        "train_Y = pd.get_dummies(y_train_2)\n",
        "test_Y = pd.get_dummies(y_test_2)\n",
        "display(test_Y)\n",
        "#convert to array\n",
        "train_Y = train_Y.values\n",
        "test_Y = test_Y.values\n",
        "#test_Y"
      ],
      "metadata": {
        "colab": {
          "base_uri": "https://localhost:8080/",
          "height": 423
        },
        "id": "R7sbTz6F_F2L",
        "outputId": "a8edeaee-92a2-47c5-da6f-9c554192e1b5"
      },
      "execution_count": 15,
      "outputs": [
        {
          "output_type": "display_data",
          "data": {
            "text/plain": [
              "      0  1  2  3\n",
              "1115  0  1  0  0\n",
              "1713  0  0  0  1\n",
              "703   1  0  0  0\n",
              "292   0  1  0  0\n",
              "977   0  0  1  0\n",
              "...  .. .. .. ..\n",
              "247   0  1  0  0\n",
              "786   1  0  0  0\n",
              "1577  0  0  0  1\n",
              "743   1  0  0  0\n",
              "1499  0  1  0  0\n",
              "\n",
              "[110 rows x 4 columns]"
            ],
            "text/html": [
              "\n",
              "  <div id=\"df-0849c1b1-e279-4ef2-8b07-bb9a82b801ef\">\n",
              "    <div class=\"colab-df-container\">\n",
              "      <div>\n",
              "<style scoped>\n",
              "    .dataframe tbody tr th:only-of-type {\n",
              "        vertical-align: middle;\n",
              "    }\n",
              "\n",
              "    .dataframe tbody tr th {\n",
              "        vertical-align: top;\n",
              "    }\n",
              "\n",
              "    .dataframe thead th {\n",
              "        text-align: right;\n",
              "    }\n",
              "</style>\n",
              "<table border=\"1\" class=\"dataframe\">\n",
              "  <thead>\n",
              "    <tr style=\"text-align: right;\">\n",
              "      <th></th>\n",
              "      <th>0</th>\n",
              "      <th>1</th>\n",
              "      <th>2</th>\n",
              "      <th>3</th>\n",
              "    </tr>\n",
              "  </thead>\n",
              "  <tbody>\n",
              "    <tr>\n",
              "      <th>1115</th>\n",
              "      <td>0</td>\n",
              "      <td>1</td>\n",
              "      <td>0</td>\n",
              "      <td>0</td>\n",
              "    </tr>\n",
              "    <tr>\n",
              "      <th>1713</th>\n",
              "      <td>0</td>\n",
              "      <td>0</td>\n",
              "      <td>0</td>\n",
              "      <td>1</td>\n",
              "    </tr>\n",
              "    <tr>\n",
              "      <th>703</th>\n",
              "      <td>1</td>\n",
              "      <td>0</td>\n",
              "      <td>0</td>\n",
              "      <td>0</td>\n",
              "    </tr>\n",
              "    <tr>\n",
              "      <th>292</th>\n",
              "      <td>0</td>\n",
              "      <td>1</td>\n",
              "      <td>0</td>\n",
              "      <td>0</td>\n",
              "    </tr>\n",
              "    <tr>\n",
              "      <th>977</th>\n",
              "      <td>0</td>\n",
              "      <td>0</td>\n",
              "      <td>1</td>\n",
              "      <td>0</td>\n",
              "    </tr>\n",
              "    <tr>\n",
              "      <th>...</th>\n",
              "      <td>...</td>\n",
              "      <td>...</td>\n",
              "      <td>...</td>\n",
              "      <td>...</td>\n",
              "    </tr>\n",
              "    <tr>\n",
              "      <th>247</th>\n",
              "      <td>0</td>\n",
              "      <td>1</td>\n",
              "      <td>0</td>\n",
              "      <td>0</td>\n",
              "    </tr>\n",
              "    <tr>\n",
              "      <th>786</th>\n",
              "      <td>1</td>\n",
              "      <td>0</td>\n",
              "      <td>0</td>\n",
              "      <td>0</td>\n",
              "    </tr>\n",
              "    <tr>\n",
              "      <th>1577</th>\n",
              "      <td>0</td>\n",
              "      <td>0</td>\n",
              "      <td>0</td>\n",
              "      <td>1</td>\n",
              "    </tr>\n",
              "    <tr>\n",
              "      <th>743</th>\n",
              "      <td>1</td>\n",
              "      <td>0</td>\n",
              "      <td>0</td>\n",
              "      <td>0</td>\n",
              "    </tr>\n",
              "    <tr>\n",
              "      <th>1499</th>\n",
              "      <td>0</td>\n",
              "      <td>1</td>\n",
              "      <td>0</td>\n",
              "      <td>0</td>\n",
              "    </tr>\n",
              "  </tbody>\n",
              "</table>\n",
              "<p>110 rows × 4 columns</p>\n",
              "</div>\n",
              "      <button class=\"colab-df-convert\" onclick=\"convertToInteractive('df-0849c1b1-e279-4ef2-8b07-bb9a82b801ef')\"\n",
              "              title=\"Convert this dataframe to an interactive table.\"\n",
              "              style=\"display:none;\">\n",
              "        \n",
              "  <svg xmlns=\"http://www.w3.org/2000/svg\" height=\"24px\"viewBox=\"0 0 24 24\"\n",
              "       width=\"24px\">\n",
              "    <path d=\"M0 0h24v24H0V0z\" fill=\"none\"/>\n",
              "    <path d=\"M18.56 5.44l.94 2.06.94-2.06 2.06-.94-2.06-.94-.94-2.06-.94 2.06-2.06.94zm-11 1L8.5 8.5l.94-2.06 2.06-.94-2.06-.94L8.5 2.5l-.94 2.06-2.06.94zm10 10l.94 2.06.94-2.06 2.06-.94-2.06-.94-.94-2.06-.94 2.06-2.06.94z\"/><path d=\"M17.41 7.96l-1.37-1.37c-.4-.4-.92-.59-1.43-.59-.52 0-1.04.2-1.43.59L10.3 9.45l-7.72 7.72c-.78.78-.78 2.05 0 2.83L4 21.41c.39.39.9.59 1.41.59.51 0 1.02-.2 1.41-.59l7.78-7.78 2.81-2.81c.8-.78.8-2.07 0-2.86zM5.41 20L4 18.59l7.72-7.72 1.47 1.35L5.41 20z\"/>\n",
              "  </svg>\n",
              "      </button>\n",
              "      \n",
              "  <style>\n",
              "    .colab-df-container {\n",
              "      display:flex;\n",
              "      flex-wrap:wrap;\n",
              "      gap: 12px;\n",
              "    }\n",
              "\n",
              "    .colab-df-convert {\n",
              "      background-color: #E8F0FE;\n",
              "      border: none;\n",
              "      border-radius: 50%;\n",
              "      cursor: pointer;\n",
              "      display: none;\n",
              "      fill: #1967D2;\n",
              "      height: 32px;\n",
              "      padding: 0 0 0 0;\n",
              "      width: 32px;\n",
              "    }\n",
              "\n",
              "    .colab-df-convert:hover {\n",
              "      background-color: #E2EBFA;\n",
              "      box-shadow: 0px 1px 2px rgba(60, 64, 67, 0.3), 0px 1px 3px 1px rgba(60, 64, 67, 0.15);\n",
              "      fill: #174EA6;\n",
              "    }\n",
              "\n",
              "    [theme=dark] .colab-df-convert {\n",
              "      background-color: #3B4455;\n",
              "      fill: #D2E3FC;\n",
              "    }\n",
              "\n",
              "    [theme=dark] .colab-df-convert:hover {\n",
              "      background-color: #434B5C;\n",
              "      box-shadow: 0px 1px 3px 1px rgba(0, 0, 0, 0.15);\n",
              "      filter: drop-shadow(0px 1px 2px rgba(0, 0, 0, 0.3));\n",
              "      fill: #FFFFFF;\n",
              "    }\n",
              "  </style>\n",
              "\n",
              "      <script>\n",
              "        const buttonEl =\n",
              "          document.querySelector('#df-0849c1b1-e279-4ef2-8b07-bb9a82b801ef button.colab-df-convert');\n",
              "        buttonEl.style.display =\n",
              "          google.colab.kernel.accessAllowed ? 'block' : 'none';\n",
              "\n",
              "        async function convertToInteractive(key) {\n",
              "          const element = document.querySelector('#df-0849c1b1-e279-4ef2-8b07-bb9a82b801ef');\n",
              "          const dataTable =\n",
              "            await google.colab.kernel.invokeFunction('convertToInteractive',\n",
              "                                                     [key], {});\n",
              "          if (!dataTable) return;\n",
              "\n",
              "          const docLinkHtml = 'Like what you see? Visit the ' +\n",
              "            '<a target=\"_blank\" href=https://colab.research.google.com/notebooks/data_table.ipynb>data table notebook</a>'\n",
              "            + ' to learn more about interactive tables.';\n",
              "          element.innerHTML = '';\n",
              "          dataTable['output_type'] = 'display_data';\n",
              "          await google.colab.output.renderOutput(dataTable, element);\n",
              "          const docLink = document.createElement('div');\n",
              "          docLink.innerHTML = docLinkHtml;\n",
              "          element.appendChild(docLink);\n",
              "        }\n",
              "      </script>\n",
              "    </div>\n",
              "  </div>\n",
              "  "
            ]
          },
          "metadata": {}
        }
      ]
    },
    {
      "cell_type": "code",
      "source": [
        "module_url = \"https://tfhub.dev/google/universal-sentence-encoder/4\"\n",
        "#module_url = \"https://tfhub.dev/google/universal-sentence-encoder-large/5\"\n",
        "model = hub.load(module_url)\n",
        "hub_layer = hub.KerasLayer(module_url,input_shape=[],dtype=tf.string,trainable = False)"
      ],
      "metadata": {
        "id": "6PmJFAnVvi0K"
      },
      "execution_count": 16,
      "outputs": []
    },
    {
      "cell_type": "code",
      "source": [
        "model2 = keras.Sequential()"
      ],
      "metadata": {
        "id": "VgFJkUk-f8Nl"
      },
      "execution_count": 23,
      "outputs": []
    },
    {
      "cell_type": "code",
      "source": [
        "model2.add(hub_layer)\n",
        "#dropout layer here\n",
        "model2.add(keras.layers.Dropout(0.1))\n",
        "#more neuros in the first layer, and a lit be with the next ones\n",
        "model2.add(keras.layers.Dense(200,activation='relu'))\n",
        "model2.add(keras.layers.Dropout(0.1))\n",
        "model2.add(keras.layers.Dense(100,activation='relu'))\n",
        "model2.add(keras.layers.Dropout(0.1))\n",
        "model2.add(keras.layers.Dense(50,activation='relu'))\n",
        "model2.add(keras.layers.Dropout(0.1))\n",
        "model2.add(keras.layers.Dense(10,activation='relu'))\n",
        "#binary = sigmoid, multi class = softmax to the last layer\n",
        "#the last layer need to have the same neurons as classes\n",
        "model2.add(keras.layers.Dense(4,activation='softmax'))"
      ],
      "metadata": {
        "id": "oblCDdUvf8Nm"
      },
      "execution_count": 24,
      "outputs": []
    },
    {
      "cell_type": "code",
      "source": [
        "model2.summary()"
      ],
      "metadata": {
        "colab": {
          "base_uri": "https://localhost:8080/"
        },
        "outputId": "fdd934b1-1504-4ddc-a90f-80af3ce78f9c",
        "id": "MrR6PprLf8Nm"
      },
      "execution_count": 25,
      "outputs": [
        {
          "output_type": "stream",
          "name": "stdout",
          "text": [
            "Model: \"sequential_1\"\n",
            "_________________________________________________________________\n",
            " Layer (type)                Output Shape              Param #   \n",
            "=================================================================\n",
            " keras_layer (KerasLayer)    (None, 512)               256797824 \n",
            "                                                                 \n",
            " dropout_4 (Dropout)         (None, 512)               0         \n",
            "                                                                 \n",
            " dense_5 (Dense)             (None, 200)               102600    \n",
            "                                                                 \n",
            " dropout_5 (Dropout)         (None, 200)               0         \n",
            "                                                                 \n",
            " dense_6 (Dense)             (None, 100)               20100     \n",
            "                                                                 \n",
            " dropout_6 (Dropout)         (None, 100)               0         \n",
            "                                                                 \n",
            " dense_7 (Dense)             (None, 50)                5050      \n",
            "                                                                 \n",
            " dropout_7 (Dropout)         (None, 50)                0         \n",
            "                                                                 \n",
            " dense_8 (Dense)             (None, 10)                510       \n",
            "                                                                 \n",
            " dense_9 (Dense)             (None, 4)                 44        \n",
            "                                                                 \n",
            "=================================================================\n",
            "Total params: 256,926,128\n",
            "Trainable params: 128,304\n",
            "Non-trainable params: 256,797,824\n",
            "_________________________________________________________________\n"
          ]
        }
      ]
    },
    {
      "cell_type": "code",
      "source": [
        "#model2.compile(optimizer='Adam',loss = \"categorical_crossentropy\", metrics = ['accuracy'])\n",
        "model2.compile(optimizer='Adam',loss = keras.losses.CategoricalCrossentropy(from_logits=True), metrics = ['accuracy'])"
      ],
      "metadata": {
        "id": "ojIOKKpSf8Nm"
      },
      "execution_count": 26,
      "outputs": []
    },
    {
      "cell_type": "code",
      "source": [
        "history = model2.fit(x=x_train_2, y=train_Y,\n",
        "                    epochs=20,\n",
        "                    verbose=2,\n",
        "                    validation_data=(x_test_2, test_Y),\n",
        "                    batch_size=10)"
      ],
      "metadata": {
        "colab": {
          "base_uri": "https://localhost:8080/"
        },
        "outputId": "512160fc-86ec-48a5-dfbe-2ce4f0f8e8b6",
        "id": "8F8yQKWVf8Nm"
      },
      "execution_count": 27,
      "outputs": [
        {
          "output_type": "stream",
          "name": "stdout",
          "text": [
            "Epoch 1/20\n",
            "44/44 - 5s - loss: 1.3335 - accuracy: 0.3667 - val_loss: 1.2993 - val_accuracy: 0.3636 - 5s/epoch - 114ms/step\n",
            "Epoch 2/20\n",
            "44/44 - 0s - loss: 1.2282 - accuracy: 0.3827 - val_loss: 1.2490 - val_accuracy: 0.4818 - 384ms/epoch - 9ms/step\n",
            "Epoch 3/20\n",
            "44/44 - 0s - loss: 1.0841 - accuracy: 0.5194 - val_loss: 1.2047 - val_accuracy: 0.5000 - 492ms/epoch - 11ms/step\n",
            "Epoch 4/20\n",
            "44/44 - 1s - loss: 0.8660 - accuracy: 0.6355 - val_loss: 1.2006 - val_accuracy: 0.5000 - 595ms/epoch - 14ms/step\n",
            "Epoch 5/20\n",
            "44/44 - 1s - loss: 0.6796 - accuracy: 0.7221 - val_loss: 1.2592 - val_accuracy: 0.4818 - 528ms/epoch - 12ms/step\n",
            "Epoch 6/20\n",
            "44/44 - 0s - loss: 0.5068 - accuracy: 0.7950 - val_loss: 1.4343 - val_accuracy: 0.5273 - 401ms/epoch - 9ms/step\n",
            "Epoch 7/20\n",
            "44/44 - 0s - loss: 0.3399 - accuracy: 0.8861 - val_loss: 1.6393 - val_accuracy: 0.5273 - 398ms/epoch - 9ms/step\n",
            "Epoch 8/20\n",
            "44/44 - 0s - loss: 0.1951 - accuracy: 0.9544 - val_loss: 1.9021 - val_accuracy: 0.5000 - 493ms/epoch - 11ms/step\n",
            "Epoch 9/20\n",
            "44/44 - 1s - loss: 0.1458 - accuracy: 0.9544 - val_loss: 1.9717 - val_accuracy: 0.5273 - 663ms/epoch - 15ms/step\n",
            "Epoch 10/20\n",
            "44/44 - 1s - loss: 0.1085 - accuracy: 0.9681 - val_loss: 2.1139 - val_accuracy: 0.5091 - 723ms/epoch - 16ms/step\n",
            "Epoch 11/20\n",
            "44/44 - 1s - loss: 0.0805 - accuracy: 0.9841 - val_loss: 2.2710 - val_accuracy: 0.5182 - 676ms/epoch - 15ms/step\n",
            "Epoch 12/20\n",
            "44/44 - 1s - loss: 0.0669 - accuracy: 0.9841 - val_loss: 2.3582 - val_accuracy: 0.5091 - 649ms/epoch - 15ms/step\n",
            "Epoch 13/20\n",
            "44/44 - 1s - loss: 0.0453 - accuracy: 0.9909 - val_loss: 2.3657 - val_accuracy: 0.5091 - 691ms/epoch - 16ms/step\n",
            "Epoch 14/20\n",
            "44/44 - 1s - loss: 0.0345 - accuracy: 0.9932 - val_loss: 2.4630 - val_accuracy: 0.4909 - 657ms/epoch - 15ms/step\n",
            "Epoch 15/20\n",
            "44/44 - 1s - loss: 0.0278 - accuracy: 0.9954 - val_loss: 2.6772 - val_accuracy: 0.5091 - 681ms/epoch - 15ms/step\n",
            "Epoch 16/20\n",
            "44/44 - 1s - loss: 0.0536 - accuracy: 0.9841 - val_loss: 2.7246 - val_accuracy: 0.5364 - 741ms/epoch - 17ms/step\n",
            "Epoch 17/20\n",
            "44/44 - 1s - loss: 0.0516 - accuracy: 0.9863 - val_loss: 2.5472 - val_accuracy: 0.5091 - 703ms/epoch - 16ms/step\n",
            "Epoch 18/20\n",
            "44/44 - 1s - loss: 0.0394 - accuracy: 0.9932 - val_loss: 2.7862 - val_accuracy: 0.5000 - 741ms/epoch - 17ms/step\n",
            "Epoch 19/20\n",
            "44/44 - 1s - loss: 0.0288 - accuracy: 0.9909 - val_loss: 2.7540 - val_accuracy: 0.4909 - 727ms/epoch - 17ms/step\n",
            "Epoch 20/20\n",
            "44/44 - 1s - loss: 0.0144 - accuracy: 0.9977 - val_loss: 2.7953 - val_accuracy: 0.5000 - 501ms/epoch - 11ms/step\n"
          ]
        }
      ]
    },
    {
      "cell_type": "markdown",
      "source": [
        "### Testing the model2"
      ],
      "metadata": {
        "id": "rzs-X6ufouHa"
      }
    },
    {
      "cell_type": "code",
      "source": [
        "y_hat2_ho = model2.predict(x_test_2)"
      ],
      "metadata": {
        "id": "K0VjiJikf8Nn"
      },
      "execution_count": null,
      "outputs": []
    },
    {
      "cell_type": "code",
      "source": [
        "y_hat_pd = pd.DataFrame(y_hat2_ho)\n",
        "y_hat_pd"
      ],
      "metadata": {
        "colab": {
          "base_uri": "https://localhost:8080/",
          "height": 423
        },
        "id": "b8vij5IyphpN",
        "outputId": "c1a08d41-bfbb-4dc5-9e2e-df0866d6672b"
      },
      "execution_count": null,
      "outputs": [
        {
          "output_type": "execute_result",
          "data": {
            "text/plain": [
              "            0         1         2         3\n",
              "0    0.605809  0.217439  0.072423  0.104329\n",
              "1    0.244060  0.054048  0.175472  0.526420\n",
              "2    0.169413  0.018019  0.731596  0.080972\n",
              "3    0.239005  0.338594  0.039879  0.382523\n",
              "4    0.290087  0.381989  0.116609  0.211315\n",
              "..        ...       ...       ...       ...\n",
              "247  0.157572  0.180823  0.018646  0.642959\n",
              "248  0.319662  0.246186  0.043442  0.390710\n",
              "249  0.340195  0.403843  0.075093  0.180868\n",
              "250  0.327740  0.038470  0.453076  0.180714\n",
              "251  0.132255  0.021487  0.080589  0.765669\n",
              "\n",
              "[252 rows x 4 columns]"
            ],
            "text/html": [
              "\n",
              "  <div id=\"df-144a62a4-9f1e-4d8d-921d-312ae87a0e39\">\n",
              "    <div class=\"colab-df-container\">\n",
              "      <div>\n",
              "<style scoped>\n",
              "    .dataframe tbody tr th:only-of-type {\n",
              "        vertical-align: middle;\n",
              "    }\n",
              "\n",
              "    .dataframe tbody tr th {\n",
              "        vertical-align: top;\n",
              "    }\n",
              "\n",
              "    .dataframe thead th {\n",
              "        text-align: right;\n",
              "    }\n",
              "</style>\n",
              "<table border=\"1\" class=\"dataframe\">\n",
              "  <thead>\n",
              "    <tr style=\"text-align: right;\">\n",
              "      <th></th>\n",
              "      <th>0</th>\n",
              "      <th>1</th>\n",
              "      <th>2</th>\n",
              "      <th>3</th>\n",
              "    </tr>\n",
              "  </thead>\n",
              "  <tbody>\n",
              "    <tr>\n",
              "      <th>0</th>\n",
              "      <td>0.605809</td>\n",
              "      <td>0.217439</td>\n",
              "      <td>0.072423</td>\n",
              "      <td>0.104329</td>\n",
              "    </tr>\n",
              "    <tr>\n",
              "      <th>1</th>\n",
              "      <td>0.244060</td>\n",
              "      <td>0.054048</td>\n",
              "      <td>0.175472</td>\n",
              "      <td>0.526420</td>\n",
              "    </tr>\n",
              "    <tr>\n",
              "      <th>2</th>\n",
              "      <td>0.169413</td>\n",
              "      <td>0.018019</td>\n",
              "      <td>0.731596</td>\n",
              "      <td>0.080972</td>\n",
              "    </tr>\n",
              "    <tr>\n",
              "      <th>3</th>\n",
              "      <td>0.239005</td>\n",
              "      <td>0.338594</td>\n",
              "      <td>0.039879</td>\n",
              "      <td>0.382523</td>\n",
              "    </tr>\n",
              "    <tr>\n",
              "      <th>4</th>\n",
              "      <td>0.290087</td>\n",
              "      <td>0.381989</td>\n",
              "      <td>0.116609</td>\n",
              "      <td>0.211315</td>\n",
              "    </tr>\n",
              "    <tr>\n",
              "      <th>...</th>\n",
              "      <td>...</td>\n",
              "      <td>...</td>\n",
              "      <td>...</td>\n",
              "      <td>...</td>\n",
              "    </tr>\n",
              "    <tr>\n",
              "      <th>247</th>\n",
              "      <td>0.157572</td>\n",
              "      <td>0.180823</td>\n",
              "      <td>0.018646</td>\n",
              "      <td>0.642959</td>\n",
              "    </tr>\n",
              "    <tr>\n",
              "      <th>248</th>\n",
              "      <td>0.319662</td>\n",
              "      <td>0.246186</td>\n",
              "      <td>0.043442</td>\n",
              "      <td>0.390710</td>\n",
              "    </tr>\n",
              "    <tr>\n",
              "      <th>249</th>\n",
              "      <td>0.340195</td>\n",
              "      <td>0.403843</td>\n",
              "      <td>0.075093</td>\n",
              "      <td>0.180868</td>\n",
              "    </tr>\n",
              "    <tr>\n",
              "      <th>250</th>\n",
              "      <td>0.327740</td>\n",
              "      <td>0.038470</td>\n",
              "      <td>0.453076</td>\n",
              "      <td>0.180714</td>\n",
              "    </tr>\n",
              "    <tr>\n",
              "      <th>251</th>\n",
              "      <td>0.132255</td>\n",
              "      <td>0.021487</td>\n",
              "      <td>0.080589</td>\n",
              "      <td>0.765669</td>\n",
              "    </tr>\n",
              "  </tbody>\n",
              "</table>\n",
              "<p>252 rows × 4 columns</p>\n",
              "</div>\n",
              "      <button class=\"colab-df-convert\" onclick=\"convertToInteractive('df-144a62a4-9f1e-4d8d-921d-312ae87a0e39')\"\n",
              "              title=\"Convert this dataframe to an interactive table.\"\n",
              "              style=\"display:none;\">\n",
              "        \n",
              "  <svg xmlns=\"http://www.w3.org/2000/svg\" height=\"24px\"viewBox=\"0 0 24 24\"\n",
              "       width=\"24px\">\n",
              "    <path d=\"M0 0h24v24H0V0z\" fill=\"none\"/>\n",
              "    <path d=\"M18.56 5.44l.94 2.06.94-2.06 2.06-.94-2.06-.94-.94-2.06-.94 2.06-2.06.94zm-11 1L8.5 8.5l.94-2.06 2.06-.94-2.06-.94L8.5 2.5l-.94 2.06-2.06.94zm10 10l.94 2.06.94-2.06 2.06-.94-2.06-.94-.94-2.06-.94 2.06-2.06.94z\"/><path d=\"M17.41 7.96l-1.37-1.37c-.4-.4-.92-.59-1.43-.59-.52 0-1.04.2-1.43.59L10.3 9.45l-7.72 7.72c-.78.78-.78 2.05 0 2.83L4 21.41c.39.39.9.59 1.41.59.51 0 1.02-.2 1.41-.59l7.78-7.78 2.81-2.81c.8-.78.8-2.07 0-2.86zM5.41 20L4 18.59l7.72-7.72 1.47 1.35L5.41 20z\"/>\n",
              "  </svg>\n",
              "      </button>\n",
              "      \n",
              "  <style>\n",
              "    .colab-df-container {\n",
              "      display:flex;\n",
              "      flex-wrap:wrap;\n",
              "      gap: 12px;\n",
              "    }\n",
              "\n",
              "    .colab-df-convert {\n",
              "      background-color: #E8F0FE;\n",
              "      border: none;\n",
              "      border-radius: 50%;\n",
              "      cursor: pointer;\n",
              "      display: none;\n",
              "      fill: #1967D2;\n",
              "      height: 32px;\n",
              "      padding: 0 0 0 0;\n",
              "      width: 32px;\n",
              "    }\n",
              "\n",
              "    .colab-df-convert:hover {\n",
              "      background-color: #E2EBFA;\n",
              "      box-shadow: 0px 1px 2px rgba(60, 64, 67, 0.3), 0px 1px 3px 1px rgba(60, 64, 67, 0.15);\n",
              "      fill: #174EA6;\n",
              "    }\n",
              "\n",
              "    [theme=dark] .colab-df-convert {\n",
              "      background-color: #3B4455;\n",
              "      fill: #D2E3FC;\n",
              "    }\n",
              "\n",
              "    [theme=dark] .colab-df-convert:hover {\n",
              "      background-color: #434B5C;\n",
              "      box-shadow: 0px 1px 3px 1px rgba(0, 0, 0, 0.15);\n",
              "      filter: drop-shadow(0px 1px 2px rgba(0, 0, 0, 0.3));\n",
              "      fill: #FFFFFF;\n",
              "    }\n",
              "  </style>\n",
              "\n",
              "      <script>\n",
              "        const buttonEl =\n",
              "          document.querySelector('#df-144a62a4-9f1e-4d8d-921d-312ae87a0e39 button.colab-df-convert');\n",
              "        buttonEl.style.display =\n",
              "          google.colab.kernel.accessAllowed ? 'block' : 'none';\n",
              "\n",
              "        async function convertToInteractive(key) {\n",
              "          const element = document.querySelector('#df-144a62a4-9f1e-4d8d-921d-312ae87a0e39');\n",
              "          const dataTable =\n",
              "            await google.colab.kernel.invokeFunction('convertToInteractive',\n",
              "                                                     [key], {});\n",
              "          if (!dataTable) return;\n",
              "\n",
              "          const docLinkHtml = 'Like what you see? Visit the ' +\n",
              "            '<a target=\"_blank\" href=https://colab.research.google.com/notebooks/data_table.ipynb>data table notebook</a>'\n",
              "            + ' to learn more about interactive tables.';\n",
              "          element.innerHTML = '';\n",
              "          dataTable['output_type'] = 'display_data';\n",
              "          await google.colab.output.renderOutput(dataTable, element);\n",
              "          const docLink = document.createElement('div');\n",
              "          docLink.innerHTML = docLinkHtml;\n",
              "          element.appendChild(docLink);\n",
              "        }\n",
              "      </script>\n",
              "    </div>\n",
              "  </div>\n",
              "  "
            ]
          },
          "metadata": {},
          "execution_count": 188
        }
      ]
    },
    {
      "cell_type": "code",
      "source": [
        "y_hat2 = (np.argmax(y_hat2_ho, axis=1)) #.reshape(-1, 1)\n",
        "y_hat2"
      ],
      "metadata": {
        "colab": {
          "base_uri": "https://localhost:8080/"
        },
        "id": "uEjwuuWtprzr",
        "outputId": "d4e47e5d-407e-45de-e233-925e8e70d0ae"
      },
      "execution_count": null,
      "outputs": [
        {
          "output_type": "execute_result",
          "data": {
            "text/plain": [
              "array([0, 3, 2, 3, 1, 1, 3, 2, 3, 1, 3, 1, 2, 1, 0, 2, 3, 2, 3, 3, 1, 2,\n",
              "       0, 3, 2, 1, 1, 0, 0, 3, 0, 1, 1, 1, 1, 3, 1, 3, 2, 3, 3, 0, 3, 1,\n",
              "       0, 2, 3, 2, 2, 2, 1, 0, 1, 0, 3, 1, 2, 2, 1, 2, 2, 1, 2, 3, 3, 3,\n",
              "       3, 3, 0, 3, 1, 3, 0, 1, 3, 3, 3, 3, 3, 3, 3, 3, 1, 2, 0, 3, 3, 3,\n",
              "       3, 1, 2, 2, 0, 3, 0, 0, 3, 0, 1, 2, 0, 1, 3, 0, 0, 3, 2, 3, 1, 3,\n",
              "       3, 0, 3, 3, 0, 0, 3, 1, 3, 3, 1, 1, 3, 3, 1, 2, 1, 2, 3, 3, 1, 2,\n",
              "       0, 1, 0, 2, 3, 3, 1, 2, 2, 1, 3, 0, 3, 1, 1, 3, 1, 3, 3, 3, 3, 1,\n",
              "       3, 3, 2, 3, 3, 2, 1, 2, 3, 0, 3, 2, 2, 2, 3, 3, 0, 0, 0, 3, 1, 1,\n",
              "       1, 3, 2, 0, 0, 1, 3, 1, 3, 3, 0, 3, 2, 3, 1, 2, 1, 3, 3, 1, 1, 1,\n",
              "       3, 2, 1, 1, 0, 0, 3, 2, 2, 2, 3, 2, 3, 2, 1, 0, 1, 0, 3, 3, 2, 0,\n",
              "       2, 2, 3, 2, 3, 2, 1, 3, 2, 1, 0, 1, 1, 0, 0, 3, 1, 3, 1, 3, 1, 1,\n",
              "       3, 3, 3, 2, 3, 3, 3, 1, 2, 3])"
            ]
          },
          "metadata": {},
          "execution_count": 206
        }
      ]
    },
    {
      "cell_type": "code",
      "source": [
        "NOH_y_test"
      ],
      "metadata": {
        "colab": {
          "base_uri": "https://localhost:8080/"
        },
        "id": "t42qaLufDU_3",
        "outputId": "724d9c3a-e81c-431a-9035-95c8f5b9e565"
      },
      "execution_count": null,
      "outputs": [
        {
          "output_type": "execute_result",
          "data": {
            "text/plain": [
              "array([0, 0, 0, 0, 0, 0, 2, 2, 3, 2, 3, 3, 2, 1, 0, 0, 3, 2, 0, 0, 3, 2,\n",
              "       0, 2, 2, 0, 1, 0, 1, 0, 2, 0, 1, 1, 0, 3, 0, 3, 2, 1, 1, 0, 0, 0,\n",
              "       0, 3, 0, 0, 2, 2, 0, 2, 3, 0, 0, 3, 2, 2, 0, 2, 2, 0, 2, 3, 3, 2,\n",
              "       3, 3, 0, 3, 3, 3, 0, 0, 3, 3, 0, 0, 3, 0, 1, 3, 1, 2, 2, 2, 3, 2,\n",
              "       1, 1, 3, 2, 2, 3, 2, 0, 0, 0, 1, 2, 0, 3, 3, 0, 0, 1, 0, 3, 0, 3,\n",
              "       3, 1, 0, 3, 2, 0, 3, 3, 2, 3, 1, 0, 3, 0, 0, 2, 3, 2, 2, 3, 1, 2,\n",
              "       1, 0, 2, 2, 0, 3, 1, 2, 2, 2, 3, 0, 3, 0, 0, 1, 1, 3, 0, 1, 2, 0,\n",
              "       1, 3, 3, 0, 0, 2, 1, 2, 0, 2, 3, 2, 0, 2, 3, 1, 2, 0, 0, 3, 0, 0,\n",
              "       3, 0, 2, 2, 0, 3, 2, 0, 0, 3, 2, 2, 3, 2, 0, 2, 1, 3, 0, 3, 0, 3,\n",
              "       3, 0, 0, 3, 2, 2, 2, 2, 3, 2, 2, 2, 3, 1, 1, 3, 0, 0, 3, 3, 0, 0,\n",
              "       0, 2, 0, 2, 3, 2, 1, 3, 2, 2, 1, 0, 1, 2, 2, 2, 2, 1, 0, 1, 3, 1,\n",
              "       2, 3, 2, 3, 1, 3, 2, 1, 2, 3])"
            ]
          },
          "metadata": {},
          "execution_count": 207
        }
      ]
    },
    {
      "cell_type": "code",
      "source": [
        "from sklearn.metrics import multilabel_confusion_matrix, ConfusionMatrixDisplay\n",
        "from mlxtend.evaluate import confusion_matrix\n",
        "from mlxtend.plotting import plot_confusion_matrix\n",
        "\n",
        "#NOH_y_test\n",
        "#y_hat2\n",
        "\n",
        "cm = confusion_matrix(y_target=NOH_y_test, \n",
        "                      y_predicted=y_hat2, \n",
        "                      binary=False)\n",
        "#print(cm)\n",
        "fig, ax = plot_confusion_matrix(conf_mat=cm)\n",
        "plt.show()"
      ],
      "metadata": {
        "colab": {
          "base_uri": "https://localhost:8080/",
          "height": 449
        },
        "id": "6GsJeIL5xsgv",
        "outputId": "598c7101-f655-45c8-8faf-b03bb59c8162"
      },
      "execution_count": null,
      "outputs": [
        {
          "output_type": "display_data",
          "data": {
            "text/plain": [
              "<Figure size 640x480 with 1 Axes>"
            ],
            "image/png": "[encoded data removed]"
          },
          "metadata": {}
        }
      ]
    },
    {
      "cell_type": "code",
      "source": [
        "from sklearn.metrics import accuracy_score\n",
        "from sklearn.metrics import balanced_accuracy_score\n",
        "from sklearn.metrics import recall_score\n",
        "\n",
        "print(accuracy_score(NOH_y_test, y_hat2))\n",
        "print(balanced_accuracy_score(NOH_y_test, y_hat2))"
      ],
      "metadata": {
        "colab": {
          "base_uri": "https://localhost:8080/"
        },
        "id": "dWBWkHgVIdIy",
        "outputId": "20c55e8b-3d21-43ee-cd88-c397be753e06"
      },
      "execution_count": null,
      "outputs": [
        {
          "output_type": "stream",
          "name": "stdout",
          "text": [
            "0.47619047619047616\n",
            "0.49048167022850564\n"
          ]
        }
      ]
    },
    {
      "cell_type": "code",
      "source": [
        "#accuracy function\n",
        "def accuracy(y, y_hat):\n",
        "    return np.mean(y==y_hat)"
      ],
      "metadata": {
        "id": "Q5p-trIlLuzG"
      },
      "execution_count": null,
      "outputs": []
    },
    {
      "cell_type": "code",
      "source": [
        "#compute the accuracy per class\n",
        "#NOH_y_test = y_true\n",
        "#y_hat2     = y_pred\n",
        "\n",
        "table_trues = pd.DataFrame([NOH_y_test,y_hat2]).T\n",
        "table_trues_0 = table_trues.loc[table_trues.iloc[:,0] == 0]\n",
        "table_trues_1 = table_trues.loc[table_trues.iloc[:,0] == 1]\n",
        "table_trues_2 = table_trues.loc[table_trues.iloc[:,0] == 2]\n",
        "table_trues_3 = table_trues.loc[table_trues.iloc[:,0] == 3]\n",
        "\n",
        "c0 = table_trues_0.to_numpy()\n",
        "c0_y_true = c0[:,0]\n",
        "c0_y_hat = c0[:,1]\n",
        "accu_c0 = accuracy(c0_y_true,c0_y_hat)\n",
        "\n",
        "c1 = table_trues_1.to_numpy()\n",
        "c1_y_true = c1[:,0]\n",
        "c1_y_hat = c1[:,1]\n",
        "accu_c1 = accuracy(c1_y_true,c1_y_hat)\n",
        "\n",
        "c2 = table_trues_2.to_numpy()\n",
        "c2_y_true = c2[:,0]\n",
        "c2_y_hat = c2[:,1]\n",
        "accu_c2 = accuracy(c2_y_true,c2_y_hat)\n",
        "\n",
        "c3 = table_trues_3.to_numpy()\n",
        "c3_y_true = c3[:,0]\n",
        "c3_y_hat = c3[:,1]\n",
        "accu_c3 = accuracy(c3_y_true,c3_y_hat)\n",
        "\n",
        "print(\"Accuracy Class 0: \", accu_c0)\n",
        "print(\"Accuracy Class 1: \", accu_c1)\n",
        "print(\"Accuracy Class 2: \", accu_c2)\n",
        "print(\"Accuracy Class 3: \", accu_c3)"
      ],
      "metadata": {
        "colab": {
          "base_uri": "https://localhost:8080/"
        },
        "id": "0KIMUSPgKI-g",
        "outputId": "8a972881-8ce7-465b-bf45-7f0242367add"
      },
      "execution_count": null,
      "outputs": [
        {
          "output_type": "stream",
          "name": "stdout",
          "text": [
            "Accuracy Class 0:  0.26582278481012656\n",
            "Accuracy Class 1:  0.5142857142857142\n",
            "Accuracy Class 2:  0.5\n",
            "Accuracy Class 3:  0.6818181818181818\n"
          ]
        }
      ]
    },
    {
      "cell_type": "code",
      "source": [],
      "metadata": {
        "id": "ZCxUGfJVMS_Z"
      },
      "execution_count": null,
      "outputs": []
    },
    {
      "cell_type": "markdown",
      "source": [
        "## Deploy of the model"
      ],
      "metadata": {
        "id": "bNpjaz0UM-GQ"
      }
    },
    {
      "cell_type": "code",
      "source": [
        "!pip install flask_restful"
      ],
      "metadata": {
        "colab": {
          "base_uri": "https://localhost:8080/"
        },
        "id": "tua0lKtVNApw",
        "outputId": "af0613d4-8bce-49b0-ecea-28fa179b2ed9"
      },
      "execution_count": null,
      "outputs": [
        {
          "output_type": "stream",
          "name": "stdout",
          "text": [
            "Looking in indexes: https://pypi.org/simple, https://us-python.pkg.dev/colab-wheels/public/simple/\n",
            "Collecting flask_restful\n",
            "  Downloading Flask_RESTful-0.3.9-py2.py3-none-any.whl (25 kB)\n",
            "Requirement already satisfied: pytz in /usr/local/lib/python3.9/dist-packages (from flask_restful) (2022.7.1)\n",
            "Collecting aniso8601>=0.82\n",
            "  Downloading aniso8601-9.0.1-py2.py3-none-any.whl (52 kB)\n",
            "\u001b[2K     \u001b[90m━━━━━━━━━━━━━━━━━━━━━━━━━━━━━━━━━━━━━━━━\u001b[0m \u001b[32m52.8/52.8 KB\u001b[0m \u001b[31m7.3 MB/s\u001b[0m eta \u001b[36m0:00:00\u001b[0m\n",
            "\u001b[?25hRequirement already satisfied: Flask>=0.8 in /usr/local/lib/python3.9/dist-packages (from flask_restful) (2.2.3)\n",
            "Requirement already satisfied: six>=1.3.0 in /usr/local/lib/python3.9/dist-packages (from flask_restful) (1.16.0)\n",
            "Requirement already satisfied: Werkzeug>=2.2.2 in /usr/local/lib/python3.9/dist-packages (from Flask>=0.8->flask_restful) (2.2.3)\n",
            "Requirement already satisfied: itsdangerous>=2.0 in /usr/local/lib/python3.9/dist-packages (from Flask>=0.8->flask_restful) (2.1.2)\n",
            "Requirement already satisfied: Jinja2>=3.0 in /usr/local/lib/python3.9/dist-packages (from Flask>=0.8->flask_restful) (3.1.2)\n",
            "Requirement already satisfied: click>=8.0 in /usr/local/lib/python3.9/dist-packages (from Flask>=0.8->flask_restful) (8.1.3)\n",
            "Requirement already satisfied: importlib-metadata>=3.6.0 in /usr/local/lib/python3.9/dist-packages (from Flask>=0.8->flask_restful) (6.1.0)\n",
            "Requirement already satisfied: zipp>=0.5 in /usr/local/lib/python3.9/dist-packages (from importlib-metadata>=3.6.0->Flask>=0.8->flask_restful) (3.15.0)\n",
            "Requirement already satisfied: MarkupSafe>=2.0 in /usr/local/lib/python3.9/dist-packages (from Jinja2>=3.0->Flask>=0.8->flask_restful) (2.1.2)\n",
            "Installing collected packages: aniso8601, flask_restful\n",
            "Successfully installed aniso8601-9.0.1 flask_restful-0.3.9\n"
          ]
        }
      ]
    },
    {
      "cell_type": "code",
      "source": [],
      "metadata": {
        "id": "WvIy0PVIObQD"
      },
      "execution_count": null,
      "outputs": []
    }
  ]
}