{
 "cells": [
  {
   "cell_type": "markdown",
   "id": "dcd0b6c1",
   "metadata": {},
   "source": [
    "# This is for making the time series from the videos"
   ]
  },
  {
   "cell_type": "markdown",
   "id": "5aa7b447",
   "metadata": {},
   "source": [
    "## Split video in images"
   ]
  },
  {
   "cell_type": "code",
   "execution_count": 24,
   "id": "ede73849",
   "metadata": {},
   "outputs": [
    {
     "name": "stdout",
     "output_type": "stream",
     "text": [
      "FPS: 17\n"
     ]
    }
   ],
   "source": [
    "import cv2\n",
    "\n",
    "#ATTENTION!\n",
    "#You need to change the dirr for the video, and change the dirr for the folder \n",
    "#where the images will be saved\n",
    "\n",
    "path_video = 'video_04_05.mp4'\n",
    "capture = cv2.VideoCapture(path_video)\n",
    "fps = round(capture.get(cv2.CAP_PROP_FPS))\n",
    "print(\"FPS:\", fps)\n",
    "#the videos that we are saving has 17 frames per secound"
   ]
  },
  {
   "cell_type": "code",
   "execution_count": 25,
   "id": "b8a5719a",
   "metadata": {},
   "outputs": [
    {
     "name": "stdout",
     "output_type": "stream",
     "text": [
      "Saved Frame: 1050 \t Id Frame: 178500\r"
     ]
    }
   ],
   "source": [
    "frameNr = 1\n",
    "flag = 1\n",
    "con = 1\n",
    "save_1_frame_per = 2 #secounds\n",
    "#the video record about 17 frames per secound, I don't know why haha\n",
    "\n",
    "while (True):\n",
    "    success, frame = capture.read()\n",
    "    if success:\n",
    "        if flag == fps*save_1_frame_per:\n",
    "            cv2.imwrite(f'day0_1fp_10s/frame_{con}.jpg', frame)\n",
    "            print(f\"Saved Frame: {con} \\t Id Frame: {frameNr}\", end='\\r')\n",
    "            flag = 0\n",
    "            con += 1\n",
    "    else:\n",
    "        break\n",
    "        \n",
    "    frameNr = frameNr+1\n",
    "    flag += 1\n",
    "\n",
    "capture.release()"
   ]
  },
  {
   "cell_type": "code",
   "execution_count": 26,
   "id": "60b15d5e",
   "metadata": {},
   "outputs": [
    {
     "name": "stdout",
     "output_type": "stream",
     "text": [
      "Collecting cvlib\n",
      "  Downloading cvlib-0.2.7.tar.gz (13.1 MB)\n",
      "     ---------------------------------------- 13.1/13.1 MB 9.5 MB/s eta 0:00:00\n",
      "  Preparing metadata (setup.py): started\n",
      "  Preparing metadata (setup.py): finished with status 'done'\n",
      "Requirement already satisfied: numpy in c:\\users\\consultant\\anaconda3\\lib\\site-packages (from cvlib) (1.23.5)\n",
      "Collecting progressbar\n",
      "  Downloading progressbar-2.5.tar.gz (10 kB)\n",
      "  Preparing metadata (setup.py): started\n",
      "  Preparing metadata (setup.py): finished with status 'done'\n",
      "Requirement already satisfied: requests in c:\\users\\consultant\\anaconda3\\lib\\site-packages (from cvlib) (2.28.1)\n",
      "Requirement already satisfied: pillow in c:\\users\\consultant\\anaconda3\\lib\\site-packages (from cvlib) (9.2.0)\n",
      "Requirement already satisfied: imageio in c:\\users\\consultant\\anaconda3\\lib\\site-packages (from cvlib) (2.19.3)\n",
      "Collecting imutils\n",
      "  Downloading imutils-0.5.4.tar.gz (17 kB)\n",
      "  Preparing metadata (setup.py): started\n",
      "  Preparing metadata (setup.py): finished with status 'done'\n",
      "Requirement already satisfied: idna<4,>=2.5 in c:\\users\\consultant\\anaconda3\\lib\\site-packages (from requests->cvlib) (3.3)\n",
      "Requirement already satisfied: charset-normalizer<3,>=2 in c:\\users\\consultant\\anaconda3\\lib\\site-packages (from requests->cvlib) (2.0.4)\n",
      "Requirement already satisfied: urllib3<1.27,>=1.21.1 in c:\\users\\consultant\\anaconda3\\lib\\site-packages (from requests->cvlib) (1.26.11)\n",
      "Requirement already satisfied: certifi>=2017.4.17 in c:\\users\\consultant\\anaconda3\\lib\\site-packages (from requests->cvlib) (2022.12.7)\n",
      "Building wheels for collected packages: cvlib, imutils, progressbar\n",
      "  Building wheel for cvlib (setup.py): started\n",
      "  Building wheel for cvlib (setup.py): finished with status 'done'\n",
      "  Created wheel for cvlib: filename=cvlib-0.2.7-py3-none-any.whl size=10046369 sha256=be52cab5bb032fe844bc57fa4d7f8d4f6bd13eeb3c567cad8538b777ef5a79e6\n",
      "  Stored in directory: c:\\users\\consultant\\appdata\\local\\pip\\cache\\wheels\\96\\ad\\4c\\d80d4bf4143c154ab297e2384915c89aff43d77d1787b9a702\n",
      "  Building wheel for imutils (setup.py): started\n",
      "  Building wheel for imutils (setup.py): finished with status 'done'\n",
      "  Created wheel for imutils: filename=imutils-0.5.4-py3-none-any.whl size=25847 sha256=748724018115ef1f220836cadecea36f6a3e011a42fa453677bbf7f9e2e82d2f\n",
      "  Stored in directory: c:\\users\\consultant\\appdata\\local\\pip\\cache\\wheels\\4b\\a5\\2d\\4a070a801d3a3d93f033d3ee9728f470f514826e89952df3ea\n",
      "  Building wheel for progressbar (setup.py): started\n",
      "  Building wheel for progressbar (setup.py): finished with status 'done'\n",
      "  Created wheel for progressbar: filename=progressbar-2.5-py3-none-any.whl size=12067 sha256=48738c6f2092ed6c1229ae0fe53af652283e4ef79e3491c5b130b62a771a76d0\n",
      "  Stored in directory: c:\\users\\consultant\\appdata\\local\\pip\\cache\\wheels\\d7\\d9\\89\\a3f31c76ff6d51dc3b1575628f59afe59e4ceae3f2748cd7ad\n",
      "Successfully built cvlib imutils progressbar\n",
      "Installing collected packages: progressbar, imutils, cvlib\n",
      "Successfully installed cvlib-0.2.7 imutils-0.5.4 progressbar-2.5\n"
     ]
    },
    {
     "name": "stderr",
     "output_type": "stream",
     "text": [
      "WARNING: Ignoring invalid distribution -rotobuf (c:\\users\\consultant\\anaconda3\\lib\\site-packages)\n",
      "WARNING: Ignoring invalid distribution -rotobuf (c:\\users\\consultant\\anaconda3\\lib\\site-packages)\n",
      "WARNING: Ignoring invalid distribution -rotobuf (c:\\users\\consultant\\anaconda3\\lib\\site-packages)\n",
      "WARNING: Ignoring invalid distribution -rotobuf (c:\\users\\consultant\\anaconda3\\lib\\site-packages)\n",
      "WARNING: Ignoring invalid distribution -rotobuf (c:\\users\\consultant\\anaconda3\\lib\\site-packages)\n",
      "WARNING: Ignoring invalid distribution -rotobuf (c:\\users\\consultant\\anaconda3\\lib\\site-packages)\n",
      "WARNING: Ignoring invalid distribution -rotobuf (c:\\users\\consultant\\anaconda3\\lib\\site-packages)\n",
      "WARNING: Ignoring invalid distribution -rotobuf (c:\\users\\consultant\\anaconda3\\lib\\site-packages)\n",
      "WARNING: Ignoring invalid distribution -rotobuf (c:\\users\\consultant\\anaconda3\\lib\\site-packages)\n"
     ]
    }
   ],
   "source": [
    "!pip install cvlib"
   ]
  },
  {
   "cell_type": "code",
   "execution_count": 27,
   "id": "1bbbef60",
   "metadata": {},
   "outputs": [],
   "source": [
    "import cv2\n",
    "import numpy as np\n",
    "import matplotlib.pyplot as plt\n",
    "import pandas as pd\n",
    "import os\n",
    "import cvlib as cv\n",
    "from tqdm import tqdm\n",
    "from cvlib.object_detection import draw_bbox\n",
    "from numpy.lib.polynomial import poly"
   ]
  },
  {
   "cell_type": "code",
   "execution_count": 28,
   "id": "b2078a67",
   "metadata": {},
   "outputs": [
    {
     "name": "stderr",
     "output_type": "stream",
     "text": [
      "\r",
      "  0%|          | 0/1050 [00:00<?, ?it/s]"
     ]
    },
    {
     "name": "stdout",
     "output_type": "stream",
     "text": [
      "Downloading yolov4.cfg from https://raw.githubusercontent.com/AlexeyAB/darknet/master/cfg/yolov4.cfg\n"
     ]
    },
    {
     "name": "stderr",
     "output_type": "stream",
     "text": [
      "  0% |                                                                        |\r"
     ]
    },
    {
     "name": "stdout",
     "output_type": "stream",
     "text": [
      "Downloading yolov4.weights from https://github.com/AlexeyAB/darknet/releases/download/darknet_yolo_v3_optimal/yolov4.weights\n"
     ]
    },
    {
     "name": "stderr",
     "output_type": "stream",
     "text": [
      " 99% |####################################################################### |\r"
     ]
    },
    {
     "name": "stdout",
     "output_type": "stream",
     "text": [
      "Downloading yolov3_classes.txt from https://github.com/arunponnusamy/object-detection-opencv/raw/master/yolov3.txt\n"
     ]
    },
    {
     "name": "stderr",
     "output_type": "stream",
     "text": [
      "100%|██████████| 1050/1050 [11:59<00:00,  1.46it/s]                           |\n"
     ]
    }
   ],
   "source": [
    "# ignore not crucial warnings\n",
    "import warnings\n",
    "warnings.filterwarnings(\"ignore\")\n",
    "\n",
    "video_picture = os.listdir(\"day0_1fp_10s\")\n",
    "time_count = 0\n",
    "ts_data = pd.DataFrame(columns=['ds','ts'])\n",
    "for pic in tqdm(video_picture):\n",
    "    #print(pic)\n",
    "    image = cv2.imread(\"day0_1fp_10s/\"+pic)\n",
    "    box, label, count = cv.detect_common_objects(image)\n",
    "    output = draw_bbox(image, box, label, count)  \n",
    "\n",
    "    ts_data = ts_data.append({'ds': time_count,'ts': label.count('person')}, ignore_index=True)\n",
    "    # if time_count > 100: break\n",
    "    time_count = time_count + 1\n",
    "\n",
    "#ts_data\n",
    "#save dataframe\n",
    "ts_data.to_csv('dataset_day0_1fp10s.csv')"
   ]
  },
  {
   "cell_type": "code",
   "execution_count": null,
   "id": "6ecf8ce7",
   "metadata": {},
   "outputs": [],
   "source": []
  }
 ],
 "metadata": {
  "kernelspec": {
   "display_name": "Python 3 (ipykernel)",
   "language": "python",
   "name": "python3"
  },
  "language_info": {
   "codemirror_mode": {
    "name": "ipython",
    "version": 3
   },
   "file_extension": ".py",
   "mimetype": "text/x-python",
   "name": "python",
   "nbconvert_exporter": "python",
   "pygments_lexer": "ipython3",
   "version": "3.9.13"
  }
 },
 "nbformat": 4,
 "nbformat_minor": 5
}
