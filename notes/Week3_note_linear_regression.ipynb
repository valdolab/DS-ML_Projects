{
  "cells": [
    {
      "cell_type": "markdown",
      "metadata": {
        "id": "view-in-github",
        "colab_type": "text"
      },
      "source": [
        "<a href=\"https://colab.research.google.com/github/valdolab/DS_mAIstros/blob/main/notes/Week3_note_linear_regression.ipynb\" target=\"_parent\"><img src=\"https://colab.research.google.com/assets/colab-badge.svg\" alt=\"Open In Colab\"/></a>"
      ]
    },
    {
      "cell_type": "markdown",
      "id": "13991617",
      "metadata": {
        "id": "13991617"
      },
      "source": [
        "# Linear regression\n",
        "## Basic regression algorythms"
      ]
    },
    {
      "cell_type": "code",
      "source": [
        "from google.colab import drive\n",
        "drive.mount('/content/drive')"
      ],
      "metadata": {
        "colab": {
          "base_uri": "https://localhost:8080/"
        },
        "id": "LEsoyQ7aNmGm",
        "outputId": "f1c14d04-056f-4be3-acc2-fef7b0f3d16a"
      },
      "id": "LEsoyQ7aNmGm",
      "execution_count": null,
      "outputs": [
        {
          "output_type": "stream",
          "name": "stdout",
          "text": [
            "Mounted at /content/drive\n"
          ]
        }
      ]
    },
    {
      "cell_type": "code",
      "execution_count": null,
      "id": "17716784",
      "metadata": {
        "id": "17716784"
      },
      "outputs": [],
      "source": [
        "#notes for the class to do the lenear regression algorithm \n",
        "#import data to make the training and test\n",
        "import numpy as np\n",
        "import pandas as pd\n",
        "import matplotlib.pyplot as plt"
      ]
    },
    {
      "cell_type": "markdown",
      "id": "7be856d8",
      "metadata": {
        "id": "7be856d8"
      },
      "source": [
        "### Continuos valued data generator"
      ]
    },
    {
      "cell_type": "code",
      "execution_count": null,
      "id": "9c4822f5",
      "metadata": {
        "id": "9c4822f5"
      },
      "outputs": [],
      "source": [
        "class contValData():\n",
        "    def random_seed(rseed):\n",
        "        np.random.seed(rseed)\n",
        "        \n",
        "    def create(self, D, N, r=20):\n",
        "        self.X = np.linspace(0, r, N).reshape(N,D)\n",
        "        self.y = np.sqrt(self.X)+np.exp(-(self.X-5)**2)-2*(np.exp(-(self.X-12.5)**2)+np.random.randn(N,1)*0.2)\n",
        "        return self.X, self.y\n",
        "    \n",
        "    def show(self):\n",
        "        plt.figure()\n",
        "        plt.scatter(self.X,self.y)\n",
        "    "
      ]
    },
    {
      "cell_type": "code",
      "execution_count": null,
      "id": "e097e079",
      "metadata": {
        "id": "e097e079"
      },
      "outputs": [],
      "source": [
        "dat = contValData()"
      ]
    },
    {
      "cell_type": "code",
      "execution_count": null,
      "id": "02c5eb9b",
      "metadata": {
        "id": "02c5eb9b"
      },
      "outputs": [],
      "source": [
        "X,y = dat.create(1,200)"
      ]
    },
    {
      "cell_type": "code",
      "execution_count": null,
      "id": "c0978a60",
      "metadata": {
        "colab": {
          "base_uri": "https://localhost:8080/",
          "height": 265
        },
        "id": "c0978a60",
        "outputId": "249f00b6-894d-4959-9b29-7e5d84c6e6b8"
      },
      "outputs": [
        {
          "output_type": "display_data",
          "data": {
            "text/plain": [
              "<Figure size 432x288 with 1 Axes>"
            ],
            "image/png": "[encoded data removed]"
          },
          "metadata": {
            "needs_background": "light"
          }
        }
      ],
      "source": [
        "dat.show()"
      ]
    },
    {
      "cell_type": "code",
      "execution_count": null,
      "id": "c8176e11",
      "metadata": {
        "colab": {
          "base_uri": "https://localhost:8080/",
          "height": 265
        },
        "id": "c8176e11",
        "outputId": "fe1d3b8d-f217-4174-803f-880bc03eab23"
      },
      "outputs": [
        {
          "output_type": "display_data",
          "data": {
            "text/plain": [
              "<Figure size 432x288 with 1 Axes>"
            ],
            "image/png": "[encoded data removed]"
          },
          "metadata": {
            "needs_background": "light"
          }
        }
      ],
      "source": [
        "MyDat = contValData()\n",
        "x_test, y_test = MyDat.create(1,30)\n",
        "MyDat.show()"
      ]
    },
    {
      "cell_type": "markdown",
      "id": "d84a4ab5",
      "metadata": {
        "id": "d84a4ab5"
      },
      "source": [
        "### Simple linear regression"
      ]
    },
    {
      "cell_type": "code",
      "execution_count": null,
      "id": "7768267b",
      "metadata": {
        "id": "7768267b"
      },
      "outputs": [],
      "source": [
        "class SimpleLinearReg():\n",
        "    def fit(self, X, y):\n",
        "        self.y = y\n",
        "        self.d = np.mean(X**2)-np.mean(X)**2\n",
        "        self.w0 = (np.mean(y)*np.mean(X**2)-np.mean(X)*np.mean(X*y))/self.d\n",
        "        self.w1 = (np.mean(X*y)-(np.mean(X)*np.mean(y)))/self.d\n",
        "        \n",
        "    def predict(self, X, show=False):\n",
        "        y_hat = self.w1*X + self.w0\n",
        "        \n",
        "        if(show):\n",
        "            plt.figure()\n",
        "            plt.scatter(X, self.y, s=8)\n",
        "            plt.plot(X, y_hat, color = \"#ff0070\")\n",
        "        return y_hat        "
      ]
    },
    {
      "cell_type": "code",
      "execution_count": null,
      "id": "fc6af7a6",
      "metadata": {
        "id": "fc6af7a6"
      },
      "outputs": [],
      "source": [
        "slr = SimpleLinearReg()"
      ]
    },
    {
      "cell_type": "code",
      "execution_count": null,
      "id": "885a575d",
      "metadata": {
        "id": "885a575d"
      },
      "outputs": [],
      "source": [
        "slr.fit(X, y)"
      ]
    },
    {
      "cell_type": "code",
      "execution_count": null,
      "id": "69745ea8",
      "metadata": {
        "colab": {
          "base_uri": "https://localhost:8080/",
          "height": 265
        },
        "id": "69745ea8",
        "outputId": "a45efd45-9787-4fea-8747-92126b7dde08"
      },
      "outputs": [
        {
          "output_type": "display_data",
          "data": {
            "text/plain": [
              "<Figure size 432x288 with 1 Axes>"
            ],
            "image/png": "[encoded data removed]"
          },
          "metadata": {
            "needs_background": "light"
          }
        }
      ],
      "source": [
        "y_hat = slr.predict(X, show=True)"
      ]
    },
    {
      "cell_type": "code",
      "execution_count": null,
      "id": "1690c2f6",
      "metadata": {
        "id": "1690c2f6"
      },
      "outputs": [],
      "source": [
        "#engineer a column\n",
        "y2 = y**2"
      ]
    },
    {
      "cell_type": "code",
      "execution_count": null,
      "id": "5afd7349",
      "metadata": {
        "colab": {
          "base_uri": "https://localhost:8080/",
          "height": 282
        },
        "id": "5afd7349",
        "outputId": "1f7432a2-6e54-49f0-8877-71a634a93cd6"
      },
      "outputs": [
        {
          "output_type": "execute_result",
          "data": {
            "text/plain": [
              "[<matplotlib.lines.Line2D at 0x7f24dc2911f0>]"
            ]
          },
          "metadata": {},
          "execution_count": 14
        },
        {
          "output_type": "display_data",
          "data": {
            "text/plain": [
              "<Figure size 432x288 with 1 Axes>"
            ],
            "image/png": "[encoded data removed]"
          },
          "metadata": {
            "needs_background": "light"
          }
        }
      ],
      "source": [
        "slr.fit(X, y2)\n",
        "y_hat2 = slr.predict(X)\n",
        "plt.figure()\n",
        "plt.scatter(X, y, s=8)\n",
        "plt.plot(X, np.sqrt(y_hat2), color=\"#ff0070\")"
      ]
    },
    {
      "cell_type": "markdown",
      "id": "57d77059",
      "metadata": {
        "id": "57d77059"
      },
      "source": [
        "### kNN regression\n",
        "Define a radius:\n",
        "$radius(V_R) = \\vert\\vert x_{(k)} -x\\vert\\vert$\n",
        "\n",
        "$\\gamma_k \\frac{1}{\\vert\\vert x_{(k)}-x\\vert\\vert + \\epsilon}$"
      ]
    },
    {
      "cell_type": "code",
      "execution_count": null,
      "id": "1a92d692",
      "metadata": {
        "id": "1a92d692"
      },
      "outputs": [],
      "source": [
        "class KNNRegressor():\n",
        "    def fit(self, X, y):\n",
        "        self.X = X\n",
        "        self.y = y\n",
        "        \n",
        "    def predict(self, X, K, epsilon=1e-3):\n",
        "        N = len(X)\n",
        "        y_hat = np.zeros(N)\n",
        "        \n",
        "        for i in range(N):\n",
        "            dist2 = np.sum((self.X - X[i])**2, axis=1)\n",
        "            idxt = np.argsort(dist2)[:K]\n",
        "            gamma_k = np.exp(-dist2[idxt])/np.exp(-dist2[idxt]).sum()\n",
        "            y_hat[i] = gamma_k.dot(self.y[idxt])\n",
        "        \n",
        "        return y_hat"
      ]
    },
    {
      "cell_type": "code",
      "execution_count": null,
      "id": "01523f55",
      "metadata": {
        "id": "01523f55"
      },
      "outputs": [],
      "source": [
        "knnr = KNNRegressor()"
      ]
    },
    {
      "cell_type": "code",
      "execution_count": null,
      "id": "7cc6759d",
      "metadata": {
        "id": "7cc6759d"
      },
      "outputs": [],
      "source": [
        "knnr.fit(X,y)"
      ]
    },
    {
      "cell_type": "code",
      "execution_count": null,
      "id": "3f98bb60",
      "metadata": {
        "colab": {
          "base_uri": "https://localhost:8080/",
          "height": 282
        },
        "id": "3f98bb60",
        "outputId": "8092b57b-e67b-44d4-e04d-7a50c846cf76"
      },
      "outputs": [
        {
          "output_type": "execute_result",
          "data": {
            "text/plain": [
              "[<matplotlib.lines.Line2D at 0x7f24dc200bb0>]"
            ]
          },
          "metadata": {},
          "execution_count": 18
        },
        {
          "output_type": "display_data",
          "data": {
            "text/plain": [
              "<Figure size 432x288 with 1 Axes>"
            ],
            "image/png": "[encoded data removed]"
          },
          "metadata": {
            "needs_background": "light"
          }
        }
      ],
      "source": [
        "y_hat = knnr.predict(X, 5)\n",
        "y_hat2 = knnr.predict(X, 40)\n",
        "\n",
        "#plot\n",
        "plt.figure()\n",
        "plt.scatter(X, y, s=8)\n",
        "plt.plot(X, y_hat, color=\"#ff0070\")\n",
        "plt.plot(X, y_hat2, color=\"#00ff00\")"
      ]
    },
    {
      "cell_type": "code",
      "execution_count": null,
      "id": "193b2af6",
      "metadata": {
        "colab": {
          "base_uri": "https://localhost:8080/",
          "height": 282
        },
        "id": "193b2af6",
        "outputId": "2332909c-8935-4cde-a4ed-5af6b1e07640"
      },
      "outputs": [
        {
          "output_type": "execute_result",
          "data": {
            "text/plain": [
              "[<matplotlib.lines.Line2D at 0x7f24dc1f5700>]"
            ]
          },
          "metadata": {},
          "execution_count": 19
        },
        {
          "output_type": "display_data",
          "data": {
            "text/plain": [
              "<Figure size 432x288 with 1 Axes>"
            ],
            "image/png": "[encoded data removed]"
          },
          "metadata": {
            "needs_background": "light"
          }
        }
      ],
      "source": [
        "y_hat = knnr.predict(x_test, 5)\n",
        "y_hat2 = knnr.predict(x_test, 40)\n",
        "\n",
        "plt.figure()\n",
        "plt.scatter(x_test, y_test, s=8)\n",
        "plt.plot(x_test, y_hat, color=\"#ff0070\")\n",
        "plt.plot(x_test, y_hat2, color=\"#00ff00\")"
      ]
    },
    {
      "cell_type": "markdown",
      "id": "fb953c6c",
      "metadata": {
        "id": "fb953c6c"
      },
      "source": [
        "## Optimization of linear regression\n",
        "### Simple linear regression using np.linalg.solve"
      ]
    },
    {
      "cell_type": "code",
      "execution_count": null,
      "id": "9e8bdc8a",
      "metadata": {
        "id": "9e8bdc8a"
      },
      "outputs": [],
      "source": [
        "class LinearRegression():\n",
        "    def fit(self, X, y):\n",
        "        self.w = np.linalg.solve(X.T@X, X.T@y)\n",
        "    \n",
        "    def predict(self, X):\n",
        "        return np.matmul(X, self.w)"
      ]
    },
    {
      "cell_type": "code",
      "execution_count": null,
      "id": "1ee022f4",
      "metadata": {
        "id": "1ee022f4"
      },
      "outputs": [],
      "source": [
        "def OLS(Y,Y_hat,N):\n",
        "    return (1/(2*N)*np.sum((Y-Y_hat)**2))"
      ]
    },
    {
      "cell_type": "code",
      "execution_count": null,
      "id": "40c82efe",
      "metadata": {
        "id": "40c82efe"
      },
      "outputs": [],
      "source": [
        "def R2(Y,Y_hat):\n",
        "    return (1-(np.sum((Y-Y_hat)**2)/np.sum((y-np.mean(y))**2)))"
      ]
    },
    {
      "cell_type": "code",
      "execution_count": null,
      "id": "77e1ce17",
      "metadata": {
        "id": "77e1ce17"
      },
      "outputs": [],
      "source": [
        "class MVLinearRegression():\n",
        "    \n",
        "    def fit(self, X,y, eta = 1e-3, epochs =1e3, show_curve = False):\n",
        "        epochs =int(epochs)\n",
        "        N, D = X.shape\n",
        "        Y =y\n",
        "\n",
        "        #Initialize the weights\n",
        "        self.W =np.random.randn(D)\n",
        "    \n",
        "        J = np.zeros(epochs)\n",
        "\n",
        "        for epoch in range(epochs):\n",
        "            Y_hat = self.predict(X)\n",
        "            J[epoch] = OLS(Y, Y_hat, N)\n",
        "            #weight update Rule:\n",
        "            self.W -= eta*(1/N)*(X.T@(Y_hat-Y))\n",
        "\n",
        "        if show_curve:\n",
        "            plt.figure()\n",
        "            plt.plot(J)\n",
        "            plt.xlabel(\"epochs\")\n",
        "            plt.ylabel(\"$\\mathcal{J}$\")\n",
        "            plt.title(\"Training Curve\")\n",
        "            plt.show()\n",
        "\n",
        "    def predict(self,X):\n",
        "        return X @ self.W"
      ]
    },
    {
      "cell_type": "code",
      "execution_count": null,
      "id": "741a8ec5",
      "metadata": {
        "id": "741a8ec5"
      },
      "outputs": [],
      "source": [
        "#import the toy dataset\n",
        "myReg = MVLinearRegression()"
      ]
    },
    {
      "cell_type": "code",
      "execution_count": null,
      "id": "d7440fd3",
      "metadata": {
        "colab": {
          "base_uri": "https://localhost:8080/",
          "height": 487
        },
        "id": "d7440fd3",
        "outputId": "354d312a-ec32-4763-d26a-d2973a61d846"
      },
      "outputs": [
        {
          "output_type": "execute_result",
          "data": {
            "text/plain": [
              "               id             date     price  bedrooms  bathrooms  \\\n",
              "0      7129300520  20141013T000000  221900.0         3       1.00   \n",
              "1      6414100192  20141209T000000  538000.0         3       2.25   \n",
              "2      5631500400  20150225T000000  180000.0         2       1.00   \n",
              "3      2487200875  20141209T000000  604000.0         4       3.00   \n",
              "4      1954400510  20150218T000000  510000.0         3       2.00   \n",
              "...           ...              ...       ...       ...        ...   \n",
              "21608   263000018  20140521T000000  360000.0         3       2.50   \n",
              "21609  6600060120  20150223T000000  400000.0         4       2.50   \n",
              "21610  1523300141  20140623T000000  402101.0         2       0.75   \n",
              "21611   291310100  20150116T000000  400000.0         3       2.50   \n",
              "21612  1523300157  20141015T000000  325000.0         2       0.75   \n",
              "\n",
              "       sqft_living  sqft_lot  floors  waterfront  view  ...  grade  \\\n",
              "0             1180      5650     1.0           0     0  ...      7   \n",
              "1             2570      7242     2.0           0     0  ...      7   \n",
              "2              770     10000     1.0           0     0  ...      6   \n",
              "3             1960      5000     1.0           0     0  ...      7   \n",
              "4             1680      8080     1.0           0     0  ...      8   \n",
              "...            ...       ...     ...         ...   ...  ...    ...   \n",
              "21608         1530      1131     3.0           0     0  ...      8   \n",
              "21609         2310      5813     2.0           0     0  ...      8   \n",
              "21610         1020      1350     2.0           0     0  ...      7   \n",
              "21611         1600      2388     2.0           0     0  ...      8   \n",
              "21612         1020      1076     2.0           0     0  ...      7   \n",
              "\n",
              "       sqft_above  sqft_basement  yr_built  yr_renovated  zipcode      lat  \\\n",
              "0            1180              0      1955             0    98178  47.5112   \n",
              "1            2170            400      1951          1991    98125  47.7210   \n",
              "2             770              0      1933             0    98028  47.7379   \n",
              "3            1050            910      1965             0    98136  47.5208   \n",
              "4            1680              0      1987             0    98074  47.6168   \n",
              "...           ...            ...       ...           ...      ...      ...   \n",
              "21608        1530              0      2009             0    98103  47.6993   \n",
              "21609        2310              0      2014             0    98146  47.5107   \n",
              "21610        1020              0      2009             0    98144  47.5944   \n",
              "21611        1600              0      2004             0    98027  47.5345   \n",
              "21612        1020              0      2008             0    98144  47.5941   \n",
              "\n",
              "          long  sqft_living15  sqft_lot15  \n",
              "0     -122.257           1340        5650  \n",
              "1     -122.319           1690        7639  \n",
              "2     -122.233           2720        8062  \n",
              "3     -122.393           1360        5000  \n",
              "4     -122.045           1800        7503  \n",
              "...        ...            ...         ...  \n",
              "21608 -122.346           1530        1509  \n",
              "21609 -122.362           1830        7200  \n",
              "21610 -122.299           1020        2007  \n",
              "21611 -122.069           1410        1287  \n",
              "21612 -122.299           1020        1357  \n",
              "\n",
              "[21613 rows x 21 columns]"
            ],
            "text/html": [
              "\n",
              "  <div id=\"df-5c59d3f2-5339-4ae7-8fd7-a2caa08b6897\">\n",
              "    <div class=\"colab-df-container\">\n",
              "      <div>\n",
              "<style scoped>\n",
              "    .dataframe tbody tr th:only-of-type {\n",
              "        vertical-align: middle;\n",
              "    }\n",
              "\n",
              "    .dataframe tbody tr th {\n",
              "        vertical-align: top;\n",
              "    }\n",
              "\n",
              "    .dataframe thead th {\n",
              "        text-align: right;\n",
              "    }\n",
              "</style>\n",
              "<table border=\"1\" class=\"dataframe\">\n",
              "  <thead>\n",
              "    <tr style=\"text-align: right;\">\n",
              "      <th></th>\n",
              "      <th>id</th>\n",
              "      <th>date</th>\n",
              "      <th>price</th>\n",
              "      <th>bedrooms</th>\n",
              "      <th>bathrooms</th>\n",
              "      <th>sqft_living</th>\n",
              "      <th>sqft_lot</th>\n",
              "      <th>floors</th>\n",
              "      <th>waterfront</th>\n",
              "      <th>view</th>\n",
              "      <th>...</th>\n",
              "      <th>grade</th>\n",
              "      <th>sqft_above</th>\n",
              "      <th>sqft_basement</th>\n",
              "      <th>yr_built</th>\n",
              "      <th>yr_renovated</th>\n",
              "      <th>zipcode</th>\n",
              "      <th>lat</th>\n",
              "      <th>long</th>\n",
              "      <th>sqft_living15</th>\n",
              "      <th>sqft_lot15</th>\n",
              "    </tr>\n",
              "  </thead>\n",
              "  <tbody>\n",
              "    <tr>\n",
              "      <th>0</th>\n",
              "      <td>7129300520</td>\n",
              "      <td>20141013T000000</td>\n",
              "      <td>221900.0</td>\n",
              "      <td>3</td>\n",
              "      <td>1.00</td>\n",
              "      <td>1180</td>\n",
              "      <td>5650</td>\n",
              "      <td>1.0</td>\n",
              "      <td>0</td>\n",
              "      <td>0</td>\n",
              "      <td>...</td>\n",
              "      <td>7</td>\n",
              "      <td>1180</td>\n",
              "      <td>0</td>\n",
              "      <td>1955</td>\n",
              "      <td>0</td>\n",
              "      <td>98178</td>\n",
              "      <td>47.5112</td>\n",
              "      <td>-122.257</td>\n",
              "      <td>1340</td>\n",
              "      <td>5650</td>\n",
              "    </tr>\n",
              "    <tr>\n",
              "      <th>1</th>\n",
              "      <td>6414100192</td>\n",
              "      <td>20141209T000000</td>\n",
              "      <td>538000.0</td>\n",
              "      <td>3</td>\n",
              "      <td>2.25</td>\n",
              "      <td>2570</td>\n",
              "      <td>7242</td>\n",
              "      <td>2.0</td>\n",
              "      <td>0</td>\n",
              "      <td>0</td>\n",
              "      <td>...</td>\n",
              "      <td>7</td>\n",
              "      <td>2170</td>\n",
              "      <td>400</td>\n",
              "      <td>1951</td>\n",
              "      <td>1991</td>\n",
              "      <td>98125</td>\n",
              "      <td>47.7210</td>\n",
              "      <td>-122.319</td>\n",
              "      <td>1690</td>\n",
              "      <td>7639</td>\n",
              "    </tr>\n",
              "    <tr>\n",
              "      <th>2</th>\n",
              "      <td>5631500400</td>\n",
              "      <td>20150225T000000</td>\n",
              "      <td>180000.0</td>\n",
              "      <td>2</td>\n",
              "      <td>1.00</td>\n",
              "      <td>770</td>\n",
              "      <td>10000</td>\n",
              "      <td>1.0</td>\n",
              "      <td>0</td>\n",
              "      <td>0</td>\n",
              "      <td>...</td>\n",
              "      <td>6</td>\n",
              "      <td>770</td>\n",
              "      <td>0</td>\n",
              "      <td>1933</td>\n",
              "      <td>0</td>\n",
              "      <td>98028</td>\n",
              "      <td>47.7379</td>\n",
              "      <td>-122.233</td>\n",
              "      <td>2720</td>\n",
              "      <td>8062</td>\n",
              "    </tr>\n",
              "    <tr>\n",
              "      <th>3</th>\n",
              "      <td>2487200875</td>\n",
              "      <td>20141209T000000</td>\n",
              "      <td>604000.0</td>\n",
              "      <td>4</td>\n",
              "      <td>3.00</td>\n",
              "      <td>1960</td>\n",
              "      <td>5000</td>\n",
              "      <td>1.0</td>\n",
              "      <td>0</td>\n",
              "      <td>0</td>\n",
              "      <td>...</td>\n",
              "      <td>7</td>\n",
              "      <td>1050</td>\n",
              "      <td>910</td>\n",
              "      <td>1965</td>\n",
              "      <td>0</td>\n",
              "      <td>98136</td>\n",
              "      <td>47.5208</td>\n",
              "      <td>-122.393</td>\n",
              "      <td>1360</td>\n",
              "      <td>5000</td>\n",
              "    </tr>\n",
              "    <tr>\n",
              "      <th>4</th>\n",
              "      <td>1954400510</td>\n",
              "      <td>20150218T000000</td>\n",
              "      <td>510000.0</td>\n",
              "      <td>3</td>\n",
              "      <td>2.00</td>\n",
              "      <td>1680</td>\n",
              "      <td>8080</td>\n",
              "      <td>1.0</td>\n",
              "      <td>0</td>\n",
              "      <td>0</td>\n",
              "      <td>...</td>\n",
              "      <td>8</td>\n",
              "      <td>1680</td>\n",
              "      <td>0</td>\n",
              "      <td>1987</td>\n",
              "      <td>0</td>\n",
              "      <td>98074</td>\n",
              "      <td>47.6168</td>\n",
              "      <td>-122.045</td>\n",
              "      <td>1800</td>\n",
              "      <td>7503</td>\n",
              "    </tr>\n",
              "    <tr>\n",
              "      <th>...</th>\n",
              "      <td>...</td>\n",
              "      <td>...</td>\n",
              "      <td>...</td>\n",
              "      <td>...</td>\n",
              "      <td>...</td>\n",
              "      <td>...</td>\n",
              "      <td>...</td>\n",
              "      <td>...</td>\n",
              "      <td>...</td>\n",
              "      <td>...</td>\n",
              "      <td>...</td>\n",
              "      <td>...</td>\n",
              "      <td>...</td>\n",
              "      <td>...</td>\n",
              "      <td>...</td>\n",
              "      <td>...</td>\n",
              "      <td>...</td>\n",
              "      <td>...</td>\n",
              "      <td>...</td>\n",
              "      <td>...</td>\n",
              "      <td>...</td>\n",
              "    </tr>\n",
              "    <tr>\n",
              "      <th>21608</th>\n",
              "      <td>263000018</td>\n",
              "      <td>20140521T000000</td>\n",
              "      <td>360000.0</td>\n",
              "      <td>3</td>\n",
              "      <td>2.50</td>\n",
              "      <td>1530</td>\n",
              "      <td>1131</td>\n",
              "      <td>3.0</td>\n",
              "      <td>0</td>\n",
              "      <td>0</td>\n",
              "      <td>...</td>\n",
              "      <td>8</td>\n",
              "      <td>1530</td>\n",
              "      <td>0</td>\n",
              "      <td>2009</td>\n",
              "      <td>0</td>\n",
              "      <td>98103</td>\n",
              "      <td>47.6993</td>\n",
              "      <td>-122.346</td>\n",
              "      <td>1530</td>\n",
              "      <td>1509</td>\n",
              "    </tr>\n",
              "    <tr>\n",
              "      <th>21609</th>\n",
              "      <td>6600060120</td>\n",
              "      <td>20150223T000000</td>\n",
              "      <td>400000.0</td>\n",
              "      <td>4</td>\n",
              "      <td>2.50</td>\n",
              "      <td>2310</td>\n",
              "      <td>5813</td>\n",
              "      <td>2.0</td>\n",
              "      <td>0</td>\n",
              "      <td>0</td>\n",
              "      <td>...</td>\n",
              "      <td>8</td>\n",
              "      <td>2310</td>\n",
              "      <td>0</td>\n",
              "      <td>2014</td>\n",
              "      <td>0</td>\n",
              "      <td>98146</td>\n",
              "      <td>47.5107</td>\n",
              "      <td>-122.362</td>\n",
              "      <td>1830</td>\n",
              "      <td>7200</td>\n",
              "    </tr>\n",
              "    <tr>\n",
              "      <th>21610</th>\n",
              "      <td>1523300141</td>\n",
              "      <td>20140623T000000</td>\n",
              "      <td>402101.0</td>\n",
              "      <td>2</td>\n",
              "      <td>0.75</td>\n",
              "      <td>1020</td>\n",
              "      <td>1350</td>\n",
              "      <td>2.0</td>\n",
              "      <td>0</td>\n",
              "      <td>0</td>\n",
              "      <td>...</td>\n",
              "      <td>7</td>\n",
              "      <td>1020</td>\n",
              "      <td>0</td>\n",
              "      <td>2009</td>\n",
              "      <td>0</td>\n",
              "      <td>98144</td>\n",
              "      <td>47.5944</td>\n",
              "      <td>-122.299</td>\n",
              "      <td>1020</td>\n",
              "      <td>2007</td>\n",
              "    </tr>\n",
              "    <tr>\n",
              "      <th>21611</th>\n",
              "      <td>291310100</td>\n",
              "      <td>20150116T000000</td>\n",
              "      <td>400000.0</td>\n",
              "      <td>3</td>\n",
              "      <td>2.50</td>\n",
              "      <td>1600</td>\n",
              "      <td>2388</td>\n",
              "      <td>2.0</td>\n",
              "      <td>0</td>\n",
              "      <td>0</td>\n",
              "      <td>...</td>\n",
              "      <td>8</td>\n",
              "      <td>1600</td>\n",
              "      <td>0</td>\n",
              "      <td>2004</td>\n",
              "      <td>0</td>\n",
              "      <td>98027</td>\n",
              "      <td>47.5345</td>\n",
              "      <td>-122.069</td>\n",
              "      <td>1410</td>\n",
              "      <td>1287</td>\n",
              "    </tr>\n",
              "    <tr>\n",
              "      <th>21612</th>\n",
              "      <td>1523300157</td>\n",
              "      <td>20141015T000000</td>\n",
              "      <td>325000.0</td>\n",
              "      <td>2</td>\n",
              "      <td>0.75</td>\n",
              "      <td>1020</td>\n",
              "      <td>1076</td>\n",
              "      <td>2.0</td>\n",
              "      <td>0</td>\n",
              "      <td>0</td>\n",
              "      <td>...</td>\n",
              "      <td>7</td>\n",
              "      <td>1020</td>\n",
              "      <td>0</td>\n",
              "      <td>2008</td>\n",
              "      <td>0</td>\n",
              "      <td>98144</td>\n",
              "      <td>47.5941</td>\n",
              "      <td>-122.299</td>\n",
              "      <td>1020</td>\n",
              "      <td>1357</td>\n",
              "    </tr>\n",
              "  </tbody>\n",
              "</table>\n",
              "<p>21613 rows × 21 columns</p>\n",
              "</div>\n",
              "      <button class=\"colab-df-convert\" onclick=\"convertToInteractive('df-5c59d3f2-5339-4ae7-8fd7-a2caa08b6897')\"\n",
              "              title=\"Convert this dataframe to an interactive table.\"\n",
              "              style=\"display:none;\">\n",
              "        \n",
              "  <svg xmlns=\"http://www.w3.org/2000/svg\" height=\"24px\"viewBox=\"0 0 24 24\"\n",
              "       width=\"24px\">\n",
              "    <path d=\"M0 0h24v24H0V0z\" fill=\"none\"/>\n",
              "    <path d=\"M18.56 5.44l.94 2.06.94-2.06 2.06-.94-2.06-.94-.94-2.06-.94 2.06-2.06.94zm-11 1L8.5 8.5l.94-2.06 2.06-.94-2.06-.94L8.5 2.5l-.94 2.06-2.06.94zm10 10l.94 2.06.94-2.06 2.06-.94-2.06-.94-.94-2.06-.94 2.06-2.06.94z\"/><path d=\"M17.41 7.96l-1.37-1.37c-.4-.4-.92-.59-1.43-.59-.52 0-1.04.2-1.43.59L10.3 9.45l-7.72 7.72c-.78.78-.78 2.05 0 2.83L4 21.41c.39.39.9.59 1.41.59.51 0 1.02-.2 1.41-.59l7.78-7.78 2.81-2.81c.8-.78.8-2.07 0-2.86zM5.41 20L4 18.59l7.72-7.72 1.47 1.35L5.41 20z\"/>\n",
              "  </svg>\n",
              "      </button>\n",
              "      \n",
              "  <style>\n",
              "    .colab-df-container {\n",
              "      display:flex;\n",
              "      flex-wrap:wrap;\n",
              "      gap: 12px;\n",
              "    }\n",
              "\n",
              "    .colab-df-convert {\n",
              "      background-color: #E8F0FE;\n",
              "      border: none;\n",
              "      border-radius: 50%;\n",
              "      cursor: pointer;\n",
              "      display: none;\n",
              "      fill: #1967D2;\n",
              "      height: 32px;\n",
              "      padding: 0 0 0 0;\n",
              "      width: 32px;\n",
              "    }\n",
              "\n",
              "    .colab-df-convert:hover {\n",
              "      background-color: #E2EBFA;\n",
              "      box-shadow: 0px 1px 2px rgba(60, 64, 67, 0.3), 0px 1px 3px 1px rgba(60, 64, 67, 0.15);\n",
              "      fill: #174EA6;\n",
              "    }\n",
              "\n",
              "    [theme=dark] .colab-df-convert {\n",
              "      background-color: #3B4455;\n",
              "      fill: #D2E3FC;\n",
              "    }\n",
              "\n",
              "    [theme=dark] .colab-df-convert:hover {\n",
              "      background-color: #434B5C;\n",
              "      box-shadow: 0px 1px 3px 1px rgba(0, 0, 0, 0.15);\n",
              "      filter: drop-shadow(0px 1px 2px rgba(0, 0, 0, 0.3));\n",
              "      fill: #FFFFFF;\n",
              "    }\n",
              "  </style>\n",
              "\n",
              "      <script>\n",
              "        const buttonEl =\n",
              "          document.querySelector('#df-5c59d3f2-5339-4ae7-8fd7-a2caa08b6897 button.colab-df-convert');\n",
              "        buttonEl.style.display =\n",
              "          google.colab.kernel.accessAllowed ? 'block' : 'none';\n",
              "\n",
              "        async function convertToInteractive(key) {\n",
              "          const element = document.querySelector('#df-5c59d3f2-5339-4ae7-8fd7-a2caa08b6897');\n",
              "          const dataTable =\n",
              "            await google.colab.kernel.invokeFunction('convertToInteractive',\n",
              "                                                     [key], {});\n",
              "          if (!dataTable) return;\n",
              "\n",
              "          const docLinkHtml = 'Like what you see? Visit the ' +\n",
              "            '<a target=\"_blank\" href=https://colab.research.google.com/notebooks/data_table.ipynb>data table notebook</a>'\n",
              "            + ' to learn more about interactive tables.';\n",
              "          element.innerHTML = '';\n",
              "          dataTable['output_type'] = 'display_data';\n",
              "          await google.colab.output.renderOutput(dataTable, element);\n",
              "          const docLink = document.createElement('div');\n",
              "          docLink.innerHTML = docLinkHtml;\n",
              "          element.appendChild(docLink);\n",
              "        }\n",
              "      </script>\n",
              "    </div>\n",
              "  </div>\n",
              "  "
            ]
          },
          "metadata": {},
          "execution_count": 25
        }
      ],
      "source": [
        "data = pd.read_csv(\"/content/drive/MyDrive/Classroom/DS mAIstros/datasets/kc_house_data.csv\")\n",
        "data"
      ]
    },
    {
      "cell_type": "code",
      "execution_count": null,
      "id": "bab691eb",
      "metadata": {
        "colab": {
          "base_uri": "https://localhost:8080/"
        },
        "id": "bab691eb",
        "outputId": "50079831-7b0d-4aa0-988a-5883254fca5e"
      },
      "outputs": [
        {
          "output_type": "execute_result",
          "data": {
            "text/plain": [
              "Index(['id', 'date', 'price', 'bedrooms', 'bathrooms', 'sqft_living',\n",
              "       'sqft_lot', 'floors', 'waterfront', 'view', 'condition', 'grade',\n",
              "       'sqft_above', 'sqft_basement', 'yr_built', 'yr_renovated', 'zipcode',\n",
              "       'lat', 'long', 'sqft_living15', 'sqft_lot15'],\n",
              "      dtype='object')"
            ]
          },
          "metadata": {},
          "execution_count": 26
        }
      ],
      "source": [
        "data.columns"
      ]
    },
    {
      "cell_type": "code",
      "execution_count": null,
      "id": "cb973bf0",
      "metadata": {
        "colab": {
          "base_uri": "https://localhost:8080/",
          "height": 423
        },
        "id": "cb973bf0",
        "outputId": "9611e24f-388c-44d5-e992-f8e8d696ed77"
      },
      "outputs": [
        {
          "output_type": "execute_result",
          "data": {
            "text/plain": [
              "          price  bedrooms  bathrooms  condition  sqft_above\n",
              "0      221900.0         3       1.00          3        1180\n",
              "1      538000.0         3       2.25          3        2170\n",
              "2      180000.0         2       1.00          3         770\n",
              "3      604000.0         4       3.00          5        1050\n",
              "4      510000.0         3       2.00          3        1680\n",
              "...         ...       ...        ...        ...         ...\n",
              "21608  360000.0         3       2.50          3        1530\n",
              "21609  400000.0         4       2.50          3        2310\n",
              "21610  402101.0         2       0.75          3        1020\n",
              "21611  400000.0         3       2.50          3        1600\n",
              "21612  325000.0         2       0.75          3        1020\n",
              "\n",
              "[21613 rows x 5 columns]"
            ],
            "text/html": [
              "\n",
              "  <div id=\"df-395f06f8-4edf-49d7-878e-f12daea69a79\">\n",
              "    <div class=\"colab-df-container\">\n",
              "      <div>\n",
              "<style scoped>\n",
              "    .dataframe tbody tr th:only-of-type {\n",
              "        vertical-align: middle;\n",
              "    }\n",
              "\n",
              "    .dataframe tbody tr th {\n",
              "        vertical-align: top;\n",
              "    }\n",
              "\n",
              "    .dataframe thead th {\n",
              "        text-align: right;\n",
              "    }\n",
              "</style>\n",
              "<table border=\"1\" class=\"dataframe\">\n",
              "  <thead>\n",
              "    <tr style=\"text-align: right;\">\n",
              "      <th></th>\n",
              "      <th>price</th>\n",
              "      <th>bedrooms</th>\n",
              "      <th>bathrooms</th>\n",
              "      <th>condition</th>\n",
              "      <th>sqft_above</th>\n",
              "    </tr>\n",
              "  </thead>\n",
              "  <tbody>\n",
              "    <tr>\n",
              "      <th>0</th>\n",
              "      <td>221900.0</td>\n",
              "      <td>3</td>\n",
              "      <td>1.00</td>\n",
              "      <td>3</td>\n",
              "      <td>1180</td>\n",
              "    </tr>\n",
              "    <tr>\n",
              "      <th>1</th>\n",
              "      <td>538000.0</td>\n",
              "      <td>3</td>\n",
              "      <td>2.25</td>\n",
              "      <td>3</td>\n",
              "      <td>2170</td>\n",
              "    </tr>\n",
              "    <tr>\n",
              "      <th>2</th>\n",
              "      <td>180000.0</td>\n",
              "      <td>2</td>\n",
              "      <td>1.00</td>\n",
              "      <td>3</td>\n",
              "      <td>770</td>\n",
              "    </tr>\n",
              "    <tr>\n",
              "      <th>3</th>\n",
              "      <td>604000.0</td>\n",
              "      <td>4</td>\n",
              "      <td>3.00</td>\n",
              "      <td>5</td>\n",
              "      <td>1050</td>\n",
              "    </tr>\n",
              "    <tr>\n",
              "      <th>4</th>\n",
              "      <td>510000.0</td>\n",
              "      <td>3</td>\n",
              "      <td>2.00</td>\n",
              "      <td>3</td>\n",
              "      <td>1680</td>\n",
              "    </tr>\n",
              "    <tr>\n",
              "      <th>...</th>\n",
              "      <td>...</td>\n",
              "      <td>...</td>\n",
              "      <td>...</td>\n",
              "      <td>...</td>\n",
              "      <td>...</td>\n",
              "    </tr>\n",
              "    <tr>\n",
              "      <th>21608</th>\n",
              "      <td>360000.0</td>\n",
              "      <td>3</td>\n",
              "      <td>2.50</td>\n",
              "      <td>3</td>\n",
              "      <td>1530</td>\n",
              "    </tr>\n",
              "    <tr>\n",
              "      <th>21609</th>\n",
              "      <td>400000.0</td>\n",
              "      <td>4</td>\n",
              "      <td>2.50</td>\n",
              "      <td>3</td>\n",
              "      <td>2310</td>\n",
              "    </tr>\n",
              "    <tr>\n",
              "      <th>21610</th>\n",
              "      <td>402101.0</td>\n",
              "      <td>2</td>\n",
              "      <td>0.75</td>\n",
              "      <td>3</td>\n",
              "      <td>1020</td>\n",
              "    </tr>\n",
              "    <tr>\n",
              "      <th>21611</th>\n",
              "      <td>400000.0</td>\n",
              "      <td>3</td>\n",
              "      <td>2.50</td>\n",
              "      <td>3</td>\n",
              "      <td>1600</td>\n",
              "    </tr>\n",
              "    <tr>\n",
              "      <th>21612</th>\n",
              "      <td>325000.0</td>\n",
              "      <td>2</td>\n",
              "      <td>0.75</td>\n",
              "      <td>3</td>\n",
              "      <td>1020</td>\n",
              "    </tr>\n",
              "  </tbody>\n",
              "</table>\n",
              "<p>21613 rows × 5 columns</p>\n",
              "</div>\n",
              "      <button class=\"colab-df-convert\" onclick=\"convertToInteractive('df-395f06f8-4edf-49d7-878e-f12daea69a79')\"\n",
              "              title=\"Convert this dataframe to an interactive table.\"\n",
              "              style=\"display:none;\">\n",
              "        \n",
              "  <svg xmlns=\"http://www.w3.org/2000/svg\" height=\"24px\"viewBox=\"0 0 24 24\"\n",
              "       width=\"24px\">\n",
              "    <path d=\"M0 0h24v24H0V0z\" fill=\"none\"/>\n",
              "    <path d=\"M18.56 5.44l.94 2.06.94-2.06 2.06-.94-2.06-.94-.94-2.06-.94 2.06-2.06.94zm-11 1L8.5 8.5l.94-2.06 2.06-.94-2.06-.94L8.5 2.5l-.94 2.06-2.06.94zm10 10l.94 2.06.94-2.06 2.06-.94-2.06-.94-.94-2.06-.94 2.06-2.06.94z\"/><path d=\"M17.41 7.96l-1.37-1.37c-.4-.4-.92-.59-1.43-.59-.52 0-1.04.2-1.43.59L10.3 9.45l-7.72 7.72c-.78.78-.78 2.05 0 2.83L4 21.41c.39.39.9.59 1.41.59.51 0 1.02-.2 1.41-.59l7.78-7.78 2.81-2.81c.8-.78.8-2.07 0-2.86zM5.41 20L4 18.59l7.72-7.72 1.47 1.35L5.41 20z\"/>\n",
              "  </svg>\n",
              "      </button>\n",
              "      \n",
              "  <style>\n",
              "    .colab-df-container {\n",
              "      display:flex;\n",
              "      flex-wrap:wrap;\n",
              "      gap: 12px;\n",
              "    }\n",
              "\n",
              "    .colab-df-convert {\n",
              "      background-color: #E8F0FE;\n",
              "      border: none;\n",
              "      border-radius: 50%;\n",
              "      cursor: pointer;\n",
              "      display: none;\n",
              "      fill: #1967D2;\n",
              "      height: 32px;\n",
              "      padding: 0 0 0 0;\n",
              "      width: 32px;\n",
              "    }\n",
              "\n",
              "    .colab-df-convert:hover {\n",
              "      background-color: #E2EBFA;\n",
              "      box-shadow: 0px 1px 2px rgba(60, 64, 67, 0.3), 0px 1px 3px 1px rgba(60, 64, 67, 0.15);\n",
              "      fill: #174EA6;\n",
              "    }\n",
              "\n",
              "    [theme=dark] .colab-df-convert {\n",
              "      background-color: #3B4455;\n",
              "      fill: #D2E3FC;\n",
              "    }\n",
              "\n",
              "    [theme=dark] .colab-df-convert:hover {\n",
              "      background-color: #434B5C;\n",
              "      box-shadow: 0px 1px 3px 1px rgba(0, 0, 0, 0.15);\n",
              "      filter: drop-shadow(0px 1px 2px rgba(0, 0, 0, 0.3));\n",
              "      fill: #FFFFFF;\n",
              "    }\n",
              "  </style>\n",
              "\n",
              "      <script>\n",
              "        const buttonEl =\n",
              "          document.querySelector('#df-395f06f8-4edf-49d7-878e-f12daea69a79 button.colab-df-convert');\n",
              "        buttonEl.style.display =\n",
              "          google.colab.kernel.accessAllowed ? 'block' : 'none';\n",
              "\n",
              "        async function convertToInteractive(key) {\n",
              "          const element = document.querySelector('#df-395f06f8-4edf-49d7-878e-f12daea69a79');\n",
              "          const dataTable =\n",
              "            await google.colab.kernel.invokeFunction('convertToInteractive',\n",
              "                                                     [key], {});\n",
              "          if (!dataTable) return;\n",
              "\n",
              "          const docLinkHtml = 'Like what you see? Visit the ' +\n",
              "            '<a target=\"_blank\" href=https://colab.research.google.com/notebooks/data_table.ipynb>data table notebook</a>'\n",
              "            + ' to learn more about interactive tables.';\n",
              "          element.innerHTML = '';\n",
              "          dataTable['output_type'] = 'display_data';\n",
              "          await google.colab.output.renderOutput(dataTable, element);\n",
              "          const docLink = document.createElement('div');\n",
              "          docLink.innerHTML = docLinkHtml;\n",
              "          element.appendChild(docLink);\n",
              "        }\n",
              "      </script>\n",
              "    </div>\n",
              "  </div>\n",
              "  "
            ]
          },
          "metadata": {},
          "execution_count": 27
        }
      ],
      "source": [
        "X = data[['price','bedrooms','bathrooms','condition','sqft_above']].copy()\n",
        "X"
      ]
    },
    {
      "cell_type": "code",
      "execution_count": null,
      "id": "90a5260f",
      "metadata": {
        "id": "90a5260f"
      },
      "outputs": [],
      "source": [
        "X = X.to_numpy()"
      ]
    },
    {
      "cell_type": "code",
      "execution_count": null,
      "id": "9796f1bf",
      "metadata": {
        "id": "9796f1bf"
      },
      "outputs": [],
      "source": [
        "y = X[:,0]"
      ]
    },
    {
      "cell_type": "code",
      "execution_count": null,
      "id": "011bca2e",
      "metadata": {
        "colab": {
          "base_uri": "https://localhost:8080/"
        },
        "id": "011bca2e",
        "outputId": "d9681e6b-b236-4cad-8453-8463149de59a"
      },
      "outputs": [
        {
          "output_type": "execute_result",
          "data": {
            "text/plain": [
              "array([[3.00e+00, 1.00e+00, 3.00e+00, 1.18e+03],\n",
              "       [3.00e+00, 2.25e+00, 3.00e+00, 2.17e+03],\n",
              "       [2.00e+00, 1.00e+00, 3.00e+00, 7.70e+02],\n",
              "       ...,\n",
              "       [2.00e+00, 7.50e-01, 3.00e+00, 1.02e+03],\n",
              "       [3.00e+00, 2.50e+00, 3.00e+00, 1.60e+03],\n",
              "       [2.00e+00, 7.50e-01, 3.00e+00, 1.02e+03]])"
            ]
          },
          "metadata": {},
          "execution_count": 30
        }
      ],
      "source": [
        "X=X[:,1:]\n",
        "X"
      ]
    },
    {
      "cell_type": "code",
      "execution_count": null,
      "id": "cf276b52",
      "metadata": {
        "colab": {
          "base_uri": "https://localhost:8080/"
        },
        "id": "cf276b52",
        "outputId": "34118bfa-1aa5-4f5f-d993-0a66547b8500"
      },
      "outputs": [
        {
          "output_type": "execute_result",
          "data": {
            "text/plain": [
              "array([221900., 538000., 180000., ..., 402101., 400000., 325000.])"
            ]
          },
          "metadata": {},
          "execution_count": 31
        }
      ],
      "source": [
        "y"
      ]
    },
    {
      "cell_type": "code",
      "execution_count": null,
      "id": "b86e41e0",
      "metadata": {
        "colab": {
          "base_uri": "https://localhost:8080/",
          "height": 295
        },
        "id": "b86e41e0",
        "outputId": "257f6ae0-f99f-4d8d-e1dc-7bd4328f70fa"
      },
      "outputs": [
        {
          "output_type": "display_data",
          "data": {
            "text/plain": [
              "<Figure size 432x288 with 1 Axes>"
            ],
            "image/png": "[encoded data removed]"
          },
          "metadata": {
            "needs_background": "light"
          }
        }
      ],
      "source": [
        "myReg.fit(X,y, epochs=5e4, eta=1e-10, show_curve=True)"
      ]
    },
    {
      "cell_type": "code",
      "execution_count": null,
      "id": "c978e07b",
      "metadata": {
        "id": "c978e07b"
      },
      "outputs": [],
      "source": [
        "Xtest = np.array([[3,2,3,2000]])"
      ]
    },
    {
      "cell_type": "code",
      "execution_count": null,
      "id": "2e6d44b3",
      "metadata": {
        "colab": {
          "base_uri": "https://localhost:8080/"
        },
        "id": "2e6d44b3",
        "outputId": "e3c5236f-6ec0-48d3-b0d4-0a3c9dda23ff"
      },
      "outputs": [
        {
          "output_type": "execute_result",
          "data": {
            "text/plain": [
              "array([592303.61847983])"
            ]
          },
          "metadata": {},
          "execution_count": 34
        }
      ],
      "source": [
        "myReg.predict(Xtest)"
      ]
    },
    {
      "cell_type": "markdown",
      "source": [
        "# Introduction to geospace analysis"
      ],
      "metadata": {
        "id": "In7dBHqj2Fza"
      },
      "id": "In7dBHqj2Fza"
    },
    {
      "cell_type": "code",
      "source": [
        "from geopy import Nominatim"
      ],
      "metadata": {
        "id": "uRbGC83o2Lc0"
      },
      "id": "uRbGC83o2Lc0",
      "execution_count": null,
      "outputs": []
    },
    {
      "cell_type": "code",
      "source": [
        "geolocator = Nominatim(user_agent=\"mAIstros\")"
      ],
      "metadata": {
        "id": "9G3IQt8-2R2h"
      },
      "id": "9G3IQt8-2R2h",
      "execution_count": null,
      "outputs": []
    },
    {
      "cell_type": "code",
      "source": [
        "location = geolocator.geocode(\"1785 The Exchange SE, Atlanta\")"
      ],
      "metadata": {
        "id": "9hIGk2Zd2iBq"
      },
      "id": "9hIGk2Zd2iBq",
      "execution_count": null,
      "outputs": []
    },
    {
      "cell_type": "code",
      "source": [
        "location"
      ],
      "metadata": {
        "colab": {
          "base_uri": "https://localhost:8080/"
        },
        "id": "5x4ZZJq42z2v",
        "outputId": "f2569ba0-0516-4f2a-de14-8b45fa9edbec"
      },
      "id": "5x4ZZJq42z2v",
      "execution_count": null,
      "outputs": [
        {
          "output_type": "execute_result",
          "data": {
            "text/plain": [
              "Location(1785, The Exchange Southeast, Atlanta, Cobb County, Georgia, 30339, United States, (33.90915665, -84.47914869915438, 0.0))"
            ]
          },
          "metadata": {},
          "execution_count": 5
        }
      ]
    },
    {
      "cell_type": "code",
      "source": [
        "location.address"
      ],
      "metadata": {
        "colab": {
          "base_uri": "https://localhost:8080/",
          "height": 36
        },
        "id": "0FvvIVBW23OD",
        "outputId": "32074202-60e5-48aa-a222-4fbb0e3f8b8e"
      },
      "id": "0FvvIVBW23OD",
      "execution_count": null,
      "outputs": [
        {
          "output_type": "execute_result",
          "data": {
            "text/plain": [
              "'1785, The Exchange Southeast, Atlanta, Cobb County, Georgia, 30339, United States'"
            ],
            "application/vnd.google.colaboratory.intrinsic+json": {
              "type": "string"
            }
          },
          "metadata": {},
          "execution_count": 7
        }
      ]
    },
    {
      "cell_type": "code",
      "source": [
        "location = geolocator.geocode(\"10 Downing Street\")"
      ],
      "metadata": {
        "id": "SUkgcPDv3Ltf"
      },
      "id": "SUkgcPDv3Ltf",
      "execution_count": null,
      "outputs": []
    },
    {
      "cell_type": "code",
      "source": [
        "location"
      ],
      "metadata": {
        "colab": {
          "base_uri": "https://localhost:8080/"
        },
        "id": "KHX4zf9i3qJz",
        "outputId": "f6dbe1e2-d38b-4354-ab22-e4dd4c04b533"
      },
      "id": "KHX4zf9i3qJz",
      "execution_count": null,
      "outputs": [
        {
          "output_type": "execute_result",
          "data": {
            "text/plain": [
              "Location(10 Downing Street, 10, Downing Street, Westminster, Covent Garden, London, Greater London, England, SW1A 2AA, United Kingdom, (51.5034927, -0.12770540128798905, 0.0))"
            ]
          },
          "metadata": {},
          "execution_count": 9
        }
      ]
    },
    {
      "cell_type": "code",
      "source": [
        "a,b,c = location.point"
      ],
      "metadata": {
        "id": "F7qQa6sW3rI7"
      },
      "id": "F7qQa6sW3rI7",
      "execution_count": null,
      "outputs": []
    },
    {
      "cell_type": "code",
      "source": [
        "a"
      ],
      "metadata": {
        "colab": {
          "base_uri": "https://localhost:8080/"
        },
        "id": "T08iuctv40lR",
        "outputId": "933bf0b4-fa98-481b-8718-6d9d5c9cef3d"
      },
      "id": "T08iuctv40lR",
      "execution_count": null,
      "outputs": [
        {
          "output_type": "execute_result",
          "data": {
            "text/plain": [
              "51.5034927"
            ]
          },
          "metadata": {},
          "execution_count": 11
        }
      ]
    },
    {
      "cell_type": "code",
      "source": [
        "b"
      ],
      "metadata": {
        "colab": {
          "base_uri": "https://localhost:8080/"
        },
        "id": "PLhHOsVc41HO",
        "outputId": "3fe18931-ebd7-47b8-f21d-eefe2467b7dd"
      },
      "id": "PLhHOsVc41HO",
      "execution_count": null,
      "outputs": [
        {
          "output_type": "execute_result",
          "data": {
            "text/plain": [
              "-0.12770540128798905"
            ]
          },
          "metadata": {},
          "execution_count": 12
        }
      ]
    },
    {
      "cell_type": "code",
      "source": [
        "c"
      ],
      "metadata": {
        "colab": {
          "base_uri": "https://localhost:8080/"
        },
        "id": "0798sO-N41dA",
        "outputId": "37b7e965-4a98-464e-824f-e916dd024957"
      },
      "id": "0798sO-N41dA",
      "execution_count": null,
      "outputs": [
        {
          "output_type": "execute_result",
          "data": {
            "text/plain": [
              "0.0"
            ]
          },
          "metadata": {},
          "execution_count": 13
        }
      ]
    },
    {
      "cell_type": "markdown",
      "source": [
        "## Regularization\n",
        "There are 2 types of regularization. \\\\\n",
        "Punish the weihts to produce a more generalized prediction \\\\\n",
        "For OLS regression: \\\\"
      ],
      "metadata": {
        "id": "dsu7UgZYERlQ"
      },
      "id": "dsu7UgZYERlQ"
    },
    {
      "cell_type": "markdown",
      "source": [
        "![image.png](data:image/png;base64,iVBORw0KGgoAAAANSUhEUgAAApUAAADACAYAAABVjZjKAAAAAXNSR0IArs4c6QAAAARnQU1BAACxjwv8YQUAAAAJcEhZcwAAEnQAABJ0Ad5mH3gAAG8TSURBVHhe7Z0HYBRFF8cfvUPovRfpvQmKYAMRP0EFlSIoxUJTQAVUbIAdlWJBEQQUFAGRItUKIoiC9Ca995aE9G/+b2cuk+MSDnJJ7i7vR5bdnZ3dmz5v2psMcQoShCAhPOwyVatWlZYtW06Vq1Ris9CLoVS/fn36feVKKlKkMFEGNhYEQRAEwYdk1GdBCApyZM9OixYuosGDB1NcrGOWK08umv7VdPrkk49J2lCCIAiCkDKIUCkEFxmIqlWvRtmyZqXvZs1yzJQc2ahRI1qxfAX9t/s/x0wQBEEQBJ8iQqUQhGSg9957jz759BM6dvSYM9ytjo8+/ogmfTHJsQKk01IQBEEQfIYIlUJwoYTHDCpVlylXhnr06EGPPfYYnTl9hgXIGjVq0Lp16+jYESVoAiNUinApCIIgCMlGhEoh6IiLdaTELp270F133UUdH+hIoaGhLHA+0u0RmvnNN44gKalfEARBEHyGVKtC0JEhI8a7VeLOmJGeeuopFixxhIWGUZs2beiXX37m54IgCIIg+A4RKoXgAj2Q6uCV3yp1Z8qYifoP6E/33Xc/3XrrrRQdE83CpqwCFwRBSCZSjApuiJ5KITgxqdrptKSY6BhavHgxjR8/gU4cP04rfvqJQkLyKeHSmYMpCIIgJIIqJyEqZMigC1ScjJkeGRIEIEKlEPxYAiZWg+/fv58aN24shaEgCMK1oMrS48dP0Jkzp6l06dKUO3duV8NdEIAIlUJwg9SNQk8rQudrKQQFQRCujio/ISLExMTS33+v45GeU6dOUrZs2SgiIoI6tO9AvXr3pox2A13K13SNCJVCcKMLxSt6Jd1TvRSEgiAIVxAdGU2vj3ydli1dRsOHD6cbmzWjvHny0PETx2nkyJFUongJGvHKCKdMlXI03SNCpRD8JFHYYa5lpkyZpDAUBEHwQN8n+9Lhw4dp8uTJlL9gfjaD2jY01MPDwqnFzS1o2fLllC9fPp6fbp4J6RNZoiAEP0mUb5kyi0ApCILA2F1M6nrTxk20ectm+vzzzyl/gfwUG2PmETnkyJGD3njjDRo7diy51vDgQrqq0i0iVAqCIAiC4ACBUB2RkZHUqWMnev7556lQ4ULc+IbAyD2REBwhX6pTrdq1aObMGfyqCy1gCukPESoFQRAEQXCEQciLsbE0ZswYuqXlLbxhhBESIUzy0DbuIT0o4TNXrlx06NAhCg0NcwRSbVdIn8icSkEQBEEQnN5HJSzu2rGLmt/UnLZs2UKFixR2ngH9nNGSAwTQkJAQ2rlzJxUrXkwEy3SO9FQKgiAIguAIg0ooHD9hPI39cGxCgRK4CZSwj95L7FIWExMjAqUgQqUgCIIgCAolEJ44foLmz59P9913nzb0AARHLTyyyjYMi2O+JQY+jcAppEtEqBQEQRCE9I4WBhcsWECNGjWirNmyOmZXExItO6JKSBChUhAEQRDSO0oehMqgmTNn0pAhQxL0RiYlWEZERvDQd84cObWJ4mqCqBC0iFApCIIgCOkVSwDctnUbnb9wgerXb+AY4Jm7YOkmMB49epRq1KxJIQVCHANbGBXSHSJUCoIgCEJ6xBIa42KJJnw0ge5u25YyZdKigbtwqHVTgriYOIq4HEn9+/WnL76Y5HxLPYceS3fBU0g/iFApCIIgCOkVLQxCn/maP9fQAx0foIMHDlKsEhqvEA4tiQHD3j16dKcmTZtSlSo3sFmc+seK0YV0iwiVgiAIgpBe0TLgrp27KE/evFS2bFkaNHgQTZs2laIio64ULNX9qROnqE+fPlStWnUaPmyY07OpviMLdQRRfi4IgiAI6RVIAEoWfPKJJ+nw4cP0w/wf6MD+A/Tss89SWGgY3fO/e6hkyZKUN09eOnX6FG3fvp1Wr15NN910Ew0aNIgyZ87sfAfypP6W6yykO0SoFARBEIT0iK79seq7XPly9Oabb1LnLp3ZPDoqmv7b8x/NmT2HDh85QpcuXqQiRYtQ7dq16dZbb6MSxYsra3FO76TZacdIEyJQpltEqBQEQRCE9AgW1qh/J06cpDJlStOBAweoaNGiCXsbzVmDhTg8b9IWHN3sCOkXmVMpCIIgCOkRlg0z0JtvvkEtW7aMFyj1Mxte1a24QqAE7vdCukV6KgVBEAQhvaFr/rCwMCpQoCB9N2sWtftfO8fQYKQDS2jknkpZkCMkgvRUCoIgCEJ6A3KhOrDwJjY2hho1buyY22g7LFxqATOByiBlZnowBQGIUCkIgiAI6Q0tEH733WwqUrgIFS5cyCU4XoERLoElU+Jaei0FGxEqBUEQBCG9oWRBDH2PHz+Ohr8wnDKaXXQEIRlIKhIEQRCEdMi6devo8uXL1PnhztpEEJKHCJWCkNZgyEmmJQmCkNLY5Yy6XrBgAZUuVZpCCoQ4z2QkW0gmIlQKQhrD+hfswlwETEEQfI1bOYNyZ82atVSpciVtIgjJR4RKQUhjzp09q68U0lsgCEJK4FauREdH0dq1a6hbt26OAZ5Lg1ZIJiJUCkJaogrxp595mmKiY0SgFAQhZTFCozqHhoZxuXPHHXe4zAQhuYhQKQhpCPYeOLD/AGXKlEkESkEQUhZTxqgzdFOWLl3a2UVHEHyECJWCcD1YLX5DbEwsn13KgO2WfyK9ALGxseqRB/uCYEC6MIeNfW+eO0nQwTx3f08QVJooUKAAzfthXrygKelE8AEiVArC9eDeq6gKZKPnjZUBuxfQsA8zN/Pjx45TwYIFnefu3xQEg4f05jqba9hxL9HxTNKV4I4ub2rVruXcA6QdSStCMhGhUhB8DXqLVOEcHR3t3Bs8VPDHjh9zhEpbOBAEG/eK3k4neGYOY27SkjowvUIQvMKkG0FIBhlUoSPJSBCuB5NzTIWuzmboe9q0aTRlyhTq168/3Xd/h/gC2wgAQN0vmL+AVq1aRW+89YY2FAQPmLSDBktGosiISDpz5gwdPHiQ9u7dS/v37afwy+FO+lP2ataoSc1vak7FiheLf9ecBcETSB9A0oiQDKSnUhCuFxS+6vj7r78pPDycC2UMff+97m9auHAhTZk8hcaO/ZBio5UkALtmeAmFt577tm/fPipYqJBzYwp1cxYEd1QaGj92PDVv3pxefvkVWrlyFeXJnYfuvPNOuv++++mBjg/Qfffdx+nw/vsfoBlfzxBhQbg6SCO6PGOSUwZJ+ZWukZ5KQbgeTCGszg89+BDvnVu7Tm1W0dG0SVOaPGUy1axVk5YvW07jxo2jefP0hHi33NavXz+66aab6KGHH0rwTVfhLghAp5vz58/T1i1bqWzZslSkaBHKmCEjZciQwZnHa6cZ1Wg5dfoU9e/Xn8aOG0uFCxd2zIMtXdl5RfJNQq4WHrrXG6CHm9OQAe/i8NTtBHNgW8f7Kh1CnMCZkbhIl0hPpSBcDwnK3ziqUaMmX2/ZsoWaNW9O1avX4Pubb25BR48eo1MnT/E9v2cde/bspaJFtEoPmJkCWxAMlnCQL18+urHZjVSiZAnKnCUzZcyshMpM6qF+7kKV7IUKFaLiJUrw8LhJb0I6AvFthEODfW3SgzJLIFAquKvJvO8Jt7RkGjWu77g9F9IPIlQKQjJAyzxv3ryUSVXu0VEx9MTjT1D/fv0oIyp6RbZsWemdd96mqdOm8r1RO2Q4f/4cFSxUUN8p8JoUyIInTNow6QMVvqn07Wugr0+eOEEllGDJ90h6tp1gwN3fINj8mBySKk8sc5caNE0GSAZ4roxjomN5Cg/KrtgY1YRWZR6u49S1K/z1AfOIyxHqRkivyPC3IFwPyDWq0D2w7wCNnzCe3n77bdr470bq2asnrV271hkC0oV2ZEQUVa9ejdatW0ch+UMcQ039evVp/vz5VLJkSZd9QbgCnd68Qpfov/32G036fBJ9MfkLR7k+CLY0pv167tw52rp1KzVr3uzawipQ0f52+TMJP0PQgyaKqMgoioqOorDQMF7UdUI1OI4dO0ZhYWF09uxZCg0NpUuXLvFOO+dVeGIhGJ6BDBmdaRYZM6qDJU4Yqj9lljlTZsqVOxf17t2bIiIiqHz58lSpkt5P3Av3CcGFCJWCkAy+n/s9nTx5knr36k09evSgF198kSpV0QWqVfAPe34Yr8Ztd087lzmyXoMGDVjYZB2XMMch4weCO6aDGxWzF5Xz3DlzacqUL2nyF19QgUIFnHQVxJX6xE8n0p9//kn33nsv3dv+Xm0aZFhxaOYwMjjpMgVAwN6xYwdt3LhRNXD/ou3btrFweEkJjVFRUVS4cCEW/CpWrMi92CEhIZQnTx6eWoEjS+YslDVrVsqePTtlypyJsmbJqn4jA2VSgiU7QV3jpx0hM6M6MvGzrNmyUs+ePemDDz6gfCH5HMcY8CIOKduCHhEqBeF6UTkHC20euP8BKlykMHXu3Jn+/fffhIW8LvfPnD5Dffr0oe+++871HAsuPp34KX34wYdshqzoPrdJEBikJztpuJfa+tnFCxfpueeeo2zZstErr7zCQgLSVJwSSk0HU9ChwmLQoEG8YK5ho4auTQiCAvd4B9oMcRqmBMXVf66mH36YT7t37+LexjKly1D5ChWU4FiOihUtRoWUEIkpOrlz5+aDhUXdc51JCYRIHzExsSwYstDn6TeBMVdnSA0s07rZe/utt3nbx+49umsTTWLfFIIOESoF4TpBb0GjRo1oxowZNGnSF9SoYUO67/774ytvk7N0QdytWzd6/PEn6KabmrNxr169WP1L27ZtXXak4BW8wqQV9GDirI5ffvqFJnz0EXXo0EEd7SlHzhyuuXLB3FiBcHXnnXfQvO/nUc7cObVpAGPKDeAh2tBwgFaJRYsW0ZGjR6hKlSpUp04dqlWzFpUpW0YJjnlYaMySJbOyDc0A6oRv4jDXOOlGrKvBAXP794w7YGaeGTPg7jb1naVLl9LMb2bylAshfSJCZSDgHkMeChohldGFLAry77//nnr27EXLli3loaPEhngw5/Kdd96ladOn8rwm9Chs276NezkTFNoSv8I1EB52mT5WwuSOnTtYhRBUWaWbNKTyC2qwunXr0L8b/3XyDwh0/7uVAxfPX6R1f69joW39+vVUqlRpuvfe/7H6Mgw1Y+g5gd/N+6bRgUvVwOAFhPa3PdhLFPudRNi1axdv+LBk6WJtIqQ3Eqn+BL/FzthJZG4hdcAcpSWLl1D1atUoS1Y3gdItfiCAYojpz9V/csXw4EMPJhQoDRKvaQ/iABUtzubwJ7R7jh09Rt26daXomGiey1ajZo2rCwfBBIdDHC8QsXttAw739KX8gAU2hw8dpnEfjqP2HdrThx9+yHOwJ38xmSZ++ind8797uPzA/EfzDh/4ljpzL7VVHmGRjfsqb1dY2e8aK8bMHArX+27mjHpUqmQpOn78mDYQ0iPSUxkIIIaQee2zjZ2xhdRBx0WF8hWocuXK9N57Y6hmLUc3ZVJs27qNWt/ZmvKFhHDPJm+jJ/gfJq9pUJn62xDy7l27qUP7DjTlyynUoH4Dx1A5MTY2Nn5eoZs/rrgPAhA3yId79+/VBuoIFD/CrTiM8KeuUSVjVfaoUaNowYKFNPT553nxUbFixZw0qO3wNQTptO4a0uHNeUT9q1W7Fm3avMl5JqQ7RKj0d0zs4JxYL1iQVRIBAQpzRZkyZahho0Y0Z85sr+IBBS96H9CzUrFSRcdQ4s8v4UqSl7nixjHzm7hS6W/wkMEUHRVNjZs0pnx58/E8OqiOiYiMUOcY5f5YdR1Jp0+folOnTtGhQ4eodOnS9Oqrrzq96vBToKc97YdaNWvTur/+omw5sjnmgYTyg0tIVIweNZrnS7Zq1Yqn1ZQrXzY+rkw6NPhL/Gn3QY/lzTffRKv+WOWYC+kOESr9HRM7pkDxl0JEUJU2UdmyZWj06NHUtWtXxzCp+LFzmolLiU//xMSPe5wBf+gZUhw/foJWr/6D5+eev3DepeIlc+bMLGDinDNHTl4BjtW/+fPn55XAEECDJu0hLNRx//330yuvvsK9ZIHOqpWraNWqP3gYed++/RQaeokbA+iNbdy4MVWuUpkbs34TfyZfKPegIXZXm7toscypTLeIUOnvWBl25tcznT2i9b1fA3cHQ6WVBJjzVCB/Adq+Y7v3w9g6XPBuUKk+CQbcSsIVK1bQ5MmTWfdeq1tbuXqn01yoNFhlgyu/2X7Q99wLZnpcgwzuTc6YgfXAVq1Wlbo/0t3xZwD6lcsEqPXR8QZl5aFhoXTmzFnau2cPbdm6lTZv2sT7v0PnZIMG9al16za88jt3nlzOR4B7GkhloNoJK8CF9IkIlf4Ox04sr3CsV68BDR06jG6+qTmVLF2SHzOw40Xh4R7Rvi5vXMOFBl04pkXBluLowHzttddY4bnXAqIJDxMZwRg2gYYdJzo+tmzeSr169aTPPvuMRr4+kr6eMYP18pk5be72kwWEVfs73n7T/n1cA/tdYwZ84U5/RIfB5xM/p99//52+nPal7+IltfDGvVZcnj17jkIvXaJly5fRDz/8wNsi3tn6TiVgtqYyZcpSLqNWybyT0mGh3W/K/6NHj1LxEsWdZ0K6Q7pKAgRsk1WiREma9e0sWrN2LQ+9uvCTApQrXPUXHh7OlfEVlWUwof01YsSIa+txNOGBc7CGTaCh44Hb1+oPK6q7du1CCxYsYPU82XNkpz17/tOW1GHHYXLB90zyudY0Ydv19K4xs83xe8GG8lO9+vVZCXhA4h5vnlB+RPqE4JY/fwiVKlOKHn3sUd5M4eNPPuFpDtjR69ZbW9GE8RPoxPGTzncR3+ZISdT3zZxQESjTNyJU+jtcGKjMqqRIrOqcPXeWKjhupenTp/FjJqULjKuAgs6coyKjafCgwbyrR1i4s29sUONNhSAEBOhlwcIX6Hr8YtIXlD8kP5tjjtjChQsdodNU1L5Cf881YIQTGmO+/A2bIE2vNWvU4B48DBkHJSreILRlMHomdfrA3Nmy5cpQn8f70K+//kZTp07lXXLat7+Xnh74dMIGS0qlKQBnoR5I6d8R/B4RKv0ZZE5kUmfcTZ1UdCmzkJB81KTJjTRwwDN09PAxx04aYlqoqJS//eYb6tKlC1eSFy5cYPOgB/EkBWlAg/lsUA6NldE3NruR6tarq9K1ym9KwGt6Y1P6+eefE/ZI+zLOVfaZPXs2Xbp4yXWf1nk6oFDxkC17NurevTtNnzZdGwYZdnpAMjT3lnn2bNnohqo3UO/evWnOnDlUoUIFql+vAY8ahV4M1bZSAO2GBFNDhHSLCJX+jMmcugLLgOhCvlXXVW6oxIpwlyxZik5Mxw5wP1vgc/bhM9RvwQ0nT56kvPnyUrPmzahWrVo8oZzd4cEtAYkJZ/swIEDte092PD036PsL5y/QoYOHaOf2nRQTFeM8E3yPW9hDYBw/fpyKxwzUv39/p1cIcaqyHHY+yoydkrRdn2Yg7Y56devR/PnzOW8nSEvmLHjGio8HHrifGwUY0Ql2Ekx/AggDXZtnypyJdVqix33G11/Tpk2bqNsj3WjdX+scC74GceCpDhLSJbJQx98xhabirjb30o+L5/E1ChVUev/9t4/+WruWWrdpTfnza1UhbEEd5jqVgJugGw8VMhYUYRsxCJhc4AR688WEp8kt7uFsmXPcKP/GRMdSZGQEhV4K5VWcFy9eojA+X6QLF3Cc5+vQ0FA6ffoMHT58iLd5rFa9OtWtW5dat76Tn+fJm0d/XPAZOt54cYFKr/PmzqPFixfTe++9Rzlz5YyPX6Dic/DgwTTi5RGsnifBMx8yZ/YcCskXQrfedqtjYNJVCv1e0KDD6Ozps6wyaf/+/VSqVKn0G252maTOmNKxcuVKev75ofTaa6/ygh7Xc5Bew0lIEUSo9HesjO8SKu1CQ3Hw4GHq+VhPmvnN11SgQAEeejZD0mkBKuqxY8dS9WrV6Y7Wd2jT4MBWBRQXE6eiII4iIyJ5m7zjx4/Tju07aNv27bRjx3bavXs3P4OdokWLUYUK5XmeXoGCBahgwYJUsEBBvoYOQQgruXLlohzZczgCuI5bbMmGCflS8Kcc2GbznbffodlzZvM+yibs7TD/avpXLPB3eqiT7xtJ+vew5efbb7+tBNghlD0QlXj7AQ8/9DDdfvvt1LNXT22SjrHTqUpjW7dupbZ3taWPP/mYBctrWmAoCF4iQqW/Y1Vwdk8lg2fKPCY6jnbt3Elnzp6mZs2axT8DqBhTQSBBr1ymzPGF1JeTv1QVYw568EFVCeP3tVsDGu2HiPAIWr58Oc1fsID27dtL586do8KFC1P58hWoatWqVKlSJSU0FmBBET1PEBaxP68pxFntkgkTgx02ljl6ztBLFvBh50/oeAy7FMZC3NlzZ+mVV16l/AVC4hsNJg6UPTSStmzZQs8/9zwt/HGhfuAjtFsYdY2V5y+8+AJ9/vnnTjoBEvdes2PbDmp7d1tVHu6ijCiP7PBNb7g3flRY7N27l+677z4uU7p20xs2CIIPEaHS3zGxowrGu9rco4TK+RQVGUPTpk2nx3p2Vy3zrjRECx0VKpRTFWN+fgexymUp/kuDQnXB/AU8N/CJJ59wDNLADT5FhefSpcvo66+/4gVI9erVo9q1a1PJkqWoWLGiLEBmyZKFdzHJnCWzfskC8ZhYGFhxzJh7xUsvvUSvv/564IefH8FD3urf8hXLef4dtsND3CUIf1xb8RIeFk4NGjRk4dLIei77ycQMwZvf++WXX+jIkSPUuXNniXdvMPEF1HW5cuVpoWrw1TB78dvP0xtasMSoilk5jp2YBgwYwNNrHuv5WHz6EwQfYLdjBH8EeV3nd1SEYaGX6ZYWLXifWxQQPbp3pwYN6/HBAqVjkef0ceymRVmh3IVh3vDL4c69v5dXqHTMYdDXWDgze9Zsuv+++2nWrG+5ov/4449pGOaMtr+XGjZqQKVKl+J5j9Bn6BIo7W+aw1tMnKtj08ZNbCT4Dq5A1d9tt93GSqN5H2yEt8FcW2Y5cuSgli1vYR2sjG0/mbhX6C1ubkEHDhykfzf86xhcS9pJj5jgU+GEPhKUjwsWLnCMIFSlV5BuUAfgjJYQn4mKFi1CH3zwPk2fPp3mzvleGWrwHIeQ5pw6eYp1UrviI4DiRYRKf8dKTBER4fTwww/Tm2+9TS1btaSxH46nqtWq0ZgxH2ob/gNWgZ89e9anlW+KA7eq8EbLfdeuXfTeO+/Rg50e5J06hg0bRhMmTGAhpGixopQ5qxIeETeJZXZ8yz6SymnGjkF/EwLt3n17nRvBdyB8VXh71TtjrKh32rVrR19OmUIx0Sm0Kl+nAwzbPj1wIH3y6Se8yCtB2hCuxMqDiNNBgwfRxIkTKTYaiwb1g/SIlW5clzqsoKAcU2sw/WPHjh2OoaQzv+HokaN0YP8BJ050eRUoiFAZKKiEtXzFMpr3w1xqcXNz6tTxAdq4aROdPHmCVq1apS35D7lz5+GVywEBMqzJvIp3332POnbsyKuAoePtg7EfUIOGDXhepF2Bud5LIQ4ePEj3tLsnoAqUgAPxacdpEqBnc93f6+jCxQvOsKKX710P2XNmZ32Dkz6fpE0EjyAOVP5AQ9Dk4ezZs9OhQ4fp77//ZivpPv/A/6jpTTjoc7369Wj06FH02GM9KSxUb1SR3sPKT4iIdBZ/MgEWJyJUBgK68mLd5zH6Vl2PHDmS+vXrTy+//DI/9ydC8uVzeioDAR2+Znrx7bffxnMjoYwa26HhuWvRBND2Uwz9U1WqVKFhw4c5N4LvsAtpbwtsld+gYHvSpEmUP39+79+7XpTQCt2V2JVq65at2lC4Ah0P3Ous82W3rt3ojttvp+lfBaki9GSC+ZUmrFq2bEkvvDCcz9BUcQUpXdYJnlF1EY+IIPwDLA5EqPR3UGhaFRgESyPfFCtWmP5cs4pq19YT0v0BlFcqQ6CXj4XKACyUsAgHO5xcvnyZ57ctXbo03h9WXKQo6vcw1y9X7lzaIAWAn+z4MdfpZR6a8b+3cWrCx+TJlEwL6tsQlNBbiS0jE8QTcL9Pz+iwQLnTr28/6j+gP40aPZrmzp3LC6zwnHsy0zsIAqQrLNhB2lX3SGN33HEnL1YbMWKEY8eg7QcsARzlUC/GIPwDLA5EqAwUTMKyE5n7+Sogj9lHSoEFRVmyZKVLgTIfTLuReztwrY6y5crS888/T6NGjeKV9lC/8dtvv/E8LbbjTSDage2NfRvtphRF+5UxblNnbEm4c8dObRDE2P73hmu1f70gLvRvQZ/pLS1b0rfffptQMEoNdwQCJqxUtkT+hC5GTF2pVasmNWnShCZO/IzDDXmbw88KwnSHe5rR91mzZeGdiLZv364EcWvhDgjE8EI0m7wSoPHNGpD1yBkTQP4QoVLwPaqwiouL5R1jAhaVibNmz0o3t7iZPps4kRdIffDBhzRg4ADatmWb50rdPePDjvvhb4WDcQ/cpsAE8e07trOuzUAqyIIGFeZG+OGzipc77ridfvxxsdPoERKi89Shw4d4KtDMb77hOZUZM2akJ554gj799BMn3Dgo1VnbFzQ6LBBmWIg4Yfx43oHHFUYBmuQQ567tOgMyvjNQZJQ1HSGA4kGEyqshBdA147SwMtDpU6cDM/wc57vcDlVBd7e7m6ZMmczK5Xs8+ii99OIIOnPmTMIFGybj4z5Q/K3czHuMK/dGRkbyPN0unbs4CsADtELxCWkVfyrMTY+5ESJR4ffu3Yt1vzKp4bZASb8KDBW+9upr9OyzQ6hI0cJOulXHzTffTCEhIbRi+QrHIoC/nGAVbFSYlCxZkmJiY+jw4cOOGcIqgNKBYevWbfTxR58EdBmWPVs2Z+pGABL4QmVyEr0X7wbTkIkua11HiqA+jEUt+D5aitHRegVbIGECR59Nixdqkjp36UyLF//IO+jUqVOHxo4b63mCOwiEdKPcmClLJvbrvO/nUZ/H+1DekLxBk+YTxd/9pztZGBU39evXZ/Uv4aGqojHpU+Dy+Z133qGwsDB65JFHtKFzgkL7V15+hdM0z1FT4ZZgSFFwgWk9KOcQPFikGIt6L0Clg48/+oiqV6um7xQBmF+wKJD1PAdgcg3OnkpEhIkM90ix7xNLbOZ9dZjegulTp9OWzVv4mnH/rhCPCjLo2sukCqeIxASuQEHFs/seuVAyP2BAf1bldP78ebrzzjtp0meTEqQbTls4zD0wZz8Ew97zF8ynGjVqqIpaGRi3e4Mf+ytRnGxNO7cnMXc0rfyl3WaD3vI33niD/lm/3nFXCroNAgaEryGDh9Df6/7Rpn6CSptmvhzcuXDhQlq5ciV98MEH8WlWhx8atzc2u5H35N+MsluZm/I86LHTiBdpBWXcoGcG8e5g6LHMmEnPQQVevJ+mWO5DA/93lR5a3NIiaXfbz+wG3LWC76RA+GB0AgtFPZUF/k5gC5WeIhT3iAj3yDD2YG6u3c8G63202LBt2muvv0Y5c+Z0DIH794V4VHhGRUZT1qxZlFCpMkYgk1g8K/MyZcrQ0KFDadz4cbRp8yZq06YNLV2ylPWLsdoObc/1DfvaT+CeG/X3zTff0Lhx4yhTpswu7QKJuhVeM4c7nsz8DcvtEz+bGH9vHyAt48pDydyoUSOaPn1ayrlL+x0NwvVKeM2WLTtVr271+PgDKlxYvZcSBNZvWE9jx46lMWPGUKEihRz322GjrrHT1bix42j48GHOIjsTt8EOwsGEhR0mboSGhtL0adOpefPmlDVbVvrwg/iNNMw0jKTe9zewNXCmjBnj3a7iO8ldldzTzLVi3vVxuoJQid73QCTweyrdEgQqSbSw9u3dR4sWLqJ3332XXn3lVV7J++H7H9Kfq/90JbZEE5NJIOr54cOHaOjzQ+m5Z5+j8hXK6wfKimnFCVeiwi1z5kw8jMKtrWANKuVPqP2pVbsWvfnmm7zrzvjx46l///60YcMGx9/+7HflNkxUOHv2HC1evIT3L+cskZSb8QyWcGh7mzdvdi6AP/tXw4K0cv/ePXud+WPGP+6Hv6DDFJU+8tPBA4dSxn3G3+r3vpn5DTVu3Ihy5MzhP3FquQOrvHv27EnvvfseVa1a1Xmm3c5Ydjs92InW/7OeNm7amNBOsAN/uvtV3+/auYvGjx3P285C2wMalKNHv8G7hbnw9L6/Ydyo3QmF9zVr1uR7I0y6GskWLLDhHQ/Prhn1jf/++8+51u5ILthoI9QopA8wAk+oNJGGRIPKAZdIPOry4oWLtGLFClZ+i10CMFxUtEhRql2rNt16662UK1cueuGFF+i5Ic/RmdNn+F3GPWHp+73/7eU9nwcPHkyPPvao67djsTm/p5QqOKhwQvggY0RERGjD4MMeHkLL8paWt/Dq05a3tKRBgwaxUvrTp09TDHpI/BWVjDGM36NHdyfdo0QwpYL2XqIo+/v37qf3x7yvDRQBUKJwL4aKEoxAdOr0oDZVIJpMVF3N76mJKWqUm4YMGULLly/TBikDRmewd3bVqtVcZavfoNyC/fC7devGDTg06FzhA8y1ZQZdr71692YBlBVK2/aDATt+cG3u4U/jV2WGzRxWr/6TujzcRdWPj9G5c+forbfepk8++YR182bG3Gob+31/BmUO3Kn8+Ne6v6jDfR34nrfoTMQPDz30MG1Yrxr+IDl+VL+JeqBrl67OfXK+ZZEjew4KDw9MoRKCmf8Sq88G6z42xr6Ji1s4f2FczRo147o/0j1u1cpVcTt37Izr1bOX8zwm/rgcdjluzHtj4urVrRe3aMGiBN/BNY7QS6FxH37wYdwNVarGrf5jtX5oHSD+NcETKnzq16uv4mGXNghiPKSFUydPxb379rtxlSpUivt4wsdxUZFRzgOkQ2Dese9TOU2pCpbPg54ZFBcRHuG4xd0NHtwUGx1vOHDAwLg9/+3RdwrjnwDguWefi9u+bbtz4ynslRmXD56epTbGDer82iuvOfe2u3wY7hGXI+NKligZd+7MOW2SdriH/8YNG+Pq1KoT99uvv10ZBsDOTwZ1fenCpbia1WvGzZ0zV33TMQtobL+rM+dJ62zMQVREVNy0qdPiGtRvEHfbrbfFLV+2Ik4JmM7DpDDfCRCiI6Pj7v3fvXEH9h3QJonz84qf4+5q09YJM0sGuGZUWoqMiOS0xeHlozBDedyoYSPnJsDiwX/7FdDagtRvWso4415fc0+huv5pxU/cC7nox0X01Vdf817NNza9kXbt2s1KcBn4UrdasKpq4MCBNGXKFO7VxLutWraidne3o/bt29Ptt99OrVu3Ua2EcFqwYD41vbGp85sAv48DmLPgEZUR+JwxPfTowovKu+xnnVYKFipIgwYPooWLFtLZc+eoQYOG9Pyzz9PBQwfZDq+uBHYONEGlH6U0yEPHj53gIWAMrbpa/DYeos8sdlANNFINMCpfTk8LQR713xIlHoR/TKzy+3EqV66cY+buT8SBMrPnZqUp2g0xMTG0Y+cOZ1oJUGac7nwU7uiZVPUCqUYQ5cyVi7+fZqCc12kN7vj9t995t5zPPv+M9cd6SpuucHB7hmH8N996k3t6L126qE0VSLOBiuVH3iXHnLX5wYMH6akn+1LdunV5igp6JH/88Ue67fZbnZ26ruZ3tzD0S6z0mSlzJtq3bz+VKl1Km2g8pGHU6ydPnlT5KTZ5o44qvR04cIAqV6msDXwDymPIIEwgxIOF/1YBCEgkBpxxKJcaQQX3mCPTpUsX3sLsxRdf5G782nVq8Rw3FER//fUXTz5m8JqVsLDSrXad2jT6DWcrr08//ZRef/11evGFF3lS99y5c3jIO4EC6ACL2DRFhRl2BEhXqPTBhZNJJ8r7SIeVK1em5557jr7/fi6VLlOat5F7/PHH6Y8/Vrn0QzLWe6kC3Kfcu2zZMmp9Z2tt6CXarev+XkcVKlZ07gNIoGT3qjMWVGXLlo2Nr0DbSXCkFfq3MdsnU6ZMVLdOXdq9e7djqNyZrErRDR4yVKBRlCVL5rT1u0lPyntYSIbpTGPeG8MLlq7VTVCGDi0NLVrcwovrIDjzN8xvpJUfrxcT5UYwhPu12b/r/6Ue3R+l3r16U4UK5Wn2nNm8Y07DRg25fnT5NRDy69Wwkv7Fi6qxoOKV84PxI84e4jZ7tuyspmvXrp3ONzzY8RbMpyxXVjVOLbckG/WtKCihD0D8N1mZSLYiHJX0/v37uZLGauwOHTrQx6r15cyXzOlKQBA+jxw+7LTGYIZvmMMCrQEsTqhSuQrVq1+PGjVpRNVrVqdChQpRZhSowO0dwQt0PKRLUMibNIeTSrOZVCMGi7z69e/HvSwtWrSgjz76iO5tfy8vJNu8abOzi4UhNdKc+g3Uq0uXLqE2d7VxzLyJM8vOunXrqLaZ0xYoFRTcquIIDUvM+T139pxj7o6OQxTskydPTnv/KfcYgQ9KvTEP1ufpBH5WR1hYqNODa+LV17/jLdo9kRFRNOvbWaw2qH7D+o57jJu8cZu2D4Hq5REj6Ldff6Mpk6c4z/AbgYhxtxUWhw4couHDhnP9iDJm6rSp3DlyQ9UbeISO30H5BPuB6m9PaMH60KHDVKRoEedGhwljXxtUuq6qwuXPP/90wsKTHZvEwkuZ79i+g0qULOHcX+076QC/rgpQ6TEqotasXkMjXhxB3bt3ZyFw6tSp9EDHByhPntxshe3qCD156iSdO68qC08JwUS6fsbDK+rPHrp02XE/C95hpSruEUgvIJ245ygkKysMUOihh/3zzz9nVShYIQ/NBNgGcu6cuTy8mWIYZ+hzTEw0/37xEsUdt3uTzrUd5JejR49Sntx5HIOrEGdULAHrMtngW0l9z9MzLSgVKVKE9u7b65gBd7uqstqnnmPf7TTHxI0616pVK+GKe+BtmLqHl32N31AHpgVUKF8h/pn72SapZ8lFuQVZB3tTT5s+jXv9XY02oIUJr9DvlC1fliZ9MYlefOlFp7fXCteAwnIvpipMmfIlb8yABYNfTv2SHuv5KJc1XL/Z4YT3VFgEVbms/YT4LFiwkGNmwDMrrGyQxhcvXhz/HEFigsW+Vri2fPQA9PtWg7J1O20mF/6Orz6Wuvi1UMktcxWumP+Ewr/t3W15GKRXn16sf8zGtOIBhr4bNGjgxEkiCSqBubr25RBSukeFO4abQGx6EioN7mkLBbsdDOoaOk+r3FCFnn76aZo9eza99OJLPMcX84JTDLgL7tBuWbNmjaqoqzg31xpNyj6ED1Y54wXvjXmPdu3Y5TTejDuuBdhHoa0OFlBxVgfPTbX9pQ97qgybuaPebdKkCevoY2w7uMZ7Kgn/+ecaKlXKbY5WamP7QZ2hCD1zJj2SYtyKw0tcQ7/ALXwQbqFhoVy+uhranr6t30nwrRTAlOtIZ6YD4Fr86sJ6J3/+/FSvbj26++67tUkAgbA24a3O0K6B4fwvlKCMHvWXXnqJihUvpi1oTN1owk4dHJbBhPLOtm1bqSR6DL30WslSJemPP/5IqFNYAQ0BS5YsdQRJ/YjrM3XrntZhZ8eOHY4aI4RzcoNVf9/Z3cjtxwIEk9z8FxVJGKp6sNODPLnWpUcL4Y1IRiTaEamuly9fQS1bttQGXuL+HeH6UeGIPWSRETMGW+F1vZhgQLq1g0RdZ8mSlVauWsVDMU2bNtEPUgBTRulcD/10jRs3ZnMUYC5B7Gooa6iUzp0/TzlyeCdU/rf7P7p46WJ84+1akwXsK3djCBQjFA89/DA9/ngfeuWVl1nf3rSp01i34qJFi1hY3rNnD10O14tZEvmtO+64kzZt2uTcwI7xvrlWx/dz51LevPnYOM3R7kMY5gu5DjfhfeU3I5xxfKPeNJWXOuHbMEfedS36MI/12VXuavt8nVpcz28Zd+szpjz17t2bRo0a5ZiZ5/6M7UYdBtDFjHoOowVLliyhipUqOvERKH7yFQgP5d8tW7ZQ7dq1HbOroewjHSDtu48O/fjjYho8eFD8vGUbO/2pfIAdfLJkzsK7EBm9mL4A7nI2O9YEUHz6v1CJiFIBmqBlZQJYJyZ39u7dw9vNJfZcSHkyZXR0nmF1ncRBQliAU2GCynv50uXUoUN7On78GPfCV6miew5TAuQHnY1QAP72229UpnRpNkNl5HXvhf5OZEREwl2mkkLZ533gzU9cZ5ro8WgPeuutt2jQoGeoU6dO1KRxEypUuBA3Ys6eO0u7d+2mX3/5lefgTZgwgcLDwp0yxL3AVyVf7jy56OHOD9OIl0Y4AhZKQ7gLh3bv6TOnVVy5v5wG6DDHgbjKaLrwTHh6gw5z03j46aefqGu3rjRq5Cj6bOLnPMyP4cC1a9eqMnQfLVuyjGbPms0aNUaPGk0vvvgCb+X35JNP0iPdHqH773+A7m57Nz3a4zH66quveETJLzFhpM8YFsZ8ZjROrin80hLtThPGmD8Jpe49uvegocOGJRwx0PGcLoBfdbI7feo0Vark5SpsFZ5YpIc507Gs8kCZqSMsNIzn3UKx/l9r/3LCXZlzg8pdWlLPfvr5J3rwoQd5DQbk+WTj+oZq3PEP69sAIoOq4PzX2UgspqD3MsIiLkfQo48+Sl9/rYcRfRHRwjWDiuv777+ntm3bOpPEr4VriO+ARPkPKwahNPzEiROseqhhw4bxi8NSEoStOpDtMUUEQ+75C+aPf+ZNuMOe4t7/3csaFFwNuCR46omneAMBXrmbwnHLdYT6DyVbpsy6JrD9Zl1fPH+R+g8YQC1b3kLdVQVtT6NZt3YdLV++nI4eO0ofjo3fvi7NUe4fOXIkzwt0+cX2X1LAniY6OoZ+//032rVrF6dDKOq/dOkSz5WFmhSkSQiwuXLm4l4dDBsXKFCAQvKHUEhICOXOnZvy5snLm0rgmntPUzhuE2DqB2+w/J3Ajd6GW1pjuROCDzZYQH7q0+fx+DQOAsU/PgR1DdIpprPMmjWLypQto58kgQonpHNoUjhw8ICjBUKZfT/ve/powkc0adIkGv7CcJ7L68ItbKMjo3lr3jfefIMaNVblGvBR+GNzFnx77V9rnXSObwZKvEKoDFg8KBv9Y9XquGFDh+s7wSOeFAR7woSvfVwDrGTYxv0b+p6Vzxpz9/tABn6w/aGuIy9Hxs369ru4li1axn01/au48LDL8faMXfsdX6N/B2Hc7MZmLgXo1/ybyv5zQ56LWzB/oetdjje+0IdF71594jas36DvFG7PfYaH304S5f3QS2FxrW5pFTfp80mstF41TOP27tkbV79u/bjdu3bHPT3gaW3Zfxj5+kjnwvjVh+H5x6o/4p5/bqhKm+EqfaRURCWCu3/cf/56nYP3kNRxXO830hDOW8rtiJMn+jwR9+orr8ZFRUYHpF98ivY/wqdsmbJxkRFRVw8TPFfHyRMn4wrmLxgXHhrO9zjffuvtcVs3b2VrVSrfwBuhuHD77sZ/N/ImAWGq/GD0dxOg7rGJgKtsBO52PLBr5y5HObtJr1684y94287zTzxI7z///BOrOfGHESu/xdsWz7W2jNBKw6HD3u71Ycz3YAfo+DNzvGCO3iWeF4T7AIfHAIw/1PWF8xeoX79+NHnyF/TV11/r1ZqqhQw75gAp7Xf1fczXqVatOs9Xvl4aNGxIm7Cfso7PBMPnth9Uerh44UL8xHdtP0XA715L+Cm7OXPlYH21R44c4U0Q0EPQtWtXGjV6FK8QjYyK0pb9EOPXa/FzUqi4wXzK6OgoVoqfZnOi8bNIJ+4/f73OwXtp5BVfwHlLZdUZX8/gdDp8+HDKnDlTQPvJJ8D/Kp1cUOUL5j5nyZr56mGC5+rIkiULD31j6gyYMWOGej8rVatRjb9ZqFBB2rx5Cz9j9G8ZML0Ge6bnUOVHUr2Jy1csV+7TCvc9pWkPnD1zlkLsnn8v3vEX/Hv4+zpocVMLGj9hPCs3F9ywEjT2gcWm+qjocWDuY2xMDGcyxwzz/pR5tGNmwJBZrM6E+F60eicqMpJvzbw8zKfkeV9YqKOElgxKuoTSZlNBQY0NfgPn8uXL8zMXyopqlSUUUIKAzZu20P3338eK+rHfdLbsWV3DNqlWYFjxHxsdS4OHDKb3P7D27QZXK/Ss55jDBBVfP/zwgyOcWs9MkkHDAkresUczVrbXq1/XsccP9Tmt0e5BHsBuK6igcufOQ/ny5cVIDvXt25c++fQTx5KfgHmgUGjt63yCNIkFY/fccw+dOH4ivtGRWnGl4gJhzv6y0lO6R4UFBA3sJPTLL79SocIF9YN0jk4jRw4f4f23f/rlJ8fcCzDfGmrFoMUC8xcxHWjhgoVUsXJF/i60ckAf7Jj3x+g34tm2dZsqz+/nhX5cfyWRTlGHYrcf41ZvWLRwEc2fP58+/uTjgMsHQSdU1qxek1fShuT3kxWb/oROnL//+jv9u3Ejb1jPwqQSEpEMjIBpQG9WLAp458bpeVMf4SSjv8VCkYaNtTQBO3bSwreQcVFp4R/+0EKEcAsVKfhdLD5Aodm+Q3vX9wMSy+3w71ZVAHXq2JEFE+zyBGE7geCcWv603BWr4v3ZZ5+j995995rnLdtgXijm4b004iXHAN8B6ltICkgeWJWJAhvCSt16SqgE/hq/bu6CcvSXX37Z7+ZUQrcpFiwxvgpHHXdr16yljz7+mKZMmewYgFSKK5MvOO1oeZbx1/SSWij/jx8/nv7991/eQEFIyM7tO7mRDJ2R3oINJ2rVrMUaI8apsMWo0ejRo13pDPo/sYXzgoULeB6xTfdu3em222+jRx55xDHAO0mkUbuR7Q2TJ02mnbt28nzNgEv7quIPGjBv4ZYWtyQ5tytdY8IiRl1Gx8ZFR8XoI5rPKhPx5vg4wwxnPiKsA88irWfW4XxHP1N28S3MT4u4bM7OgXmFOF8Ouxx38cLFuJMnTsUdPnQkbuuWrXzgGwGJCV8rzf2z7p+4CuUrxv38089XpkvLXpJ4a+8aQNg/9+xzyfo2/HP+3Pm4dne3i/tu1nfqXj8w6G/369sv7oYqVeP++Xt9fBj4I8pp7u7DnMoXh7+o79IItyBD/un7VN94c5zd7Fw36juYl+5KG776rpfs3rmby/B+T/WLG/vh2LjFPy6O27F9Z9zF8xcTd4sxN+nP3Z59n0gaTWAH1+awcb83eLKbHDx8SzVu4prd2Dxu/979vv+9IADl7EMPPqzvvECH3/vvvR/Xv2//uKZNmsYdUXUQo56hfgTIZ59+8ilfM8p4wrgJcV06d+F6zivwKf173jLq9VFxo0aO5usrylU/x0u52U+BBI8DqPO+ffuoadOmCXrP0nXr1h07WFQYYdWgc2TiM1YfYysznGGGMx9ZrQPPsljPrMP5jn6m7OJb2AoTO2I4Z+fIou+z5chGufPk5qGcEiWK864EOBIMhwcqKj1u/Hcjq8D5+KOP6JZbbrmyZ9LbtAl7Vjq/bqxvZMqcmc66b1F4jd+Gf/Lmy0tjx47lIbn+/fvR1s1bedgUPdBnzpylmTNmUnh4ODVv3oy94QoDf0T5P0HZoe6xChMrna81bHyKcVKs08OM3ipWPWUHpa+CVX2nUMGCVLVqVeebvvqul5QtV463Lm3cpDHrNn377bdZhVHr1q2pc+fOvPf3j4sW06Z/N7FanbNnztHly5ed+IFbTTzZZ9vc9MrboBdJ+9P0KNnvKEHUuU4sLOzv+wL7d/R3Fy5cSJUrVaIy5crwiJCQkEuhlygn1CpdS9gou1CphX3usUMf7yxm3kc5oK6feOIJ3v1s08bNFHoplCZOnEjTpk9nNVyo57wC8ZlY2kmEjRs38pxOYBdJgUBwDH/DByrgv5zyJeXInoM6duzoVF4BFhmphivj6LO/YKfEQIw7y/1QydK+fXt6+eVX6N57/6dNFcn0l2rxJl8wU+5Erm+iKu6VK1ex0J9cUPEu+nGRKnQ/U8LqGZ4vi8YB1HwMHjyEhg0bSk899ZQz19lU4gEQxwvmL6CjR49R7z69tEkawXGGBJaB93bu06c3Va7ipU6+a8FKwxw/zk+mGVDbAv2jJ0+c5OFA7DcPPaTHT5ygrKrRCsXfaMjmzZuXGjZspBqlVal8ufK8SQbMoCoGc7wxNxSbDPC8bvXH+UjV1ghTzk+J+NPYSzQMzHspFU76u9BHCcEaelXTOk78ClWWYDrVwoWLaMmSxbxwxuuwsePOBve6uw1zz3/7/Xfq2/cp3gKyQIH89NFHH8Xv9Q2uEh/RUdHeC6CaOrXr0qhRI6ndPe0cgwCK86ASKps1bcatiuo1qzsVV2D3wwqBhk5zqAhbt2mtKv4+1KljJ2dnksQwuc+LAgO9KNBvWQkTya8V/I5dMKlrrD7v17cfNWvezDG3n18r+l0UoJGRkdw7CQoWVK1tZf7k409Sn8f7UL169ZL/W6mFciNWeJYtW5batVOFux+4F5XcwKcH0tix45QwpA19iRUvV8xrTGnsNGGu3cxQW2EHlMjICO4NP3f+HJ06dYp1Dh48cJB1Du7csZM2b9lMFy9epJB8IRSSPz/lyZObOxwwNw7z6MpXKE9lypShokWLUskSJXkFr0uAxE/h2j3fwi2ecHdncjG/Y/n7xhtvZN3LWNjos98JIr6a9hXP3R7x8gieo381PDbOTRzqs8uOuj+hGjVnzpymihUqciMG6cSbxj0a219M/oJ69uoZ//2roexhn/uZM2c6201bbgoEAl+o1BV52KUwKlasGB08dJAV9bpIyYjwJLgGUOT7FcEQbvCDOtAjV6p0aV5MwYqJbb8hzeDa3OMZ8MLvKOSgkmjggIFUpWoyd95Rv7tt2zYaPvwF+uabmTwd4box/jP5wfavvn7i8SdYyK5fv75jlprCyvWg3T2g/0Dq1rUrNWqilRunIYh/7BXfpUtXamzcA3cCL9KPV1jf81jxpgbKDa4eRH3P/jNuA8ZZSHNApScI3Fj8h4ZNVHQUhYWFK8HyAl28cJF3Rjp18hQdO36Mzp87z8Lo+fPn6fChw0oQPchCarGixbgRlFfVH+gFzZYtO2XKlJG3ImXl7tiu0y044E5Mj3jsscdSJA5AVGQUNWrUmP75529e5Oez3wkGdPyj9/CDDz/grWexp7dXmHQF7DTmbgbc4iTBsyRAHnrpxZdo5OiRXr8De+XKlaOfVvxEFSpV8P49P8Hfi/akQWBrHxw/cZwrLM74MAcpHRHq+0g0yPTonYLqFBQyMHMVdsYtGn4mXAniCkFjjkDCuFn5YcnSpTxM11cJlq6dLux0CCP7Htf2vSd0eKB1XLhwYTp/4bxjkBzUb1arXo0aN27EKx6h9sJjuLunY3NvY9xvShPcG/v6GQsoZhjRfu7nbNu2lfIX0DsOpRbuYYN7dWDot0jhItQQvRfazBX2vkR/0/TSpDrqZ02P4RV+tK8B0hwOZS+jym+Yx41eR8z1LVa8KPf41G9Yn+644w4eOoZQjt4srJxHb+9M1aD65Zef6cdFP7JQAvVR7drdzVoaMK+0ePHiPHyO4fftO7bTjh07eE9onH/+6Wd64YUXaMOGDewUnwJ/6rDfu2cv1aiRPJ2yfoGdlnBt318vOkjOnD1D586doyJFijoGV8P8trduQHxYcXJFOkwEaD05efKk85553/03bTN1hgyBkR7XinMvf8tfCOyeSrhcRxSGvUNC8tMD99/Pj9g8JSND/SbU4AwfNpyOHTumfisDxcREu9TymEKRVeWo1mWmTJmpUKFCPIzRqVPHlHWbkHqY3KPiE2ot7r33Xvpx8Y/c0vRZHEOQ0xUn1Ntgv+XGTRvzo+QSeTmSlXyjF2fIs0N4SBBzIVEsQKhIIAya/HYd9OnVh/r17xc4+mN1vCK/YpEEtidMlTxrpScb7Gk+YMBAmjlzBs8VTBW3pAdMeAMTpnY6N9fqzB0C6hr5AeX6F198wcrxm6o0wotEfBUn9u8rVq9aTd/OmkXvjxkTb+6r30pNtL/QgF3842K6+567HfPkgG8qnnlmEJ0+dYqmTp/qGPgJsTFxdM897bgM4Thzi1vGzQzpDKOtp0+fcZS5az8GSpwH/vC3cn1ERATVrFGT/ln/D+XJk0c/UKR0JKjfjo6OpqioKF6Vibk+GH7hCln9Y32M7AhUzBlVQaSeKztQuBooCUTwjksXLtG97e+lIUOepbvatokXBH2J+uZLI0ZQ27Z30Y3NbtSGyQc97Njz9tNPJ9JNN91E7ZVgjDln2NPZHm5jAfM6h0Mf6/EYPff8c1S1WlVt4ufoUrFevfq0Zs0aHg5NtTyrf9sUzVCwPGLEyyzEYKGALlKkDLleEHbqQPnsdXpOKrydaPJdfNi/pfL8d7O/o82bN9Mrr77i+99KTbS/MD2hUaNGtH7Desc8maBcwvQDzD/E9CB/ChusGP/f/+6lFSuWO+7ylI7czLDzWtMmTWnr9q2OQYDFeWD3p+vI2LxpM+XKndsRKBHw5khJ9DBg5kyZKYdqpebKk4t7EDBUVqBgAcpf0DmjEuD7AiE8X8cIlNzqFQIXRJ9KAxyP6m/suLFUp04datOmNd/buxD5EjRMsNuRT9BOhIqo+x+4n378cRGvVP9j9R/0xhtv8jzIJYuXOJbUT3KP5XX+NBpe2BbNhY+8kGIgDlVDET2UWbByM6XLExv9W6tX/0ldunThXo4vvpikyhEtUArJA2GItpI9Z/NquIU75m8yeNfXadnte6dPn3Z6p2EOd+CcMsVLymG5HeUI5qn6BHxPxeOwYcPp4Yc7XxFPaQ1258qp/Orqu0vMfXisrWDUqEzZMs4N8DM/XQ2/ESqjo2J4ArUJ2CSx7KBSnzNnDi+/dwycU4pjQs6OcJhZiYNxTxD6ngu01HJrcjBuVGdUsubadaRndMWEHUig0uLlES+7Kiru4fNV+CDY1bfQs4JhN0yz8AkmDWt3YlVjnbp1qHfvPjRixEs05v33qdWtrZyH8JZ7Wr4G4PYsmS2hMhnfShWU+6JVOJcpUzpe+EgtdN6qUL4871j07JBnuWFq4klIJjp8XXiKXmPH3a6+TrB9pTl8hcmXQF1DFRJG4/g3jFt8+XupgXGvOkODRbWq1bRBMtFhUuWGylSwkP/lEczzzJkrZ3x974X7Tpw8SaVLl/Y7v3iLnXzTlE2bNtKAAQO40kwSBLSVoQ4ePEjLli+j1q3bOObWsxTH/fdst3nTkkxNt14vxo3qfEVBCgI04V8zxp9u/sXK0kGDB9Nrr71K+czWoCZ8TBglF/0ttPCh/xGtX5/i5k4sMIJajtx5cl25Kvw6/cQ9lRhCDgR0HKNntWCBgk5vdGr3DKlwLlaiGOtbdOm4s8P+OuNBUCDsrhZ+xo67XXPtyczX6HRYvVo1Z94+gJm7mwIBU26qM/baLgBVY74C3zbfT+twscoJDFZhQ5ZatWrHu88TOj65M1O9c+zYUSperHhCvwRQfPuNUIl9n7du2eoMsSWGCnQOeHMoqxMmfEQPP/ywqmz9YBcW2+l2yMKtAM9t9xtzf0e784oRXfgniegKOhAOln+hg2zYsGF0xx23062tbk25+DTpRp2x2OvAgYNsHEhg7nGCnsoAABU5lBxzmZSKJSUPldn5yr4W0gdWWQI9qdC9iUV1rnSYUmVNSmGlYWhqCQmx1P4lF4SJv+SRBO6I43irV6+uY26ORIBOWIyOzJgxk2rWqukYBlo8K1KxqEyaEiVK0Pbt2+nSpUtOQJrDoO9Z5tQRc/TIUVq58nd6vM/jjoFtPy1Qv385/DKNfH0kfT/3ezqw/yAv4DDTKRg7cWl/BATKD+FhYXTuzDk6cugIb8WHBR6uME/rsE9JjN/c4uvrGV+zugjoo0zOfMNrASqFdu3ape8Ch5iY2IRzKv0ZRKWKy507d/Jq+NTOpwka1qn824IfgHIE8a7jvljxYjx8unjx4iueBRTK7chXx48roTKfVpcTbLjFy779+6hChQrODeIuKdRzrNEYN24s3dfhPm0YePiNUFmocCGqULECrV+/IT7T2BFkri0zrPTq378/5cyd80r7aYH6fQwb9u3XV1X+RVSL42t68KEHqXv3R+jXn3917KC3z+7xw7Wd2K6W8FIa99/X96tWrqKWLVtSq1ateC/eBx98iPfixZyR9ACGQLmnVocHtjfs/kh33vead3BA2kvp3KR+u0TxErxzRKARFRUZP/zt3uPth6DXALoIS5b0UpFyShEAYSX4Fu6pxp9ekAeB8rXXXqPRb4zmTouARZWRKCYxAgA9ogGPrgsY+9rUE+rATk+sXg4oz5s49QTHuyp3ihQtwvPbGQRYgOE3QiVa57O+nUVPPz2QTp88rU0VOnIYK1LmzJ5D2bPnoPvuUxK9eW7OaYX+fawAb35TMxo0aBDNmjWLhj4/lPbs2UP9+vanJ596krZt3+ZYBFYMpNCCYe+xw1EfUMIKIfLLqVN50/3ffvuN/TRv3vfUtVs3ViqMgs5nK5IN+veXL11OWze7qVZIbVAYZsK2XM719q3b6SkVJlu2bnFW82s7xs0JjuRivqG/nz9/fjp/XgvydnrxxW+lIFCllTOnavzBnX5T6iSBcieUjWO3FHOfaiCuDYEQVoJP4Z5q/Jkea5X2sLFHn959qEHDBjykmmh6NObuz3Gf2DtXw7xrH0ZwsvFwf4UQpdIz8lRYWJg2CGDsfIprN68i/nBAO4wBqgYTw7WYx1wD9zANAPynyFJhWKlyJbqlxS3Uu09vOnv6rBOgCFscSMQ6nBcuWEgjR42k0aNHOQsJtDmf0zISjDs0mEOGlV/Yi/zRRx+lka+/zmoPZsyYQUMGP0vLli6jyIgoy93qP7dvpDr4fSscIRhjpd4H779PVatXpTx583CYo6WJnSe6d+9Bs2fPpoz2Prk+jIN8qgCCIM6kddgoDh88TIMGD6IPP/yQbrjhhgQFAePuRqRb+7ga+JZ96LjA/M09e/dw7xn21maQe2EnAGCVKDb+7G4d9r//vpLy5M7jmPlB2hPSCSatmbNKi1gk+Uj37jR61Gjq1LETffvNtxQRHqEtKEx+0uXFFekV9+5m3mLetb9hJAeUaTq/8DPjDqDuWTA2ZvqM7ZShizEogR8RNsrbEZERCXcqM8/MvTeY8A4g/EeoVCDjvK4ELyQ6CGF//fVXfHe/cum5s+fojdFv0Mcff0LffjuLJzC78KbCTm3sTKbcj22XWtxyM40YMYL69+vHm9S//vprtHHDRrbiap2kFfbPK/dixW5ERCQLdRCOGcsOCozOnR/mIWB7aNgnGQHfUEejxg2pdOkyPJczTdF+e2/Me7zbAYTqbVu38RZqGM45d/Y89+pyIaLdzphr5DQc+I6nQsU2N2f1Hlr669evZ32Fzz33PGs6GDJ4CAuZxg7bN7/np2CrO5c7kVb82b3KbZgwf/ToEZXuc2lDQUgjUG4osBi13T3taPpX02nu93N5s4XPP/ucDh864lgw5QZI7Dq54Fv29+A2k5ctc+6hVH/Q5oJGcMTlCLp82anLixUrznuvBxMb/tHT9gyqjPv333+dfcjdy7qkyr6kngUI/rejjnINEuHXX89QwuNHPGRWt05dlvp3bN9BhQoXpgkTxvMq2ICIAIQuDmQ+VKZGsIDb1RmCCIQ3KG53DXeklb/gLqB/H3opoRKBJxpr97rcpq+x53mJkiVp+/Ztji49d+x3rhX1LgqlIUOG0OOPP043VL1BP0h9nGGcDPT33+tohkqbKDDgNjSEEG84jECJXrncuXKzrkqzyxKmBziKy7GNZxzFKSkc4Qv9jQB2cZg0wNNrVCMDq6YPHDjADRGsMIdAy+FpwtW+TisS+33LvEvnLvTV119x44OnEfg5ly5eopIlS/Giguw5sqV9GAuClQaxEnzT5k00+YvJtHHjRh5ShsCJHaCw6DVXrpysYDxbNpV2k5luUU5FRkZx+RWlziiTcFyOuMwLay9evMgLFqG0G3MIcX3g4AGeb2/KNIgZ2P61ebPm1Kx5M5o5cyZ99vln+hcCG9QNQ4cOpbfefovDinUUqzB/9ZVXqVq1atyzbBoG6QG/FCoZFSnhYeGsPuXAgf2UNUtWqlCxImcY6NFj/L2gd3efufd0BrZZWmC7A7gLwe4ocySfUqryXf3nal4piwzGPa7avuvefMP9DMzvuAM7ilEjR1GLFi3o5ltudgzSAtu92l3wGwRGFKpoGKCBgMIWSvyj1BkWUZAaWPjEPxS0lhmAcOlkRRTACBBDBipVqhQVKVrYudVhhZ5Kfhevm4+lIa7CFJiwwlkZQdh+tMej9OXUL9O+N94dHZfGvYhHzBueNm06/fzzT7R/3/748LaneAj+gR1/7iRWrgQqJl/hUpU9AGUAdtzZt3cfrVy1kpYuXcpTZNCoRS977ty5KG+evNzgL1CgoGqU5mUBFI1Tk1/R8EX+xS5g0SqvXr4crgTDU3TkyBE+wsPDuKMHeQO9jRAsL0dEqDo5C69ML1umLJUuU5p3jCtWtBjvQoXRRuT1HNlz8KIT6NdF2ffNt9/Q5MmTVWPtBP366y9UvUZ1dgMTqPGlouK2226jefPmcSeYESpvv/V2+uTTT3ha31Xr0iDCf/f+tgPfXKeDCPErrhbuyhzJ5+abb6aJn06kqqpVxnMrPWUgmKnrfaqSPnjgANWqXYunAzjfUI9gz9NvKD4Y8wFVqVKF2rZrq03SGPgLuLs3MXN3TLiY8/WA8AR4/3q/4Uvc/a7vkT7Qc4FpLePGj9OG6vAHNwPtFlTS2L1m+47t9MADD1ClipVoxMsjeKjRr9wrJMTEjTojrbkaWjAHwRpvntKkMoPAF66EQjRsT585Q2fVEYHh54jLvDjm8uUI1zU+gAas6U3MmDETZVRnKNvPldPZdjiHEpLQ6wlhiY8cOVk1WPbs2SlL1qw8JA81OE5jUX2DC3JFYgKUMsOGJRh1bNq0KeXOkzvejif7/o52c98n+1JlVUc9/cxAx1iVJ6gXf/nlVxWefqBDOxXxX6HSnUBMcMFCEmGPTjVsZQeVQ2XKWfuVqnfQa4cCB+9Cp+jApwdS+fLlKV/efLR12zYaPGgQ1WtQT7/gAZ0yx4wZQzVq1KDW2FfbH4C7TJjgsMNHP0PPY5K9cvY7V8Pd7rW8m0q4eqQNyo3ooVyzdg3vH75x00aaOPEzKly4kPPcH9yv3BgVFU2zZn3LPTytW7emNm3uovyqsbN923ZavGQxDRgwMOEiNMG/MHlBn1f/sZqWLVtOvXr1ZMX1QQ/8DRAGuuGeABM2QNvBFBxU+1xGwdB6B5uQwJx3T7PfM9c2nszNt2BufZeB+yBsGux33e0GCtqfhw4com7durGWFNSHJ0+cpGHDh9Hnkz537KUj7Cj2P9wTnXsCFlIX9/BX9xAcsS9trtyqxanNcKBHcuXKlZzCsK3ggIEDqV/ffvT6a6/zLjQvvvgCPTPoGeedxECcq4MLQH9q+8BdyDk4A3MG2s1eDfPqsHIdieHFp9IU5XaXf9V1WGg4awQYMHAA/fPPeqpYqSL3SiQQKN39qyqcw4cO65vUAdMVXnhhOA8Xjhw5ih566GEWKOE2mNWvV58wr1UIAFQ0YapCj+49KEf27PTMM8/Q5bDLTjpzT2vBhEme8KN7bW7ymZ2ElR0IjGZIGmf7wBQP1zQWvGfeNdfq4LIY34WQCGw7BnMNezgAPmuuDfY7gQb8ot1fqkwp1k/dtWsXWrNmDWsIuafdPc7DdIZ7MvQv3BNcICfAQMBkeLsgACbcPYR/dHQU75aSB8MYAHbUgWGXEydOUEx0LL3z9jvU+s476eYWLVgdEQquqlWrUtu2bWne9/Ou/D030OOFObV+i7vbvUmn7naSeseEz1XCKc1RboM+1v79+3HB+uILL1K//n15XinmW7EflR2eD+bmX1RUhw+nnlCJhQ4vDH+Bf/eVV16hUqVLKsFYPYC71Bk96VWrVWW7HnGPC/d7IXXQaQpzAqFuB3E55Nkh/OiHH35wnms7SRJocWenN5xNfjLmxs/ufjdm9mFwf9dgzDVez+U237K/Z79jzK/2HX/FdrfyR4cO9/GGGNBQU7tWbWrTpo1+mL7wb6FSSF3cMolHbHNlHxO4S5cu5egLBfp5WHg4V9gLFy6g3bt3U68+vZQwoZq25jfU+aGHHqK+fftyhZAoXOgoy7bb/I3rdRveM0dS2Pa8sZ/awD0qnqBiqUP7DjwM9NZbb/EkfnDo0CFHWwPHpfpDfLpFOXo6GzVqpO8cISFBWksubt96ZtAgFnbffPNNj73KGzasZ40MiYJX3F8zv+FLdwtJo8L67JmztHbNWvr1t1/p4S4Pc/oaOnQYry42C1pcIx3BEjd2+rNrcVy71+rGLvzunmZt7G/a9mxzYO5tc/u5wTbz9BwkZh5oKH9gAXHP3j3p+3nfc09lNmiNSIeIUCkkxBQ8dsqAmToS9DDBTIGVsj169HBuzLsKzNvBSsGJEyfSRx99xGY8T8cC+1hDDcXFSxe1iWdiY2IcPYeC37J161ZeAYkV3tjOE4KaEdZ27tzlCJUKV+XuoeJj++Yx0opJa77A+hZ0ix46dJA3UMCQnzsQaLGbDoYHE3UD3KndysAe/GTlASEVUGGNaRZj3h/DOhuNWd26dXgxybZtzu5ldtpKEG/BjJ0OJV2mDmgsq3DmciW9pDM33It2QUiQGY4dPUbvvvsuPfnkU7zP+rYtqpDWz6Hy6aWXXuKeqQSo5xAqly5ZSnfcfgdvW8mgUDPfVmcU+p0efFBV8IcTPnMDqi5c83wEvwO7Y3Tv3p3m/TCP6tarG1956fj877/dlC9fCJujF8klWHrCvOtr8JPqgMA4ePBg1nsKHX6mJ8vuOb144SLPE+YeVfXYZccd/U0Dto69wv2JvCr4CBVvKEcwh7v5Tc3ZCIsHIURi9zLsme0YqgNxg8NTnKRUuktLlD9PnzpDv/7ya3D6zx8x1ZRJbyhX0lkZIDW1kBCr4P1m5jc0YMAAKlSwEPXq2ZPa3d2OVcO88MIL3Av5zTffUL169ahAfq303Cq40Lu4dNkyevChB13fY8y1OqPg79O7N/3y88/xmdADUBbu3ssp+A+LFi6ihg0aUoMGDbSJRscnFCTbc255xWli2AWwfZ0cTNpSB3TtbdiwgVq1auVyH4PkpX/v9JnTrNvP9FSycOmO9U3D3Xffra8sPLwq+A7oif1j1R9O7zgaLNAnquMSc9rQg475s4wyg8CZaK2n4991DmS0H5YsXkxnz+otj4PBX/6OCWfke3NOZ2WA1NRCPFahgy0yv/jiCxo9ejT1eKwHNWjUgNrc1YaVuZ4+fYaGDx9On346kcaNG5dQKbT+BvSgPdKtGyvBhdkVvVMo3NXRuEkT+vbbb7lnk4E1+8BJ1QS2EnG/QLufcfNaukD7OTIikt7/4H169713r+xN1nagOy+32UMbWAKcC3X/7OBnWRGzuU+Jwhi7E912622UI2eOK92gOXXqFDVs1FDfKWue7Bk/WM949xLrPtEeTsFnnDlzlrbv2EE9VaPXlV4Q7Oq6QIH81LVrV5ry5RTHXMHtg6SixTwL9KhT/kSZ++/Gf6lWrVpO2JjwEVIO93BOh2EuQqVwBRfOX6SOHTvSpEmT4ncDACqDYM9rFOCffPwJdX/kEUd5rUEX5jhW/LSCFZyb+wS9PbhEylMHlOcePHSI9Xox2hoLofo6NDSUsmX1s0nP2v3pnZ07d7JS5Fy5c7niy1Uh415dh1++HN9TmQQLFixgpc2MftcnWN9atGgRb2fHaVqZX5EulT0sLML8UNzHWj1fV2C96sL+nJ5TKqQQKk6OHDlMpUqVpMoop9Q991aauFLBD0X2r736mtNYQXSYwx28Y8wTsxNgIP317t2bypYtq02EVCUI0tD1INWi4IBCVRfGf/yxinr16kWlSpdKWNgqsML3kUe60dRpU2nChAkee+wwxPTdd985gqE284h6hmHt2qolvWvXLm3owJWD/i4m20P5OZPU91IZ9MC58CN3pSjan6bnedOmTaweyoWdFrTdPLlzU7bsCXvxPBW41atXp3Pnz7E9n/byWZ/avfs/3k6Ufx/m6sy/hWt9Dx2VZiifnYnHLknFAg/ZgkZfh14Kk17KFIa1A6jwRgPglltuiV/YhZMVJ4hrLAQ8c+ZMfBwnBp6pdzf8s8G5DwLQKcDTOCQ5CqmECJWCAwpiHKrwWbXqD+rTu4+rkAWoJBf8sIA3x//000+pQ4cO1F4dUJ9g3uPUpM4xMdF07uw5Z0hbv+8622izx3o+Rr/8+otzk6Dwi2MdmBAEsmbXKos8fSctUO7EdmUM3IQjgduDG+7hU/79e93fdPvttzvCJPxv4seEicKoFnI98xRO6lnDRo2cHmt1zb18xr4vwLfU7545fdpRFYR7beY+xxMNnBtucARlntqBP297HdX3Bg8e5Aofj34VkocKUzPHeuXvK6lhw/ipChzeiCod9tAa8eqrr/GiQcY8c8dEr3rWu09vz3YCFfjN+E8QUhgRKoUrOHHiOBWwlFVjfiV2qvhu9nc0/auv6OabW7DKBPRYYiUtdFW6Ci11Ri8CymSPvTsG6xEm1P/0008UcTnCMdDPUJH/t3s37z3rb0RGRtGtt97muFUd3DOVUgW3FVbm99Ic+FUdoWGhVLCASisGD2FQpEgRfZU0dWrX5jmPjC/9CTfhW+p89txZypJZNwYAnqEUNO5W9vbv309ZsmZ23SeKBzeuXbuW90fm75lD8B06Hhl1vXzFClcDAIt0XHGiwx6NAuxyMnbcWIqO1vN13bHfUWBhmcTbNWLC0GDfuz8TghoRKoV4UJCqzF+tWjUapwrhjyZ8TP369eNdKjp26kgff/wJ1alTWwl7jvWKFStSixYteEjchS48sL1dkkKlVWhnzZqVQkLy06pVqxwDPNPPIcR27tzZufEjsmbNQkUKF6boqGh2a7qZPwdvWtGaLVt2CgsPSxBnjLYDtVNFCrsJlYkE1Q1Vb6BDhw85N+7fSw5wC76lztjlKaO96Mv4BT2tyg562KHZwEVSbjDPrPCY8fUMVnwMXMPqgm8wYYlgVfGFkZCTKj4LFnS0T3CvsocaLX/+/HT06FHVWNjnGHiKU22GOOOhdeHaQRgijnDo63lz57GuYo9hLgQlIlQKDqYwUCni8T6P8zwc9BBiovtXSrDD4oYcObM7hYMuczEENWLEy6xiyDWXDig7TsGcwTmbb9tY9mFnQP/+rCSdBVFdIEWER9DyZcuoVy//HI56fujzLrcyfujGFMH4WR3Zs2Wj8+fPO2YeQGVe2MueSiwogH3z7ZQIz1y5cjnTMuxv41qXhAcPHqQCBbSKrGtBfePE8RN07tw5Zy6ywudD+OkdhKU+MLsAIyRohEBoTBCfbmEOzRHYQm/lypXaRJECacvvgB/tIyUxYa7Opi/h1OlTrJIOGiKE9IMIlYIDCgVdGEDdSr++/eiRRx7hSfAh+UOcB6ZwQsGhh5qwRePx48d5wYZZnIA5ahgej42Ncc194u/bWCkPlS9+B3MUhz4/lAVOCJdYuYi5m7nz5NI2/QQdDnXr1qXMmfQwKXD3o68w31W/iQUH0NuZ5sBN6oDA+N9//zlmBisc9u3fR8WKFtV3SYOwvHBB766kv+8T8B0VZEhT5cqVo7CwUMfcBKP1O1ikU6dOHX13Fez31YHFaR3u6+CYCSkHwl2F9/Zt2zlOsTOXiWOPqGdPPfkkaxcAvAAQdhOxz/NhgwF4w3glNbykwjMm2gncv9b+xXNdI6OiPOtvFYIWESqFeJAaVMHAnYWZlGioClfubUHha3oWdUFldFNiIvz8BfN56NL0zEA4bNasOVWqVIntJIqrUFe/o743fvx4ypM3LwuY7e9tz7oCBw4caKxY9tMYuAVeReWDMMO9r4Ff1WEPoaInrG3btnTqpFa/lFZY8XDzzTfRz1Bej4aAcSsOHV/bt++gkiVLwurVUe/s3buHFZS7vuNDIIBUqFBBNYJOXBln+re2bNlCjRs1dm6SQtln/6rvxOi5eitW/EStWrZyvuVjtwsKE6Y6bf217i/KlSs35c4dr1ifcQ97dV+5SmVe8Hf61GlVTikz2HVPA4qA7l22/a2u9+3dR4fNbmXe4B5uSeHJrvqds6rRi12MsNPa9OlfUatWLbkhJ6QfRKgUEoIyFYUQCg1TGOFsDrswUfcohLG6N2s2vTpbv/f111/xfEvXdxIphPikhdkCBQrS0Oefp69nfE1Tpkyhp556Kn7VN9D20xzjl5RyjxVWXMkpDh08TI8/8TgPzRYp5t1wcoph+RvzbzFPkaMZCcc80374a+1a177fV0W9e1ebu+ilF1+i8HBrXqOPyKgSWulSpenYMWuIHe5VZ552oYCKmkqVK/N1ksCrusFl9g8vXLiQahTl4Ws7jAQf4RamK1asYNVPrtEQ4ERjQtR7iPsaNao7DSAT7zYwUwf0WeYP0dvKBhKWv7knVvlv6dKlvH1lkngKLxv7uQ4jMyIFdu3cRWv+XEPTp06nIYOHcBmFTQCwG9vcuXPo0UcfdTogTKeEEPSIUClcCQpc90LX3CdmblD3qKAxZJ4la5bE3/MAZJLMWTJzz1b+gvn52i+x/GL3JF61gL4W8BvquHTxEk2fNp2eefppXtCEuWFpiu1HdQ31PPXr1afVf/yhDRXa7UgHv/z6K+XNm9cxTwp8Vx19+/WlZ597zpm/6yssN2OHp2PHjrncyJWdOhvh/bgSkMuXL8/XSWK+6bzGwJ/wMwuo1m8KPsQK12VLl1Ht2rUdM3NY8ZEAVdN16vQg/fjjj9rAAu/o9zAntnCRwoEXf8YPKj2bRvrOHTt5MaELD34KDw+n/Xv3057de1iV1u5du13Hju07eBHmgf2ORgZud6nfcPXmqt/65ZdfaPr06bRz105q3rw5TRg/gacwoezGAh1MEeI8JpJGukGiWvA5KHQSXaCTFKZgDAS0O9E7Z3q5fOZ29Z0zp8/QNNX6x5zSjRs3skqUixex09ED2lIaAT+aONXx+8STT9KT6nAtgNHPoRz+xPHj8b13SYHvqgMNkYKFCjhzdn2F/jZKu+IlitPBg9YKc1MC6p+DH7wSaPGuBdI75hJzby3AyYdeEDQ6eLFIB+qsKlao4BgAE+aewl2ZtWndmv755x+nbLIx76j3IVR6qwLLrzB+1uGD+5WrVrq2yWXMM4s9e/bQiJdHcENu0DOD6JlnnqHnnn2OXhj+Ar0x+g2a8NEE6t+/P3+DhVVgvqfuodNz3PhxPOSN+cQYtVLNKu7xr1WzljNKgffMO0LQY5KJIPgOVYDwPtAeCrFEse1aBWOCsx+CrSx97T70EDza41F1FUdTp06lt95+i3XsQR+fa9FUWmL8i9JDxVXjxo2oRIkS9PfffzvmOv5Q6aOB4Zrzdg3wkJmdJnyBcnfxYsVpy+bN2kAZGd2G6regJ9U19eMaQXqPxbijehd+xjxLNAwEH4O4UQeGqbGqm7eR1bhGDTykGzQWMJWmcuXKTjqFPQPs63egfB/qzXye9lIa7V7TvkXe2/PfHh6KdjV6PYCdyr788kuaPec7+v7772nevHnqejZ98+03vGf6+Anj6avpXznfN5+xwwbyuR3m2t78+fNp5MiRTq8mnifuBCHIEKFS8D12oeMtKHRQQJnDLqjSGuUW9G7Yc4nA6ZOnWdl1WHi4NnHDtu7NtaZypco0c+ZM6tq1KxUvXpwL5tdee5XuwZ7VwMM7qYqJF7hDXWNO4Xtj3qPevXrT6dOnXe7bvGkzdevWLX6+7dXAe8ZvvvSj+a460Gv6z/p/eCtF3JsFZwBKz4u6r1S/mjv0c1Tchw8fplGjR9Hrr77OPTcRkVqZv+BTkA8hVCJPck8cUNGY1MI5nnep4uqOO+6giZ9pvYmIO7f4hfL9ov7WU2nc6MG97pjexCNHjlD27Nl50STKD1fjKTHUM+RjNI5cc6N1OObOqxqFnt6FmQlr6zl6KqdNm+bMqQewI5JGukGiWkgZTGFjzlfDFDzmsN/z9hsphfp9LmzR6rZ49733qHv3Hlff8UcVuFADdP7ceV6NuWnjJlq+dDktWbyEoqOjtaV4MmbOSDly5XB+T/2hEoWOvSu2o/NU0KcGJhis4LjhhhuoS9curCz/5MmTyq8X6K233qKnBz6tbXgBvufh2z5DpSvsdpMjRw5V6R52zEzFqM5YqY6eTHPPJOUOPLPsjhkzhm5pcQv9797/8TAiGgSCj1HhjXyBTQcgvPCiGhNHnuIKcWM1Ulu1asXqbhjYx4HnCuSzBQsXcO+dXwE3KvevW7eO3nzzTccvOs0lwJipM8qY2267zdVoMmWJR2BuDhv7dzw9t9/Doe2eOHGSwkLDnDnx5hs6jIXgR4RKQfAWU8Cqc+jFUBo3bhzVqlnzysJWc+HCBZr4yUR6/vmh1LPnY7yl5TvvvEPLli+jE0rwypolK/e4eEOtWrUob5688W5I5DfTCvRyQP0TJuZjxeejj/agatWr0Q3Vboh3sz+gwq1JkyZc6boqQ6DOGzasT7jyOyl345kVF6i00Wt2U4ubqE7dOs40BfNtweeYBVG5rja1AnFgNVKxCCt/gfx04bzWhwphB891fGLxTzlvFmqlATlz5qRZs2YlPpxt0pt6/Muvv7Ce4avinkZxb8zs66RQYeiaeqA4ffoUZc+h5yV7+w0haMigEmgiKVQQhMTYumUrvf766zRj5gxXYepeeP65eg1PhG/R4mZVIeTiSiF79myeC1l8I5HCF2o7lixZwr2ACewk8U5agpWjoaGhVLNGTZe6nTR1pwknLUCsXfMX9/jMmTPbMdfP72l3Dw0dOpSa39RcGXiBiXfgh/EQtKhwP3XqFJUuXZp7xfJgeDYpTPzr84cffMj6daFpwB59uHjhIpUsWYr2qjxbsLC1n72fcDn8MlWvVp127NwZvze9wfIjGqrIe/9u/Jc1RvCzxLqPzHsG3AMTXsB+7gllD2IEFqrhd35a8RPrHJ4zd462oHD/HSFoSSypCYKQCFiPsW3bNurZs5djYBWW9qrlpjc2oc5dHuZt+woUzO8IlBax0Xqe5lUK3F1KSEugSD7+J+LxZJbKGL9j8QR2pcmUxQ8ESmB+X5d2jRo1pJ07drDwy+C5cjoUY5cq5Wyx6BXqPW6T6/f9IQ7SBSq8sZhm3LjxV596Aqz4QRptfWdrevudtykK+/ZboCEESwX0XuJ+hSpzMEfy/gfup59//unKtAY/atALD7VIPJcZ5tYzBo0rjcc+JR1WV/xGYqjvu4bX1bcPHz6i8ljj+Pfxe+5uEIIWESoF4RrBZPjff1/JwokNBMQE+0p7KphRuGozLB5wqaDRsJDpxr59+5yt6DRcEZhvu1u3KozUhisW/L7tJsu/aYbb78Od//vf/1jBvv3s5KlTVLSId1tKGhLEnz/4NdhB+Kojs2qw9OrdM6Hi86RA3CirmGNYsVJFypo1G128eMH1PRzvv/8BjR071knHMPMn4H51dOzYkVX8REQksghM2YEuzhub3hjvB7xr+wdBpu/hV2gq2LB+A/fgPvVUX3ryqSdZrdCMGTOc8sxbtBsPHz7k2uqUyzPr912NaH0vBB8y/C0I3mByiSogUTA2b36TEix/87iAJ0GBqR/99uvv9O+GDdwbguGp6JhoFg6h8gMrUhMswgHWJ7HDTJfOXahqtaraxAHuwG9jWOzosWMUHR3FK8ddlYabswSNCpsjR47Sffd1oLlz57LuSlSsLVu2ot9X/qYtCUGLiv9pU6fRxk0beY4zwMr9pk2ashLvHDlz+F/+gWyn8nVURBS1uKUFvfLKq9S69Z1XulG5u3379vTCCy9So8ZuZQqAvxTQ1bp48WL6c/VqOnL0CFWsUJHKlitLJYqXYA0J2bJlZ8XptevUjp/CkhQmvNR52LBh9GCnB6luvbrx7rOe+1W4Cj5HhEpBuFZUjqlYsSLt3r3bJVBitSMUJ0NfI2MKTl0ZbN64mXbt3sWrvbFlHApqLNTJlj0bb3VYoqR6L5ECF7tUQL8er+ZU70KhOIbf/1yzhrarM1TXYJHIHbffQXe3u1sKbS+AQA6BYv369Twv9t8N/9KkSV/Q2HEfSsWXDsBOVdgJao5qVNSsVYPeefsdOn/+PI0cNVLb8EN0utyyeQvddVdbWrhwAS/gc6VV9RzCcbt27XiluCdhEFN3MNIy6vVRFBkVRc1uvJFq1qxJ+fPnp5y5vZhKkBRwnzo++fQT9b0C1KlTR+7Jj4yIpIOHDtLWrVt5S9czZ86w8NqlWxfnPSGoEKFSELxBF+g4o1erXPlyXFAyygw9Hy1btaTSZUo7ZsC8A+xrG0/mbmbnzpxjnZUFCxVUxhno8JEjSogsykJkw0aNWLdiSEg+7jVFdjY6+Tz+nuAS9C+HXaY+jz/OFfPevXvo5ptupoe7PCxhF+wgfhXfffcdK+m+/fbbacyY92nVqlWUM1cO56E/otMtGkTYFAG6IGfPnk358uVzpVfshANBDorHmcTSsQ6DBM+Tk+6td8+cPkv79++j06fP0O+//UZr1q5hwbJY8eJ0441NqVrVatwrWrmKF3vsCwGHCJWCcDWQQ3CoAh1AqMTCGeyVmzlzZlaAPmfOHHrzLa1DzpuC2bZnrj28u2D+Al6pDL186IVEBVi1alVWi+KRJL4laKwwunTpEqtAQs/v6tWreejP9OYIQYxOA7O/m00//riY9YrWqFndeQb8Lf/APcDkbcUzzwyiCxfO0+eff84jJkePHKX69euzTluMpFzV/eabwHzX+n6i7xt7QOUVTOXBlJ516/6mH+bNo99X/k5nzpylJk0a8+hK48aNqVSp0pQ7Ty79khDMiFApCN5gFaToKXj33XdZCLmp+U3062+/8naNhQoXciwkF+u3/lj1B4WEhFDZsmUpW9ZslBmqROxCXbh27PBT15iSgAPqV7xe+CEELib+1RmbEkAgYhU9bunC3/PYpQuXqH2H9lSwYEEaMuRZ6tv3KXpWnR/o+AD3Vqak+1EGonGNRUOYhxoeHs4CbeNGjalmrZqs7gkr9DNnypRg1yoh+BGhUhC8BcNPKB/VER52mZYuXcIVEpRplyxVkq2kGHroKxAqO78G4YfDk+woYZuuSNAj7V4LBkI6UG6Gvk4MgWO0pEH9BtSrV694VULGT772i84nUM+06o9VLNRiJyooPM+eLXt83pL8lC4RoVIQvCWxQtLOQcktRNW3kCWv6GmQAtq3GCHd4KkUlPAObkyesvNWoOQzk16VW2OVcHf5cjhvP3qFJoqUwFO4uaOecTmWGu4R/AoRKgXherAL1KQKVx8RGxMrQ7M+xqhkMrh6rkyJKPVh8GLHsXv+DdT41/5IlTnBJszss8HcG/d4aiQLQYsIlYIgCIIgCEKyka4PQQgUpPknCIIg+DEiVApCIGGGlQRBEATBzxChUhACBcxJknlJgiAIgp8iQqUgBBLSSykIgiD4KSJUCkIgIb2VgiAIgp8iQqUgCIIgCIKQbESoFARBEARBEJKNCJWCIAiCIAhCshGhUhAEQRAEQUg2IlQKgiAIgiAIyUaESkEQBEEQBCHZiFApCIIgCIIgJBsRKgVBEARBEIRkI0KlIAiCIAiCkGxEqBQEQRAEQRCSjQiVgiAIgiAIQrIRoVIQBEEQBEFINiJUCoIgCIIgCMlGhEpBEARBEAQh2YhQKQiCIAiCICQbESoFQRAEQRCEZCNCpSAIgiAIgpBsRKgUBEEQBEEQko0IlYIgCIIgCEKyEaFSEARBEARBSDYiVAqCIAiCIAjJRoRKQRAEQRAEIdmIUCkIgiAIgiAkGxEqBUEQBEEQhGQjQqUgCIIgCIKQbESoFARBEARBEJKNCJWCIAiCIAhCshGhUhAEQRAEQUg2IlQKgiAIgiAIyUaESkEQBEEQBCHZiFApCIIgCIIgJBsRKgVBEARBEIRkI0KlIAiCIAiCkGxEqBQEQRAEQRCSjQiVgiAIgiAIQrIRoVIQBEEQBEFINiJUCoIgCIIgCMlGhEpBEARBEAQh2YhQKQiCIAiCICQbESoFQRAEQRCEZEL0f9tFObcipr3YAAAAAElFTkSuQmCC)\n",
        "\n",
        "![image.png](data:image/png;base64,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)\n",
        "\n",
        "![image.png](data:image/png;base64,iVBORw0KGgoAAAANSUhEUgAAAmAAAACCCAYAAADheHRwAAAAAXNSR0IArs4c6QAAAARnQU1BAACxjwv8YQUAAAAJcEhZcwAAEnQAABJ0Ad5mH3gAAFdtSURBVHhe7Z0HYBRFF8cfhAQIVXpHitKLDRSxoBS79CYqHelIsWLDD0VFQBBERUAUFGkCKqB0qVIEpPdeQiCBBNJz3/u/nb1sjku/S+4u8yPL3s7WmXkz86a9yWFjSKPxZEwJzcE/42yUwy8HxcXGk1+unIY7zvM5Ozg23azuqcHxWRqNRqPRuAFVgmk03kGOnIZ2lDMni65FMXOKVqQ0Go1G46HoFjCNRqPRaDSaTEa3gGk0Go1Go9FkMloB02g0Go0mq4hXe2COX9VkC7QCptFoNBpNFrNv7z4KDQ1VR5rsgB4DptFoNBpNFjLvl/m0desWyp07N43+aLRy1fg6ugVMo9FoNJos4nLQZVr2xx/09ltvE9pDoiKjjG5JbLp5xKfRCphGo9FoNFlAXGwcvfH6G/TmW29S4cKFqXat2rRt2zZ1VuPraAVMo9FoNJos4MjhI+SXKxdVrFBRDEzffffdNH/efHVW4+toBUyj0Wg0msxCzXTEah6Tp0ymcePGUUCeADlVpGgROnX6lPzW+D5aAdNoNBqNJjOwjOk6eeIEHT16jPIXyKdcSAbhBwUFqSONr6MVMI1Go9Fo3A2ULyyPpra/Vv5FHznMeAwODqY7qt6hjjS+jlbANBqNRqNxJ6rbUVC//9vzH9WqWYts8TbZoqOiadHCRTRs+DCZDRlvizeUNY3PohUwjUaj0WjcCStSUKhscTaKi4ujG+E36Oy5szL2KyYmliIiImjq1KlUpGhRqlO3jlyfM6cunn0dHcMajUaj0bgTGxe2fjlp165ddPz4cTp46CDlzZOXjh45SnNmz6bOnTtT48aNqXuPbnJtjpw5SJtI9320JXyNRqPRaNwNl7SHDh2i8+fO067duyg6Oprq1atHFStWpPLlylP+gvnVhRbM0ll3RfokugVMo9FoNBp3w0pU6dKlKU/ePHTp0iV6/vnnqUWLJ6h6teoJypelOSQ+Vo8B83W0AqbRaDQajTuBYsVbrlz+dPXqVbp08RJVqlSJcnAJDAOsdiw/baY2ppUwn0UrYBqNRqPRuBkZ7cPb9evXqVTpUmLzyylK7/LL5Wf80PgsWgHTaDQajcZdQKHKwX85clBgYCAtXryYHnnk0aRbtnSLV7ZBK2AajUaj0bgLKFSqVevGzZu0b98+atSokeGgydZoBUyj0Wg0GncCJYy3a6Gh1KljJypYqIBdKdNkX7QCptFoNBqNO2FlC7Ma33//fbrtttvs3ZKa7I1WwDQajUajcSesbMXExtLKlSupQsWKuvVLI2gFTKPRaDQaN5M7TwC99vrr1LTp47rk1QjaEr4me8PSb6QAm8xSEnTXQPYiXu0B4t6Mf8iFNXc03bV8pAzCVCsZCSCfiec8xmrzS5Pt0UlEk+2JjY2RPeoihq0eOUyAC5N9/+2j//b8pxw0PgGUBN5g8NLQtSwRzz/j4+MNN2uZaf2N+81bLLfGx+FENkaFqTVMsj0sN4nkS6NhtAKmyd5wxpgrVy7jB/43W8EAyhCutcbb4unEiRP0zjvvUFRklDqp8Rk4ns1ot3YIxLEihUWRRTTMnFIpbVKWwo3PicJlEZu4uDj1K3uBtBIdFU3RMdF8ZAkQjZATZu81GgtaIjTZHhSyQUFB0hUZz4WIHZS9KICZBxs/SA8++CAtXLBQjjU+AHI/3kRhUnENZercmXO0ZcsWCg8Pl+OY6BhRvKN5HxsXS1HRURRxM0Lc5VxUFMXGxBrPZPwD/NWv7AXC79SpU7Th7w12hVZjQZe2Ggf0GDBNtmfbP9soNDSUmjRpQjlz5pRNKvBo6UCmySkEtft9+/dT927d6J/t/+A2jQ9x9cpV2rx5M61ft56uXb9G3bt3p6JFi1JwcDDt2bOHwsPCZQ2/a9euUShv2EdFRVLJkiWpYsWKVKtmLWrECnr5CuWM1rFsrIB8/NHHNHToUGOpHa2IabwZpGWVnqEqmRVyV6EVME22Z+vmrRTJhekjjz6iXBRQwICZ5nhfv1592rVrly5YfIgD+w7Qe++/R9WqVaNcfrnoyJEjdOHiRYqPi6OyZcvSA40aUaVKt1PevHmpUMFClDcwkPz9c5Gfnx9FR0fT6dOnxbr5vHnz6IMPRlHTZo+rJ2czUFHh4mT3rt20Zu1aevXVITqdaLwbUwFDS3lsnH19zqBLQVJpR4vvyRMnZW3PZ597Vs6lBa2AabI9KIB/+eUXeve9d+UY3ZA2W7x9zIZR68khXVVvv/0Wjfl4jJ7N5CPY4mw0aNAgOnT4ENWtW1cUbLRolS5TWpSvAP8AI9NVyoU93vkY8oAxgxisD2Vs/7791K17d9q4cUO27YYE6I6d/OVk6ba/9757DUezlNHJRuNFcDHA8hxDYWFhMkxlx44dtGbNGjp3/hwF5g2kChUqyJhHKGK//f6buiv1aAVMk73hBHY15Cq1aN6Ctu3YxrWceElgZ8+eperVq1Ht2rUpf4H8cikS45gxY+jVIUMoT2AecdN4N9FRmAEL7YooIE+A4Qg4ro2M0TgnSjiUB8PRwFQm2A1Ke05Wzp5/7nmaOfN7uq1IYXUye3Il+IpYff/oo48of34j/eRAgCHMzHDTZAgxa8FyiYkPAbktsqtxDZyuT58+QyuWL6fVq1dTWHgY1ahRkx5r0oTq31VfKmngk48/ocB8gTRw0EA5Tgt6WKAme8OFQZEiRahM2TIUw4Xx4sWL6bffllLVqlXo++9n0QcffECXLl6i+Di0itkoT+7cMghb4xsEBPhLK1ci5QtgGKDKHePi46S1C10Q2Eud1apE8G8oX1hqJuRqCOWEsmZV1LIb7Hcst9O5U2f65JNPpJXQPrs4O4eLK+Dwi4uJEwX30qVLFH49nP7ZaoxJhUKmcSEssj///BPduHmDPvzfh/Trr7/SJ1wBf+LJJ6h0KVa+OLgjIyJpxZ8rqGXLluqmtKEVMI2GE9rDDz1MFy9epGnTptGoD0ZR44ca0+TJX1Lnzp1p8ODBtG3bP/aCN2dOYxyAxkdQugFAIYZM1QSKQy6M98rlJ92M2Cc1EPfsubMUEhrCcqIcsjHovm/QsCH5+/vTpk2bE4WxJu1A+cfs3A0bNtCoD0dRh/YdqEuXLqwD2Ojo0aNyjasHiGuIXnv9NRry6hCukFeVfB9hbFYmMEN6wYKFVKN6DSpfoby4pRXdBanRMH+t+EtqOjAr0KZtG8rpl1A3QavGu++8K24hIaE0Y8Z0+2BMjQZAcXvllVeoX79+VKtWLVHasi0oUXhD0RIVHU1tOT1NnTqVypUtZ5zX1f7UEU/SyrV5yxYu6OdLBbF58+bUvFlzqsIKQb58+Sg8PIy+/vprGj58uLqJ0XqY67HItBG+GBMcK3Hx1dSvqFr1anBMMzopaDRM5cqVpaZernx5ruHkFLtP0qTPf7cVuY3Gfv459ezZi3r16innJUFqNIrVq1ZTWFg41atfL3srXwAFFG9oLYApirFjx9IXX3whi1HbSxxWLrI1yeQfoVdD6Y/f/6BXX32VevXuRf/t2cMK1ghatGgRjXhtBNW7qx7lL5BPusihD1y4cEHCW5pStPKVKSDsZ8yYQY0ebCSzp9NbHugWMI2GgR0odDWipeuOO+6QmW05cuZkZYtPcgqRvE0VHjL4FSd0ZqdRvNLnFRo58h1W4MsqF42VmTNmyljK19943XBAgjKVsewKwoA3jCmF0V/Ym9u4YSMdOHCASpYqSQ8//DA9+GBjKl6imHG9E8Kuh9OIEcNp6tdTlYvGraiKAwbk33//A/T777/R7ZVuNxylkDB+ppbsngR8D5WoNWkD43swxRjdjBhXIUGIuolKVOYYYmCfzaVxLwh7L2kpiYyMNJQvfLMIj8ZK165dxZDtVgwYR9rJ5iUPhjpcvx5GO//dSV9N+Yp69eot408x63rKV1No3PhxMrAbxoCTQyZ8aDIHVRaAjz/+mF5//TUxWWMnHVGhFTBfggXE7KMOD7uhm/nTQJ48eehy0GWjGV8hg1qRQpCwrIlLp5rMwRIXGBh/6uQpdeR53HP3PQkZtFVWNBIuGET+xptv0Ju8hbHi4dOwf53NSIS5CHBg/wH64YcfqFPHjjRi+AiqwIX4lClTaPac2dSydUsqVKiQXAc5wuzaJOH8HZVB3YmVOcgydRwdMNI86/tZ1LZtW6OMyAC6KPElWBZEIFhOXnvtNfr333/VCU1K5A7ITXdWu1NaupCpoYvRHAOmySKQO/EG+2s/zfmJGjZsKFPwPTFOBg4eSDHmepD4Pi03RhigEsh7P38/MU0BA609evQwZpr6ajhZ8mFsGE969MhRmjt3LrVu1ZoG9B8gKyhA6YLxztZtWlGp0iWNe9MCv0Jm5eoxqW4HJopMZXjK5Mk0fsJ4CuAyI6PoMWC+hIpJROnbb78ti0c//czTypE3Q340zuDwmT17NjVr1oxKlCihHBmHMEPXQXa2cp4V7Nu7j17o/AKdP3+edu3eRWXKlFFnGE+QaZYdpDlroSvfpdObU8aNHUfFSxSnF154QZQHc2ylNyP5gj/nCyrOYRPuHMvrjh3bacmSpXT92jVq8thj1Lx5M6pQvgLlzsuFt5IbIMMaQFrCwriVDh48SNWqVRcHPTbVDah4Qvo+feo0tXy+JW3bvk1sApqmaVBJTI8cawXMB4F9kokTJ8o0Zcyi0SQBJN+SWaGmipYwAOObWIAZCy9HRNykGzdu0tWrVySDa9q0qc7kMoJjjpNMWEbcjJDxQy+++CItX76cWrVqRY83fdxoWcF9HhYPaNnBzD9dECaA5Z5kCSeV3qCstG/fgXpz3vTkU08aF3k77Dfku6gk/P3332I5PfhKMNWtU5eaNmtKDRo0oNx5VIsJXyvFrkM6sMtMeuTG+qz03J9KjJagnD5phgezT7du3UotnmyhXG5l9P9GS0tu3779OA7VcnVmeKcj3LUC5msgNlkQ5vw4R+xa9erFCpgbE6TXwQV3PBJOTkvC4TCL48zz+vXrXJs8IDXKY8eO0eXLwaJ8+eX0o8DAQMlAK91eifr37y+ZkA7XdGDmNo4FhmNYcjzd5LB/9913ZezFuPGf055de2j69Ok0YeIEio2Jo1z+HlgIwF/Y0lEbzi6ga3/lypWiVP+7819jSRcvT0vwE4Z8fDjqQ6pevTo99fRTdH/D+8k/t78hD8p/yQ1ryJAClkmcPnWGChTIL6Z5fI1zZ8+JAta6TWvlkhiMY3z66Wdo7tyfKW+evPbVM6B4W+1GpgWtgPkiHKPLli2XDAEzNbTR0FtBRoia+OnTp2nrP1vFwjRmQZYuXVq6bp984kmqXKUy5c2bV8Zr5MmbR8IVycXe1eTBGaXHwoqVmmNqFDhm7mOGJfbsFhoaSh9++CFFRUXTxIlfSAaH5Vfuv/9+2rVrlyjELmll0vHoPhC2vJkVHpQ0aDBAgYUu5Yb3NxQr7l9++aX3xwH77fnnn6cHHnhALNSXLGmM6UILCca/3QJfL8qYBW9QwObM/okac/5Y4fYKysV3OH7sBFe6g0QuE6Hi6uSpkzJ+b8nSJcoqvjqfAXQ9zddgYYENq6JFi1BoSIi03miQgPCf0f1x+NBhGj9+PD38yMPUrVs3OnLkiBg9XLduHS1esliWn6hTrw7ly59PCn5RvhSSScoPY6dJO+YkB3thozYUzABjK9588y2KiYmhCRMmSBwgA8SizmhVmD9vvlF44b4MIs/hP40bQPxwCWO2FpsF1siRI2nQ4EFidw9hv3bNWuOEF4OK2dtvj6Rt/2wT8xEvvfiSVCDWrF1Dx44eo7BrYZL32EF4+HE64Moc0oI9X/FwNm/aJJVSX+TMmdNUrKgTm2uIK46f48ePi302jFuUdisju8oQugXMB8GYi/3799PESRNp6ldTjRYb4B1p3KWY408wdmHT5k3ShXXu3Dnq0KEDNWjQUIyuBgZyhpKWsEGKyYZh6RLMTAvhZ4YhwhMbF9B7/9tLb77xpsxIHTVqlJgHwUBXga8/fuw49e3bVyyFO21Z0HgcWMjenEG2Z/cemjx5Mn39zdcyUP00F3p9eveh5SuWJ+RTXgwU+osXLlJEZAQdOniI/vvvP5k4guENuXLlooZcgbirfn2qXKUKFS5UiEqUUhN+zDRgTRceyLPPPCsW+X1xtYfflvxGjRo1oiLFiiiXBDA+eO3ateJ3GL2F7ObMlfH2K62A+SJcyGHdMKwPhuUSZHYOyLi8eBcs2Tdv3qQ//vhDVrKH4cPu3bvR448/TgUKFJCxRRhIidpNojFhjvBzkEzsrTZQIjw8o/RYLAoYWgRgUbqItNaG0o8//kh//fUXtWnThjp16iQFlr1Q5jiQWUe5/Khb12701FNPUbt27dIXB/ys2Ng4+uefrZLhJkLHqXtAWrxxk/r17y/LEhUqWJCdbNLqOe27aRQRESGLHvsKsTGx0v1oFtIXzl+gM2fO0r69e2n/gf108uRJds1B9evXoyZNmkhFEEZXJR8y8UBZbNu6Lc1fOF8d+Razf5xN7dq2s4/tcuT8ufPUo3sPmj1njijPaVLAWP6dxadWwHwRjlFY5m7Tug0tXbrU3gWQ3UABP2DAALpy5YpYmsbYBQykN5v7IfrI8HBs/jbcjXNyGf+WGVxywti5OizRSoeXYXHX7LSOIMZ0DRkyhKpUqSItWwUKFqBhw4ZRpUqV1BUcLNZWEYQ/H+7ft19awaBUp2swMD8H6ePpp56mhYsWUqHChaTlAl2jErcujt9sjYozDAHAgtInTpyQ9QyhiMuKE3w+JOQqtW/fXiqLFSp68dgi5Vf5CXlKrkWPr4X8//Tzz/T3+vVSSa5VuxY98sgjVLNmLTHG6ooxRq6mZ4+eojD7ItO+mUbduILubMy02X380UcfSV7V5cUuVKxYMd6KUwDHnRHXXJHnfDw6Jloq+8hjIm7elErm3XfdTcWcLCmlFTBfhGMUGQBm4ixbtsxwy4aFyvmz56lmrZr01ptviRIqyhb+QbPiP4i+ZJR8nNPPj3JhYwUI16H1pUiRIlS2bDmqXLkS19gLJSRMN4TliuUrqFTJUrLQroBUaaZMD8yIXQL8x2G5fNlyWdKjRs0ahnsq+HHWj2KPrUPHDsolbUAh2LF9u3R9jXxnZEJ4I27dEL/ZEg5PpC9ULpDWur78Mn01dSrlyxdohLVcYqTB3Xt2y6LdM2fONOzsmXHhayh/C8p/Yr7i3HkxszKflVTkPe+88w7Vr1/fMF2Be6z3ZWF+MGjgIBnaklHs3dLsL8mDzUpuFvLdtOnUuVMnypvv1jFuMAAt+T9/5qqVq+nHH36QbuWQ0BCKxSLzDMoNDJcICAgQUzSw93bvfffSQ40fovIVyst5aQyxoBUwH6ZF8xbS/ZYdZ0GiVQk1EdQy/9v7n3RFYnICJiUgkYjSBYUMhQP/wzlMM0Ziio2Lk9rLsWNHZQwHau0dO3SkgQMHUkDuAJcXELB1Vb58eTp16jTly8+FE1AZE/CEzMktuDAM0wNkBDaaxowZQ/c1uE93LbsaxC/kmHfbWdnF9P2xn49N6IZWiBhwudS5Y2dq36E9tWzV0jjhi6gwuUXO4MZgxjXWy+zfvx+1bt1aVjQJZIVVlBTzhixUwLB00mdjP0vwQ1rh+6ByBF8OFmO86XqGm5g543tq1bIlFbpNLQXlgChhjuNOVbwlwsFPyZrMgQLmlHi1ZRTzOal9niveqRFaPd/KFnI1VB1lM1IrbyZxvDm5h5Uy25XLV2yTJk6ytWvbzhYf60IBVY/asnmrbfq06caBI3wN1xZ5c+F7NXZCroTYuOC3hYeFG/EBOTDBsbllJr4S1WZ48r53r9627du2J8gx3NVmul0Oumx7pU9fSXM+K++WMEmKOM5jII+Tvphk69e3ny0qMkrCQ/KeFO51N68Nf039ygD8/QvmL1AH6cfVMvLjDz/azp87r44S4/RdcEpuM+MKGzD3FpLWpaHZmdqdMy0vNaj7+D2y2Z9pbo4kd06TZjC25cKF8+oo+4EWLTR1s+Abm/rtVL6QElBzcai9oMkYlo8xlgwDZRf9ukidcQF4VzzR55+PlYHnTuFrYFXbbOb2CTwlffN3YNxZ44cay8w8DBJnCbGf40xXJmpk2veq91y4cFHGnHBBbDh4K5BvTlc3wm+IoeN69eolMS6K3djv6PK/ePGC2HnzWVSYyD4J0DWHVUwGDBrAsnCB1q//2wi3ZO7JLGDcO6OgtwF2/owD3iD35pYGJG2CNN6XFOg2vH7tujpKjCm3ZvmBPfxhL1usm6nvcDzjGEhadhJ/SStgOKPOYhV3ZE43w29KYpLf5sZu5u8bYca5kKshsuI9unFkizA2WLa+eTNCNsMtSrpf8MyIm5HGR+MjPUDQfIGiRYrSpUuX1FH2Q7oa8QNpwEgHCb+R8FNTvuFafgjSABaDhqVkl6C+AzbIMEmgYOGCRmKFuwUokJ98MkZmANrx8nIZ4Xnm9Bl1kLWgG7pnz550/PgJ2rFzR0JFkb/RmOXkECHuAq9Rr9qzZzft3LmT/FwwzT3LsATbH8v+oBYtmktYi7uD/JrZPWYNYhIGBuOjwMNMQjuW8MkWqECBwdq//vzTCDMP8D9m12f0OyAHISEh6oA3UwDMfSqBncDgy1ek29YVoLyA+RDBLB9ukVX+SPnDgHtjCMstm/qHe1kVk/v8IPtOSHIMGFoLwG+//UanTp8SjRUeRs0sMipS9rFxsTKdG8j4Gr+cFMGK1ZnTp6l4iRJ0222FxV0+Bx/GH5E7d4AMMszll4v8AwIoT57cVLx4ccqfL7+s85avQD55nibjjB83gQLz5qU+ffsol2wExJc3MwE4QxJJKhI9kggKhJkzZsrASxiRdBVjPxtLNWrUpKefecr+zY7VomZNm9OSJUsob2CCQVhvZ9QHo+jd995VR1mEylyRR2Hh5D59etPChQu5gPAjf/9cHO8cFZk5/g5xz6+D/ajt23fQC106G+7ehpnk2C+oVMDMwk9zfkpYcsihUBPgroK668vd6IMP3pdxkbgf424wacITZwW6mzWr19Dcn+fS5CmT7QW+Nawym0cefkTsYTlvyUw9b7/5No0ePfqWvC4tLPt9megnyI+rVauW4TBZunipGFpt0LBBYhm1fqNKo6kF8itxBpzdBwUsOa6FXpe+y9CroTZWumSLjoqWzTw2t4sXLvL112y/LfnNNvvH2fY+zz27/5PtP3O/Z69t73/75HrcFxwUzM+LcdpHqkk/6GcfPGiwOsqGqDEm6dqA+s01cTns0rmLbfeu3Ya7i2S1VcvWttCQ0IR3Oj6Xj1s0f4KvuaYcUsAL0lBsdKyt60td1VHWEheD8UaI4zgbZ+i2bl27qTMGGH+T2WD8z6djPlVHXoySxb6v9E0slypdJdos55FvjRg+whZxI0LGPfnseLCkUN6F33/4/gfbyLdGipuEBcaBZWFwNH28qS0qIuNpYtCAQepX+ilWtLjt0MHDhvy4gOXLlttWLF9hHFhl00oawx55i9yTxH3O9U+zBsP7goUKiOaGmQHScsUbZoFhw5R96wbtEQYu77zzTpo4caJd46tTt7ZstbGvzftatahWrZpyPe4rWrwoPy9XhjVYTWJgTwkz+DRpxJRDtccs0uV/LJeW3zvvuJOThZlAMsaJYycoMjJCxupJLctJ7cpsn8Z1vsLZc2c9ZmaudItxwGPf5LEmVKNGDTHIiLhAq0uAv3OjjO4ES2CFhYfbbQ95JRx+GEO3699dMoM4kVwjyJPJ62Fkd+/evcZsY74uo60tHgvSNssYF87yG2NWxVkl+vAb4TTrh1lic0quZVyV96SXPHnyylCiDMF+xkzzJLF6ES1Rjl7GMW9RkZGUP1++DLWiWcGqG5gt70pSklznn27e5Xg3jlN4IhJL5cqVKSzMWPtKhMsZKhBvCVyNy4ChOMRDtgXSnZ4NQC6VvO/YvpPGTxhPn3021igUXCSzv//xOz322OPGgfk+B9B6jUzm1KlTcmxm1t4MxiWWKlVKHWUxHN9GF4FNbC4NHjxEDLyuXLmSC0LO/U15yGROiaV07wXduhhDd+niJaNLx1FmEeTWNGeRfay9ikWtd+7Yyc45ki5DvB342fQ376GwIpzg3+uh1+mVV16hRx99lKpVr8bOyl4h+mERHFkUJFW4bMdSSxkBfsmZjFKNtXox9tUppkLGGyrErlTOA/MGJpSXVtm0ktbX4Xpzc4Lj411CHCe+Z599ls6dO58gKObe9JTrwk2TBBiEHxYWro40qYZl08z0z5+/QEMGD6Y33niDKlQobzfGl2H48WvWrKF2bdsa73L2TJVmMPj/rz//SkhDSQCbZ96QrjCeFJa+PQYOM1HCOHwDWMH+5ptvZRFwrKeaVdxx5x20Z89/6sh7sKmC01QUmjZtKi0LUC7Mc6kBrWBmL4rzUco+gkqv0PXNFr+zZ8+K8lWyZEmxA4YJazJe1Sw31T1ZwX333UdHjx5VR+mncKHCIh+J8jQOAyzZhCX0/vnnH+OcE10BCpy0EvKffXyVC0BvXKKJH64ghc+D91wKElpAbn8ZUD9nzuwEDdXZh1gDX+NyMK22eHEnq7trUgTGTzFDt1+/vjR02FDpngIoRESmM5ru+X7MGC5Xrpy9y+EW+BooZw89/BAdPHhQOSYNFhhPsuboQSTp36wE8anitFChgvThhx/S//73Pwq6FGQ4ZjLNmjajzZs3qSPvwTQaLF1l/FMG0HN8w5xLWlor6tSpQ9t37KCoqCi7cuxTwD/KTwgX6KuwDrBu7Trqy3nO3ffcTZ9//rkoBcjHo6Kj1MWWLQvA8KKjxzKmgMG/WHLKNE8CkM/BcParr75KE76YQLNmfZ+yH1kucrhwZgYqCjGxMZkqa65VwPjDJUB5f9ddd9HkLycbgZiJHtIoEOYsoJVuT1hXT5NKOOyw+v2wocOobdt21Kp1K3HDOCFXWaXfv3e/LE+BAkpaC5IA76tTpy6dP3/eeVqyHB85fISCgjzf7AgK5Ax1jTuGgYtBfNSrW4/at+9Ab731tnLNRNh/tevUpi1btigHdlItst6C9XtF8cJhGpIOlnNpzZV4mDSS21yT7LIUaQFEOJhBw35CPgNOnTxF77//viyb9umnn0oLGMINFSoooP65/OW6rKZWrVqyqHi6UX6/o+od0gMAywkAfl25chVVr1adKlepLK1sl4Muy7nkkAYwMzwdEBm0hncKIJzDWSnMTFlznQKmPInp2/AA7Bah1nPuzDnjhMa1mIKVlHBxHECg0rVYcTYHRk/R5Qj57dy5kxHGSJQuTJirOfOpV6++kUmk8FyYbqlStQr9ve5vQwE0r3eIe9QqYVfM06ldqzYdO3qMoiOV/Z6kZDgJ7AYYQRrvTRGELeeKiPuWLZ+nMmVKixmARN1n+Onq9zoQGBhIpUuXpvAww/BlphqETS+WcJFWKysoadL4/Vjn8+ChQ+rIizDDwRIewGwVtHKVFczR/xvN+cwLdN9999LKVatkUe78BfLLvaYZFMgjSKtS4WqkOzk+mQH0qSA2OpZq1qwpLV0ID4wVD7p0mSaMH29fl7Vbt26yjJ50CSbhVyx8LV2zSWDmE6jwyYSWFMIMMnvtmjIQm0m4TgFDOJgbkzdvXtbi+9K+fftkQKYm42CcgL2PGsKUgkAh8cLGmp1U3JPdQY1z+vTpdPr0Gfr0k0+NWXJJp/G0gbBHAzFvS5csoQceuN9oHUju+XwPMob27dvTB6NGKccEzO68ayHXqG6durRt2zY59mTKlS8nhhjFuj8+Pw3hC/lPVLZbf7tStvm5KPQGDRpEX301lU6fOS1rwclAabwzDd+cZvjZkAsUUlu3bpF3mi0FTmeFeQqWMBG5diQtYcbXFixYUOw8ieLibeCTrZ/N8WaWg0izkP/x48ZTn969ZfD34l9/pXbt2xm2/sz7EF7qN+6F8iWKbRYGByZWREVlzPApulUx8xsTi8LDwsUm6IQJ4+nVoa/KOfj7qaeepk2bNhnHDkgY8F88Z6Rm/ifgpxHEnE9g8Wwj7zbST8qzrtHyndkrjrhOAXOEPd6uXVvW6FfatXdNxkBP1Q8//EC/L/2djh0/RteuX1NnHLDIZIkSJUTI4ZZIWFMCl5qXs1DDErysZhB+U5539cpV2dBFEBoSSqFXeeO9FFAgDa/yJNauXSMD3r/5+msKNBfGdiFGYWITg64lipcwHFMAGcNjjz1GRYsWoX179ylXhtOYGc4HDx2kihUr0uHDhw0HT4a/u1nzZjRv3jzDD6mB/Qnly1xI3REotcYPtXcF/KxixYvRpEkTqVfPXjJ5wNm7XQ6/Fy1ujzzyCM2cOVPyT0m6eHUmvD5DmN+Xge+EohEfG09lSpehNViGy2wFcWXcuhtH/3PejcocKnjoWu7T5xVp/Zo4aRINHjKYipUwxuraW8R5J+M58ceRL209SvGwb1lEfFwcRdxIp1kc9d3oYh45ciStX7+eZs2aJeatnnzqSeMkU6hwQVGGsDRQohZvqBIIBumejRdj8HbwbKVqyOLX6jYZ5iFpyPKcJEhTGekCkrSE7wpg1+TBRg/S2nVrZWpxIvBWbFksTN4GBgUjAa9Y8ScV5lpE2bJlpUunbLlyMngYLY8QZtgvQnfV2jVrZcZJnbp1jAeYYc6gVhXDmVt0dJQI3vXrYaxoRdGNGzdku8ZKQmhoiCyVA6UL43auXr3Kj7BJQejv70+3Fb5Nmsth/61o0aKiKBRhRUFqa85qwZ4IF94YfIkCtl27dvTVlK+oRq0a6qQLMVMaB0u9OvVo2/ZtFJA7QN6fZFWI70HcIPPFGnldu3alZcuWGVbF1Xk8r3279tS7V2+a89Mcmj5junHOHVjkJ93wM86dPUctW7XiMPhHOaaAJRzwfhTQqI2be5d8VzLM+n6WrNE4FLV0rrGn2HKZUdg/WMatTes29Puy36WwyTYVWYlrDl727pDBQ+iD9z8wbOW5M7zdAadr5JWQWeS1qKBO+vJL2rlzB/Xr208m1wTmS1zJQ0XXzBPiORDQzSZy7255Sy38XcNHDJd8COMU0w3H7zVWrvr27UsFCxagMR+PocJFCquTBt98/S3lz59fhoGg1S13ngSbfEgPUOKwpBm66p3ln2dPn5Xwx1jbmKgYmcGeXBo6fPAwff/99zT649HKxf24VQEDUMBQi8O06kTgrdggVN6WsLIY1PaROWEMDVrCFi1aRH//vYHy5snDilhZmTVTsGAhUZLCwqBEhYqQIkPH2DwoxnHxxh5G9UJDr8mi3bjejwsX9PNjGSksBXL77ZWoevVqVLZMWSrMbujSFCG2So0l/tBNYywd4iUKmOkP/tTnnn2OOnfqLDN4c+fNnSCf5t5FIN5Q21u1epUcy8xKNdbjFizfB35b+juNHv0/mj17NlWseDvXEmPo8OEj1KXLCzKDCstyIBNxedg7fMctx2kEfv5s7Gcy281e87WGszOlVJ3H4Fwsno01HDFVH9P3sditu9ZONGX5sSaP02QuQN2inDvCfkXOjK6ZLl26UPESlqEEVswwUwW24YB78QD5aaDCFcqAVyhy6ts3bNhIdbnyWJArl94G5AbRgKEgmzdtlgH2jRo1ojfefJMKFDTGeCFekA/fYpgY8g8Qb+o6Mw6zDPUd076dJj0rzz33nOGewe9COKG1Cw0HZr4Ft+DgYJkVifflMZdhU9+A3hhU+lEpQsUf5aEjaDSAkpYrl7/EgVluJsWhA4do9pw5NOrDD5SL+3G7Ajby7ZHSQtOxc0flosBbPUWwvAkzzKywG2afoiULgoyp22itMgsOyXRz5jRm8fFv2fgfEj2ULXRxQfjxXDwnMDCvPSGkGbPgdPadHgq6ON7nWnZMdDSN/mh0wrgDN/kBM5969OhBP87+UY6TVcCAw3ds2rBJxkuULlVarKajhXLatGnSGoqZVM8//7xMY890+DuN7gL2j5Izweo10y+8v3z5MjVr1ox+/nkuVa9RTU4LfM6UXfNa637E8BEyMxTdF19/PVUqDone4Sb+3fkvfTftO/pyypfKxY2oAhi2yBYvWUJvvPG6EZ7KnzCRIoXUlWA6feo07d23V8bUQLYwNAEt2DIRSqV7zKKDEtOgQQNq06Yty43ru9ddjhnvXgyUq48//pg2cAX5w/99SPc1uE8qYAFozXH0H44B3EwFDHmpmadmNep7t27ZKmt7yiB60w8ZjSerfxkMmkfFqm+fvlJRQzklZRS/D2O/wsPDxdA48j4oYvJ+a/ilgwP7D9DixYtZQX5DubgftytgO7bvoOnfTafJX01WLgq81VWRl50ww8wKuyEzBskW5MDZ/Y7geSwW1gw/tfd5VVzy96JrAF26/fv3p40bN97SJeBy+J0oMKdMmUJjPh1jOKVWAcOeQfM7Cl60BEHhvr3S7dJFg+6Lv/76S5ZxeZ0LbJdl3PxejPdDN60pZ4LlmwBkBi2rCFMoYjbeI5MsUFBlkHKR2vMxxrgcP3aMuvfoTnO45onB+c6Q8GFlDM9ftWoVrV61Whbybvp4U1q2fJnx/Eyi28vd6JW+r4gig0qMq8LXHj4mqkDCMACY9Pl35066FHRJpudv2bxFFC7ERaHChakSxz+m72MWbIH8BUSG0QqeJ3ce6c6CAobCCxviRgx+atxOxM1IyVcC/P3pf6NHU7HiRSXtJmqB5LiXvBYCYMoA9pZ04lQ+sgL1TWfPnKWBgwbRokULXfddDgqYwG5/rfxL8ud33n1Hjs08BgoYemVCr4UaJjpwH74PWzrT5P59+2npkqX0+pucd2YS7lXAOMCwthLWslqIyLJiBhYi0BOEy5sxYzCD4SgDmZEZqJYLGb9gPjQ18WTGpxeBlgSM+4LtnZq1aipXN8JhhAwMXWgff/Kx4ZSSAmZBWoasgWyJF5zDs/v170dLOCMxG6AyGidQ9N5/7326HHxZMkDkGLJMjwOQm3z58lHx4iWoZIkSohg9+8yzVLZ8WXWFgfgBrVtKXhbMWyDj2saNG2fvasI1WFEDS5ZAgcB7sUTJ+x+8T5MmTpLu8FGjRtF77713a/eNu+Dv3bFjhxjINAcOZzRsJQwAgoODNDo6mm6i9Yr9fvbMGVG4EJ9oKUS8w0bSvffcS7Vr15a1dDGDzt5andFv0WQYVCrQ3QXlq+vLL0vX8UcffZTQhcpxjBYcKGFoHYNsm9iVMA+ORxn4zt/95BNPsHKECXZu+ljJY2ySP3fq1IkWLFwgYy+N/MdGBw4eEFNBS39bKmHqCgUM65Zu3rxZxqVlVhy4VwFTT27SpAmtWbvGODAxA8vDBc4rMGPQ1eFoxo8PM+O7GbT1n6009eupysXNcJieO3eOJk2aRGM+SWULmBVHvcch/aA7tXXr1qyALXFp3CX6RvYDWlIcsw57lyMjBQsOk5Ahe0sAn0e396SJE2nnvztpQP8BVL1GDS6wVKsW+/fatWsyJR1dEd98/Q1VvaOqPHP+vPl09933sFJSKcn3uBTxt436s0L0YpcXqVHjRupEBlD+x/i1tavX0oaNG+lKcDCFhYfJwGPMbMV4zKpVq0rXshHmRsDaFS84YcsIeFRaw4/jRipppjKNzVr4md+UmufKswzkcsd7+KR5HsjpdBa0bgNpkz8MXesY7wWla/To0dJ9ZvcPewJdw345EyoNCEPgLQoYhqx0ZKXo57k/KVc3YInsNWvW0t69/9HAAQPtcT5j+gwqX74CNX38cQk/e96D+9IpFxs3bKLIyAh6nJ+ZaXEABcwtxPMWZ7NFR0XbHmr8sO1a6DXDzUSdT+Sm0WQiV4Kv2h5+6GHb2dNnlUvmcO7sOduIYSPUESeBWNclAjyrR/ce6ihr4Exa/UoGTvvW62KiY2ybNm6yNWvazPbSiy/Zpn07zTblyym2SRO/tHXq2Mn24gsv2q5euWqLQ1ip244eOWr7Ze484yCz4Hcf3H/Qdvdddxv5lwtBXhl0MUgdGURHRtsibkbY3hn5jhzHxRgvjY2Olb0J4j3dG+IhPX7he2LN74mJNeLGguNxsuBSx80kKXdPAUGgtstBl20vdH7BNvrD0XLqlm+2HmNvuVc2D8dMs0MGD5G9W+FXxcXGifzfe/e9tuDLweIcFRFla/l8S1toSKiEGa6xh6uzMExluP629DfboYOHjOdkEu6rQ0CD5KfDVEHZMmXo1KnTUnvkBJ9Iu9VosgI0/7/37ruy1JBjF5m7gYHJDC3FkxScrlATRKsQLM1nVTqzt8wkB19ibTHDxIcHGj1ACxculK7IKlWqULny5al+vXo0duxYmvXjLJnZK56Cv3grxMc//TRH7s80+JOrVa8m5l5c2gLD/sHYLMfZjv65/cWkDMbIoXUTYcsFRKKuK4CwTPcmkaEelEb8+DsuXbxECxYsoHXr1tKpk6fFqjnW+UuVAKq4lPc7bibO3M37GKTl1LzKXXB5LV3GwVeuUP/+A2Sm41sj3zJOWr8ZWI+xRzRaNw/HTNuBgfmMcHcn/CrIOVoQv5j4BY37fJwMzr9y9YoYeBfTJBxmaJFLClbW1K+UweS1O+64IyF+MgG3D8IHfXr3kcVl27Zra3jOfCP2OM5ED2s0AGMLHnywMa1YvpyKFS/OGYs64W6U7Ldo3kIGkJvdcC5JA+rZa9eupT179ohJCpdjpl2QkW82n2M+wxoGqmtLFA2ED9zV9XCD0oCMF5kxzFBgncxb7Ay6EYzVmjbtW6pfv77ManMJ7D8zK7YqsPAv3FGoL5i/gMqURWWBwwCBgsvMS9H9lRGsz0otKk6QlrBk0OHDh+jC+QuyHNb5C+dFScWYQEzEKFasuAxGh99QqGLDmB7MYIXyjT3i1R4GiGPL3gq6vzFWDgUvCmFckz9ffrr/gftlCac0+yOj8CejWxHjSDG8ABbu4R9RkjMrX8lkxn42liuvbWUCkNuBSHCcvv3W23Tzxk35jVUievXulei87M3fSgawHvV9995HDe5vYDgkw6GDh6hSpcoUgEkq6n53kz4FzPRkcvA1kln65ZC+2/vuu49eeumlhPucBJbHYoaQp3+nJnVwfM6a9QOdOnVSzKRIgZfJcfv0k0/TiNdG0KNNHjUKTxemg1MnTontqL83/q1cnGDKtElq320t6DNSuKSQptBSbhpYRcu508G+fK5x44dEGapeo7rxTBeFYUrs2b2HvvzyS/rm228Mh4y+2wwPYH0O3HnDhAOsHoBWQslXcRGuM6/NCgXMhL8PpQhs0kEZwjihqOgoioyMohvh4RQSGiIrP4gRZ/726JgYuRYtKLGsuMCyOlqQbKzZ4l7rd1gVMWxQutBSiFYRTPaAMer8+QuIMc9SpUoZCntmgvjhT8Ri2t2795AWWdjISndYeglff/U1V2AfpNp1M2CMNY2gwrVxw0YKY5l64okWt87mVWkF+dLxY8fFbAwmQGDs6GOPPyaXJIuKy8wkTQoYbMxgerPpydR+8OBBg1kBa0BdXnxBuTC417zfk4VVhQ6CSTIDT/5WTcpwfMJ0A6b2w5hp3Xp11YnM5eiRo1KoDn11KNW/q74UYFLWuEC+sC4knokZdE5nCPK7JNnLO9ULzfem9H6+x05GvtV8juUZZmuPtByY7pb34bygzsELUL4aN24sNWK5Fucy8l2p5PKly/Twww/T/gMHjHgDbnovWty2bNksMvPiyy/KsbzK6ldLOKWb9H4/3m2GPYMWKlMRssXxCQ4gawszlCzpNrK4pQVR0vixHtHCJJ9ik8Wjn3n6GWrbvq3hbgkPX+QHrsBWqVzFNRNR0oDITlJKtimHfPqfrdtox47togxDZ3nm2WfkEk8jTeJ79uxZ6e+335VKAUOmGmdds8kbQEQyBziDPXHihFFgwb+c4GRT5zVeAseXURiQjE/BEhd162aB8gW5YfmpWqUqfTjqQ/rkk0/ESjaWgHJJhs3PxxgzTBWXgsoJkGVs8WhxUL+NE8YuWfCN5pYRnDxDuqfMLkcr6hit6bKhQMc/3qMrF8ZK7ekzk0ALzNlzZ8X4sbzXne9mv9WrW0/W+5R1EZ1FlPkNGdkyinqGKEYWHB8tcZymkicxuF9aR13xzRmFvwELa8N8QfMWzZUj4wnf5g6U6BUpUkQWqM9sklS+HGjQ8D7q26+vDFFAhcBTSVMyKFz4Nuo/oL9xkJrMWmGvuXoRWL4HwNp2hw4d6J2R79CRw0dk7IFEqPd5KXvDGaK5cCsWgX7nnXeMTDKr4pFTXsVKFen7Wd/Tnv/20Ljx4ykqMlqdzADsJ9TI77ijauKFai1AeREFTLp9VAB4qjybBZm1QMNvVf6Wr1BB7IMJcLBe50ZgAwxhB1MR7gZKJ8ZJtWvbLmGVBk9CxYfgEAdiuiRNpUwayKS4Thb+BphJafJoE+kK9Wk4jzAH3mNsH/zt+eQwxo15KGlKGkWLFaGiRYsZGR6EPzWZNusq9m4OLwKGHkGfV/qIdfF69evToEGDZJkCLKIMWy+wPA6gYKJmirE3Gs/FHDPw3fTvqAIX3ED0j8xUPpAULKkOlsohY1jzDDOGM4zyCwx1oqvVKfx+LLsxevRHysFL4bDEYsW7du9ONHA9M8il4grW/o0fxs5dQE7q311fHWk8iZ07d8pYTsiiT8MybqYzKJtY+srTQZxERkWqI88jbXUTzmveeP11euWVV+jc2fMJteek4NPo5sCMmCpVqipH7wMzbdq2bUNz5/5CDRs2pJ9/+lnW4uvXrx/17zeARowYQQMHDqQtW7cYfk6i60eT9YRdC6NDhw7R7bffLopzps1+TIHcsmRMOjJwJ6KGFq4776wm3ZCCk2Rau05t6t69m1Fo4LXeWHao7z5k75pLGwsXLDS6pdMB4goz39wK4tbyebCybuCNkeWjcJSgMi4VOg/JS5yl90RlUvpEXkD3MsYgVmT//v333xl6VmaAMbBYF9VTSb3IcECjawMF11NPPkWvv/6adNMlawuE8wmcP378ONXhDN/TIyt5coh17g4dO9D4L8bLQspvvfU2DejfnwYMGCDLk2BJGxTqppB6t399DMQFbxcuXuSYzEF+fmrlfbh7QHmWqhYcfGsSchVxI4JCr4ZKpQinq1atQtu3bzNOwsHxHn4d1g40x1PJeU8pQNICfzpMD4RdT7tdtfXr1lNkJNeOnYRnkuBajgNj0ftoo0uQj6UympbnpAaH+BAFnd+RCknRZAaIcs7vYW4DMzw9FfTUYCax2WOTbpTgxcfHUfGSxanl8y09enwVwDqRGDbkqaQpy5XM2i8HDX9tOJUrW46GDh1GFy9cVGedg+ZZTA8Wo2nekHMgE7VmpOr3La0T7H777RVl+jtsociabDlyGgUp/hCy3uDf7ATHx5kzZ6h9hw6UNzCPocx4EsnJi5JLUa/4Oqn4wE2l4G+++UaUAEORs1H58uVl0owdXOsMU06Te7eHA79euHhBHaWe8ePHsxzkVUepBHHA4QxDurfddpsseO3WsLM+24vjyCfh+EB5WK9ePVqz2slSe1mFKSeqshYQECBO6MYW0iNHSu6xoVUpLiaOBg8ZLI0Nngy+D+tReyqpDz1EmhlxHBmwr4Fadus2rencmXPqhAUlgEOHDZXuOW8CtYU402K/6WcHoTWEkZ1NxYxD0q50QfA9u2KQ/VDRdPLkCXrssSbGgTeB7xcZMzyCTBAyiK4FrIkIsxqB+QIpljNGTPHHLL3QEGMiiaRya0qHaLOM28EjVfh4JCmkpfvvv58uXEi7AmZWltLkd8QBF7pXr4ZQ8+bNyM/fT+6Xca5peY7GZ6hTpw79ungxnTh+Qrmo9AW5tSSzTAPpG93VqjzCrO/p06cb55hEaT8N2O/Do/1yGq2/Hi7zSOPSyu2h+L3PqN8pg/A3A5wznIYN76fKlSvTgAEDad/evVSmdBmxuREREcmZfwhNmTxFrkcXHWYNGfcZOzs49qRI5G9Bk+WxY8ekb/9yUDAFBWEfxBvvL12WVr8TJ05ygjtOBw4cpF3//isrqcOyc/Fixe2Cr2GsMpPV8Lds3LiRypUrJ0vd2L/NC+NKDJVy7W7btm00d+5cmXKNGq50f/O/vf/tpf0H9lMTKJtO4gAKS4GCBTwrfpwQfPmKWLovUrSIcrmV8PBw8Q9MNaTZL2m5HmGl+Pabb6lr165UqnQpwyErwhDv9OC483mg6HAlCGnOn5WRpUuXUuMHH+Kyzv9WMxmZGU/8Lqlc8Pehq/yrr6ZK+sAknwrlK9grcWlCPdOsaOSwGTOpPXKCneWTgi4F0fbt26lFixbKxbOw1otTxuIxhHvuPAFcC2xO8+b9QpVur0Tvvvsu9ezZi/r370fdunczlmUYP95YDd7MvLA3f6cQd+kZWOsKIFjz5s2X9ddmzpwpxh7RxYNMF/tp302juT//TGvWrmEFbL90R2CpjQIFuEBjP0lNwZJZZ2vM8Miq2qAVfj/GLcKGjbeDjC8iIoK+nPSlLIEiFRwpEPgcZ5TlK5SXCoNxsbGzw8ffffddumvCmQZ/3vp166hc+XLKwTkVK1ak06fTYZMohfzHioSVkmUs87Ru/Toxdgvr3JkOvtvcNFkHh7+Mn2T69OlDxYsX5zLwHS4ProucoHUa6TFLUO9FWfbSiy/SbUVuk29FvmHv3UkvuJc1B7dPQskIyn9oEEIFzWPhCHIJ8XE2W8iVENvpk6dlu2Rd1d9cqdxcZdzcA+tvB/AMFmJ15GEk9Vlw99BPzhI4LPbu2WuLiozK8nCBLA0fNtx2/NhxwwGr5Lvqm6zPMX+707/87CWLl9hGDH/NOEQ6wR/27K+DBw7a2rRuI+cEh295pc8rkmbd+o0Zgb/r4oWLtolfTLRxgZHsd968cdM2cMBA9+QVlkfGxcbZjhw6Ynv5xZclfBPhhld7OyeOn1S/XICnhq+ZhniLjoy2jf3sc9uzzzxrW/zrYtv1a9cTfXc85NjE3f5R32RuYz8ba1u/br2keTOvkC09pPc+d4PvQnzgJ/sR+cLRI8dsnTt2Nhw9kLS1gCUDxj/Bdlb5iuVlK8G1AWn1wJbOGluLFs1lHAsHpnLxIOAXaNmONYl0+NOn4bDAOnAXzMkaGal5ZRDU/iIjIo2WSlfD/uIMwNjDj+72J4frr78upt69exnjPdT7zC4CWIC2jwHDOQeZNGZtqZvc/a3pgb8Xixo/9thjJOtAOny/FQwyhlFIzs+UiwtQWQ5a4c2W+H379tFbb79Nbdq0kZUMALqChWS+L7uyYP78hPDJCGa0eqKcogRF3PMG23BDX32VPv74Y5oxYwb17duX5v48l4IuXZZ8ByaZxA+8JZo9mFp/qXtThfom+2bex2lEWu3S8ixH8DwPB3784/c/2LvxHj0GzGUKmMARYyY4ETY83dkbrBGYTGRiDBasead2+YFMxRTgjAhyNqF+/fr0888/GfZYsjisMGYH4/tchhn/LKIytgJ/EFfINTY3+RdK15UrwVT1jsT29ZCxx3GFxS+nH128pJReJ2ns8uVg+/c6O5/V3Ai/STExMVSzZi3lkjzJmsNJB3HxxvOioqJoz57/6MMPPqQvvviCpk79ip5+5hlDmb8ZaYz10TgFQ0/OnT+vjtKBqaOY8umBcmpHpXPIRS2W2YULF9K777xLS5YupWbNmlLbNm1p3LhxtGHDBsl/7MNr+D50Y0vlDcDP1s2K6X++FOk/qU0aLPjP6gblMG+eNM749VYQlJwsd/67k9atW0fhHmwHLE2LcacEdC4pfOS3OSU+/dxe8XYJQBi5E61d53VpAzGrhDHL4PdjIGirlq3EAn2JkiXUiUwG4cAitGjhr7K259Chr0pLlSmvKaLuR+bmWCGAgcyQkKsUFBQk9qiu8m9MyGjKGa+QsWTgHP4ehOnCRQuNb2PsChVz6WIQdejQntauXev0/U8/+TT9PPdnKoDlUzwtXbF/Vq1aTcHBl8XuXorw9a1bt5Zxm34cN8jSksx7EFYqvCRcrJdZ3M14vhZ6nfbv3ycLDxctVjTR4ub2PA4FpeOzNDTvl/lUvHgxsRKfJAjzpMKNz6FCgUkYKY0DzHIsciU/uTCE/KBB4tr1azJxa9fuXVKeYZF8VC6wZmvp0qWpYoWKVPH2imLWBGOW/Pz8ZGA/NlSk5Dc/C+4yjouPJcjSIG8LFiygWrVqUbt27fmZlgTvaWk/I5hxoPx06OAh6tSxk4Tz2vWcD3ogLlXAxPMuzISqVq5Kf/zxB915552Ggy8JS0bgcEbmj9ZBzPLAbLdLly6JLTIMtqxRoyaVKlXSiAszdl0YL6kG7+YNrQlbt2yVxYS79+hunMsK+FswWPu5Z5+jtevWynpm5vJESaL8wPVIKWzNlpYrV67Icj5YhHf37t1cywqX5xUuVFhW4MesI6w3CWOnbgl7/qZWrVgB45q2mYSRUZtxjpr2vF/m0RcTv3D6/u7dustKDvfeey8XBrFS0GFSjUfA3491Dz8e8/EtLXxJ0bxZC/rtt6XSHYk4EkXJ0d9oFcDDVSBJpQ5g5+Ra5DeiZKlu3STBtUDnT4nYsnmLyOFLL70klZ3ChQpR7ry5jZN8DHM/0r2cDMePHadfF/1Krw4dyvHADslf7nE4a4gIux5OwZhhzxWMq1euioKGyht+Y7hGPAKLN+SbGOiOFm0YP0V4Ia0bg98hx6kD8gvlDeXosGHDRKmz40syiyDBpvyEsEceieEvW//ZYjh6GK5VwFxM/Xr1ac6cn6hmrRrKJQlEXiGcEDZD4LwtoaYJ9idq6It+XUSbN22mylUqU7Vq1aT15eSpU3T48CFq3749NWzQkPLmy8JmZ1UwIW5gO+mlLi/RtGnTKCCrCnoVbhMmTKCgy0Eyaxe2s1ICBTqM+aEWi2btLVu2yOoOhQsXFhtU99xzj7TSFitWTDI6vOfbad9Sly5dUvX89AB/tGnTlmVgoXwflAmzZQ7K1KpVq+R7X+BvcFbITf5ystTChwwZQvv376eiRYtSSSjtHkB0VAxVrVqVDh48yOGXgvxyWCOtP9H8CZo/fz7lL5Bf/CXrajp6WylgCCvZS4nOpDevwLutpPc5Psrxo8clDWCWKio6ZcuWpeHDh4usYZmsXM6UZAe6vtxNWqvr1q1rOHhTGEM+sDlTckzZMf1j5pX4x+fsS4Q5kgH/QyHBAxI9wocVMLB82XIx0zNj5gzl4mFAAfNUOrTrYNvw90Z15JyYqBjbyj9X2r6Y8IXto9Ef2zZu2JQwSwMzItSsCF+CC1/b3J/n2oYNHW7jWlOCfxVcgNl69ext+2nOT8olC7HEQbeu3Ww7d+w0DrICDieEHcKn5XMtZebcju07bMGXg203w2/awsPCbVw7td0Iu2G7FnLNdvLESduqlatlJl7PHj1tzZo2s/Xo3sO27I/ltsiISPsz7X40ZY3dDuw7oA7cAD8/JjqW47iX7djRY+In60xBzDht36697ejho3Y3R06dOGV76omnZGbfs888Zwtnf3sK10KvS1gn9e12zPMc7s88/Yx95jXyBKf3mnGU0nNTi/U5rnqmD3Hx/EWbfy5/W9AlYzb7jO9m2Nq1bScyh80Ms1iW5aQoWaKkyKqvhS/CQ/zk6C8nx7jW3Ozym9YNmL/NdIDNlzD95kV4tP7b4okWxorrZm3BCW+PHCmDu3v27EkjRgxnjXeZtA5E3IxQV/gea9asod+W/kZjxoyRLkfHWhFqllOnTqWVK1dScFCwcs1ClJQ91uQx2rRpk3GQRaD+5x+QixYtXiSTA4YNHSa27Dp06CCzlgYPHkydOncWN4wr+vSTT2Stt3fffY/+/OtPsQH3xJMtKHeehK6URKjj6jWrGz/cBFraGjRoSNOmfSddHNZWrtOnz9A///wjLaMiG6hdO3wnjNHeVqSIDAxuwX7NVyCfOpP1cE5KhQoVUkfJoLyMCT8Ij6goY7aTtEKmEs601a904JDuNA7k4NSWIyfly5dfZLRr967EFQPp+sa4UJkJyMGfXHyhldKxC88XED/BW45ec3KMa81N8lLzvrRsIAOirnETShHzSNCKMGL4CHXknOvXwmQvtQNm+rTptm1bt8lvX9TyQ66G2AYPHGyLjEjerhbCY8/uPbbOndJuA2XhgkUJLTwZxRL+hw8dNr4nme92O+a7VW0pisMRLWCwOXX+3HnbubPnbJcuXhKbdmgJs9bUnYJz1i0z4PcgftFK1+DeBsa3ht8UN8TbG6+9YZv27XfJfg/sAaG1b9PGzcrFc7gSfNXWsUPHVIcnWlBaPt/SdvTIUcMhqfvgbjn39/q/jRZkjVtAesqTO6+0aJphj9bJV4e8avtq8ldyjdjGssSJI6VLlbadOH7CyEeSuc5ryUw/4V2Om6/hZX7y6Baw2ytVog0bNibdmsUafYEC+eWnjOfg44KFClLotVCKioxK0Px9CNQaMW5HBkwn4z/UlrBGWcECBaVFMC3AZMSZM5aFnJ2B2lRqa1SqBQbLVoWHhaf+Pndghhn2LP0Yj4bZbRj/VLpMaSpTtozM1CxcpDAF5g80xlUlJ0c4Z90yCU67VLBwQXrjzTdlkDOWw0Kr1xtvvEGnTp+ibt26SutOUnGP5JK/QD56oNH9ysVzwGQCrFiQWjkx18UsVKiw4ZBUPDjE0XFZuy8TIy27oOINsoexTDEx0fZgxooNn3zyCc2bP4/Wr1t/S5w4kjOnn9FSBrIy33A1yi+QW9jrW/bHMuLKteHoLsywtm6+hpf5ySMVMFkqgcmTNzfVrFmDfv/tdzkGKFTse/xhxCKO1R5TljHYU7qIfFDIsIxOhYoVxe8pwn6vXae2zNizkwpdrEyZMqwohSW8Q+1johNs19j3qfgOGVjK8YXuCAzAvRnhuavTewvoSkUB9+wzz8iC9zO/n0mTJ0+RmU6TJn0pFRKEuzkw/xYs6QJmNDwJrKu3c+fOVKddyBaMLcqg7jRw6dJFLuB9LIPwEBAnsXFxst6o3RAmgprF0T+XvyzrNnnyZDpy+IhxLgkCAvwNBQz3+lhUmWUZluzDMkYphYXG9/A8BYxlUmz5KOF888236Pvvv6fp06bTyr9W0erVq2nK5K9kejMSJAoigBYfLKIN0wB33qHMVnhWueIy0HqR2syoUMFCiRQwU1F1CudzsOWGzABmFfAOjCFbvnwFzZw+k7755muaMX2G2LKBkdxo1GwdcfJ4iSP+Q2GXNzCvYZBVkyEg72IbiJUO2Fn65ttvaNYP38ui3LAnhJmAIDXrqaZkCiCzkcWMc+aUWb2pISw8jPOMXGIGREhNuudrwtAaq3ELxgxTY6ZpaOg1w9GESx2MT+zdqze99tprFH496XjIHZBbmV1gPEtMXYDhoZo1a9K9991LDe5vIMcuK7dc9RyN2/BIBQxKggw4ZKpwQsXA5+MnTtCMGdOlNeyhhxpTo0aNjO4Viw/Q+gUlzM9f1YTxCF9LtOwfM2xShMMS07+lO0eR7L18ysYaGKaNw64Y7PjAjlSZMqVlAG3/fv3Frgq6J/vxb9RgYQfrSvBVUdwk7pTibEe9zq4oI2PWGUPGQFCa4crxGR0VbXS5K6Dowh4WwjyXfy7l6j3kzh1ADRs2pL179yoXJ1hkCHlCgwb3iayjNQ92k1KEwy9fvkAxhyBomXQdSjYD/AMoODiYK2tBhoMVvubxZo/To48+Sh+PGZNk+EOOpc6onukzsH+QFSL93pInu9CvMFGj8Vw8TwFzhIUR43P+N/pDmj1nNo2bMI7q1K0jNX9ZBsSScH+Z+wu1a99OHWkQdnly52EFKaEFDC0jySfKHHRX/btox44dtHz5cnr9tdepbr26RjhzcGO9zy4vvkDz5v9CvXr1ops3btKbb75J07/7jhWzM4nHa/BmbXGDwizdES7MYDQkVvdhQdsMc/sGrL+9BZaPUaM+pOnTpysHJygZCg+7QZ9++qnMYjWw2PdKCg4PyGKNGjXoxInjxvJpWiZdDsZ7IT+QsU1JyOGQoUPo4sULYrdOKtQO5M+fn5/B+RVOpUKv9jrgJzelUcw07dGjB104d0G5aDwNj1TAzNaStLL/wAGxQL7k1yW0ZPFSWvnXSlq7ei2dPnX61pYZX4W9afVr/gIFJCFaMY2F3gIHOzK7SpUqiQVqTB9HlyEyRnkm7rHcB6OXqMVO/OILuuvuu2jRwkWyWPHiXxfTuXPmGnAqLvFsW7wogOji1LgOLE3iLD69trWRC6U6dWrLWpYYnJzID5YCKy4mjkaOHEkvvfwyVa9eXdzg59R0qWI8Igw9//jjj0ZFzhcL96yE4wJpHWkeRo9REUs0/EHFIYA5nbfefIvOOpn4g9Yh6YJMOUq9E1f5i8MSeTQ25NdoFcfQnRXLV3hlK3h2wSMVsPQyYvhwCgzMJ1bL0RWJsUbXw66LwpFs15uPYc3ogoIuycw+c2IDBsBKoncWHHwbEitaUy7xfRhLhJZGFGqwZG9mmPY9g65HdBOg1WzAwIHUv38/GR+G8WJvvfU2LVv2B124eJGCg6/Ikj1ofUuUEWsyjKxnic2MV/PY6u4tQDT4eyFzsFE27vNxtG3bNi5UDJnBwG6cx9It73/wPl3kClf37t3sfkyx9QvI84nKlitLW7ZspT279tCZs2ek4qZxASp5m8t8YRyiES+WuLH8RIVs/ITx1Kt3b5kRKOAZvMmKBup5Isu+hBkkDkGTXhDGaHHE6iiwb4jxcy1atJDyD0oZygBskpbMiowmS/G8pYjMmmhqE5v6engDwgeFIRE47wLh9hrgX94wQP5y0GUaO3YsPfXUU5wZBshyHkWK3mZclwKtW7WWFfw7d+ksq+mLAoa4McPS3PO7IEGO+SuWk7nIiteff64Q46tQ5kJCQmjo0KFUu3bt7BUnmtQD+VUgTa9auYo+H/c5PfDAA7LkE2TtyJHDMkuyVMlSsl4kBuybildaK1q7/t1FUyZP4XRRhLp160ZVq97BeYivlfSZDOKQtxs3b0gr+aSJk7hyNsBwt0aPw/FHoz+ivHny0sBBA6X7EtSrW48WLFxAlStVNloqsyFQnozltQIkn71FxpEvq6CJjoyWCTldXugipnS6de1G3333nTEbWsWLPcwdHqPJfDx6Lcg0YwqXVcisv7MBqG1i0P3MGTNlgPzJUyfFoju6BENCrtKTTz7Fx60kY0wOZJoRERE0ePAQrkkpm2NJhaMpQakN52wWJ5oMwLJy6VIQzZkzWwblY+Hwxo0b0/0NG8pMOsix2T0ulQRN1oP0zRsqgTAHNG7sOHp12KvGueTgezp27EidO3em5557TpQOLGx/6OAhsc3nU3kG+xUTFIoVL6Yckmb3rt20aNGvMjykZMmS9NBDD8lEqYIFC4rs2xfhdxI+fXr3oa+//vrWc4gjnVyyHN9SwIDpG1O4zFabbCBs6Pffv/+ALMn0/vvv0+nTp6WrZvCQwXIeytlPc36iVatX0dSpX4u9pVtaDBXbt22niRMn0qxZs+QYCd1lBZxO/Jq0kNZWcU3Ww2kcs1Hr1atLXbt2peGcJ6WGy0HB1KlTR1lKrXTp0lSmdBlZjg6tOb4CugAxUxkTTd597x3DMYk8ERNE0PKHyU5QSE+cOEnr16+nTZs2yuQn9GrYW8Qcyz5myKAhNGHiBHWk8TR8L0uD8FkFGT50Iti+gtT+uYDCftGiRbRihbH6+1133UVLliyhF17oYlzDYHzXC11ekBrU2M8+MwbjJwFs06CGZoanS1sXfDg+NG4AadiSU6FQkpm8ZoGj8Tw4jUPJuPeee+15lMSXuVmxHBcrVpTee/c9aXn/4/c/qHiJ4jIRyOl9Xoo5SeT8+XMyvCM5f0nrFhMYGEiFChei+nfVo0GDBtKPP/wok6Wcdrlbnpcnbx7jh1mJ0XgUvqeAZTuQ0xHt2rWb9uzZQ6+//rqMZ5kwYQI988wzVKx4Ufv4GCRMJGgsXXPw4EG6evWq4e6EwHyBMrheo/EILIUKCh2pPDgpezQeAHQKVAp5X7NWTZkJiVUZrHGYCI5Hs5KIvOqhRx6iUaM+ENMUmCHpk6uasHcdZ6c7xfSz1e98L8bIYZk5CVNnGxQu3mQSgzjBUeNpaAXMy4HhVHQ9zpk9m0aMGCHdjL8v/Z3Onj1LHTt0VFcxZsLkhIzZSegSGMK1zKRqRjDs+cgjjxotDSY6DWuyEBTqkEepUPhSYeyTGN1sderUVcZUOfNIJs4wa11Q19xz7z00ZcoUmQjki5gKqX12eVJ5q7Mw41Ib9ydSqpK4XyYz8Dn7agKAj5GW7OBec9NkKloB83IwQyZnjpwUEhoimdzadWtl5QDMfpQVAayJyhLbsJt08NBBOnb8uHJJDKxYDxjQP/EYMV3oabIQ6F1JjVnUeBAcT9I1xn8PPHC/DKy3r0mKPASbAzCZkAjOt8zuN69E5bsRNyNkH2uuo2uC8wgH7OHNNHoV4YsNM//RkpaUgouWYrQuouJy/twFWd3km2++oblzf05cNpjfo8lUvFjCszmcYMQ8BGdScfFxMl5rwIABtHHDRjGIKl00ZqIyNwuwkD9q1CjauWOHckkMamamHR8gYxWSaC3TaNyOVYYdZFnjuWDlDLvh5bTEm1U58GK2b99OO7bvpFwBCcZQoRChFTddCqYKl4sXLooJlbVr19Kli5cSWoVNZU6FNVq+Vvy5gnr27EmtW7Wiv/78S2YRY0k5O+Z9mkzH92ZBZic45tDliFYBzI7B2nZYtukWkolhzFCa+f1MdZQM1mekJSPVaDTZG1TckGckl2/gGqsSYK3sealygDVKoQA9+eSTiSqzZngMHTqMxo3/3MhbU8pT+Z7Va1aLUeJt27ZTkSK30b333ke1ataku++5W+yn2Z/Bzzt69CjNnj2b5i+YTz179KQnnnyCypYtKwvWY6UZFPtmK6Um69AKmDfDMWdPSGYixt78bcXxWGV4dWvXlXUf/XNbMgiNRqNxFWYJk1xh75hnebkChqEhMCK7ZesWypc/n3K1wP57/Y036JNPxyiH5EGrGcxPFChQkCpUqCCzRWHmw8/s2gVmODNo9UIL27//7qJhw4bdalxYKYHJxonG7Xhp3UIjcOIR5cuKmQixTyLjQ+ZgUq58OQoJVct/aDQajatJTUGP8xYFQkomc/NCMIkJeWvevHmVS2IwM9QfA+StimYyIJ9/5NFH6O577pKZ7cCufJnhawkzLEHUrHkzKlu2zK3KF3DipMl8dDT4CmYG55AQ7e4WZECsink0j8elZjq0RqPRuBMneZW3gi7HI0eOUFhYmHJxJAeF3whPv59xn/Veq/KK3+pckyZNZJa8YL0G+FB4eyuqGNb4DKlIVKbNHSTMTp06OR83ptFoNJp0AaPXsLe4cOFCe35rBYPmc+Xyl/z6ZvhN5ZoOzPze3ONVvJkLb5cpW8ZuCwzXyLfc+jmaLEKPAcumyHIYfjkkQTpdxFyj0Wg06SOelaD4OOrVqzfdcUdVev7556lEiZKS18ZER9PuPbtp1qwf6Oe5P6kbXAyX6li6yM8vl9hjS1QxN0t8q5smS9AKWDYlNiaOa2la6dJoNBqXokpU2OeKjIykFctX0LLlyyg8/Ia4Y7b6nXfeSe3btadKVSq5ViFSz0KxjhmYfjn9DBMVuq/LI9EKWHYFsa5rQBqNRuNakLfyJkUrlB8+QGuUae0f6zpiIpTVNpjL82P1DfZn6rzeI9EKmEaj0Wg0rkKVqEbRmsPQwawKkFUx0mRrdMOkRqPRaDSuQilcMHgqepajsqWVL41CK2AajUaj0bgDrWxpkkErYBqNRqPRuBqUrloB0ySDVsA0Go1Go9FoMhmtgGk0Go1Go9FkMloB02g0Go1Go8lktAKm0Wg0Go1Gk8loBUyj0Wg0Go0mk9EKmEaj0Wg0Gk0moxUwjUaj0Wg0mkxGK2AajUaj0Wg0mYxWwDQajUaj0WgyFaL/A/A0Lp3Q1tu7AAAAAElFTkSuQmCC)\n",
        "\n",
        "![image.png](data:image/png;base64,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)"
      ],
      "metadata": {
        "id": "yJDug_5MKpIg"
      },
      "id": "yJDug_5MKpIg"
    },
    {
      "cell_type": "markdown",
      "source": [
        "**Interview question:** \\\\\n",
        "**What is the difference between L1 and L2 regularization?** \\\\\n",
        "L1 or Lasso will reduce some features to 0, thus acting as dimensionality reduction. \\\\\n",
        "L2 or Ridge regression purishes the square of the weihgts tus affecting larger features more, creating a scallws effect. \\\\\n",
        "\n",
        "**How do you reduce overfitting?** \\\\\n",
        "1. Get more data \\\\\n",
        "2. Apply regularization \\\\\n",
        "Regularization is: Regularization basically adds the penalty as model complexity increases. Regularization parameter (lambda) penalizes all the parameters except intercept so that model generalizes the data and won’t overfit. And there are two types of regularization (return to before question)\n",
        "\n",
        "More info: https://towardsdatascience.com/over-fitting-and-regularization-64d16100f45c\n",
        "\n",
        "LP Regularization:"
      ],
      "metadata": {
        "id": "7gZF2H43KvD5"
      },
      "id": "7gZF2H43KvD5"
    },
    {
      "cell_type": "markdown",
      "source": [
        "![image.png](data:image/png;base64,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)"
      ],
      "metadata": {
        "id": "g1x0h7OqMyN4"
      },
      "id": "g1x0h7OqMyN4"
    },
    {
      "cell_type": "markdown",
      "source": [
        "### Example of Linear regression with regularization"
      ],
      "metadata": {
        "id": "WDlLOQz6NTH-"
      },
      "id": "WDlLOQz6NTH-"
    },
    {
      "cell_type": "code",
      "source": [
        "class OURLinearRegression():\n",
        "    \n",
        "    def fit(self, X, y, eta = 1e-3, epochs = 1e3, show_curve = False, lambd = 0, p = 1):\n",
        "        epochs = int(epochs)\n",
        "        N, D = X.shape\n",
        "        Y = y\n",
        "        \n",
        "        self.W = np.random.randn(D)\n",
        "        \n",
        "        J = np.zeros(epochs)\n",
        "        \n",
        "        for epoch in range(epochs):\n",
        "            Y_hat = self.predict(X)\n",
        "            J[epoch] = OLS(Y, Y_hat, N) + (lambd/(p*N))*np.linalg.norm(self.W, ord=p, keepdims=True)\n",
        "            #print((lambd/(p*N))*np.linalg.norm(self.W, ord=p, keepdims=True))\n",
        "            self.W -= eta*(1/N)*(X.T@(Y_hat - Y) + (1/N)*(lambd*np.abs(self.W)**(p-1)*np.sign(self.W)))\n",
        "                    \n",
        "        #print(\"This is W:\", self.W)\n",
        "        #print(\"This is J:\", J)\n",
        "        #print(\"This is P_hat:\", P_hat)    \n",
        "        if show_curve:\n",
        "            plt.figure()\n",
        "            plt.plot(J)\n",
        "            plt.xlabel(\"epochs\")\n",
        "            plt.ylabel(\"$\\mathcal{J}$\")\n",
        "            plt.title(\"Training Curve\")\n",
        "            plt.show()        \n",
        "    def predict(self, X):\n",
        "        return X @ self.W"
      ],
      "metadata": {
        "id": "YZ15WnF_Kwek"
      },
      "id": "YZ15WnF_Kwek",
      "execution_count": null,
      "outputs": []
    },
    {
      "cell_type": "markdown",
      "source": [
        "**Interview question:** \\\\\n",
        "**How do you know if your model is overfitting?** \\\\\n",
        "If training matrix are much, much better that test set matrix, model is overfitting"
      ],
      "metadata": {
        "id": "A-6279mDOx2h"
      },
      "id": "A-6279mDOx2h"
    },
    {
      "cell_type": "code",
      "source": [],
      "metadata": {
        "id": "3887GSwLOvZl"
      },
      "id": "3887GSwLOvZl",
      "execution_count": null,
      "outputs": []
    }
  ],
  "metadata": {
    "kernelspec": {
      "display_name": "Python 3 (ipykernel)",
      "language": "python",
      "name": "python3"
    },
    "language_info": {
      "codemirror_mode": {
        "name": "ipython",
        "version": 3
      },
      "file_extension": ".py",
      "mimetype": "text/x-python",
      "name": "python",
      "nbconvert_exporter": "python",
      "pygments_lexer": "ipython3",
      "version": "3.9.13"
    },
    "colab": {
      "provenance": [],
      "include_colab_link": true
    }
  },
  "nbformat": 4,
  "nbformat_minor": 5
}