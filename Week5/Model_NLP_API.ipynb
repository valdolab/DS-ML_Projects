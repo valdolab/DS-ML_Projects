{
 "cells": [
  {
   "cell_type": "code",
   "execution_count": 1,
   "metadata": {
    "id": "iYXoka2Hnnq_"
   },
   "outputs": [],
   "source": [
    "#in jupiter you need to intall the libs first, in anaconda\n",
    "import tensorflow as tf\n",
    "import tensorflow_hub as hub\n",
    "import numpy as np\n",
    "import os\n",
    "from tensorflow.keras.models import load_model"
   ]
  },
  {
   "cell_type": "code",
   "execution_count": 2,
   "metadata": {
    "id": "Z9b20qlxnnrH"
   },
   "outputs": [],
   "source": [
    "# API\n",
    "# Import necessary libraries\n",
    "import flask\n",
    "from waitress import serve\n",
    "from flask import Flask, request, redirect, url_for, jsonify, render_template\n",
    "from flask_restful import reqparse, abort, Api, Resource\n",
    "import json"
   ]
  },
  {
   "cell_type": "code",
   "execution_count": 3,
   "metadata": {
    "colab": {
     "base_uri": "https://localhost:8080/",
     "height": 360
    },
    "id": "76HWPyprnnrJ",
    "outputId": "66da63cf-6a63-4284-c29c-4f42039380e8"
   },
   "outputs": [
    {
     "name": "stdout",
     "output_type": "stream",
     "text": [
      "WARNING:tensorflow:No training configuration found in save file, so the model was *not* compiled. Compile it manually.\n"
     ]
    }
   ],
   "source": [
    "#load the model\n",
    "model = tf.keras.models.load_model('binClass_89_GOUSE')"
   ]
  },
  {
   "cell_type": "code",
   "execution_count": 4,
   "metadata": {
    "id": "S6x9MGo9nnrK"
   },
   "outputs": [],
   "source": [
    "def predict_label(text):\n",
    "\n",
    "    # Use the model to predict the probabilities of each technology being relevant\n",
    "    probs=model.predict([text])\n",
    "    \n",
    "    if(probs > 0.5):\n",
    "        #its offensive\n",
    "        results = \"This is a offensive message\"\n",
    "    else:\n",
    "        results = \"This is NOT a offensive message: \"\n",
    "    \n",
    "    return results"
   ]
  },
  {
   "cell_type": "code",
   "execution_count": 5,
   "metadata": {},
   "outputs": [
    {
     "data": {
      "text/plain": [
       "'This is a offensive message'"
      ]
     },
     "execution_count": 5,
     "metadata": {},
     "output_type": "execute_result"
    }
   ],
   "source": [
    "predict_label(\"he should die now\")"
   ]
  },
  {
   "cell_type": "code",
   "execution_count": 6,
   "metadata": {
    "id": "_jgFUNcnnnrM"
   },
   "outputs": [
    {
     "data": {
      "text/plain": [
       "'C:\\\\Users\\\\Consultant\\\\Documents\\\\Training\\\\Week 5'"
      ]
     },
     "execution_count": 6,
     "metadata": {},
     "output_type": "execute_result"
    }
   ],
   "source": [
    "# Import the 'os' module for interacting with the operating system.\n",
    "# Call the 'getcwd()' function to get the current working directory of the program.\n",
    "os.getcwd()"
   ]
  },
  {
   "cell_type": "code",
   "execution_count": 8,
   "metadata": {
    "id": "1dI2ESrmnnrM"
   },
   "outputs": [
    {
     "name": "stdout",
     "output_type": "stream",
     "text": [
      " * Serving Flask app \"__main__\" (lazy loading)\n",
      " * Environment: production\n",
      "\u001b[31m   WARNING: This is a development server. Do not use it in a production deployment.\u001b[0m\n",
      "\u001b[2m   Use a production WSGI server instead.\u001b[0m\n",
      " * Debug mode: off\n"
     ]
    },
    {
     "name": "stderr",
     "output_type": "stream",
     "text": [
      " * Running on all addresses.\n",
      "   WARNING: This is a development server. Do not use it in a production deployment.\n",
      " * Running on http://172.168.21.154:2001/ (Press CTRL+C to quit)\n",
      "172.168.21.154 - - [28/Apr/2023 15:42:55] \"GET / HTTP/1.1\" 200 -\n"
     ]
    }
   ],
   "source": [
    "# Create a Flask app instance with the name of the current module\n",
    "app = Flask(__name__)\n",
    "\n",
    "@app.route('/')\n",
    "def home():\n",
    "    return render_template('index.html', **locals())\n",
    "\n",
    "@app.route('/predict',methods=['POST','GET'])\n",
    "def predict():\n",
    "\n",
    "    input_text = str(request.form['text_input'])\n",
    "    prediction = predict_label(input_text)\n",
    "\n",
    "    #output = round(prediction[0], 2)\n",
    "    return render_template('index.html', result = prediction)\n",
    "\n",
    "\n",
    "\n",
    "# Create an instance of the Flask-RESTful API with the Flask app instance\n",
    "api = Api(app)\n",
    "\n",
    "if __name__ == '__main__':\n",
    "    app.run( host='0.0.0.0', port=2001)"
   ]
  },
  {
   "cell_type": "code",
   "execution_count": null,
   "metadata": {},
   "outputs": [],
   "source": []
  }
 ],
 "metadata": {
  "colab": {
   "provenance": []
  },
  "kernelspec": {
   "display_name": "Python 3 (ipykernel)",
   "language": "python",
   "name": "python3"
  },
  "language_info": {
   "codemirror_mode": {
    "name": "ipython",
    "version": 3
   },
   "file_extension": ".py",
   "mimetype": "text/x-python",
   "name": "python",
   "nbconvert_exporter": "python",
   "pygments_lexer": "ipython3",
   "version": "3.9.13"
  }
 },
 "nbformat": 4,
 "nbformat_minor": 1
}
