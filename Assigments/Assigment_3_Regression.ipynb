{
  "nbformat": 4,
  "nbformat_minor": 0,
  "metadata": {
    "colab": {
      "provenance": [],
      "authorship_tag": "ABX9TyO9tJ7xWsMPoCYUmf7OqZAb",
      "include_colab_link": true
    },
    "kernelspec": {
      "name": "python3",
      "display_name": "Python 3"
    },
    "language_info": {
      "name": "python"
    }
  },
  "cells": [
    {
      "cell_type": "markdown",
      "metadata": {
        "id": "view-in-github",
        "colab_type": "text"
      },
      "source": [
        "<a href=\"https://colab.research.google.com/github/valdolab/DS_mAIstros/blob/main/Assigments/Assigment_3_Regression.ipynb\" target=\"_parent\"><img src=\"https://colab.research.google.com/assets/colab-badge.svg\" alt=\"Open In Colab\"/></a>"
      ]
    },
    {
      "cell_type": "markdown",
      "source": [
        "# **Assignment 3** \n",
        "Housing Data Predictions  Linear Regression and KNN"
      ],
      "metadata": {
        "id": "qRb1g1iA2QQg"
      }
    },
    {
      "cell_type": "code",
      "source": [
        "from google.colab import drive\n",
        "drive.mount('/content/drive')"
      ],
      "metadata": {
        "colab": {
          "base_uri": "https://localhost:8080/"
        },
        "id": "ctLlMPkh2sqV",
        "outputId": "00fa4ca9-695c-4ec7-9a85-c0c15ef9ddff"
      },
      "execution_count": 2,
      "outputs": [
        {
          "output_type": "stream",
          "name": "stdout",
          "text": [
            "Mounted at /content/drive\n"
          ]
        }
      ]
    },
    {
      "cell_type": "code",
      "source": [
        "#import the lbs\n",
        "import pandas as pd\n",
        "import numpy as np\n",
        "import matplotlib.pyplot as plt\n",
        "import seaborn as sns\n",
        "from geopy import Nominatim\n",
        "from scipy.stats import multivariate_normal as mvn\n",
        "from tqdm import tqdm\n"
      ],
      "metadata": {
        "id": "GQTH_o4Z2vnU"
      },
      "execution_count": 3,
      "outputs": []
    },
    {
      "cell_type": "markdown",
      "source": [
        "## Import clean data"
      ],
      "metadata": {
        "id": "RHdnxt4xI-dZ"
      }
    },
    {
      "cell_type": "code",
      "source": [
        "#import new data\n",
        "data = pd.read_csv('/content/drive/MyDrive/Classroom/DS mAIstros/datasets/new_raw_house_data.csv')\n",
        "data"
      ],
      "metadata": {
        "colab": {
          "base_uri": "https://localhost:8080/",
          "height": 467
        },
        "id": "H5Wt-NNO3L2_",
        "outputId": "06115df5-a309-4f49-ade1-ffb244cda687"
      },
      "execution_count": 225,
      "outputs": [
        {
          "output_type": "execute_result",
          "data": {
            "text/plain": [
              "      sold_price  zipcode   longitude   latitude  lot_acres     taxes  \\\n",
              "0      5300000.0    85637   -1.103782  31.356362    2154.00   5272.00   \n",
              "1      4200000.0    85646 -111.045371  31.594213    1707.00  10422.36   \n",
              "2      4200000.0    85646 -111.040707  31.594844    1707.00  10482.00   \n",
              "3      4500000.0    85646 -111.035925  31.645878     636.67   8418.58   \n",
              "4      3411450.0    85750 -110.813768  32.285162       3.21  15393.00   \n",
              "...          ...      ...         ...        ...        ...       ...   \n",
              "4995    495000.0    85641 -110.661829  31.907917       4.98   2017.00   \n",
              "4996    550000.0    85750 -110.858556  32.316373       1.42   4822.01   \n",
              "4997    475000.0    85192 -110.755428  32.964708      12.06   1000.00   \n",
              "4998    550000.0    85745 -111.055528  32.296871       1.01   5822.93   \n",
              "4999    450000.0    85621 -110.913054  31.385259       4.16   2814.48   \n",
              "\n",
              "      year_built  bedrooms  bathrooms       sqrt_ft  garage  kitchen_features  \\\n",
              "0           1941        13       10.0  10500.000000     0.0              1435   \n",
              "1           1997         2        2.0   7300.000000     0.0              1436   \n",
              "2           1997         2        3.0   3716.366828     3.0              1741   \n",
              "3           1930         7        5.0   9019.000000     4.0              1269   \n",
              "4           1995         4        6.0   6396.000000     3.0              1754   \n",
              "...          ...       ...        ...           ...     ...               ...   \n",
              "4995        2005         5        3.0   3601.000000     3.0               729   \n",
              "4996        1990         4        3.0   2318.000000     3.0               572   \n",
              "4997        1969         3        2.0   1772.000000     0.0              1375   \n",
              "4998        2009         4        4.0   3724.000000     3.0              1062   \n",
              "4999        1988         4        4.0   4317.000000     3.0               113   \n",
              "\n",
              "      fireplaces  floor_covering        HOA  \n",
              "0            6.0             263   0.000000  \n",
              "1            5.0             268   0.000000  \n",
              "2            5.0             271  82.750698  \n",
              "3            4.0             187  82.750698  \n",
              "4            5.0              71  55.000000  \n",
              "...          ...             ...        ...  \n",
              "4995         1.0               1  82.750698  \n",
              "4996         1.0               1  43.000000  \n",
              "4997         0.0             164  82.750698  \n",
              "4998         1.0               1  82.750698  \n",
              "4999         3.0             104  82.750698  \n",
              "\n",
              "[5000 rows x 15 columns]"
            ],
            "text/html": [
              "\n",
              "  <div id=\"df-70698d1f-a520-4ff4-a1fe-614959447493\">\n",
              "    <div class=\"colab-df-container\">\n",
              "      <div>\n",
              "<style scoped>\n",
              "    .dataframe tbody tr th:only-of-type {\n",
              "        vertical-align: middle;\n",
              "    }\n",
              "\n",
              "    .dataframe tbody tr th {\n",
              "        vertical-align: top;\n",
              "    }\n",
              "\n",
              "    .dataframe thead th {\n",
              "        text-align: right;\n",
              "    }\n",
              "</style>\n",
              "<table border=\"1\" class=\"dataframe\">\n",
              "  <thead>\n",
              "    <tr style=\"text-align: right;\">\n",
              "      <th></th>\n",
              "      <th>sold_price</th>\n",
              "      <th>zipcode</th>\n",
              "      <th>longitude</th>\n",
              "      <th>latitude</th>\n",
              "      <th>lot_acres</th>\n",
              "      <th>taxes</th>\n",
              "      <th>year_built</th>\n",
              "      <th>bedrooms</th>\n",
              "      <th>bathrooms</th>\n",
              "      <th>sqrt_ft</th>\n",
              "      <th>garage</th>\n",
              "      <th>kitchen_features</th>\n",
              "      <th>fireplaces</th>\n",
              "      <th>floor_covering</th>\n",
              "      <th>HOA</th>\n",
              "    </tr>\n",
              "  </thead>\n",
              "  <tbody>\n",
              "    <tr>\n",
              "      <th>0</th>\n",
              "      <td>5300000.0</td>\n",
              "      <td>85637</td>\n",
              "      <td>-1.103782</td>\n",
              "      <td>31.356362</td>\n",
              "      <td>2154.00</td>\n",
              "      <td>5272.00</td>\n",
              "      <td>1941</td>\n",
              "      <td>13</td>\n",
              "      <td>10.0</td>\n",
              "      <td>10500.000000</td>\n",
              "      <td>0.0</td>\n",
              "      <td>1435</td>\n",
              "      <td>6.0</td>\n",
              "      <td>263</td>\n",
              "      <td>0.000000</td>\n",
              "    </tr>\n",
              "    <tr>\n",
              "      <th>1</th>\n",
              "      <td>4200000.0</td>\n",
              "      <td>85646</td>\n",
              "      <td>-111.045371</td>\n",
              "      <td>31.594213</td>\n",
              "      <td>1707.00</td>\n",
              "      <td>10422.36</td>\n",
              "      <td>1997</td>\n",
              "      <td>2</td>\n",
              "      <td>2.0</td>\n",
              "      <td>7300.000000</td>\n",
              "      <td>0.0</td>\n",
              "      <td>1436</td>\n",
              "      <td>5.0</td>\n",
              "      <td>268</td>\n",
              "      <td>0.000000</td>\n",
              "    </tr>\n",
              "    <tr>\n",
              "      <th>2</th>\n",
              "      <td>4200000.0</td>\n",
              "      <td>85646</td>\n",
              "      <td>-111.040707</td>\n",
              "      <td>31.594844</td>\n",
              "      <td>1707.00</td>\n",
              "      <td>10482.00</td>\n",
              "      <td>1997</td>\n",
              "      <td>2</td>\n",
              "      <td>3.0</td>\n",
              "      <td>3716.366828</td>\n",
              "      <td>3.0</td>\n",
              "      <td>1741</td>\n",
              "      <td>5.0</td>\n",
              "      <td>271</td>\n",
              "      <td>82.750698</td>\n",
              "    </tr>\n",
              "    <tr>\n",
              "      <th>3</th>\n",
              "      <td>4500000.0</td>\n",
              "      <td>85646</td>\n",
              "      <td>-111.035925</td>\n",
              "      <td>31.645878</td>\n",
              "      <td>636.67</td>\n",
              "      <td>8418.58</td>\n",
              "      <td>1930</td>\n",
              "      <td>7</td>\n",
              "      <td>5.0</td>\n",
              "      <td>9019.000000</td>\n",
              "      <td>4.0</td>\n",
              "      <td>1269</td>\n",
              "      <td>4.0</td>\n",
              "      <td>187</td>\n",
              "      <td>82.750698</td>\n",
              "    </tr>\n",
              "    <tr>\n",
              "      <th>4</th>\n",
              "      <td>3411450.0</td>\n",
              "      <td>85750</td>\n",
              "      <td>-110.813768</td>\n",
              "      <td>32.285162</td>\n",
              "      <td>3.21</td>\n",
              "      <td>15393.00</td>\n",
              "      <td>1995</td>\n",
              "      <td>4</td>\n",
              "      <td>6.0</td>\n",
              "      <td>6396.000000</td>\n",
              "      <td>3.0</td>\n",
              "      <td>1754</td>\n",
              "      <td>5.0</td>\n",
              "      <td>71</td>\n",
              "      <td>55.000000</td>\n",
              "    </tr>\n",
              "    <tr>\n",
              "      <th>...</th>\n",
              "      <td>...</td>\n",
              "      <td>...</td>\n",
              "      <td>...</td>\n",
              "      <td>...</td>\n",
              "      <td>...</td>\n",
              "      <td>...</td>\n",
              "      <td>...</td>\n",
              "      <td>...</td>\n",
              "      <td>...</td>\n",
              "      <td>...</td>\n",
              "      <td>...</td>\n",
              "      <td>...</td>\n",
              "      <td>...</td>\n",
              "      <td>...</td>\n",
              "      <td>...</td>\n",
              "    </tr>\n",
              "    <tr>\n",
              "      <th>4995</th>\n",
              "      <td>495000.0</td>\n",
              "      <td>85641</td>\n",
              "      <td>-110.661829</td>\n",
              "      <td>31.907917</td>\n",
              "      <td>4.98</td>\n",
              "      <td>2017.00</td>\n",
              "      <td>2005</td>\n",
              "      <td>5</td>\n",
              "      <td>3.0</td>\n",
              "      <td>3601.000000</td>\n",
              "      <td>3.0</td>\n",
              "      <td>729</td>\n",
              "      <td>1.0</td>\n",
              "      <td>1</td>\n",
              "      <td>82.750698</td>\n",
              "    </tr>\n",
              "    <tr>\n",
              "      <th>4996</th>\n",
              "      <td>550000.0</td>\n",
              "      <td>85750</td>\n",
              "      <td>-110.858556</td>\n",
              "      <td>32.316373</td>\n",
              "      <td>1.42</td>\n",
              "      <td>4822.01</td>\n",
              "      <td>1990</td>\n",
              "      <td>4</td>\n",
              "      <td>3.0</td>\n",
              "      <td>2318.000000</td>\n",
              "      <td>3.0</td>\n",
              "      <td>572</td>\n",
              "      <td>1.0</td>\n",
              "      <td>1</td>\n",
              "      <td>43.000000</td>\n",
              "    </tr>\n",
              "    <tr>\n",
              "      <th>4997</th>\n",
              "      <td>475000.0</td>\n",
              "      <td>85192</td>\n",
              "      <td>-110.755428</td>\n",
              "      <td>32.964708</td>\n",
              "      <td>12.06</td>\n",
              "      <td>1000.00</td>\n",
              "      <td>1969</td>\n",
              "      <td>3</td>\n",
              "      <td>2.0</td>\n",
              "      <td>1772.000000</td>\n",
              "      <td>0.0</td>\n",
              "      <td>1375</td>\n",
              "      <td>0.0</td>\n",
              "      <td>164</td>\n",
              "      <td>82.750698</td>\n",
              "    </tr>\n",
              "    <tr>\n",
              "      <th>4998</th>\n",
              "      <td>550000.0</td>\n",
              "      <td>85745</td>\n",
              "      <td>-111.055528</td>\n",
              "      <td>32.296871</td>\n",
              "      <td>1.01</td>\n",
              "      <td>5822.93</td>\n",
              "      <td>2009</td>\n",
              "      <td>4</td>\n",
              "      <td>4.0</td>\n",
              "      <td>3724.000000</td>\n",
              "      <td>3.0</td>\n",
              "      <td>1062</td>\n",
              "      <td>1.0</td>\n",
              "      <td>1</td>\n",
              "      <td>82.750698</td>\n",
              "    </tr>\n",
              "    <tr>\n",
              "      <th>4999</th>\n",
              "      <td>450000.0</td>\n",
              "      <td>85621</td>\n",
              "      <td>-110.913054</td>\n",
              "      <td>31.385259</td>\n",
              "      <td>4.16</td>\n",
              "      <td>2814.48</td>\n",
              "      <td>1988</td>\n",
              "      <td>4</td>\n",
              "      <td>4.0</td>\n",
              "      <td>4317.000000</td>\n",
              "      <td>3.0</td>\n",
              "      <td>113</td>\n",
              "      <td>3.0</td>\n",
              "      <td>104</td>\n",
              "      <td>82.750698</td>\n",
              "    </tr>\n",
              "  </tbody>\n",
              "</table>\n",
              "<p>5000 rows × 15 columns</p>\n",
              "</div>\n",
              "      <button class=\"colab-df-convert\" onclick=\"convertToInteractive('df-70698d1f-a520-4ff4-a1fe-614959447493')\"\n",
              "              title=\"Convert this dataframe to an interactive table.\"\n",
              "              style=\"display:none;\">\n",
              "        \n",
              "  <svg xmlns=\"http://www.w3.org/2000/svg\" height=\"24px\"viewBox=\"0 0 24 24\"\n",
              "       width=\"24px\">\n",
              "    <path d=\"M0 0h24v24H0V0z\" fill=\"none\"/>\n",
              "    <path d=\"M18.56 5.44l.94 2.06.94-2.06 2.06-.94-2.06-.94-.94-2.06-.94 2.06-2.06.94zm-11 1L8.5 8.5l.94-2.06 2.06-.94-2.06-.94L8.5 2.5l-.94 2.06-2.06.94zm10 10l.94 2.06.94-2.06 2.06-.94-2.06-.94-.94-2.06-.94 2.06-2.06.94z\"/><path d=\"M17.41 7.96l-1.37-1.37c-.4-.4-.92-.59-1.43-.59-.52 0-1.04.2-1.43.59L10.3 9.45l-7.72 7.72c-.78.78-.78 2.05 0 2.83L4 21.41c.39.39.9.59 1.41.59.51 0 1.02-.2 1.41-.59l7.78-7.78 2.81-2.81c.8-.78.8-2.07 0-2.86zM5.41 20L4 18.59l7.72-7.72 1.47 1.35L5.41 20z\"/>\n",
              "  </svg>\n",
              "      </button>\n",
              "      \n",
              "  <style>\n",
              "    .colab-df-container {\n",
              "      display:flex;\n",
              "      flex-wrap:wrap;\n",
              "      gap: 12px;\n",
              "    }\n",
              "\n",
              "    .colab-df-convert {\n",
              "      background-color: #E8F0FE;\n",
              "      border: none;\n",
              "      border-radius: 50%;\n",
              "      cursor: pointer;\n",
              "      display: none;\n",
              "      fill: #1967D2;\n",
              "      height: 32px;\n",
              "      padding: 0 0 0 0;\n",
              "      width: 32px;\n",
              "    }\n",
              "\n",
              "    .colab-df-convert:hover {\n",
              "      background-color: #E2EBFA;\n",
              "      box-shadow: 0px 1px 2px rgba(60, 64, 67, 0.3), 0px 1px 3px 1px rgba(60, 64, 67, 0.15);\n",
              "      fill: #174EA6;\n",
              "    }\n",
              "\n",
              "    [theme=dark] .colab-df-convert {\n",
              "      background-color: #3B4455;\n",
              "      fill: #D2E3FC;\n",
              "    }\n",
              "\n",
              "    [theme=dark] .colab-df-convert:hover {\n",
              "      background-color: #434B5C;\n",
              "      box-shadow: 0px 1px 3px 1px rgba(0, 0, 0, 0.15);\n",
              "      filter: drop-shadow(0px 1px 2px rgba(0, 0, 0, 0.3));\n",
              "      fill: #FFFFFF;\n",
              "    }\n",
              "  </style>\n",
              "\n",
              "      <script>\n",
              "        const buttonEl =\n",
              "          document.querySelector('#df-70698d1f-a520-4ff4-a1fe-614959447493 button.colab-df-convert');\n",
              "        buttonEl.style.display =\n",
              "          google.colab.kernel.accessAllowed ? 'block' : 'none';\n",
              "\n",
              "        async function convertToInteractive(key) {\n",
              "          const element = document.querySelector('#df-70698d1f-a520-4ff4-a1fe-614959447493');\n",
              "          const dataTable =\n",
              "            await google.colab.kernel.invokeFunction('convertToInteractive',\n",
              "                                                     [key], {});\n",
              "          if (!dataTable) return;\n",
              "\n",
              "          const docLinkHtml = 'Like what you see? Visit the ' +\n",
              "            '<a target=\"_blank\" href=https://colab.research.google.com/notebooks/data_table.ipynb>data table notebook</a>'\n",
              "            + ' to learn more about interactive tables.';\n",
              "          element.innerHTML = '';\n",
              "          dataTable['output_type'] = 'display_data';\n",
              "          await google.colab.output.renderOutput(dataTable, element);\n",
              "          const docLink = document.createElement('div');\n",
              "          docLink.innerHTML = docLinkHtml;\n",
              "          element.appendChild(docLink);\n",
              "        }\n",
              "      </script>\n",
              "    </div>\n",
              "  </div>\n",
              "  "
            ]
          },
          "metadata": {},
          "execution_count": 225
        }
      ]
    },
    {
      "cell_type": "code",
      "source": [
        "plt.figure(figsize=(10,5))\n",
        "c = data.corr()\n",
        "sns.heatmap(c,cmap=\"BrBG\",annot=True)"
      ],
      "metadata": {
        "colab": {
          "base_uri": "https://localhost:8080/",
          "height": 414
        },
        "id": "DcXBs7OK32zP",
        "outputId": "ce875712-e0f2-491d-ac86-e1e9cf45f24b"
      },
      "execution_count": 5,
      "outputs": [
        {
          "output_type": "execute_result",
          "data": {
            "text/plain": [
              "<Axes: >"
            ]
          },
          "metadata": {},
          "execution_count": 5
        },
        {
          "output_type": "display_data",
          "data": {
            "text/plain": [
              "<Figure size 720x360 with 2 Axes>"
            ],
            "image/png": "[encoded data removed]"
          },
          "metadata": {
            "needs_background": "light"
          }
        }
      ]
    },
    {
      "cell_type": "markdown",
      "source": [
        "## Feature engineer"
      ],
      "metadata": {
        "id": "Xf0QRaDTkzK6"
      }
    },
    {
      "cell_type": "code",
      "source": [
        "#trying to get info from latitude and longitude\n",
        "geolocator = Nominatim(user_agent=\"mAIstros\")\n",
        "Latitude = \"32.296871\"\n",
        "Longitude = \"-111.055528\"\n",
        "location = geolocator.reverse(Latitude+\",\"+Longitude)\n",
        "address = location.raw['address']\n",
        "print(address)\n",
        "\n",
        "\n",
        "Latitude = \"31.594213\"\n",
        "Longitude = \"-111.045371\"\n",
        "location = geolocator.reverse(Latitude+\",\"+Longitude)\n",
        "address = location.raw['address']\n",
        "print(address)"
      ],
      "metadata": {
        "id": "bGo9wNiYpl9r"
      },
      "execution_count": null,
      "outputs": []
    },
    {
      "cell_type": "code",
      "source": [
        "#generate new engineer feature \n",
        "price_sqrtft = pd.DataFrame(data['sold_price']/data['sqrt_ft'], columns=['price_fts'])\n",
        "#make a scale categori\n",
        "min_price_fts = int(min(price_sqrtft['price_fts']))\n",
        "max_price_fts = int(max(price_sqrtft['price_fts']))\n",
        "num_class = 5\n",
        "#automatic scale, but is several imbalanced\n",
        "scale = list(range(min_price_fts,max_price_fts,int(max_price_fts/(num_class))))\n",
        "scale.append(max_price_fts+1)\n",
        "labels = range(1,num_class+1)\n",
        "\n",
        "#this doesn't work\n",
        "#so, I created a manual scale\n",
        "#scale2 = [24, 150]\n",
        "#scale2 = scale2 + list(range(170,280,int((280-150)/(num_class-1))))\n",
        "#scale2.append(max_price_fts+1)\n",
        "#scale2 = [24, 150, 168, 180, 193, 202, 212, 223, 245, 280, 1209]\n",
        "\n",
        "#create cat feature\n",
        "price_sqrtft['class_feature_engineer'] = pd.cut(x=price_sqrtft['price_fts'],\n",
        "                     bins=scale,\n",
        "                     labels=labels)\n",
        "\n",
        "#create data to make classification\n",
        "data_2 = pd.DataFrame(data[['longitude','latitude']])\n",
        "data_2 = pd.concat([data_2, price_sqrtft['class_feature_engineer']], axis=1)\n",
        "data_2['class_feature_engineer'].value_counts()\n",
        "data_2['class_feature_engineer'] = data_2['class_feature_engineer'].astype('int')\n",
        "data_2\n",
        "#scale2"
      ],
      "metadata": {
        "colab": {
          "base_uri": "https://localhost:8080/",
          "height": 423
        },
        "id": "bgEf-Olosn3E",
        "outputId": "bfb1bc77-9c7b-4f0f-9b11-a3cdd8568b88"
      },
      "execution_count": 228,
      "outputs": [
        {
          "output_type": "execute_result",
          "data": {
            "text/plain": [
              "       longitude   latitude  class_feature_engineer\n",
              "0      -1.103782  31.356362                       2\n",
              "1    -111.045371  31.594213                       3\n",
              "2    -111.040707  31.594844                       5\n",
              "3    -111.035925  31.645878                       2\n",
              "4    -110.813768  32.285162                       3\n",
              "...          ...        ...                     ...\n",
              "4995 -110.661829  31.907917                       1\n",
              "4996 -110.858556  32.316373                       1\n",
              "4997 -110.755428  32.964708                       2\n",
              "4998 -111.055528  32.296871                       1\n",
              "4999 -110.913054  31.385259                       1\n",
              "\n",
              "[5000 rows x 3 columns]"
            ],
            "text/html": [
              "\n",
              "  <div id=\"df-eac386cb-9ab4-4d7c-9076-3779632ebb4f\">\n",
              "    <div class=\"colab-df-container\">\n",
              "      <div>\n",
              "<style scoped>\n",
              "    .dataframe tbody tr th:only-of-type {\n",
              "        vertical-align: middle;\n",
              "    }\n",
              "\n",
              "    .dataframe tbody tr th {\n",
              "        vertical-align: top;\n",
              "    }\n",
              "\n",
              "    .dataframe thead th {\n",
              "        text-align: right;\n",
              "    }\n",
              "</style>\n",
              "<table border=\"1\" class=\"dataframe\">\n",
              "  <thead>\n",
              "    <tr style=\"text-align: right;\">\n",
              "      <th></th>\n",
              "      <th>longitude</th>\n",
              "      <th>latitude</th>\n",
              "      <th>class_feature_engineer</th>\n",
              "    </tr>\n",
              "  </thead>\n",
              "  <tbody>\n",
              "    <tr>\n",
              "      <th>0</th>\n",
              "      <td>-1.103782</td>\n",
              "      <td>31.356362</td>\n",
              "      <td>2</td>\n",
              "    </tr>\n",
              "    <tr>\n",
              "      <th>1</th>\n",
              "      <td>-111.045371</td>\n",
              "      <td>31.594213</td>\n",
              "      <td>3</td>\n",
              "    </tr>\n",
              "    <tr>\n",
              "      <th>2</th>\n",
              "      <td>-111.040707</td>\n",
              "      <td>31.594844</td>\n",
              "      <td>5</td>\n",
              "    </tr>\n",
              "    <tr>\n",
              "      <th>3</th>\n",
              "      <td>-111.035925</td>\n",
              "      <td>31.645878</td>\n",
              "      <td>2</td>\n",
              "    </tr>\n",
              "    <tr>\n",
              "      <th>4</th>\n",
              "      <td>-110.813768</td>\n",
              "      <td>32.285162</td>\n",
              "      <td>3</td>\n",
              "    </tr>\n",
              "    <tr>\n",
              "      <th>...</th>\n",
              "      <td>...</td>\n",
              "      <td>...</td>\n",
              "      <td>...</td>\n",
              "    </tr>\n",
              "    <tr>\n",
              "      <th>4995</th>\n",
              "      <td>-110.661829</td>\n",
              "      <td>31.907917</td>\n",
              "      <td>1</td>\n",
              "    </tr>\n",
              "    <tr>\n",
              "      <th>4996</th>\n",
              "      <td>-110.858556</td>\n",
              "      <td>32.316373</td>\n",
              "      <td>1</td>\n",
              "    </tr>\n",
              "    <tr>\n",
              "      <th>4997</th>\n",
              "      <td>-110.755428</td>\n",
              "      <td>32.964708</td>\n",
              "      <td>2</td>\n",
              "    </tr>\n",
              "    <tr>\n",
              "      <th>4998</th>\n",
              "      <td>-111.055528</td>\n",
              "      <td>32.296871</td>\n",
              "      <td>1</td>\n",
              "    </tr>\n",
              "    <tr>\n",
              "      <th>4999</th>\n",
              "      <td>-110.913054</td>\n",
              "      <td>31.385259</td>\n",
              "      <td>1</td>\n",
              "    </tr>\n",
              "  </tbody>\n",
              "</table>\n",
              "<p>5000 rows × 3 columns</p>\n",
              "</div>\n",
              "      <button class=\"colab-df-convert\" onclick=\"convertToInteractive('df-eac386cb-9ab4-4d7c-9076-3779632ebb4f')\"\n",
              "              title=\"Convert this dataframe to an interactive table.\"\n",
              "              style=\"display:none;\">\n",
              "        \n",
              "  <svg xmlns=\"http://www.w3.org/2000/svg\" height=\"24px\"viewBox=\"0 0 24 24\"\n",
              "       width=\"24px\">\n",
              "    <path d=\"M0 0h24v24H0V0z\" fill=\"none\"/>\n",
              "    <path d=\"M18.56 5.44l.94 2.06.94-2.06 2.06-.94-2.06-.94-.94-2.06-.94 2.06-2.06.94zm-11 1L8.5 8.5l.94-2.06 2.06-.94-2.06-.94L8.5 2.5l-.94 2.06-2.06.94zm10 10l.94 2.06.94-2.06 2.06-.94-2.06-.94-.94-2.06-.94 2.06-2.06.94z\"/><path d=\"M17.41 7.96l-1.37-1.37c-.4-.4-.92-.59-1.43-.59-.52 0-1.04.2-1.43.59L10.3 9.45l-7.72 7.72c-.78.78-.78 2.05 0 2.83L4 21.41c.39.39.9.59 1.41.59.51 0 1.02-.2 1.41-.59l7.78-7.78 2.81-2.81c.8-.78.8-2.07 0-2.86zM5.41 20L4 18.59l7.72-7.72 1.47 1.35L5.41 20z\"/>\n",
              "  </svg>\n",
              "      </button>\n",
              "      \n",
              "  <style>\n",
              "    .colab-df-container {\n",
              "      display:flex;\n",
              "      flex-wrap:wrap;\n",
              "      gap: 12px;\n",
              "    }\n",
              "\n",
              "    .colab-df-convert {\n",
              "      background-color: #E8F0FE;\n",
              "      border: none;\n",
              "      border-radius: 50%;\n",
              "      cursor: pointer;\n",
              "      display: none;\n",
              "      fill: #1967D2;\n",
              "      height: 32px;\n",
              "      padding: 0 0 0 0;\n",
              "      width: 32px;\n",
              "    }\n",
              "\n",
              "    .colab-df-convert:hover {\n",
              "      background-color: #E2EBFA;\n",
              "      box-shadow: 0px 1px 2px rgba(60, 64, 67, 0.3), 0px 1px 3px 1px rgba(60, 64, 67, 0.15);\n",
              "      fill: #174EA6;\n",
              "    }\n",
              "\n",
              "    [theme=dark] .colab-df-convert {\n",
              "      background-color: #3B4455;\n",
              "      fill: #D2E3FC;\n",
              "    }\n",
              "\n",
              "    [theme=dark] .colab-df-convert:hover {\n",
              "      background-color: #434B5C;\n",
              "      box-shadow: 0px 1px 3px 1px rgba(0, 0, 0, 0.15);\n",
              "      filter: drop-shadow(0px 1px 2px rgba(0, 0, 0, 0.3));\n",
              "      fill: #FFFFFF;\n",
              "    }\n",
              "  </style>\n",
              "\n",
              "      <script>\n",
              "        const buttonEl =\n",
              "          document.querySelector('#df-eac386cb-9ab4-4d7c-9076-3779632ebb4f button.colab-df-convert');\n",
              "        buttonEl.style.display =\n",
              "          google.colab.kernel.accessAllowed ? 'block' : 'none';\n",
              "\n",
              "        async function convertToInteractive(key) {\n",
              "          const element = document.querySelector('#df-eac386cb-9ab4-4d7c-9076-3779632ebb4f');\n",
              "          const dataTable =\n",
              "            await google.colab.kernel.invokeFunction('convertToInteractive',\n",
              "                                                     [key], {});\n",
              "          if (!dataTable) return;\n",
              "\n",
              "          const docLinkHtml = 'Like what you see? Visit the ' +\n",
              "            '<a target=\"_blank\" href=https://colab.research.google.com/notebooks/data_table.ipynb>data table notebook</a>'\n",
              "            + ' to learn more about interactive tables.';\n",
              "          element.innerHTML = '';\n",
              "          dataTable['output_type'] = 'display_data';\n",
              "          await google.colab.output.renderOutput(dataTable, element);\n",
              "          const docLink = document.createElement('div');\n",
              "          docLink.innerHTML = docLinkHtml;\n",
              "          element.appendChild(docLink);\n",
              "        }\n",
              "      </script>\n",
              "    </div>\n",
              "  </div>\n",
              "  "
            ]
          },
          "metadata": {},
          "execution_count": 228
        }
      ]
    },
    {
      "cell_type": "code",
      "source": [
        "#normalize data\n",
        "for column in data_2.iloc[:,:-1]:\n",
        "    #data_2[column] = data_2[column]  / data_2[column].abs().max()\n",
        "    data_2[column] = (data_2[column] - data_2[column].min()) / (data_2[column].max() - data_2[column].min())    \n",
        "  \n",
        "data_2"
      ],
      "metadata": {
        "colab": {
          "base_uri": "https://localhost:8080/",
          "height": 423
        },
        "id": "Py948kohybTz",
        "outputId": "2f583026-7ba6-4596-fda3-44fd2ebfb1d8"
      },
      "execution_count": 229,
      "outputs": [
        {
          "output_type": "execute_result",
          "data": {
            "text/plain": [
              "      longitude  latitude  class_feature_engineer\n",
              "0      1.000000  0.087469                       2\n",
              "1      0.013237  0.088206                       3\n",
              "2      0.013279  0.088208                       5\n",
              "3      0.013322  0.088367                       2\n",
              "4      0.015316  0.090350                       3\n",
              "...         ...       ...                     ...\n",
              "4995   0.016679  0.089180                       1\n",
              "4996   0.014914  0.090447                       1\n",
              "4997   0.015839  0.092458                       2\n",
              "4998   0.013146  0.090386                       1\n",
              "4999   0.014424  0.087558                       1\n",
              "\n",
              "[5000 rows x 3 columns]"
            ],
            "text/html": [
              "\n",
              "  <div id=\"df-2b45b9f9-97cd-4886-9d47-097d5de9c76f\">\n",
              "    <div class=\"colab-df-container\">\n",
              "      <div>\n",
              "<style scoped>\n",
              "    .dataframe tbody tr th:only-of-type {\n",
              "        vertical-align: middle;\n",
              "    }\n",
              "\n",
              "    .dataframe tbody tr th {\n",
              "        vertical-align: top;\n",
              "    }\n",
              "\n",
              "    .dataframe thead th {\n",
              "        text-align: right;\n",
              "    }\n",
              "</style>\n",
              "<table border=\"1\" class=\"dataframe\">\n",
              "  <thead>\n",
              "    <tr style=\"text-align: right;\">\n",
              "      <th></th>\n",
              "      <th>longitude</th>\n",
              "      <th>latitude</th>\n",
              "      <th>class_feature_engineer</th>\n",
              "    </tr>\n",
              "  </thead>\n",
              "  <tbody>\n",
              "    <tr>\n",
              "      <th>0</th>\n",
              "      <td>1.000000</td>\n",
              "      <td>0.087469</td>\n",
              "      <td>2</td>\n",
              "    </tr>\n",
              "    <tr>\n",
              "      <th>1</th>\n",
              "      <td>0.013237</td>\n",
              "      <td>0.088206</td>\n",
              "      <td>3</td>\n",
              "    </tr>\n",
              "    <tr>\n",
              "      <th>2</th>\n",
              "      <td>0.013279</td>\n",
              "      <td>0.088208</td>\n",
              "      <td>5</td>\n",
              "    </tr>\n",
              "    <tr>\n",
              "      <th>3</th>\n",
              "      <td>0.013322</td>\n",
              "      <td>0.088367</td>\n",
              "      <td>2</td>\n",
              "    </tr>\n",
              "    <tr>\n",
              "      <th>4</th>\n",
              "      <td>0.015316</td>\n",
              "      <td>0.090350</td>\n",
              "      <td>3</td>\n",
              "    </tr>\n",
              "    <tr>\n",
              "      <th>...</th>\n",
              "      <td>...</td>\n",
              "      <td>...</td>\n",
              "      <td>...</td>\n",
              "    </tr>\n",
              "    <tr>\n",
              "      <th>4995</th>\n",
              "      <td>0.016679</td>\n",
              "      <td>0.089180</td>\n",
              "      <td>1</td>\n",
              "    </tr>\n",
              "    <tr>\n",
              "      <th>4996</th>\n",
              "      <td>0.014914</td>\n",
              "      <td>0.090447</td>\n",
              "      <td>1</td>\n",
              "    </tr>\n",
              "    <tr>\n",
              "      <th>4997</th>\n",
              "      <td>0.015839</td>\n",
              "      <td>0.092458</td>\n",
              "      <td>2</td>\n",
              "    </tr>\n",
              "    <tr>\n",
              "      <th>4998</th>\n",
              "      <td>0.013146</td>\n",
              "      <td>0.090386</td>\n",
              "      <td>1</td>\n",
              "    </tr>\n",
              "    <tr>\n",
              "      <th>4999</th>\n",
              "      <td>0.014424</td>\n",
              "      <td>0.087558</td>\n",
              "      <td>1</td>\n",
              "    </tr>\n",
              "  </tbody>\n",
              "</table>\n",
              "<p>5000 rows × 3 columns</p>\n",
              "</div>\n",
              "      <button class=\"colab-df-convert\" onclick=\"convertToInteractive('df-2b45b9f9-97cd-4886-9d47-097d5de9c76f')\"\n",
              "              title=\"Convert this dataframe to an interactive table.\"\n",
              "              style=\"display:none;\">\n",
              "        \n",
              "  <svg xmlns=\"http://www.w3.org/2000/svg\" height=\"24px\"viewBox=\"0 0 24 24\"\n",
              "       width=\"24px\">\n",
              "    <path d=\"M0 0h24v24H0V0z\" fill=\"none\"/>\n",
              "    <path d=\"M18.56 5.44l.94 2.06.94-2.06 2.06-.94-2.06-.94-.94-2.06-.94 2.06-2.06.94zm-11 1L8.5 8.5l.94-2.06 2.06-.94-2.06-.94L8.5 2.5l-.94 2.06-2.06.94zm10 10l.94 2.06.94-2.06 2.06-.94-2.06-.94-.94-2.06-.94 2.06-2.06.94z\"/><path d=\"M17.41 7.96l-1.37-1.37c-.4-.4-.92-.59-1.43-.59-.52 0-1.04.2-1.43.59L10.3 9.45l-7.72 7.72c-.78.78-.78 2.05 0 2.83L4 21.41c.39.39.9.59 1.41.59.51 0 1.02-.2 1.41-.59l7.78-7.78 2.81-2.81c.8-.78.8-2.07 0-2.86zM5.41 20L4 18.59l7.72-7.72 1.47 1.35L5.41 20z\"/>\n",
              "  </svg>\n",
              "      </button>\n",
              "      \n",
              "  <style>\n",
              "    .colab-df-container {\n",
              "      display:flex;\n",
              "      flex-wrap:wrap;\n",
              "      gap: 12px;\n",
              "    }\n",
              "\n",
              "    .colab-df-convert {\n",
              "      background-color: #E8F0FE;\n",
              "      border: none;\n",
              "      border-radius: 50%;\n",
              "      cursor: pointer;\n",
              "      display: none;\n",
              "      fill: #1967D2;\n",
              "      height: 32px;\n",
              "      padding: 0 0 0 0;\n",
              "      width: 32px;\n",
              "    }\n",
              "\n",
              "    .colab-df-convert:hover {\n",
              "      background-color: #E2EBFA;\n",
              "      box-shadow: 0px 1px 2px rgba(60, 64, 67, 0.3), 0px 1px 3px 1px rgba(60, 64, 67, 0.15);\n",
              "      fill: #174EA6;\n",
              "    }\n",
              "\n",
              "    [theme=dark] .colab-df-convert {\n",
              "      background-color: #3B4455;\n",
              "      fill: #D2E3FC;\n",
              "    }\n",
              "\n",
              "    [theme=dark] .colab-df-convert:hover {\n",
              "      background-color: #434B5C;\n",
              "      box-shadow: 0px 1px 3px 1px rgba(0, 0, 0, 0.15);\n",
              "      filter: drop-shadow(0px 1px 2px rgba(0, 0, 0, 0.3));\n",
              "      fill: #FFFFFF;\n",
              "    }\n",
              "  </style>\n",
              "\n",
              "      <script>\n",
              "        const buttonEl =\n",
              "          document.querySelector('#df-2b45b9f9-97cd-4886-9d47-097d5de9c76f button.colab-df-convert');\n",
              "        buttonEl.style.display =\n",
              "          google.colab.kernel.accessAllowed ? 'block' : 'none';\n",
              "\n",
              "        async function convertToInteractive(key) {\n",
              "          const element = document.querySelector('#df-2b45b9f9-97cd-4886-9d47-097d5de9c76f');\n",
              "          const dataTable =\n",
              "            await google.colab.kernel.invokeFunction('convertToInteractive',\n",
              "                                                     [key], {});\n",
              "          if (!dataTable) return;\n",
              "\n",
              "          const docLinkHtml = 'Like what you see? Visit the ' +\n",
              "            '<a target=\"_blank\" href=https://colab.research.google.com/notebooks/data_table.ipynb>data table notebook</a>'\n",
              "            + ' to learn more about interactive tables.';\n",
              "          element.innerHTML = '';\n",
              "          dataTable['output_type'] = 'display_data';\n",
              "          await google.colab.output.renderOutput(dataTable, element);\n",
              "          const docLink = document.createElement('div');\n",
              "          docLink.innerHTML = docLinkHtml;\n",
              "          element.appendChild(docLink);\n",
              "        }\n",
              "      </script>\n",
              "    </div>\n",
              "  </div>\n",
              "  "
            ]
          },
          "metadata": {},
          "execution_count": 229
        }
      ]
    },
    {
      "cell_type": "code",
      "source": [
        "#convert to numpy \n",
        "X = data_2.to_numpy()\n",
        "X"
      ],
      "metadata": {
        "colab": {
          "base_uri": "https://localhost:8080/"
        },
        "id": "vggTNXR4qHas",
        "outputId": "0a5ca01e-1ff2-423d-fa76-e8fb3c66a61f"
      },
      "execution_count": 230,
      "outputs": [
        {
          "output_type": "execute_result",
          "data": {
            "text/plain": [
              "array([[1.        , 0.08746869, 2.        ],\n",
              "       [0.01323681, 0.08820649, 3.        ],\n",
              "       [0.01327867, 0.08820845, 5.        ],\n",
              "       ...,\n",
              "       [0.01583914, 0.0924577 , 2.        ],\n",
              "       [0.01314564, 0.0903861 , 1.        ],\n",
              "       [0.0144244 , 0.08755833, 1.        ]])"
            ]
          },
          "metadata": {},
          "execution_count": 230
        }
      ]
    },
    {
      "cell_type": "markdown",
      "source": [
        "## Classification model"
      ],
      "metadata": {
        "id": "C1J7T-Mupw9q"
      }
    },
    {
      "cell_type": "markdown",
      "source": [
        "### Split dataset to training and test"
      ],
      "metadata": {
        "id": "3wYZaEnlvDnc"
      }
    },
    {
      "cell_type": "code",
      "source": [
        "#first shufle the dataset\n",
        "np.random.shuffle(X)\n",
        "num_test = int(len(X)*0.10)\n",
        "\n",
        "#and the split for training and test, and also the target feature\n",
        "X_test = X[0:num_test,:-1]\n",
        "y_test = X[0:num_test,-1].astype(int)\n",
        "X_train = X[num_test:,:-1]\n",
        "y_train = X[num_test:,-1].astype(int)\n",
        "\n",
        "X_train"
      ],
      "metadata": {
        "colab": {
          "base_uri": "https://localhost:8080/"
        },
        "id": "JSaeH4nkObVz",
        "outputId": "4996e23e-9482-40ce-a5fd-a8ab0767732a"
      },
      "execution_count": 231,
      "outputs": [
        {
          "output_type": "execute_result",
          "data": {
            "text/plain": [
              "array([[0.01465148, 0.0903856 ],\n",
              "       [0.01441098, 0.09039221],\n",
              "       [0.01547704, 0.09025903],\n",
              "       ...,\n",
              "       [0.01516159, 0.0903729 ],\n",
              "       [0.01392972, 0.09072535],\n",
              "       [0.01466952, 0.09027215]])"
            ]
          },
          "metadata": {},
          "execution_count": 231
        }
      ]
    },
    {
      "cell_type": "markdown",
      "source": [
        "### Implementation of the classifiers"
      ],
      "metadata": {
        "id": "FGUcjy4huaNz"
      }
    },
    {
      "cell_type": "markdown",
      "source": [
        "#### kNN classifier"
      ],
      "metadata": {
        "id": "Qz2lLL1vvQ8u"
      }
    },
    {
      "cell_type": "code",
      "source": [
        "class KNNclassifier():\n",
        "    def fit(self, X, y):\n",
        "        self.X = X\n",
        "        self.y = y\n",
        "    \n",
        "    def predict(self, X, K, epsilon=1e-3):\n",
        "        N = len(X)\n",
        "        y_hat = np.zeros(N)\n",
        "        for i in tqdm(range(N)):\n",
        "            dist2 = np.sum((self.X-X[i])**2, axis=1)\n",
        "            idxt = np.argsort(dist2)[:K]\n",
        "            gamme_k = 1/(np.sqrt(dist2[idxt]+epsilon))\n",
        "            y_hat[i] = np.bincount(self.y[idxt], weights=gamme_k).argmax()\n",
        "        \n",
        "        return y_hat"
      ],
      "metadata": {
        "id": "XJ8lG4Vju5Sm"
      },
      "execution_count": 57,
      "outputs": []
    },
    {
      "cell_type": "markdown",
      "source": [
        "### Testing"
      ],
      "metadata": {
        "id": "czXWMY2cvf-a"
      }
    },
    {
      "cell_type": "code",
      "source": [
        "#accuracy function\n",
        "def accuracy(y, y_hat):\n",
        "    return np.mean(y==y_hat)"
      ],
      "metadata": {
        "id": "pvyX5ynnvmYT"
      },
      "execution_count": 58,
      "outputs": []
    },
    {
      "cell_type": "code",
      "source": [
        "#testing using the training dataset as test\n",
        "knn_model = KNNclassifier()\n",
        "knn_model.fit(X_train, y_train)\n",
        "k = 3\n",
        "y_hat_train = knn_model.predict(X_train, k)\n",
        "#get accuracy\n",
        "accuracy(y_hat_train, y_train)"
      ],
      "metadata": {
        "colab": {
          "base_uri": "https://localhost:8080/"
        },
        "id": "sHEgajtJvppE",
        "outputId": "5b856957-4418-4db3-bd1d-d082bf5236e6"
      },
      "execution_count": 232,
      "outputs": [
        {
          "output_type": "stream",
          "name": "stderr",
          "text": [
            "100%|██████████| 4500/4500 [00:01<00:00, 2289.48it/s]\n"
          ]
        },
        {
          "output_type": "execute_result",
          "data": {
            "text/plain": [
              "0.9233333333333333"
            ]
          },
          "metadata": {},
          "execution_count": 232
        }
      ]
    },
    {
      "cell_type": "code",
      "source": [
        "#testing using the test dataset as test\n",
        "knn_model = KNNclassifier()\n",
        "knn_model.fit(X_train, y_train)\n",
        "k = 3\n",
        "y_hat_test = knn_model.predict(X_test, k)\n",
        "#get accuracy\n",
        "accuracy(y_hat_test, y_test)"
      ],
      "metadata": {
        "colab": {
          "base_uri": "https://localhost:8080/"
        },
        "id": "1Cjc5uRPv0u5",
        "outputId": "1fbe4789-0702-4a27-dc74-24024fdb2d7b"
      },
      "execution_count": 233,
      "outputs": [
        {
          "output_type": "stream",
          "name": "stderr",
          "text": [
            "100%|██████████| 500/500 [00:00<00:00, 2302.46it/s]\n"
          ]
        },
        {
          "output_type": "execute_result",
          "data": {
            "text/plain": [
              "0.89"
            ]
          },
          "metadata": {},
          "execution_count": 233
        }
      ]
    },
    {
      "cell_type": "markdown",
      "source": [
        "## Feature selection for regression"
      ],
      "metadata": {
        "id": "hB7RnKozIB-C"
      }
    },
    {
      "cell_type": "code",
      "source": [
        "# features selection and adding the new engineer feature\n",
        "data_aux = pd.DataFrame(data, columns=['bedrooms','sqrt_ft','sold_price','fireplaces'])\n",
        "#using the new engineer feature generated\n",
        "data_toreg = pd.concat([data_aux, data_2['class_feature_engineer'], data['bathrooms']], axis=1)\n",
        "#data_toreg\n",
        "#without the new feature\n",
        "#data_toreg = pd.DataFrame(data, columns=['bedrooms','sqrt_ft','sold_price','fireplaces','bathrooms'])\n",
        "#data_toreg = pd.DataFrame(data, columns=['sqrt_ft','bathrooms'])\n",
        "data_toreg"
      ],
      "metadata": {
        "colab": {
          "base_uri": "https://localhost:8080/",
          "height": 423
        },
        "id": "iy6JOe6bHnuz",
        "outputId": "25e9d26e-811b-459e-9e90-3d6f325a7f5f"
      },
      "execution_count": 798,
      "outputs": [
        {
          "output_type": "execute_result",
          "data": {
            "text/plain": [
              "      bedrooms       sqrt_ft  sold_price  fireplaces  class_feature_engineer  \\\n",
              "0           13  10500.000000   5300000.0         6.0                       2   \n",
              "1            2   7300.000000   4200000.0         5.0                       3   \n",
              "2            2   3716.366828   4200000.0         5.0                       5   \n",
              "3            7   9019.000000   4500000.0         4.0                       2   \n",
              "4            4   6396.000000   3411450.0         5.0                       3   \n",
              "...        ...           ...         ...         ...                     ...   \n",
              "4995         5   3601.000000    495000.0         1.0                       1   \n",
              "4996         4   2318.000000    550000.0         1.0                       1   \n",
              "4997         3   1772.000000    475000.0         0.0                       2   \n",
              "4998         4   3724.000000    550000.0         1.0                       1   \n",
              "4999         4   4317.000000    450000.0         3.0                       1   \n",
              "\n",
              "      bathrooms  \n",
              "0          10.0  \n",
              "1           2.0  \n",
              "2           3.0  \n",
              "3           5.0  \n",
              "4           6.0  \n",
              "...         ...  \n",
              "4995        3.0  \n",
              "4996        3.0  \n",
              "4997        2.0  \n",
              "4998        4.0  \n",
              "4999        4.0  \n",
              "\n",
              "[5000 rows x 6 columns]"
            ],
            "text/html": [
              "\n",
              "  <div id=\"df-f95f9e33-0af0-41da-a412-656074ba8c65\">\n",
              "    <div class=\"colab-df-container\">\n",
              "      <div>\n",
              "<style scoped>\n",
              "    .dataframe tbody tr th:only-of-type {\n",
              "        vertical-align: middle;\n",
              "    }\n",
              "\n",
              "    .dataframe tbody tr th {\n",
              "        vertical-align: top;\n",
              "    }\n",
              "\n",
              "    .dataframe thead th {\n",
              "        text-align: right;\n",
              "    }\n",
              "</style>\n",
              "<table border=\"1\" class=\"dataframe\">\n",
              "  <thead>\n",
              "    <tr style=\"text-align: right;\">\n",
              "      <th></th>\n",
              "      <th>bedrooms</th>\n",
              "      <th>sqrt_ft</th>\n",
              "      <th>sold_price</th>\n",
              "      <th>fireplaces</th>\n",
              "      <th>class_feature_engineer</th>\n",
              "      <th>bathrooms</th>\n",
              "    </tr>\n",
              "  </thead>\n",
              "  <tbody>\n",
              "    <tr>\n",
              "      <th>0</th>\n",
              "      <td>13</td>\n",
              "      <td>10500.000000</td>\n",
              "      <td>5300000.0</td>\n",
              "      <td>6.0</td>\n",
              "      <td>2</td>\n",
              "      <td>10.0</td>\n",
              "    </tr>\n",
              "    <tr>\n",
              "      <th>1</th>\n",
              "      <td>2</td>\n",
              "      <td>7300.000000</td>\n",
              "      <td>4200000.0</td>\n",
              "      <td>5.0</td>\n",
              "      <td>3</td>\n",
              "      <td>2.0</td>\n",
              "    </tr>\n",
              "    <tr>\n",
              "      <th>2</th>\n",
              "      <td>2</td>\n",
              "      <td>3716.366828</td>\n",
              "      <td>4200000.0</td>\n",
              "      <td>5.0</td>\n",
              "      <td>5</td>\n",
              "      <td>3.0</td>\n",
              "    </tr>\n",
              "    <tr>\n",
              "      <th>3</th>\n",
              "      <td>7</td>\n",
              "      <td>9019.000000</td>\n",
              "      <td>4500000.0</td>\n",
              "      <td>4.0</td>\n",
              "      <td>2</td>\n",
              "      <td>5.0</td>\n",
              "    </tr>\n",
              "    <tr>\n",
              "      <th>4</th>\n",
              "      <td>4</td>\n",
              "      <td>6396.000000</td>\n",
              "      <td>3411450.0</td>\n",
              "      <td>5.0</td>\n",
              "      <td>3</td>\n",
              "      <td>6.0</td>\n",
              "    </tr>\n",
              "    <tr>\n",
              "      <th>...</th>\n",
              "      <td>...</td>\n",
              "      <td>...</td>\n",
              "      <td>...</td>\n",
              "      <td>...</td>\n",
              "      <td>...</td>\n",
              "      <td>...</td>\n",
              "    </tr>\n",
              "    <tr>\n",
              "      <th>4995</th>\n",
              "      <td>5</td>\n",
              "      <td>3601.000000</td>\n",
              "      <td>495000.0</td>\n",
              "      <td>1.0</td>\n",
              "      <td>1</td>\n",
              "      <td>3.0</td>\n",
              "    </tr>\n",
              "    <tr>\n",
              "      <th>4996</th>\n",
              "      <td>4</td>\n",
              "      <td>2318.000000</td>\n",
              "      <td>550000.0</td>\n",
              "      <td>1.0</td>\n",
              "      <td>1</td>\n",
              "      <td>3.0</td>\n",
              "    </tr>\n",
              "    <tr>\n",
              "      <th>4997</th>\n",
              "      <td>3</td>\n",
              "      <td>1772.000000</td>\n",
              "      <td>475000.0</td>\n",
              "      <td>0.0</td>\n",
              "      <td>2</td>\n",
              "      <td>2.0</td>\n",
              "    </tr>\n",
              "    <tr>\n",
              "      <th>4998</th>\n",
              "      <td>4</td>\n",
              "      <td>3724.000000</td>\n",
              "      <td>550000.0</td>\n",
              "      <td>1.0</td>\n",
              "      <td>1</td>\n",
              "      <td>4.0</td>\n",
              "    </tr>\n",
              "    <tr>\n",
              "      <th>4999</th>\n",
              "      <td>4</td>\n",
              "      <td>4317.000000</td>\n",
              "      <td>450000.0</td>\n",
              "      <td>3.0</td>\n",
              "      <td>1</td>\n",
              "      <td>4.0</td>\n",
              "    </tr>\n",
              "  </tbody>\n",
              "</table>\n",
              "<p>5000 rows × 6 columns</p>\n",
              "</div>\n",
              "      <button class=\"colab-df-convert\" onclick=\"convertToInteractive('df-f95f9e33-0af0-41da-a412-656074ba8c65')\"\n",
              "              title=\"Convert this dataframe to an interactive table.\"\n",
              "              style=\"display:none;\">\n",
              "        \n",
              "  <svg xmlns=\"http://www.w3.org/2000/svg\" height=\"24px\"viewBox=\"0 0 24 24\"\n",
              "       width=\"24px\">\n",
              "    <path d=\"M0 0h24v24H0V0z\" fill=\"none\"/>\n",
              "    <path d=\"M18.56 5.44l.94 2.06.94-2.06 2.06-.94-2.06-.94-.94-2.06-.94 2.06-2.06.94zm-11 1L8.5 8.5l.94-2.06 2.06-.94-2.06-.94L8.5 2.5l-.94 2.06-2.06.94zm10 10l.94 2.06.94-2.06 2.06-.94-2.06-.94-.94-2.06-.94 2.06-2.06.94z\"/><path d=\"M17.41 7.96l-1.37-1.37c-.4-.4-.92-.59-1.43-.59-.52 0-1.04.2-1.43.59L10.3 9.45l-7.72 7.72c-.78.78-.78 2.05 0 2.83L4 21.41c.39.39.9.59 1.41.59.51 0 1.02-.2 1.41-.59l7.78-7.78 2.81-2.81c.8-.78.8-2.07 0-2.86zM5.41 20L4 18.59l7.72-7.72 1.47 1.35L5.41 20z\"/>\n",
              "  </svg>\n",
              "      </button>\n",
              "      \n",
              "  <style>\n",
              "    .colab-df-container {\n",
              "      display:flex;\n",
              "      flex-wrap:wrap;\n",
              "      gap: 12px;\n",
              "    }\n",
              "\n",
              "    .colab-df-convert {\n",
              "      background-color: #E8F0FE;\n",
              "      border: none;\n",
              "      border-radius: 50%;\n",
              "      cursor: pointer;\n",
              "      display: none;\n",
              "      fill: #1967D2;\n",
              "      height: 32px;\n",
              "      padding: 0 0 0 0;\n",
              "      width: 32px;\n",
              "    }\n",
              "\n",
              "    .colab-df-convert:hover {\n",
              "      background-color: #E2EBFA;\n",
              "      box-shadow: 0px 1px 2px rgba(60, 64, 67, 0.3), 0px 1px 3px 1px rgba(60, 64, 67, 0.15);\n",
              "      fill: #174EA6;\n",
              "    }\n",
              "\n",
              "    [theme=dark] .colab-df-convert {\n",
              "      background-color: #3B4455;\n",
              "      fill: #D2E3FC;\n",
              "    }\n",
              "\n",
              "    [theme=dark] .colab-df-convert:hover {\n",
              "      background-color: #434B5C;\n",
              "      box-shadow: 0px 1px 3px 1px rgba(0, 0, 0, 0.15);\n",
              "      filter: drop-shadow(0px 1px 2px rgba(0, 0, 0, 0.3));\n",
              "      fill: #FFFFFF;\n",
              "    }\n",
              "  </style>\n",
              "\n",
              "      <script>\n",
              "        const buttonEl =\n",
              "          document.querySelector('#df-f95f9e33-0af0-41da-a412-656074ba8c65 button.colab-df-convert');\n",
              "        buttonEl.style.display =\n",
              "          google.colab.kernel.accessAllowed ? 'block' : 'none';\n",
              "\n",
              "        async function convertToInteractive(key) {\n",
              "          const element = document.querySelector('#df-f95f9e33-0af0-41da-a412-656074ba8c65');\n",
              "          const dataTable =\n",
              "            await google.colab.kernel.invokeFunction('convertToInteractive',\n",
              "                                                     [key], {});\n",
              "          if (!dataTable) return;\n",
              "\n",
              "          const docLinkHtml = 'Like what you see? Visit the ' +\n",
              "            '<a target=\"_blank\" href=https://colab.research.google.com/notebooks/data_table.ipynb>data table notebook</a>'\n",
              "            + ' to learn more about interactive tables.';\n",
              "          element.innerHTML = '';\n",
              "          dataTable['output_type'] = 'display_data';\n",
              "          await google.colab.output.renderOutput(dataTable, element);\n",
              "          const docLink = document.createElement('div');\n",
              "          docLink.innerHTML = docLinkHtml;\n",
              "          element.appendChild(docLink);\n",
              "        }\n",
              "      </script>\n",
              "    </div>\n",
              "  </div>\n",
              "  "
            ]
          },
          "metadata": {},
          "execution_count": 798
        }
      ]
    },
    {
      "cell_type": "code",
      "source": [
        "#normalizate data\n",
        "#normalize data\n",
        "for column in data_toreg.iloc[:,:-1]:\n",
        "    #normalization\n",
        "    #data_toreg[column] = data_toreg[column]  / data_toreg[column].abs().max()\n",
        "    #data_toreg[column] = (data_toreg[column] - data_toreg[column].min()) / (data_toreg[column].max() - data_toreg[column].min())    \n",
        "    #standarization\n",
        "    data_toreg[column] = (data_toreg[column]-data_toreg[column].mean())/data_toreg[column].std()\n",
        "data_toreg"
      ],
      "metadata": {
        "colab": {
          "base_uri": "https://localhost:8080/",
          "height": 423
        },
        "id": "Hq7IfFr2NK51",
        "outputId": "26d2ac8f-e43f-4f66-e719-82566d372082"
      },
      "execution_count": 799,
      "outputs": [
        {
          "output_type": "execute_result",
          "data": {
            "text/plain": [
              "      bedrooms       sqrt_ft  sold_price  fireplaces  class_feature_engineer  \\\n",
              "0     7.279969  6.087313e+00   14.205915    3.627809                2.314450   \n",
              "1    -1.552801  3.215784e+00   10.752829    2.747102                4.983326   \n",
              "2    -1.552801  8.161377e-16   10.752829    2.747102               10.321079   \n",
              "3     2.462094  4.758333e+00   11.694579    1.866395                2.314450   \n",
              "4     0.053157  2.404577e+00    8.277437    2.747102                4.983326   \n",
              "...        ...           ...         ...         ...                     ...   \n",
              "4995  0.856136 -1.035248e-01   -0.877794   -0.775727               -0.354427   \n",
              "4996  0.053157 -1.254829e+00   -0.705140   -0.775727               -0.354427   \n",
              "4997 -0.749822 -1.744783e+00   -0.940577   -1.656434                2.314450   \n",
              "4998  0.053157  6.849649e-03   -0.705140   -0.775727               -0.354427   \n",
              "4999  0.053157  5.389799e-01   -1.019057    0.985688               -0.354427   \n",
              "\n",
              "      bathrooms  \n",
              "0          10.0  \n",
              "1           2.0  \n",
              "2           3.0  \n",
              "3           5.0  \n",
              "4           6.0  \n",
              "...         ...  \n",
              "4995        3.0  \n",
              "4996        3.0  \n",
              "4997        2.0  \n",
              "4998        4.0  \n",
              "4999        4.0  \n",
              "\n",
              "[5000 rows x 6 columns]"
            ],
            "text/html": [
              "\n",
              "  <div id=\"df-17f927b0-ba50-41bf-9c76-8cdcc82285f8\">\n",
              "    <div class=\"colab-df-container\">\n",
              "      <div>\n",
              "<style scoped>\n",
              "    .dataframe tbody tr th:only-of-type {\n",
              "        vertical-align: middle;\n",
              "    }\n",
              "\n",
              "    .dataframe tbody tr th {\n",
              "        vertical-align: top;\n",
              "    }\n",
              "\n",
              "    .dataframe thead th {\n",
              "        text-align: right;\n",
              "    }\n",
              "</style>\n",
              "<table border=\"1\" class=\"dataframe\">\n",
              "  <thead>\n",
              "    <tr style=\"text-align: right;\">\n",
              "      <th></th>\n",
              "      <th>bedrooms</th>\n",
              "      <th>sqrt_ft</th>\n",
              "      <th>sold_price</th>\n",
              "      <th>fireplaces</th>\n",
              "      <th>class_feature_engineer</th>\n",
              "      <th>bathrooms</th>\n",
              "    </tr>\n",
              "  </thead>\n",
              "  <tbody>\n",
              "    <tr>\n",
              "      <th>0</th>\n",
              "      <td>7.279969</td>\n",
              "      <td>6.087313e+00</td>\n",
              "      <td>14.205915</td>\n",
              "      <td>3.627809</td>\n",
              "      <td>2.314450</td>\n",
              "      <td>10.0</td>\n",
              "    </tr>\n",
              "    <tr>\n",
              "      <th>1</th>\n",
              "      <td>-1.552801</td>\n",
              "      <td>3.215784e+00</td>\n",
              "      <td>10.752829</td>\n",
              "      <td>2.747102</td>\n",
              "      <td>4.983326</td>\n",
              "      <td>2.0</td>\n",
              "    </tr>\n",
              "    <tr>\n",
              "      <th>2</th>\n",
              "      <td>-1.552801</td>\n",
              "      <td>8.161377e-16</td>\n",
              "      <td>10.752829</td>\n",
              "      <td>2.747102</td>\n",
              "      <td>10.321079</td>\n",
              "      <td>3.0</td>\n",
              "    </tr>\n",
              "    <tr>\n",
              "      <th>3</th>\n",
              "      <td>2.462094</td>\n",
              "      <td>4.758333e+00</td>\n",
              "      <td>11.694579</td>\n",
              "      <td>1.866395</td>\n",
              "      <td>2.314450</td>\n",
              "      <td>5.0</td>\n",
              "    </tr>\n",
              "    <tr>\n",
              "      <th>4</th>\n",
              "      <td>0.053157</td>\n",
              "      <td>2.404577e+00</td>\n",
              "      <td>8.277437</td>\n",
              "      <td>2.747102</td>\n",
              "      <td>4.983326</td>\n",
              "      <td>6.0</td>\n",
              "    </tr>\n",
              "    <tr>\n",
              "      <th>...</th>\n",
              "      <td>...</td>\n",
              "      <td>...</td>\n",
              "      <td>...</td>\n",
              "      <td>...</td>\n",
              "      <td>...</td>\n",
              "      <td>...</td>\n",
              "    </tr>\n",
              "    <tr>\n",
              "      <th>4995</th>\n",
              "      <td>0.856136</td>\n",
              "      <td>-1.035248e-01</td>\n",
              "      <td>-0.877794</td>\n",
              "      <td>-0.775727</td>\n",
              "      <td>-0.354427</td>\n",
              "      <td>3.0</td>\n",
              "    </tr>\n",
              "    <tr>\n",
              "      <th>4996</th>\n",
              "      <td>0.053157</td>\n",
              "      <td>-1.254829e+00</td>\n",
              "      <td>-0.705140</td>\n",
              "      <td>-0.775727</td>\n",
              "      <td>-0.354427</td>\n",
              "      <td>3.0</td>\n",
              "    </tr>\n",
              "    <tr>\n",
              "      <th>4997</th>\n",
              "      <td>-0.749822</td>\n",
              "      <td>-1.744783e+00</td>\n",
              "      <td>-0.940577</td>\n",
              "      <td>-1.656434</td>\n",
              "      <td>2.314450</td>\n",
              "      <td>2.0</td>\n",
              "    </tr>\n",
              "    <tr>\n",
              "      <th>4998</th>\n",
              "      <td>0.053157</td>\n",
              "      <td>6.849649e-03</td>\n",
              "      <td>-0.705140</td>\n",
              "      <td>-0.775727</td>\n",
              "      <td>-0.354427</td>\n",
              "      <td>4.0</td>\n",
              "    </tr>\n",
              "    <tr>\n",
              "      <th>4999</th>\n",
              "      <td>0.053157</td>\n",
              "      <td>5.389799e-01</td>\n",
              "      <td>-1.019057</td>\n",
              "      <td>0.985688</td>\n",
              "      <td>-0.354427</td>\n",
              "      <td>4.0</td>\n",
              "    </tr>\n",
              "  </tbody>\n",
              "</table>\n",
              "<p>5000 rows × 6 columns</p>\n",
              "</div>\n",
              "      <button class=\"colab-df-convert\" onclick=\"convertToInteractive('df-17f927b0-ba50-41bf-9c76-8cdcc82285f8')\"\n",
              "              title=\"Convert this dataframe to an interactive table.\"\n",
              "              style=\"display:none;\">\n",
              "        \n",
              "  <svg xmlns=\"http://www.w3.org/2000/svg\" height=\"24px\"viewBox=\"0 0 24 24\"\n",
              "       width=\"24px\">\n",
              "    <path d=\"M0 0h24v24H0V0z\" fill=\"none\"/>\n",
              "    <path d=\"M18.56 5.44l.94 2.06.94-2.06 2.06-.94-2.06-.94-.94-2.06-.94 2.06-2.06.94zm-11 1L8.5 8.5l.94-2.06 2.06-.94-2.06-.94L8.5 2.5l-.94 2.06-2.06.94zm10 10l.94 2.06.94-2.06 2.06-.94-2.06-.94-.94-2.06-.94 2.06-2.06.94z\"/><path d=\"M17.41 7.96l-1.37-1.37c-.4-.4-.92-.59-1.43-.59-.52 0-1.04.2-1.43.59L10.3 9.45l-7.72 7.72c-.78.78-.78 2.05 0 2.83L4 21.41c.39.39.9.59 1.41.59.51 0 1.02-.2 1.41-.59l7.78-7.78 2.81-2.81c.8-.78.8-2.07 0-2.86zM5.41 20L4 18.59l7.72-7.72 1.47 1.35L5.41 20z\"/>\n",
              "  </svg>\n",
              "      </button>\n",
              "      \n",
              "  <style>\n",
              "    .colab-df-container {\n",
              "      display:flex;\n",
              "      flex-wrap:wrap;\n",
              "      gap: 12px;\n",
              "    }\n",
              "\n",
              "    .colab-df-convert {\n",
              "      background-color: #E8F0FE;\n",
              "      border: none;\n",
              "      border-radius: 50%;\n",
              "      cursor: pointer;\n",
              "      display: none;\n",
              "      fill: #1967D2;\n",
              "      height: 32px;\n",
              "      padding: 0 0 0 0;\n",
              "      width: 32px;\n",
              "    }\n",
              "\n",
              "    .colab-df-convert:hover {\n",
              "      background-color: #E2EBFA;\n",
              "      box-shadow: 0px 1px 2px rgba(60, 64, 67, 0.3), 0px 1px 3px 1px rgba(60, 64, 67, 0.15);\n",
              "      fill: #174EA6;\n",
              "    }\n",
              "\n",
              "    [theme=dark] .colab-df-convert {\n",
              "      background-color: #3B4455;\n",
              "      fill: #D2E3FC;\n",
              "    }\n",
              "\n",
              "    [theme=dark] .colab-df-convert:hover {\n",
              "      background-color: #434B5C;\n",
              "      box-shadow: 0px 1px 3px 1px rgba(0, 0, 0, 0.15);\n",
              "      filter: drop-shadow(0px 1px 2px rgba(0, 0, 0, 0.3));\n",
              "      fill: #FFFFFF;\n",
              "    }\n",
              "  </style>\n",
              "\n",
              "      <script>\n",
              "        const buttonEl =\n",
              "          document.querySelector('#df-17f927b0-ba50-41bf-9c76-8cdcc82285f8 button.colab-df-convert');\n",
              "        buttonEl.style.display =\n",
              "          google.colab.kernel.accessAllowed ? 'block' : 'none';\n",
              "\n",
              "        async function convertToInteractive(key) {\n",
              "          const element = document.querySelector('#df-17f927b0-ba50-41bf-9c76-8cdcc82285f8');\n",
              "          const dataTable =\n",
              "            await google.colab.kernel.invokeFunction('convertToInteractive',\n",
              "                                                     [key], {});\n",
              "          if (!dataTable) return;\n",
              "\n",
              "          const docLinkHtml = 'Like what you see? Visit the ' +\n",
              "            '<a target=\"_blank\" href=https://colab.research.google.com/notebooks/data_table.ipynb>data table notebook</a>'\n",
              "            + ' to learn more about interactive tables.';\n",
              "          element.innerHTML = '';\n",
              "          dataTable['output_type'] = 'display_data';\n",
              "          await google.colab.output.renderOutput(dataTable, element);\n",
              "          const docLink = document.createElement('div');\n",
              "          docLink.innerHTML = docLinkHtml;\n",
              "          element.appendChild(docLink);\n",
              "        }\n",
              "      </script>\n",
              "    </div>\n",
              "  </div>\n",
              "  "
            ]
          },
          "metadata": {},
          "execution_count": 799
        }
      ]
    },
    {
      "cell_type": "code",
      "source": [
        "#seems like this new feature generated will not help to the regression prediction\n",
        "plt.figure(figsize=(10,5))\n",
        "c = data_toreg.corr()\n",
        "sns.heatmap(c,cmap=\"BrBG\",annot=True)"
      ],
      "metadata": {
        "colab": {
          "base_uri": "https://localhost:8080/",
          "height": 446
        },
        "id": "hhVeoED7KJps",
        "outputId": "c308884b-6b82-4e31-c42c-ef43f5313d39"
      },
      "execution_count": 800,
      "outputs": [
        {
          "output_type": "execute_result",
          "data": {
            "text/plain": [
              "<Axes: >"
            ]
          },
          "metadata": {},
          "execution_count": 800
        },
        {
          "output_type": "display_data",
          "data": {
            "text/plain": [
              "<Figure size 720x360 with 2 Axes>"
            ],
            "image/png": "[encoded data removed]"
          },
          "metadata": {
            "needs_background": "light"
          }
        }
      ]
    },
    {
      "cell_type": "code",
      "source": [
        "#convert to numpy array\n",
        "X_reg = data_toreg.to_numpy()\n",
        "#split target feature\n",
        "y_reg = X_reg[:,-1]\n",
        "y_reg.shape"
      ],
      "metadata": {
        "colab": {
          "base_uri": "https://localhost:8080/"
        },
        "id": "DeZVnHxOLMNp",
        "outputId": "58347c69-7fae-4ea6-babd-bfabee89219a"
      },
      "execution_count": 801,
      "outputs": [
        {
          "output_type": "execute_result",
          "data": {
            "text/plain": [
              "(5000,)"
            ]
          },
          "metadata": {},
          "execution_count": 801
        }
      ]
    },
    {
      "cell_type": "code",
      "source": [
        "X_reg = X_reg[:,:-1]\n",
        "X_reg.shape"
      ],
      "metadata": {
        "colab": {
          "base_uri": "https://localhost:8080/"
        },
        "id": "i4PKWS6sMKAf",
        "outputId": "eda08d57-b5b1-40d4-f632-638100facd42"
      },
      "execution_count": 802,
      "outputs": [
        {
          "output_type": "execute_result",
          "data": {
            "text/plain": [
              "(5000, 5)"
            ]
          },
          "metadata": {},
          "execution_count": 802
        }
      ]
    },
    {
      "cell_type": "markdown",
      "source": [
        "## Regression model\n"
      ],
      "metadata": {
        "id": "kzaPfItZMoUi"
      }
    },
    {
      "cell_type": "markdown",
      "source": [
        "### Linear regression"
      ],
      "metadata": {
        "id": "GX2ao4sYIj5b"
      }
    },
    {
      "cell_type": "code",
      "source": [
        "class LinearRegression():\n",
        "    def fit(self, X, y):\n",
        "        self.w = np.linalg.solve(X.T@X, X.T@y)\n",
        "    \n",
        "    def predict(self, X):\n",
        "        return np.matmul(X, self.w)"
      ],
      "metadata": {
        "id": "-Dpq7DrfIjXD"
      },
      "execution_count": 241,
      "outputs": []
    },
    {
      "cell_type": "code",
      "source": [
        "def OLS(Y,Y_hat,N):\n",
        "    return (1/(2*N)*np.sum((Y-Y_hat)**2))\n",
        "def R2(Y,Y_hat):\n",
        "    return (1-(np.sum((Y-Y_hat)**2)/np.sum((Y-np.mean(Y))**2)))"
      ],
      "metadata": {
        "id": "6C1WdqZMMRp3"
      },
      "execution_count": 772,
      "outputs": []
    },
    {
      "cell_type": "code",
      "source": [
        "class MVLinearRegression():\n",
        "    \n",
        "    def fit(self, X,y, eta = 1e-3, epochs =1e3, show_curve = False):\n",
        "        epochs =int(epochs)\n",
        "        N, D = X.shape\n",
        "        Y =y\n",
        "\n",
        "        #Initialize the weights\n",
        "        self.W =np.random.randn(D)\n",
        "    \n",
        "        J = np.zeros(epochs)\n",
        "\n",
        "        for epoch in range(epochs):\n",
        "            Y_hat = self.predict(X)\n",
        "            J[epoch] = OLS(Y, Y_hat, N)\n",
        "            #weight update Rule:\n",
        "            self.W -= eta*(1/N)*(X.T@(Y_hat-Y))\n",
        "\n",
        "        if show_curve:\n",
        "            plt.figure()\n",
        "            plt.plot(J)\n",
        "            plt.xlabel(\"epochs\")\n",
        "            plt.ylabel(\"$\\mathcal{J}$\")\n",
        "            plt.title(\"Training Curve\")\n",
        "            plt.show()\n",
        "\n",
        "    def predict(self,X):\n",
        "        return X @ self.W"
      ],
      "metadata": {
        "id": "J7FZjSl6MVLE"
      },
      "execution_count": 243,
      "outputs": []
    },
    {
      "cell_type": "code",
      "source": [
        "class OURLinearRegression():\n",
        "    \n",
        "    def fit(self, X, y, eta = 1e-3, epochs = 1e3, show_curve = False, lambd = 0, p = 1):\n",
        "        epochs = int(epochs)\n",
        "        N, D = X.shape\n",
        "        Y = y\n",
        "        \n",
        "        self.W = np.random.randn(D)\n",
        "        \n",
        "        J = np.zeros(epochs)\n",
        "        \n",
        "        for epoch in range(epochs):\n",
        "            Y_hat = self.predict(X)\n",
        "            J[epoch] = OLS(Y, Y_hat, N) + (lambd/(p*N))*np.linalg.norm(self.W, ord=p, keepdims=True)\n",
        "            #print((lambd/(p*N))*np.linalg.norm(self.W, ord=p, keepdims=True))\n",
        "            self.W -= eta*(1/N)*(X.T@(Y_hat - Y) + (1/N)*(lambd*np.abs(self.W)**(p-1)*np.sign(self.W)))\n",
        "                    \n",
        "        #print(\"This is W:\", self.W)\n",
        "        #print(\"This is J:\", J)\n",
        "        #print(\"This is P_hat:\", P_hat)    \n",
        "        if show_curve:\n",
        "            plt.figure()\n",
        "            plt.plot(J)\n",
        "            plt.xlabel(\"epochs\")\n",
        "            plt.ylabel(\"$\\mathcal{J}$\")\n",
        "            plt.title(\"Training Curve\")\n",
        "            plt.show()        \n",
        "    def predict(self, X):\n",
        "        return X @ self.W"
      ],
      "metadata": {
        "id": "9JAUT_04MDrp"
      },
      "execution_count": 336,
      "outputs": []
    },
    {
      "cell_type": "code",
      "source": [
        "class KNNRegressor():\n",
        "    def fit(self, X, y):\n",
        "        self.X = X\n",
        "        self.y = y\n",
        "        \n",
        "    def predict(self, X, K, epsilon=1e-3):\n",
        "        N = len(X)\n",
        "        y_hat = np.zeros(N)\n",
        "        \n",
        "        for i in range(N):\n",
        "            dist2 = np.sum((self.X - X[i])**2, axis=1)\n",
        "            idxt = np.argsort(dist2)[:K]\n",
        "            gamma_k = np.exp(-dist2[idxt])/np.exp(-dist2[idxt]).sum()\n",
        "            y_hat[i] = gamma_k.dot(self.y[idxt])\n",
        "        \n",
        "        return y_hat"
      ],
      "metadata": {
        "id": "IhCNwA1gRgbU"
      },
      "execution_count": 435,
      "outputs": []
    },
    {
      "cell_type": "code",
      "source": [
        "knnr = KNNRegressor()\n",
        "knnr.fit(X_reg,y_reg)"
      ],
      "metadata": {
        "id": "mieS_wS-RqA6"
      },
      "execution_count": 461,
      "outputs": []
    },
    {
      "cell_type": "code",
      "source": [
        "y_hat = knnr.predict(X_reg, 5)\n",
        "y_hat2 = knnr.predict(X_reg, 40)"
      ],
      "metadata": {
        "id": "6j4Q0IGbSlf9"
      },
      "execution_count": 462,
      "outputs": []
    },
    {
      "cell_type": "markdown",
      "source": [
        "#### Plot using numbers of bathrooms and sqrt_ft"
      ],
      "metadata": {
        "id": "XggVRuMUAmgz"
      }
    },
    {
      "cell_type": "code",
      "source": [
        "#plot\n",
        "data_plot = pd.DataFrame(data, columns=['sqrt_ft','bathrooms'])\n",
        "X_plot = data_plot.to_numpy()\n",
        "#split target feature\n",
        "y_plot = X_plot[:,1]\n",
        "X_plot = X_plot[:,0]\n",
        "\n",
        "\n",
        "#plt.figure()\n",
        "plt.scatter(X_plot, y_plot, s=8)\n",
        "#plt.plot(X_reg, y_hat, color=\"#ff0070\")\n",
        "#plt.plot(X_reg, y_hat2, color=\"#00ff00\")"
      ],
      "metadata": {
        "colab": {
          "base_uri": "https://localhost:8080/",
          "height": 282
        },
        "id": "RoXByVOKR9uB",
        "outputId": "5ea82ae9-2d3b-4995-d4eb-ee34b9d75708"
      },
      "execution_count": 814,
      "outputs": [
        {
          "output_type": "execute_result",
          "data": {
            "text/plain": [
              "<matplotlib.collections.PathCollection at 0x7f296e968880>"
            ]
          },
          "metadata": {},
          "execution_count": 814
        },
        {
          "output_type": "display_data",
          "data": {
            "text/plain": [
              "<Figure size 432x288 with 1 Axes>"
            ],
            "image/png": "[encoded data removed]"
          },
          "metadata": {
            "needs_background": "light"
          }
        }
      ]
    },
    {
      "cell_type": "markdown",
      "source": [
        "### Make predictions"
      ],
      "metadata": {
        "id": "J9EoV19rIvAn"
      }
    },
    {
      "cell_type": "code",
      "source": [
        "#import the toy dataset\n",
        "myReg = MVLinearRegression()"
      ],
      "metadata": {
        "id": "hIlI38-kIryH"
      },
      "execution_count": 815,
      "outputs": []
    },
    {
      "cell_type": "code",
      "source": [
        "myReg.fit(X_reg,y_reg, epochs=5e2, eta=0.05, show_curve=True)"
      ],
      "metadata": {
        "colab": {
          "base_uri": "https://localhost:8080/",
          "height": 295
        },
        "id": "nZKsZuY4IxLR",
        "outputId": "4c215100-04db-4934-ff32-41607336e2cc"
      },
      "execution_count": 816,
      "outputs": [
        {
          "output_type": "display_data",
          "data": {
            "text/plain": [
              "<Figure size 432x288 with 1 Axes>"
            ],
            "image/png": "[encoded data removed]"
          },
          "metadata": {
            "needs_background": "light"
          }
        }
      ]
    },
    {
      "cell_type": "code",
      "source": [
        "#test with one example\n",
        "Xtest = np.array([[2.462094,\t4.758333e+00,\t11.694579,\t1.866395,\t2.314450]])\n",
        "myReg.predict(Xtest)"
      ],
      "metadata": {
        "colab": {
          "base_uri": "https://localhost:8080/"
        },
        "id": "YazHPF-6I4OT",
        "outputId": "dc4e9543-8550-4a94-f0dd-6723f92583ae"
      },
      "execution_count": 818,
      "outputs": [
        {
          "output_type": "execute_result",
          "data": {
            "text/plain": [
              "array([4.95917993])"
            ]
          },
          "metadata": {},
          "execution_count": 818
        }
      ]
    },
    {
      "cell_type": "code",
      "source": [
        "myReg2 = OURLinearRegression()"
      ],
      "metadata": {
        "id": "3r-J7504KnGY"
      },
      "execution_count": 819,
      "outputs": []
    },
    {
      "cell_type": "code",
      "source": [
        "myReg2.fit(X_reg,y_reg, epochs=5e2, eta=0.05, show_curve=True)"
      ],
      "metadata": {
        "colab": {
          "base_uri": "https://localhost:8080/",
          "height": 295
        },
        "id": "SICmr1o-MKcl",
        "outputId": "4ae770c4-351c-4ffd-f70d-7d6f86dc249f"
      },
      "execution_count": 820,
      "outputs": [
        {
          "output_type": "display_data",
          "data": {
            "text/plain": [
              "<Figure size 432x288 with 1 Axes>"
            ],
            "image/png": "[encoded data removed]"
          },
          "metadata": {
            "needs_background": "light"
          }
        }
      ]
    },
    {
      "cell_type": "code",
      "source": [
        "Xtest = np.array([[2.462094,\t4.758333e+00,\t11.694579,\t1.866395,\t2.314450]])\n",
        "myReg.predict(Xtest)"
      ],
      "metadata": {
        "colab": {
          "base_uri": "https://localhost:8080/"
        },
        "id": "fHuxAhJrEpqQ",
        "outputId": "a7966b30-cac7-4cad-94dc-d0233876ad21"
      },
      "execution_count": 821,
      "outputs": [
        {
          "output_type": "execute_result",
          "data": {
            "text/plain": [
              "array([4.95917993])"
            ]
          },
          "metadata": {},
          "execution_count": 821
        }
      ]
    }
  ]
}