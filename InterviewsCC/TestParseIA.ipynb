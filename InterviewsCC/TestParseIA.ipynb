{
  "nbformat": 4,
  "nbformat_minor": 0,
  "metadata": {
    "colab": {
      "provenance": [],
      "include_colab_link": true
    },
    "kernelspec": {
      "name": "python3",
      "display_name": "Python 3"
    },
    "language_info": {
      "name": "python"
    }
  },
  "cells": [
    {
      "cell_type": "markdown",
      "metadata": {
        "id": "view-in-github",
        "colab_type": "text"
      },
      "source": [
        "<a href=\"https://colab.research.google.com/github/valdolab/DS_mAIstros/blob/main/InterviewsCC/TestParseIA.ipynb\" target=\"_parent\"><img src=\"https://colab.research.google.com/assets/colab-badge.svg\" alt=\"Open In Colab\"/></a>"
      ]
    },
    {
      "cell_type": "code",
      "execution_count": null,
      "metadata": {
        "id": "ljJj-6jZMF-2"
      },
      "outputs": [],
      "source": [
        "def solution(arr):\n",
        "    #finds duplicates, and less that 2\n",
        "    if len(arr) != len(set(arr)) or len(arr) < 3:\n",
        "        return False\n",
        "\n",
        "    max_arr = max(arr)\n",
        "    flag_decreasing = False\n",
        "    for i in range(len(arr)-1):\n",
        "        if arr[i] == max_arr:\n",
        "            flag_decreasing = True\n",
        "\n",
        "        if flag_decreasing:\n",
        "            if arr[i] < arr[i+1]:\n",
        "                return False\n",
        "        else:\n",
        "            if arr[i] > arr[i+1]: #the next number need to be higher\n",
        "                return False\n",
        "    return True"
      ]
    },
    {
      "cell_type": "code",
      "source": [
        "ex1 = [1,3,5,7,6,4,2]\n",
        "ex2 = [1,2,5,7,6,4,2]\n",
        "ex3 = [1,3,5,7,6,9,4,0]\n",
        "ex4 = [1,2]\n",
        "ex5 = [3,1]\n",
        "ex6 = [5]\n",
        "ex7 = [1,3,2]\n",
        "ex8 = [-1,1,0]"
      ],
      "metadata": {
        "id": "tKY9M7hnMKiY"
      },
      "execution_count": null,
      "outputs": []
    },
    {
      "cell_type": "code",
      "source": [
        "print(solution(ex1))"
      ],
      "metadata": {
        "colab": {
          "base_uri": "https://localhost:8080/"
        },
        "id": "hj41tivpMM3G",
        "outputId": "c85f11d1-0ad3-4d51-f9d6-2cbfb48b6199"
      },
      "execution_count": null,
      "outputs": [
        {
          "output_type": "stream",
          "name": "stdout",
          "text": [
            "True\n"
          ]
        }
      ]
    },
    {
      "cell_type": "code",
      "source": [],
      "metadata": {
        "id": "mAv9WNKwMNXV"
      },
      "execution_count": null,
      "outputs": []
    }
  ]
}